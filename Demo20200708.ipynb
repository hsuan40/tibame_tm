{
  "nbformat": 4,
  "nbformat_minor": 0,
  "metadata": {
    "colab": {
      "name": "Demo20200708.ipynb",
      "provenance": [],
      "collapsed_sections": []
    },
    "kernelspec": {
      "name": "python3",
      "display_name": "Python 3"
    }
  },
  "cells": [
    {
      "cell_type": "markdown",
      "metadata": {
        "id": "FeKWbw1gPJoF",
        "colab_type": "text"
      },
      "source": [
        "## Python Basic"
      ]
    },
    {
      "cell_type": "code",
      "metadata": {
        "id": "7EXBO3_pOoZV",
        "colab_type": "code",
        "colab": {
          "base_uri": "https://localhost:8080/",
          "height": 35
        },
        "outputId": "5da57dd7-9294-41e5-eb7f-ddb28cd017f1"
      },
      "source": [
        "a = 3 \n",
        "b = 2\n",
        "a + b"
      ],
      "execution_count": 1,
      "outputs": [
        {
          "output_type": "execute_result",
          "data": {
            "text/plain": [
              "5"
            ]
          },
          "metadata": {
            "tags": []
          },
          "execution_count": 1
        }
      ]
    },
    {
      "cell_type": "markdown",
      "metadata": {
        "id": "QAVfVP5lV9HJ",
        "colab_type": "text"
      },
      "source": [
        "## GET"
      ]
    },
    {
      "cell_type": "code",
      "metadata": {
        "id": "rei3G6TIPMGN",
        "colab_type": "code",
        "colab": {
          "base_uri": "https://localhost:8080/",
          "height": 35
        },
        "outputId": "3c490350-66d5-4d4e-f6a1-b4bde17831e6"
      },
      "source": [
        "import requests\n",
        "headers = {\n",
        " 'user-agent': 'Mozilla/5.0 (Macintosh; Intel Mac OS X 10_14_6) AppleWebKit/537.36 (KHTML, like Gecko) Chrome/83.0.4103.116 Safari/537.36'   \n",
        "}\n",
        "res = requests.get('https://www.mobile01.com/topiclist.php?f=180', headers = headers)\n",
        "res"
      ],
      "execution_count": 3,
      "outputs": [
        {
          "output_type": "execute_result",
          "data": {
            "text/plain": [
              "<Response [200]>"
            ]
          },
          "metadata": {
            "tags": []
          },
          "execution_count": 3
        }
      ]
    },
    {
      "cell_type": "code",
      "metadata": {
        "id": "G-GXtMzgWIs_",
        "colab_type": "code",
        "colab": {}
      },
      "source": [
        "#res.text"
      ],
      "execution_count": 5,
      "outputs": []
    },
    {
      "cell_type": "markdown",
      "metadata": {
        "id": "p0eXWOwtYJfs",
        "colab_type": "text"
      },
      "source": [
        "## POST"
      ]
    },
    {
      "cell_type": "code",
      "metadata": {
        "id": "RvUwd40_W38i",
        "colab_type": "code",
        "colab": {}
      },
      "source": [
        "import requests\n",
        "url = 'https://www.thsrc.com.tw/TimeTable/Search'\n",
        "payload = {\n",
        "'SearchType': 'S',\n",
        "'Lang': 'TW',\n",
        "'StartStation': 'TaiPei',\n",
        "'EndStation': 'XinZhu',\n",
        "'OutWardSearchDate': '2020/07/08',\n",
        "'OutWardSearchTime': '20:30',\n",
        "'ReturnSearchDate': '2020/07/08',\n",
        "'ReturnSearchTime': '20:30'   \n",
        "}\n",
        "res = requests.post(url, data = payload)"
      ],
      "execution_count": 6,
      "outputs": []
    },
    {
      "cell_type": "code",
      "metadata": {
        "id": "hSYeRkxxYjDd",
        "colab_type": "code",
        "colab": {}
      },
      "source": [
        "#res.text"
      ],
      "execution_count": 10,
      "outputs": []
    },
    {
      "cell_type": "code",
      "metadata": {
        "id": "mErOHYyrYltc",
        "colab_type": "code",
        "colab": {}
      },
      "source": [
        "#res.json()"
      ],
      "execution_count": 9,
      "outputs": []
    },
    {
      "cell_type": "code",
      "metadata": {
        "id": "mKnb2C5AYp9U",
        "colab_type": "code",
        "colab": {}
      },
      "source": [
        ""
      ],
      "execution_count": null,
      "outputs": []
    }
  ]
}