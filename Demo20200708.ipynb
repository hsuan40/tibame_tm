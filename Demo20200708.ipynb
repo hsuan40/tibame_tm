{
  "nbformat": 4,
  "nbformat_minor": 0,
  "metadata": {
    "colab": {
      "name": "Demo20200708.ipynb",
      "provenance": [],
      "collapsed_sections": []
    },
    "kernelspec": {
      "name": "python3",
      "display_name": "Python 3"
    }
  },
  "cells": [
    {
      "cell_type": "markdown",
      "metadata": {
        "id": "FeKWbw1gPJoF",
        "colab_type": "text"
      },
      "source": [
        "## Python Basic"
      ]
    },
    {
      "cell_type": "code",
      "metadata": {
        "id": "7EXBO3_pOoZV",
        "colab_type": "code",
        "colab": {
          "base_uri": "https://localhost:8080/",
          "height": 35
        },
        "outputId": "5da57dd7-9294-41e5-eb7f-ddb28cd017f1"
      },
      "source": [
        "a = 3 \n",
        "b = 2\n",
        "a + b"
      ],
      "execution_count": 1,
      "outputs": [
        {
          "output_type": "execute_result",
          "data": {
            "text/plain": [
              "5"
            ]
          },
          "metadata": {
            "tags": []
          },
          "execution_count": 1
        }
      ]
    },
    {
      "cell_type": "markdown",
      "metadata": {
        "id": "QAVfVP5lV9HJ",
        "colab_type": "text"
      },
      "source": [
        "## GET"
      ]
    },
    {
      "cell_type": "code",
      "metadata": {
        "id": "rei3G6TIPMGN",
        "colab_type": "code",
        "colab": {
          "base_uri": "https://localhost:8080/",
          "height": 35
        },
        "outputId": "3c490350-66d5-4d4e-f6a1-b4bde17831e6"
      },
      "source": [
        "import requests\n",
        "headers = {\n",
        " 'user-agent': 'Mozilla/5.0 (Macintosh; Intel Mac OS X 10_14_6) AppleWebKit/537.36 (KHTML, like Gecko) Chrome/83.0.4103.116 Safari/537.36'   \n",
        "}\n",
        "res = requests.get('https://www.mobile01.com/topiclist.php?f=180', headers = headers)\n",
        "res"
      ],
      "execution_count": 3,
      "outputs": [
        {
          "output_type": "execute_result",
          "data": {
            "text/plain": [
              "<Response [200]>"
            ]
          },
          "metadata": {
            "tags": []
          },
          "execution_count": 3
        }
      ]
    },
    {
      "cell_type": "code",
      "metadata": {
        "id": "G-GXtMzgWIs_",
        "colab_type": "code",
        "colab": {}
      },
      "source": [
        "#res.text"
      ],
      "execution_count": 5,
      "outputs": []
    },
    {
      "cell_type": "markdown",
      "metadata": {
        "id": "p0eXWOwtYJfs",
        "colab_type": "text"
      },
      "source": [
        "## POST"
      ]
    },
    {
      "cell_type": "code",
      "metadata": {
        "id": "RvUwd40_W38i",
        "colab_type": "code",
        "colab": {}
      },
      "source": [
        "import requests\n",
        "url = 'https://www.thsrc.com.tw/TimeTable/Search'\n",
        "payload = {\n",
        "'SearchType': 'S',\n",
        "'Lang': 'TW',\n",
        "'StartStation': 'TaiPei',\n",
        "'EndStation': 'XinZhu',\n",
        "'OutWardSearchDate': '2020/07/08',\n",
        "'OutWardSearchTime': '20:30',\n",
        "'ReturnSearchDate': '2020/07/08',\n",
        "'ReturnSearchTime': '20:30'   \n",
        "}\n",
        "res = requests.post(url, data = payload)"
      ],
      "execution_count": 6,
      "outputs": []
    },
    {
      "cell_type": "code",
      "metadata": {
        "id": "hSYeRkxxYjDd",
        "colab_type": "code",
        "colab": {}
      },
      "source": [
        "#res.text"
      ],
      "execution_count": 10,
      "outputs": []
    },
    {
      "cell_type": "code",
      "metadata": {
        "id": "mErOHYyrYltc",
        "colab_type": "code",
        "colab": {}
      },
      "source": [
        "#res.json()"
      ],
      "execution_count": 9,
      "outputs": []
    },
    {
      "cell_type": "code",
      "metadata": {
        "id": "mKnb2C5AYp9U",
        "colab_type": "code",
        "colab": {
          "base_uri": "https://localhost:8080/",
          "height": 35
        },
        "outputId": "0c6fbf6d-1cdb-4f8c-d014-803c2a1ef30b"
      },
      "source": [
        "import requests\n",
        "payload = {\n",
        "'SearchType':'S',\n",
        "'Lang': 'TW',\n",
        "'StartStation':'TaiPei',\n",
        "'EndStation':'XinZhu', \n",
        "'OutWardSearchDate':'2020/07/08',\n",
        "'OutWardSearchTime':'20:30',\n",
        "'ReturnSearchDate':'2020/07/08',\n",
        "'ReturnSearchTime':'20:30' \n",
        "} \n",
        "res= requests.post('https://www.thsrc.com.tw/TimeTable/Search',data=payload)\n",
        "print(res) "
      ],
      "execution_count": 22,
      "outputs": [
        {
          "output_type": "stream",
          "text": [
            "<Response [200]>\n"
          ],
          "name": "stdout"
        }
      ]
    },
    {
      "cell_type": "markdown",
      "metadata": {
        "id": "lLXQNo-fcUNY",
        "colab_type": "text"
      },
      "source": [
        "## PCHOME 商品價格"
      ]
    },
    {
      "cell_type": "code",
      "metadata": {
        "id": "omYqq6PYbjfy",
        "colab_type": "code",
        "colab": {
          "base_uri": "https://localhost:8080/",
          "height": 70
        },
        "outputId": "12ff0735-094c-4b33-f6c9-d6eeb269ae50"
      },
      "source": [
        "import requests\n",
        "res = requests.get('https://ecapi.pchome.com.tw/ecshop/prodapi/v2/prod/button&id=DYAQ9Y-A900AEZZI&fields=Seq,Id,Price,Qty,ButtonType,SaleStatus,isPrimeOnly,SpecialQty&_callback=jsonp_button&1594212120?_callback=jsonp_button')\n",
        "res.text"
      ],
      "execution_count": 23,
      "outputs": [
        {
          "output_type": "execute_result",
          "data": {
            "application/vnd.google.colaboratory.intrinsic": {
              "type": "string"
            },
            "text/plain": [
              "'try{jsonp_button([{\"Seq\":24020673,\"Id\":\"DYAQ9Y-A900AEZZI-000\",\"Price\":{\"M\":6690,\"P\":5990,\"Prime\":\"\"},\"Qty\":5,\"ButtonType\":\"ForSale\",\"SaleStatus\":1,\"isPrimeOnly\":0,\"SpecialQty\":0}]);}catch(e){if(window.console){console.log(e);}}'"
            ]
          },
          "metadata": {
            "tags": []
          },
          "execution_count": 23
        }
      ]
    },
    {
      "cell_type": "markdown",
      "metadata": {
        "id": "7sX5eXnWc_ct",
        "colab_type": "text"
      },
      "source": [
        "## BeautifulSoup"
      ]
    },
    {
      "cell_type": "code",
      "metadata": {
        "id": "ZkT-SCt8cYpj",
        "colab_type": "code",
        "colab": {}
      },
      "source": [
        "html_sample = ''' \n",
        "<html> \n",
        " <body> \n",
        " <h1 id=\"title\">Hello World</h1> \n",
        " <a href=\"#\" class=\"link\">This is link1</a> \n",
        " <a href=\"# link2\" class=\"link\">This is link2</a> \n",
        " </body> \n",
        " </html>'''\n"
      ],
      "execution_count": 24,
      "outputs": []
    },
    {
      "cell_type": "code",
      "metadata": {
        "id": "FIEmACNqdBsd",
        "colab_type": "code",
        "colab": {
          "base_uri": "https://localhost:8080/",
          "height": 139
        },
        "outputId": "90d5683e-518c-4d17-95f1-9fa606886da6"
      },
      "source": [
        "from bs4 import BeautifulSoup \n",
        "soup = BeautifulSoup(html_sample, 'lxml')\n",
        "print(soup.text)"
      ],
      "execution_count": 25,
      "outputs": [
        {
          "output_type": "stream",
          "text": [
            "\n",
            "\n",
            "Hello World\n",
            "This is link1\n",
            "This is link2\n",
            "\n",
            "\n"
          ],
          "name": "stdout"
        }
      ]
    },
    {
      "cell_type": "code",
      "metadata": {
        "id": "_Aiu4YBodNiY",
        "colab_type": "code",
        "colab": {
          "base_uri": "https://localhost:8080/",
          "height": 35
        },
        "outputId": "18a12a87-4319-4b27-fa02-3727b009a91f"
      },
      "source": [
        "soup.select_one('h1')"
      ],
      "execution_count": 26,
      "outputs": [
        {
          "output_type": "execute_result",
          "data": {
            "text/plain": [
              "<h1 id=\"title\">Hello World</h1>"
            ]
          },
          "metadata": {
            "tags": []
          },
          "execution_count": 26
        }
      ]
    },
    {
      "cell_type": "code",
      "metadata": {
        "id": "EeXYM95Rde3p",
        "colab_type": "code",
        "colab": {
          "base_uri": "https://localhost:8080/",
          "height": 35
        },
        "outputId": "162da4fa-8651-4e67-ca05-a795038ffacb"
      },
      "source": [
        "soup.select_one('h1').text"
      ],
      "execution_count": 27,
      "outputs": [
        {
          "output_type": "execute_result",
          "data": {
            "application/vnd.google.colaboratory.intrinsic": {
              "type": "string"
            },
            "text/plain": [
              "'Hello World'"
            ]
          },
          "metadata": {
            "tags": []
          },
          "execution_count": 27
        }
      ]
    },
    {
      "cell_type": "code",
      "metadata": {
        "id": "AcckeSP1di9o",
        "colab_type": "code",
        "colab": {
          "base_uri": "https://localhost:8080/",
          "height": 35
        },
        "outputId": "1a13803a-c73a-4c71-84db-b2f389a2baf6"
      },
      "source": [
        "soup.select_one('a')"
      ],
      "execution_count": 28,
      "outputs": [
        {
          "output_type": "execute_result",
          "data": {
            "text/plain": [
              "<a class=\"link\" href=\"#\">This is link1</a>"
            ]
          },
          "metadata": {
            "tags": []
          },
          "execution_count": 28
        }
      ]
    },
    {
      "cell_type": "code",
      "metadata": {
        "id": "hl5mfOX1doWI",
        "colab_type": "code",
        "colab": {
          "base_uri": "https://localhost:8080/",
          "height": 52
        },
        "outputId": "8e46ae62-cd65-4bac-a16d-9b44b708dfd6"
      },
      "source": [
        "soup.select('a')"
      ],
      "execution_count": 29,
      "outputs": [
        {
          "output_type": "execute_result",
          "data": {
            "text/plain": [
              "[<a class=\"link\" href=\"#\">This is link1</a>,\n",
              " <a class=\"link\" href=\"# link2\">This is link2</a>]"
            ]
          },
          "metadata": {
            "tags": []
          },
          "execution_count": 29
        }
      ]
    },
    {
      "cell_type": "code",
      "metadata": {
        "id": "b7WPb6zddutP",
        "colab_type": "code",
        "colab": {
          "base_uri": "https://localhost:8080/",
          "height": 35
        },
        "outputId": "722fd219-16f6-4375-fb97-8797c5f263ee"
      },
      "source": [
        "soup.select('a')[1]"
      ],
      "execution_count": 30,
      "outputs": [
        {
          "output_type": "execute_result",
          "data": {
            "text/plain": [
              "<a class=\"link\" href=\"# link2\">This is link2</a>"
            ]
          },
          "metadata": {
            "tags": []
          },
          "execution_count": 30
        }
      ]
    },
    {
      "cell_type": "code",
      "metadata": {
        "id": "EVDCGQOKeFip",
        "colab_type": "code",
        "colab": {
          "base_uri": "https://localhost:8080/",
          "height": 35
        },
        "outputId": "5c58abdd-5e0b-4239-9f64-a01c47b81ad2"
      },
      "source": [
        "# id => #\n",
        "soup.select_one('#title')"
      ],
      "execution_count": 31,
      "outputs": [
        {
          "output_type": "execute_result",
          "data": {
            "text/plain": [
              "<h1 id=\"title\">Hello World</h1>"
            ]
          },
          "metadata": {
            "tags": []
          },
          "execution_count": 31
        }
      ]
    },
    {
      "cell_type": "code",
      "metadata": {
        "id": "IGw7Pb87eKFi",
        "colab_type": "code",
        "colab": {
          "base_uri": "https://localhost:8080/",
          "height": 52
        },
        "outputId": "216c1c6a-8c85-4d06-d55d-2c1d383325c3"
      },
      "source": [
        "# class => .\n",
        "soup.select('.link')"
      ],
      "execution_count": 32,
      "outputs": [
        {
          "output_type": "execute_result",
          "data": {
            "text/plain": [
              "[<a class=\"link\" href=\"#\">This is link1</a>,\n",
              " <a class=\"link\" href=\"# link2\">This is link2</a>]"
            ]
          },
          "metadata": {
            "tags": []
          },
          "execution_count": 32
        }
      ]
    },
    {
      "cell_type": "code",
      "metadata": {
        "id": "DbmBbyefeOc6",
        "colab_type": "code",
        "colab": {
          "base_uri": "https://localhost:8080/",
          "height": 35
        },
        "outputId": "be4de53a-cfba-401c-801a-64239418aab9"
      },
      "source": [
        "soup.select_one('h1#title')"
      ],
      "execution_count": 34,
      "outputs": [
        {
          "output_type": "execute_result",
          "data": {
            "text/plain": [
              "<h1 id=\"title\">Hello World</h1>"
            ]
          },
          "metadata": {
            "tags": []
          },
          "execution_count": 34
        }
      ]
    },
    {
      "cell_type": "code",
      "metadata": {
        "id": "czehzd3DeZZv",
        "colab_type": "code",
        "colab": {
          "base_uri": "https://localhost:8080/",
          "height": 52
        },
        "outputId": "cb24db58-51e0-4b6a-cf6d-562ade190865"
      },
      "source": [
        "soup.select('a.link')"
      ],
      "execution_count": 35,
      "outputs": [
        {
          "output_type": "execute_result",
          "data": {
            "text/plain": [
              "[<a class=\"link\" href=\"#\">This is link1</a>,\n",
              " <a class=\"link\" href=\"# link2\">This is link2</a>]"
            ]
          },
          "metadata": {
            "tags": []
          },
          "execution_count": 35
        }
      ]
    },
    {
      "cell_type": "code",
      "metadata": {
        "id": "qKBw5UH_ecbY",
        "colab_type": "code",
        "colab": {
          "base_uri": "https://localhost:8080/",
          "height": 52
        },
        "outputId": "b26716df-ea36-421e-cfdb-9e1d1bc609f1"
      },
      "source": [
        "for link in soup.select('a'):\n",
        "  #print(link)\n",
        "  #print(link.text)\n",
        "  print(link.get('href'))"
      ],
      "execution_count": 40,
      "outputs": [
        {
          "output_type": "stream",
          "text": [
            "#\n",
            "# link2\n"
          ],
          "name": "stdout"
        }
      ]
    },
    {
      "cell_type": "code",
      "metadata": {
        "id": "3GuaHOWWepMp",
        "colab_type": "code",
        "colab": {
          "base_uri": "https://localhost:8080/",
          "height": 35
        },
        "outputId": "1e6752fd-7aab-4647-f1ce-1b6f88659a98"
      },
      "source": [
        "from bs4 import BeautifulSoup \n",
        "ec = ''' \n",
        "<html> \n",
        " <body> \n",
        " <h1 id=\"title\">Jabra Elite 75t 真無線藍牙耳機</h1> \n",
        " <img src=\"https://c.ecimg.tw/items/DYAQ9YA900AEZZI/000001_1593397583.jpg\" width=\"200px\"></img>\n",
        " <div>\n",
        "     <p>四麥克風技術/藍牙5.0/IP55防塵防水\n",
        "電池續航7.5小時,搭配充電盒可達28小時\n",
        "一鍵語音助理,快速開啟Siri/Alexa**/Google Assistant\n",
        "按鍵式操控輕鬆不費力，不會導致耳朵有壓迫感\n",
        "使用Jabra Sound+ 設定個人化音質體驗\n",
        "超強環境音功能，極度接近真實環境周遭聲音\n",
        "體積更小，單耳僅不到6克，服貼各種耳型，配戴超舒適</p>\n",
        " </div> \n",
        " <meta itemprop=\"priceCurrency\" content=\"TWD\">網路價<span class=\"price\" >$<span class=\"value\" id=\"PriceTotal\" itemprop=\"price\" \">5990</span></span>\n",
        " </body> \n",
        " </html>'''\n",
        "\n",
        "soup = BeautifulSoup(ec, 'lxml')\n",
        "soup.select_one('#PriceTotal').text"
      ],
      "execution_count": 43,
      "outputs": [
        {
          "output_type": "execute_result",
          "data": {
            "application/vnd.google.colaboratory.intrinsic": {
              "type": "string"
            },
            "text/plain": [
              "'5990'"
            ]
          },
          "metadata": {
            "tags": []
          },
          "execution_count": 43
        }
      ]
    },
    {
      "cell_type": "markdown",
      "metadata": {
        "id": "XG8hkuKwhIBs",
        "colab_type": "text"
      },
      "source": [
        "## 抓取 Mobile01"
      ]
    },
    {
      "cell_type": "code",
      "metadata": {
        "id": "a3s4CL2Egmy6",
        "colab_type": "code",
        "colab": {}
      },
      "source": [
        "import requests\n",
        "headers = {'user-agent': 'Mozilla/5.0 (Macintosh; Intel Mac OS X 10_14_6) AppleWebKit/537.36 (KHTML, like Gecko) Chrome/83.0.4103.116 Safari/537.36'}\n",
        "res = requests.get('https://www.mobile01.com/topiclist.php?f=180', headers = headers)\n",
        "#res.text"
      ],
      "execution_count": 46,
      "outputs": []
    },
    {
      "cell_type": "code",
      "metadata": {
        "id": "Ym7cdLbIhOAY",
        "colab_type": "code",
        "colab": {}
      },
      "source": [
        "from bs4 import BeautifulSoup\n",
        "soup = BeautifulSoup(res.text, 'lxml')"
      ],
      "execution_count": 47,
      "outputs": []
    },
    {
      "cell_type": "code",
      "metadata": {
        "id": "qrhgLiNPhdOR",
        "colab_type": "code",
        "colab": {
          "base_uri": "https://localhost:8080/",
          "height": 1000
        },
        "outputId": "65c19f9e-de2b-4b68-8af2-5efcf42cf795"
      },
      "source": [
        "domain = 'https://www.mobile01.com/'\n",
        "for tr in soup.select('div.l-listTable__tr'):\n",
        "  #print(tr)\n",
        "  if tr.select_one('.c-listTableTd__title a'):\n",
        "    print(tr.select_one('.c-listTableTd__title a').text)\n",
        "    print(domain + tr.select_one('.c-listTableTd__title a').get('href'))\n",
        "    print(tr.select_one('.o-fMini').text)\n",
        "    print('================================')"
      ],
      "execution_count": 57,
      "outputs": [
        {
          "output_type": "stream",
          "text": [
            "【北極熊開箱】不受線的自由聆聽- Libratone Track Air+\n",
            "https://www.mobile01.com/topicdetail.php?f=180&t=6131686\n",
            "7\n",
            "================================\n",
            "【試用】英國知名技術高音質《TONE Free 真無線藍牙耳機 FL7》快速充電同時自動殺菌！\n",
            "https://www.mobile01.com/topicdetail.php?f=180&t=6108419\n",
            "101\n",
            "================================\n",
            "想購入Fiio M15 或者Sony WM1A\n",
            "https://www.mobile01.com/topicdetail.php?f=180&t=6136975\n",
            "1\n",
            "================================\n",
            "2K內通話品質不錯的耳機\n",
            "https://www.mobile01.com/topicdetail.php?f=180&t=6136904\n",
            "0\n",
            "================================\n",
            "有沒有會修藍芽喇叭的店家，煩請推薦，謝謝。順便評分一下用過的藍芽喇叭\n",
            "https://www.mobile01.com/topicdetail.php?f=180&t=5405835\n",
            "215\n",
            "================================\n",
            "KKBOX 搶先推出Hi Fi FLAC格式無損音樂\n",
            "https://www.mobile01.com/topicdetail.php?f=180&t=6133089\n",
            "11\n",
            "================================\n",
            "鐵三角 ATH-ANC300TW 耳機開箱\n",
            "https://www.mobile01.com/topicdetail.php?f=180&t=6119134\n",
            "8\n",
            "================================\n",
            "KLIPSCH T5 True Wireless 真無線耳機開箱\n",
            "https://www.mobile01.com/topicdetail.php?f=180&t=5855349\n",
            "117\n",
            "================================\n",
            "用入耳式耳機講電話聽不到自己聲音\n",
            "https://www.mobile01.com/topicdetail.php?f=180&t=6135823\n",
            "4\n",
            "================================\n",
            "小宅vr的z4怎麼使用\n",
            "https://www.mobile01.com/topicdetail.php?f=180&t=6136328\n",
            "0\n",
            "================================\n",
            "木質好質感 YoungFly YF-W8C藍牙音箱 搭配傢俱更加分\n",
            "https://www.mobile01.com/topicdetail.php?f=180&t=6136300\n",
            "0\n",
            "================================\n",
            "ONKYO GRANBEAT DP-CMX1 請教港版問題\n",
            "https://www.mobile01.com/topicdetail.php?f=180&t=6135884\n",
            "0\n",
            "================================\n",
            "Jabra Elite Active 75t 試聽報告 配戴舒適、動靜皆宜！\n",
            "https://www.mobile01.com/topicdetail.php?f=180&t=6065702\n",
            "28\n",
            "================================\n",
            "「野人評比」SONY WIRELESS SURROUND HEADSET LIMITED EDITION VS XROUND AERO EARPHONE VS SONY HT-X9000F\n",
            "https://www.mobile01.com/topicdetail.php?f=180&t=6134635\n",
            "2\n",
            "================================\n",
            "大量動漫 電視盒選擇\n",
            "https://www.mobile01.com/topicdetail.php?f=180&t=6135415\n",
            "1\n",
            "================================\n",
            "請問Klipsch T5 黑，4990可買嗎？\n",
            "https://www.mobile01.com/topicdetail.php?f=180&t=6127814\n",
            "5\n",
            "================================\n",
            "Harman Kardon onyx 5 與JBL Chare 4\n",
            "https://www.mobile01.com/topicdetail.php?f=180&t=6135451\n",
            "0\n",
            "================================\n",
            "求有降噪功能的真無線藍芽耳機推薦\n",
            "https://www.mobile01.com/topicdetail.php?f=180&t=6127992\n",
            "5\n",
            "================================\n",
            "預算1500以下真無線藍牙耳機請推薦(內含選手)\n",
            "https://www.mobile01.com/topicdetail.php?f=180&t=5940011\n",
            "40\n",
            "================================\n",
            "音頻解碼差異聽得出來嗎? 要不要聽聽看 SBC 跟 aptx 的差異呢?\n",
            "https://www.mobile01.com/topicdetail.php?f=180&t=5977077\n",
            "35\n",
            "================================\n",
            "將絕版的Hi-End至尊旗艦Bowers & Wilkins P9 Signature耳罩式耳機\n",
            "https://www.mobile01.com/topicdetail.php?f=180&t=6074688\n",
            "21\n",
            "================================\n",
            "原來鐵三角是爛到爆\n",
            "https://www.mobile01.com/topicdetail.php?f=180&t=6129897\n",
            "9\n",
            "================================\n",
            "Omix VAC-S真空管藍牙喇叭 極簡設計帶來好音質\n",
            "https://www.mobile01.com/topicdetail.php?f=180&t=6134786\n",
            "0\n",
            "================================\n",
            "Beats等級的低音...\n",
            "https://www.mobile01.com/topicdetail.php?f=180&t=4731587\n",
            "49\n",
            "================================\n",
            "入手【Klipsch】 S1 True Wireless 真無線藍牙耳機\n",
            "https://www.mobile01.com/topicdetail.php?f=180&t=5963479\n",
            "40\n",
            "================================\n",
            "求各位大神3k內 可小爆 藍牙喇叭推薦\n",
            "https://www.mobile01.com/topicdetail.php?f=180&t=6134588\n",
            "0\n",
            "================================\n",
            "(簡單分享文) 2020/5 小米 藍牙耳機 AirDots 超值版\n",
            "https://www.mobile01.com/topicdetail.php?f=180&t=6093763\n",
            "3\n",
            "================================\n",
            "Bowers&Wilkins PX7 開箱文\n",
            "https://www.mobile01.com/topicdetail.php?f=180&t=6048520\n",
            "31\n",
            "================================\n",
            "[請益] Sennheiser VS B&W 耳機抉擇\n",
            "https://www.mobile01.com/topicdetail.php?f=180&t=6018897\n",
            "35\n",
            "================================\n",
            "手機看Youtube的影片能夠 字幕英翻中嗎？\n",
            "https://www.mobile01.com/topicdetail.php?f=180&t=6133355\n",
            "2\n",
            "================================\n",
            "MD3090與投影機連線的問題\n",
            "https://www.mobile01.com/topicdetail.php?f=180&t=5999163\n",
            "2\n",
            "================================\n",
            "【R式分享】旗艦之林的新星—YOGA SHP-1\n",
            "https://www.mobile01.com/topicdetail.php?f=180&t=6081399\n",
            "13\n",
            "================================\n"
          ],
          "name": "stdout"
        }
      ]
    },
    {
      "cell_type": "code",
      "metadata": {
        "id": "2y3CJx_-iAda",
        "colab_type": "code",
        "colab": {
          "base_uri": "https://localhost:8080/",
          "height": 69
        },
        "outputId": "7db6ca64-3894-4c57-aee6-64b9021c1607"
      },
      "source": [
        "for i in range(1,4):\n",
        "  print('https://www.mobile01.com/topiclist.php?f=180&p={}'.format(i))"
      ],
      "execution_count": 58,
      "outputs": [
        {
          "output_type": "stream",
          "text": [
            "https://www.mobile01.com/topiclist.php?f=180&p=1\n",
            "https://www.mobile01.com/topiclist.php?f=180&p=2\n",
            "https://www.mobile01.com/topiclist.php?f=180&p=3\n"
          ],
          "name": "stdout"
        }
      ]
    },
    {
      "cell_type": "code",
      "metadata": {
        "id": "ckIkwAZNkaF_",
        "colab_type": "code",
        "colab": {
          "base_uri": "https://localhost:8080/",
          "height": 1000
        },
        "outputId": "ffd3cadb-5554-49cb-dd6e-6112bc84fed2"
      },
      "source": [
        "domain = 'https://www.mobile01.com/'\n",
        "# 換頁\n",
        "for i in range(1,2):\n",
        "  # 換頁連結\n",
        "  pageurl = 'https://www.mobile01.com/topiclist.php?f=180&p={}'.format(i)\n",
        "  # 抓取頁面資訊\n",
        "  res = requests.get(pageurl, headers = headers)\n",
        "  # 解析頁面資訊\n",
        "  soup = BeautifulSoup(res.text, 'lxml')\n",
        "  # 解析每一列\n",
        "  for tr in soup.select('div.l-listTable__tr'):\n",
        "    if tr.select_one('.c-listTableTd__title a'):\n",
        "      # 標題\n",
        "      print(tr.select_one('.c-listTableTd__title a').text)\n",
        "      # 連結\n",
        "      print(domain + tr.select_one('.c-listTableTd__title a').get('href'))\n",
        "      # 回應\n",
        "      print(tr.select_one('.o-fMini').text)\n",
        "      print('================================')"
      ],
      "execution_count": 61,
      "outputs": [
        {
          "output_type": "stream",
          "text": [
            "【北極熊開箱】不受線的自由聆聽- Libratone Track Air+\n",
            "https://www.mobile01.com/topicdetail.php?f=180&t=6131686\n",
            "7\n",
            "================================\n",
            "【試用】英國知名技術高音質《TONE Free 真無線藍牙耳機 FL7》快速充電同時自動殺菌！\n",
            "https://www.mobile01.com/topicdetail.php?f=180&t=6108419\n",
            "101\n",
            "================================\n",
            "想購入Fiio M15 或者Sony WM1A\n",
            "https://www.mobile01.com/topicdetail.php?f=180&t=6136975\n",
            "2\n",
            "================================\n",
            "開箱文｜小鳥耳機 TRACK Air+ 真無線藍牙耳機－LIBRATONE 黑科技讓我聽見聲音的方向\n",
            "https://www.mobile01.com/topicdetail.php?f=180&t=6137050\n",
            "0\n",
            "================================\n",
            "2K內通話品質不錯的耳機\n",
            "https://www.mobile01.com/topicdetail.php?f=180&t=6136904\n",
            "0\n",
            "================================\n",
            "有沒有會修藍芽喇叭的店家，煩請推薦，謝謝。順便評分一下用過的藍芽喇叭\n",
            "https://www.mobile01.com/topicdetail.php?f=180&t=5405835\n",
            "215\n",
            "================================\n",
            "KKBOX 搶先推出Hi Fi FLAC格式無損音樂\n",
            "https://www.mobile01.com/topicdetail.php?f=180&t=6133089\n",
            "11\n",
            "================================\n",
            "鐵三角 ATH-ANC300TW 耳機開箱\n",
            "https://www.mobile01.com/topicdetail.php?f=180&t=6119134\n",
            "8\n",
            "================================\n",
            "KLIPSCH T5 True Wireless 真無線耳機開箱\n",
            "https://www.mobile01.com/topicdetail.php?f=180&t=5855349\n",
            "117\n",
            "================================\n",
            "用入耳式耳機講電話聽不到自己聲音\n",
            "https://www.mobile01.com/topicdetail.php?f=180&t=6135823\n",
            "4\n",
            "================================\n",
            "小宅vr的z4怎麼使用\n",
            "https://www.mobile01.com/topicdetail.php?f=180&t=6136328\n",
            "0\n",
            "================================\n",
            "木質好質感 YoungFly YF-W8C藍牙音箱 搭配傢俱更加分\n",
            "https://www.mobile01.com/topicdetail.php?f=180&t=6136300\n",
            "0\n",
            "================================\n",
            "ONKYO GRANBEAT DP-CMX1 請教港版問題\n",
            "https://www.mobile01.com/topicdetail.php?f=180&t=6135884\n",
            "0\n",
            "================================\n",
            "Jabra Elite Active 75t 試聽報告 配戴舒適、動靜皆宜！\n",
            "https://www.mobile01.com/topicdetail.php?f=180&t=6065702\n",
            "28\n",
            "================================\n",
            "「野人評比」SONY WIRELESS SURROUND HEADSET LIMITED EDITION VS XROUND AERO EARPHONE VS SONY HT-X9000F\n",
            "https://www.mobile01.com/topicdetail.php?f=180&t=6134635\n",
            "2\n",
            "================================\n",
            "大量動漫 電視盒選擇\n",
            "https://www.mobile01.com/topicdetail.php?f=180&t=6135415\n",
            "1\n",
            "================================\n",
            "請問Klipsch T5 黑，4990可買嗎？\n",
            "https://www.mobile01.com/topicdetail.php?f=180&t=6127814\n",
            "5\n",
            "================================\n",
            "Harman Kardon onyx 5 與JBL Chare 4\n",
            "https://www.mobile01.com/topicdetail.php?f=180&t=6135451\n",
            "0\n",
            "================================\n",
            "求有降噪功能的真無線藍芽耳機推薦\n",
            "https://www.mobile01.com/topicdetail.php?f=180&t=6127992\n",
            "5\n",
            "================================\n",
            "預算1500以下真無線藍牙耳機請推薦(內含選手)\n",
            "https://www.mobile01.com/topicdetail.php?f=180&t=5940011\n",
            "40\n",
            "================================\n",
            "音頻解碼差異聽得出來嗎? 要不要聽聽看 SBC 跟 aptx 的差異呢?\n",
            "https://www.mobile01.com/topicdetail.php?f=180&t=5977077\n",
            "35\n",
            "================================\n",
            "將絕版的Hi-End至尊旗艦Bowers & Wilkins P9 Signature耳罩式耳機\n",
            "https://www.mobile01.com/topicdetail.php?f=180&t=6074688\n",
            "21\n",
            "================================\n",
            "原來鐵三角是爛到爆\n",
            "https://www.mobile01.com/topicdetail.php?f=180&t=6129897\n",
            "9\n",
            "================================\n",
            "Omix VAC-S真空管藍牙喇叭 極簡設計帶來好音質\n",
            "https://www.mobile01.com/topicdetail.php?f=180&t=6134786\n",
            "0\n",
            "================================\n",
            "Beats等級的低音...\n",
            "https://www.mobile01.com/topicdetail.php?f=180&t=4731587\n",
            "49\n",
            "================================\n",
            "入手【Klipsch】 S1 True Wireless 真無線藍牙耳機\n",
            "https://www.mobile01.com/topicdetail.php?f=180&t=5963479\n",
            "40\n",
            "================================\n",
            "求各位大神3k內 可小爆 藍牙喇叭推薦\n",
            "https://www.mobile01.com/topicdetail.php?f=180&t=6134588\n",
            "0\n",
            "================================\n",
            "(簡單分享文) 2020/5 小米 藍牙耳機 AirDots 超值版\n",
            "https://www.mobile01.com/topicdetail.php?f=180&t=6093763\n",
            "3\n",
            "================================\n",
            "Bowers&Wilkins PX7 開箱文\n",
            "https://www.mobile01.com/topicdetail.php?f=180&t=6048520\n",
            "31\n",
            "================================\n",
            "[請益] Sennheiser VS B&W 耳機抉擇\n",
            "https://www.mobile01.com/topicdetail.php?f=180&t=6018897\n",
            "35\n",
            "================================\n",
            "手機看Youtube的影片能夠 字幕英翻中嗎？\n",
            "https://www.mobile01.com/topicdetail.php?f=180&t=6133355\n",
            "2\n",
            "================================\n",
            "MD3090與投影機連線的問題\n",
            "https://www.mobile01.com/topicdetail.php?f=180&t=5999163\n",
            "2\n",
            "================================\n"
          ],
          "name": "stdout"
        }
      ]
    },
    {
      "cell_type": "code",
      "metadata": {
        "id": "ms0UyrxzlFIL",
        "colab_type": "code",
        "colab": {}
      },
      "source": [
        "domain = 'https://www.mobile01.com/'\n",
        "# 空List\n",
        "comments_ary = []\n",
        "# 換頁\n",
        "for i in range(1,2):\n",
        "  # 換頁連結\n",
        "  pageurl = 'https://www.mobile01.com/topiclist.php?f=180&p={}'.format(i)\n",
        "  # 抓取頁面資訊\n",
        "  res = requests.get(pageurl, headers = headers)\n",
        "  # 解析頁面資訊\n",
        "  soup = BeautifulSoup(res.text, 'lxml')\n",
        "  # 解析每一列\n",
        "  for tr in soup.select('div.l-listTable__tr'):\n",
        "    if tr.select_one('.c-listTableTd__title a'):\n",
        "      # 將每一篇資訊整理在字典中\n",
        "      ret_dic = {}\n",
        "      # 標題\n",
        "      ret_dic['title'] = tr.select_one('.c-listTableTd__title a').text\n",
        "      # 連結\n",
        "      ret_dic['link'] = domain + tr.select_one('.c-listTableTd__title a').get('href')\n",
        "      # 回應\n",
        "      ret_dic['cnt'] = tr.select_one('.o-fMini').text\n",
        "      comments_ary.append(ret_dic)\n",
        "      #print('================================')"
      ],
      "execution_count": 62,
      "outputs": []
    },
    {
      "cell_type": "code",
      "metadata": {
        "id": "Co-Uvz4rlpZb",
        "colab_type": "code",
        "colab": {
          "base_uri": "https://localhost:8080/",
          "height": 69
        },
        "outputId": "9082cbea-ce57-49e2-b821-26ab3eb9f247"
      },
      "source": [
        "comments_ary[0]"
      ],
      "execution_count": 64,
      "outputs": [
        {
          "output_type": "execute_result",
          "data": {
            "text/plain": [
              "{'cnt': '7',\n",
              " 'link': 'https://www.mobile01.com/topicdetail.php?f=180&t=6131686',\n",
              " 'title': '【北極熊開箱】不受線的自由聆聽- Libratone Track Air+'}"
            ]
          },
          "metadata": {
            "tags": []
          },
          "execution_count": 64
        }
      ]
    },
    {
      "cell_type": "markdown",
      "metadata": {
        "id": "gnTioh_TmA4U",
        "colab_type": "text"
      },
      "source": [
        "## 將所有資料進行整理"
      ]
    },
    {
      "cell_type": "code",
      "metadata": {
        "id": "aWrNXFLflub7",
        "colab_type": "code",
        "colab": {
          "base_uri": "https://localhost:8080/",
          "height": 1000
        },
        "outputId": "03bd0e9f-010c-4501-f92a-336559fcc3e6"
      },
      "source": [
        "import pandas\n",
        "comments_df = pandas.DataFrame(comments_ary)\n",
        "comments_df"
      ],
      "execution_count": 66,
      "outputs": [
        {
          "output_type": "execute_result",
          "data": {
            "text/html": [
              "<div>\n",
              "<style scoped>\n",
              "    .dataframe tbody tr th:only-of-type {\n",
              "        vertical-align: middle;\n",
              "    }\n",
              "\n",
              "    .dataframe tbody tr th {\n",
              "        vertical-align: top;\n",
              "    }\n",
              "\n",
              "    .dataframe thead th {\n",
              "        text-align: right;\n",
              "    }\n",
              "</style>\n",
              "<table border=\"1\" class=\"dataframe\">\n",
              "  <thead>\n",
              "    <tr style=\"text-align: right;\">\n",
              "      <th></th>\n",
              "      <th>title</th>\n",
              "      <th>link</th>\n",
              "      <th>cnt</th>\n",
              "    </tr>\n",
              "  </thead>\n",
              "  <tbody>\n",
              "    <tr>\n",
              "      <th>0</th>\n",
              "      <td>【北極熊開箱】不受線的自由聆聽- Libratone Track Air+</td>\n",
              "      <td>https://www.mobile01.com/topicdetail.php?f=180...</td>\n",
              "      <td>7</td>\n",
              "    </tr>\n",
              "    <tr>\n",
              "      <th>1</th>\n",
              "      <td>【試用】英國知名技術高音質《TONE Free 真無線藍牙耳機 FL7》快速充電同時自動殺菌！</td>\n",
              "      <td>https://www.mobile01.com/topicdetail.php?f=180...</td>\n",
              "      <td>101</td>\n",
              "    </tr>\n",
              "    <tr>\n",
              "      <th>2</th>\n",
              "      <td>想購入Fiio M15 或者Sony WM1A</td>\n",
              "      <td>https://www.mobile01.com/topicdetail.php?f=180...</td>\n",
              "      <td>2</td>\n",
              "    </tr>\n",
              "    <tr>\n",
              "      <th>3</th>\n",
              "      <td>開箱文｜小鳥耳機 TRACK Air+ 真無線藍牙耳機－LIBRATONE 黑科技讓我聽見聲...</td>\n",
              "      <td>https://www.mobile01.com/topicdetail.php?f=180...</td>\n",
              "      <td>0</td>\n",
              "    </tr>\n",
              "    <tr>\n",
              "      <th>4</th>\n",
              "      <td>2K內通話品質不錯的耳機</td>\n",
              "      <td>https://www.mobile01.com/topicdetail.php?f=180...</td>\n",
              "      <td>0</td>\n",
              "    </tr>\n",
              "    <tr>\n",
              "      <th>5</th>\n",
              "      <td>有沒有會修藍芽喇叭的店家，煩請推薦，謝謝。順便評分一下用過的藍芽喇叭</td>\n",
              "      <td>https://www.mobile01.com/topicdetail.php?f=180...</td>\n",
              "      <td>215</td>\n",
              "    </tr>\n",
              "    <tr>\n",
              "      <th>6</th>\n",
              "      <td>KKBOX 搶先推出Hi Fi FLAC格式無損音樂</td>\n",
              "      <td>https://www.mobile01.com/topicdetail.php?f=180...</td>\n",
              "      <td>11</td>\n",
              "    </tr>\n",
              "    <tr>\n",
              "      <th>7</th>\n",
              "      <td>鐵三角 ATH-ANC300TW 耳機開箱</td>\n",
              "      <td>https://www.mobile01.com/topicdetail.php?f=180...</td>\n",
              "      <td>8</td>\n",
              "    </tr>\n",
              "    <tr>\n",
              "      <th>8</th>\n",
              "      <td>KLIPSCH T5 True Wireless 真無線耳機開箱</td>\n",
              "      <td>https://www.mobile01.com/topicdetail.php?f=180...</td>\n",
              "      <td>117</td>\n",
              "    </tr>\n",
              "    <tr>\n",
              "      <th>9</th>\n",
              "      <td>用入耳式耳機講電話聽不到自己聲音</td>\n",
              "      <td>https://www.mobile01.com/topicdetail.php?f=180...</td>\n",
              "      <td>4</td>\n",
              "    </tr>\n",
              "    <tr>\n",
              "      <th>10</th>\n",
              "      <td>小宅vr的z4怎麼使用</td>\n",
              "      <td>https://www.mobile01.com/topicdetail.php?f=180...</td>\n",
              "      <td>0</td>\n",
              "    </tr>\n",
              "    <tr>\n",
              "      <th>11</th>\n",
              "      <td>木質好質感 YoungFly YF-W8C藍牙音箱 搭配傢俱更加分</td>\n",
              "      <td>https://www.mobile01.com/topicdetail.php?f=180...</td>\n",
              "      <td>0</td>\n",
              "    </tr>\n",
              "    <tr>\n",
              "      <th>12</th>\n",
              "      <td>ONKYO GRANBEAT DP-CMX1 請教港版問題</td>\n",
              "      <td>https://www.mobile01.com/topicdetail.php?f=180...</td>\n",
              "      <td>0</td>\n",
              "    </tr>\n",
              "    <tr>\n",
              "      <th>13</th>\n",
              "      <td>Jabra Elite Active 75t 試聽報告 配戴舒適、動靜皆宜！</td>\n",
              "      <td>https://www.mobile01.com/topicdetail.php?f=180...</td>\n",
              "      <td>28</td>\n",
              "    </tr>\n",
              "    <tr>\n",
              "      <th>14</th>\n",
              "      <td>「野人評比」SONY WIRELESS SURROUND HEADSET LIMITED E...</td>\n",
              "      <td>https://www.mobile01.com/topicdetail.php?f=180...</td>\n",
              "      <td>2</td>\n",
              "    </tr>\n",
              "    <tr>\n",
              "      <th>15</th>\n",
              "      <td>大量動漫 電視盒選擇</td>\n",
              "      <td>https://www.mobile01.com/topicdetail.php?f=180...</td>\n",
              "      <td>1</td>\n",
              "    </tr>\n",
              "    <tr>\n",
              "      <th>16</th>\n",
              "      <td>請問Klipsch T5 黑，4990可買嗎？</td>\n",
              "      <td>https://www.mobile01.com/topicdetail.php?f=180...</td>\n",
              "      <td>5</td>\n",
              "    </tr>\n",
              "    <tr>\n",
              "      <th>17</th>\n",
              "      <td>Harman Kardon onyx 5 與JBL Chare 4</td>\n",
              "      <td>https://www.mobile01.com/topicdetail.php?f=180...</td>\n",
              "      <td>0</td>\n",
              "    </tr>\n",
              "    <tr>\n",
              "      <th>18</th>\n",
              "      <td>求有降噪功能的真無線藍芽耳機推薦</td>\n",
              "      <td>https://www.mobile01.com/topicdetail.php?f=180...</td>\n",
              "      <td>5</td>\n",
              "    </tr>\n",
              "    <tr>\n",
              "      <th>19</th>\n",
              "      <td>預算1500以下真無線藍牙耳機請推薦(內含選手)</td>\n",
              "      <td>https://www.mobile01.com/topicdetail.php?f=180...</td>\n",
              "      <td>40</td>\n",
              "    </tr>\n",
              "    <tr>\n",
              "      <th>20</th>\n",
              "      <td>音頻解碼差異聽得出來嗎? 要不要聽聽看 SBC 跟 aptx 的差異呢?</td>\n",
              "      <td>https://www.mobile01.com/topicdetail.php?f=180...</td>\n",
              "      <td>35</td>\n",
              "    </tr>\n",
              "    <tr>\n",
              "      <th>21</th>\n",
              "      <td>將絕版的Hi-End至尊旗艦Bowers &amp; Wilkins P9 Signature耳罩式耳機</td>\n",
              "      <td>https://www.mobile01.com/topicdetail.php?f=180...</td>\n",
              "      <td>21</td>\n",
              "    </tr>\n",
              "    <tr>\n",
              "      <th>22</th>\n",
              "      <td>原來鐵三角是爛到爆</td>\n",
              "      <td>https://www.mobile01.com/topicdetail.php?f=180...</td>\n",
              "      <td>9</td>\n",
              "    </tr>\n",
              "    <tr>\n",
              "      <th>23</th>\n",
              "      <td>Omix VAC-S真空管藍牙喇叭 極簡設計帶來好音質</td>\n",
              "      <td>https://www.mobile01.com/topicdetail.php?f=180...</td>\n",
              "      <td>0</td>\n",
              "    </tr>\n",
              "    <tr>\n",
              "      <th>24</th>\n",
              "      <td>Beats等級的低音...</td>\n",
              "      <td>https://www.mobile01.com/topicdetail.php?f=180...</td>\n",
              "      <td>49</td>\n",
              "    </tr>\n",
              "    <tr>\n",
              "      <th>25</th>\n",
              "      <td>入手【Klipsch】 S1 True Wireless 真無線藍牙耳機</td>\n",
              "      <td>https://www.mobile01.com/topicdetail.php?f=180...</td>\n",
              "      <td>40</td>\n",
              "    </tr>\n",
              "    <tr>\n",
              "      <th>26</th>\n",
              "      <td>求各位大神3k內 可小爆 藍牙喇叭推薦</td>\n",
              "      <td>https://www.mobile01.com/topicdetail.php?f=180...</td>\n",
              "      <td>0</td>\n",
              "    </tr>\n",
              "    <tr>\n",
              "      <th>27</th>\n",
              "      <td>(簡單分享文) 2020/5 小米 藍牙耳機 AirDots 超值版</td>\n",
              "      <td>https://www.mobile01.com/topicdetail.php?f=180...</td>\n",
              "      <td>3</td>\n",
              "    </tr>\n",
              "    <tr>\n",
              "      <th>28</th>\n",
              "      <td>Bowers&amp;Wilkins PX7 開箱文</td>\n",
              "      <td>https://www.mobile01.com/topicdetail.php?f=180...</td>\n",
              "      <td>31</td>\n",
              "    </tr>\n",
              "    <tr>\n",
              "      <th>29</th>\n",
              "      <td>[請益] Sennheiser VS B&amp;W 耳機抉擇</td>\n",
              "      <td>https://www.mobile01.com/topicdetail.php?f=180...</td>\n",
              "      <td>35</td>\n",
              "    </tr>\n",
              "    <tr>\n",
              "      <th>30</th>\n",
              "      <td>手機看Youtube的影片能夠 字幕英翻中嗎？</td>\n",
              "      <td>https://www.mobile01.com/topicdetail.php?f=180...</td>\n",
              "      <td>2</td>\n",
              "    </tr>\n",
              "    <tr>\n",
              "      <th>31</th>\n",
              "      <td>MD3090與投影機連線的問題</td>\n",
              "      <td>https://www.mobile01.com/topicdetail.php?f=180...</td>\n",
              "      <td>2</td>\n",
              "    </tr>\n",
              "  </tbody>\n",
              "</table>\n",
              "</div>"
            ],
            "text/plain": [
              "                                                title  ...  cnt\n",
              "0               【北極熊開箱】不受線的自由聆聽- Libratone Track Air+  ...    7\n",
              "1     【試用】英國知名技術高音質《TONE Free 真無線藍牙耳機 FL7》快速充電同時自動殺菌！  ...  101\n",
              "2                             想購入Fiio M15 或者Sony WM1A  ...    2\n",
              "3   開箱文｜小鳥耳機 TRACK Air+ 真無線藍牙耳機－LIBRATONE 黑科技讓我聽見聲...  ...    0\n",
              "4                                        2K內通話品質不錯的耳機  ...    0\n",
              "5                  有沒有會修藍芽喇叭的店家，煩請推薦，謝謝。順便評分一下用過的藍芽喇叭  ...  215\n",
              "6                          KKBOX 搶先推出Hi Fi FLAC格式無損音樂  ...   11\n",
              "7                               鐵三角 ATH-ANC300TW 耳機開箱  ...    8\n",
              "8                    KLIPSCH T5 True Wireless 真無線耳機開箱  ...  117\n",
              "9                                    用入耳式耳機講電話聽不到自己聲音  ...    4\n",
              "10                                        小宅vr的z4怎麼使用  ...    0\n",
              "11                  木質好質感 YoungFly YF-W8C藍牙音箱 搭配傢俱更加分  ...    0\n",
              "12                      ONKYO GRANBEAT DP-CMX1 請教港版問題  ...    0\n",
              "13             Jabra Elite Active 75t 試聽報告 配戴舒適、動靜皆宜！  ...   28\n",
              "14  「野人評比」SONY WIRELESS SURROUND HEADSET LIMITED E...  ...    2\n",
              "15                                         大量動漫 電視盒選擇  ...    1\n",
              "16                            請問Klipsch T5 黑，4990可買嗎？  ...    5\n",
              "17                  Harman Kardon onyx 5 與JBL Chare 4  ...    0\n",
              "18                                   求有降噪功能的真無線藍芽耳機推薦  ...    5\n",
              "19                           預算1500以下真無線藍牙耳機請推薦(內含選手)  ...   40\n",
              "20               音頻解碼差異聽得出來嗎? 要不要聽聽看 SBC 跟 aptx 的差異呢?  ...   35\n",
              "21   將絕版的Hi-End至尊旗艦Bowers & Wilkins P9 Signature耳罩式耳機  ...   21\n",
              "22                                          原來鐵三角是爛到爆  ...    9\n",
              "23                        Omix VAC-S真空管藍牙喇叭 極簡設計帶來好音質  ...    0\n",
              "24                                      Beats等級的低音...  ...   49\n",
              "25               入手【Klipsch】 S1 True Wireless 真無線藍牙耳機  ...   40\n",
              "26                                求各位大神3k內 可小爆 藍牙喇叭推薦  ...    0\n",
              "27                 (簡單分享文) 2020/5 小米 藍牙耳機 AirDots 超值版  ...    3\n",
              "28                             Bowers&Wilkins PX7 開箱文  ...   31\n",
              "29                        [請益] Sennheiser VS B&W 耳機抉擇  ...   35\n",
              "30                            手機看Youtube的影片能夠 字幕英翻中嗎？  ...    2\n",
              "31                                    MD3090與投影機連線的問題  ...    2\n",
              "\n",
              "[32 rows x 3 columns]"
            ]
          },
          "metadata": {
            "tags": []
          },
          "execution_count": 66
        }
      ]
    },
    {
      "cell_type": "code",
      "metadata": {
        "id": "2tigfX4jmHaz",
        "colab_type": "code",
        "colab": {}
      },
      "source": [
        "comments_df.to_csv('mobile01.csv')"
      ],
      "execution_count": 67,
      "outputs": []
    },
    {
      "cell_type": "code",
      "metadata": {
        "id": "iLaSyIHrmc_J",
        "colab_type": "code",
        "colab": {}
      },
      "source": [
        "comments_df.to_excel('mobile01.xlsx')"
      ],
      "execution_count": 68,
      "outputs": []
    },
    {
      "cell_type": "code",
      "metadata": {
        "id": "t4oCkjLQmv8o",
        "colab_type": "code",
        "colab": {}
      },
      "source": [
        ""
      ],
      "execution_count": null,
      "outputs": []
    }
  ]
}