{
  "nbformat": 4,
  "nbformat_minor": 0,
  "metadata": {
    "colab": {
      "name": "Demo20200708.ipynb",
      "provenance": [],
      "collapsed_sections": []
    },
    "kernelspec": {
      "name": "python3",
      "display_name": "Python 3"
    }
  },
  "cells": [
    {
      "cell_type": "markdown",
      "metadata": {
        "id": "FeKWbw1gPJoF",
        "colab_type": "text"
      },
      "source": [
        "## Python Basic"
      ]
    },
    {
      "cell_type": "code",
      "metadata": {
        "id": "7EXBO3_pOoZV",
        "colab_type": "code",
        "colab": {
          "base_uri": "https://localhost:8080/",
          "height": 35
        },
        "outputId": "5da57dd7-9294-41e5-eb7f-ddb28cd017f1"
      },
      "source": [
        "a = 3 \n",
        "b = 2\n",
        "a + b"
      ],
      "execution_count": 1,
      "outputs": [
        {
          "output_type": "execute_result",
          "data": {
            "text/plain": [
              "5"
            ]
          },
          "metadata": {
            "tags": []
          },
          "execution_count": 1
        }
      ]
    },
    {
      "cell_type": "markdown",
      "metadata": {
        "id": "QAVfVP5lV9HJ",
        "colab_type": "text"
      },
      "source": [
        "## GET"
      ]
    },
    {
      "cell_type": "code",
      "metadata": {
        "id": "rei3G6TIPMGN",
        "colab_type": "code",
        "colab": {
          "base_uri": "https://localhost:8080/",
          "height": 35
        },
        "outputId": "3c490350-66d5-4d4e-f6a1-b4bde17831e6"
      },
      "source": [
        "import requests\n",
        "headers = {\n",
        " 'user-agent': 'Mozilla/5.0 (Macintosh; Intel Mac OS X 10_14_6) AppleWebKit/537.36 (KHTML, like Gecko) Chrome/83.0.4103.116 Safari/537.36'   \n",
        "}\n",
        "res = requests.get('https://www.mobile01.com/topiclist.php?f=180', headers = headers)\n",
        "res"
      ],
      "execution_count": 3,
      "outputs": [
        {
          "output_type": "execute_result",
          "data": {
            "text/plain": [
              "<Response [200]>"
            ]
          },
          "metadata": {
            "tags": []
          },
          "execution_count": 3
        }
      ]
    },
    {
      "cell_type": "code",
      "metadata": {
        "id": "G-GXtMzgWIs_",
        "colab_type": "code",
        "colab": {}
      },
      "source": [
        "#res.text"
      ],
      "execution_count": 5,
      "outputs": []
    },
    {
      "cell_type": "markdown",
      "metadata": {
        "id": "p0eXWOwtYJfs",
        "colab_type": "text"
      },
      "source": [
        "## POST"
      ]
    },
    {
      "cell_type": "code",
      "metadata": {
        "id": "RvUwd40_W38i",
        "colab_type": "code",
        "colab": {}
      },
      "source": [
        "import requests\n",
        "url = 'https://www.thsrc.com.tw/TimeTable/Search'\n",
        "payload = {\n",
        "'SearchType': 'S',\n",
        "'Lang': 'TW',\n",
        "'StartStation': 'TaiPei',\n",
        "'EndStation': 'XinZhu',\n",
        "'OutWardSearchDate': '2020/07/08',\n",
        "'OutWardSearchTime': '20:30',\n",
        "'ReturnSearchDate': '2020/07/08',\n",
        "'ReturnSearchTime': '20:30'   \n",
        "}\n",
        "res = requests.post(url, data = payload)"
      ],
      "execution_count": 6,
      "outputs": []
    },
    {
      "cell_type": "code",
      "metadata": {
        "id": "hSYeRkxxYjDd",
        "colab_type": "code",
        "colab": {}
      },
      "source": [
        "#res.text"
      ],
      "execution_count": 10,
      "outputs": []
    },
    {
      "cell_type": "code",
      "metadata": {
        "id": "mErOHYyrYltc",
        "colab_type": "code",
        "colab": {}
      },
      "source": [
        "#res.json()"
      ],
      "execution_count": 9,
      "outputs": []
    },
    {
      "cell_type": "code",
      "metadata": {
        "id": "mKnb2C5AYp9U",
        "colab_type": "code",
        "colab": {
          "base_uri": "https://localhost:8080/",
          "height": 35
        },
        "outputId": "0c6fbf6d-1cdb-4f8c-d014-803c2a1ef30b"
      },
      "source": [
        "import requests\n",
        "payload = {\n",
        "'SearchType':'S',\n",
        "'Lang': 'TW',\n",
        "'StartStation':'TaiPei',\n",
        "'EndStation':'XinZhu', \n",
        "'OutWardSearchDate':'2020/07/08',\n",
        "'OutWardSearchTime':'20:30',\n",
        "'ReturnSearchDate':'2020/07/08',\n",
        "'ReturnSearchTime':'20:30' \n",
        "} \n",
        "res= requests.post('https://www.thsrc.com.tw/TimeTable/Search',data=payload)\n",
        "print(res) "
      ],
      "execution_count": 22,
      "outputs": [
        {
          "output_type": "stream",
          "text": [
            "<Response [200]>\n"
          ],
          "name": "stdout"
        }
      ]
    },
    {
      "cell_type": "markdown",
      "metadata": {
        "id": "lLXQNo-fcUNY",
        "colab_type": "text"
      },
      "source": [
        "## PCHOME 商品價格"
      ]
    },
    {
      "cell_type": "code",
      "metadata": {
        "id": "omYqq6PYbjfy",
        "colab_type": "code",
        "colab": {
          "base_uri": "https://localhost:8080/",
          "height": 70
        },
        "outputId": "12ff0735-094c-4b33-f6c9-d6eeb269ae50"
      },
      "source": [
        "import requests\n",
        "res = requests.get('https://ecapi.pchome.com.tw/ecshop/prodapi/v2/prod/button&id=DYAQ9Y-A900AEZZI&fields=Seq,Id,Price,Qty,ButtonType,SaleStatus,isPrimeOnly,SpecialQty&_callback=jsonp_button&1594212120?_callback=jsonp_button')\n",
        "res.text"
      ],
      "execution_count": 23,
      "outputs": [
        {
          "output_type": "execute_result",
          "data": {
            "application/vnd.google.colaboratory.intrinsic": {
              "type": "string"
            },
            "text/plain": [
              "'try{jsonp_button([{\"Seq\":24020673,\"Id\":\"DYAQ9Y-A900AEZZI-000\",\"Price\":{\"M\":6690,\"P\":5990,\"Prime\":\"\"},\"Qty\":5,\"ButtonType\":\"ForSale\",\"SaleStatus\":1,\"isPrimeOnly\":0,\"SpecialQty\":0}]);}catch(e){if(window.console){console.log(e);}}'"
            ]
          },
          "metadata": {
            "tags": []
          },
          "execution_count": 23
        }
      ]
    },
    {
      "cell_type": "markdown",
      "metadata": {
        "id": "7sX5eXnWc_ct",
        "colab_type": "text"
      },
      "source": [
        "## BeautifulSoup"
      ]
    },
    {
      "cell_type": "code",
      "metadata": {
        "id": "ZkT-SCt8cYpj",
        "colab_type": "code",
        "colab": {}
      },
      "source": [
        "html_sample = ''' \n",
        "<html> \n",
        " <body> \n",
        " <h1 id=\"title\">Hello World</h1> \n",
        " <a href=\"#\" class=\"link\">This is link1</a> \n",
        " <a href=\"# link2\" class=\"link\">This is link2</a> \n",
        " </body> \n",
        " </html>'''\n"
      ],
      "execution_count": 24,
      "outputs": []
    },
    {
      "cell_type": "code",
      "metadata": {
        "id": "FIEmACNqdBsd",
        "colab_type": "code",
        "colab": {
          "base_uri": "https://localhost:8080/",
          "height": 139
        },
        "outputId": "90d5683e-518c-4d17-95f1-9fa606886da6"
      },
      "source": [
        "from bs4 import BeautifulSoup \n",
        "soup = BeautifulSoup(html_sample, 'lxml')\n",
        "print(soup.text)"
      ],
      "execution_count": 25,
      "outputs": [
        {
          "output_type": "stream",
          "text": [
            "\n",
            "\n",
            "Hello World\n",
            "This is link1\n",
            "This is link2\n",
            "\n",
            "\n"
          ],
          "name": "stdout"
        }
      ]
    },
    {
      "cell_type": "code",
      "metadata": {
        "id": "_Aiu4YBodNiY",
        "colab_type": "code",
        "colab": {
          "base_uri": "https://localhost:8080/",
          "height": 35
        },
        "outputId": "18a12a87-4319-4b27-fa02-3727b009a91f"
      },
      "source": [
        "soup.select_one('h1')"
      ],
      "execution_count": 26,
      "outputs": [
        {
          "output_type": "execute_result",
          "data": {
            "text/plain": [
              "<h1 id=\"title\">Hello World</h1>"
            ]
          },
          "metadata": {
            "tags": []
          },
          "execution_count": 26
        }
      ]
    },
    {
      "cell_type": "code",
      "metadata": {
        "id": "EeXYM95Rde3p",
        "colab_type": "code",
        "colab": {
          "base_uri": "https://localhost:8080/",
          "height": 35
        },
        "outputId": "162da4fa-8651-4e67-ca05-a795038ffacb"
      },
      "source": [
        "soup.select_one('h1').text"
      ],
      "execution_count": 27,
      "outputs": [
        {
          "output_type": "execute_result",
          "data": {
            "application/vnd.google.colaboratory.intrinsic": {
              "type": "string"
            },
            "text/plain": [
              "'Hello World'"
            ]
          },
          "metadata": {
            "tags": []
          },
          "execution_count": 27
        }
      ]
    },
    {
      "cell_type": "code",
      "metadata": {
        "id": "AcckeSP1di9o",
        "colab_type": "code",
        "colab": {
          "base_uri": "https://localhost:8080/",
          "height": 35
        },
        "outputId": "1a13803a-c73a-4c71-84db-b2f389a2baf6"
      },
      "source": [
        "soup.select_one('a')"
      ],
      "execution_count": 28,
      "outputs": [
        {
          "output_type": "execute_result",
          "data": {
            "text/plain": [
              "<a class=\"link\" href=\"#\">This is link1</a>"
            ]
          },
          "metadata": {
            "tags": []
          },
          "execution_count": 28
        }
      ]
    },
    {
      "cell_type": "code",
      "metadata": {
        "id": "hl5mfOX1doWI",
        "colab_type": "code",
        "colab": {
          "base_uri": "https://localhost:8080/",
          "height": 52
        },
        "outputId": "8e46ae62-cd65-4bac-a16d-9b44b708dfd6"
      },
      "source": [
        "soup.select('a')"
      ],
      "execution_count": 29,
      "outputs": [
        {
          "output_type": "execute_result",
          "data": {
            "text/plain": [
              "[<a class=\"link\" href=\"#\">This is link1</a>,\n",
              " <a class=\"link\" href=\"# link2\">This is link2</a>]"
            ]
          },
          "metadata": {
            "tags": []
          },
          "execution_count": 29
        }
      ]
    },
    {
      "cell_type": "code",
      "metadata": {
        "id": "b7WPb6zddutP",
        "colab_type": "code",
        "colab": {
          "base_uri": "https://localhost:8080/",
          "height": 35
        },
        "outputId": "722fd219-16f6-4375-fb97-8797c5f263ee"
      },
      "source": [
        "soup.select('a')[1]"
      ],
      "execution_count": 30,
      "outputs": [
        {
          "output_type": "execute_result",
          "data": {
            "text/plain": [
              "<a class=\"link\" href=\"# link2\">This is link2</a>"
            ]
          },
          "metadata": {
            "tags": []
          },
          "execution_count": 30
        }
      ]
    },
    {
      "cell_type": "code",
      "metadata": {
        "id": "EVDCGQOKeFip",
        "colab_type": "code",
        "colab": {
          "base_uri": "https://localhost:8080/",
          "height": 35
        },
        "outputId": "5c58abdd-5e0b-4239-9f64-a01c47b81ad2"
      },
      "source": [
        "# id => #\n",
        "soup.select_one('#title')"
      ],
      "execution_count": 31,
      "outputs": [
        {
          "output_type": "execute_result",
          "data": {
            "text/plain": [
              "<h1 id=\"title\">Hello World</h1>"
            ]
          },
          "metadata": {
            "tags": []
          },
          "execution_count": 31
        }
      ]
    },
    {
      "cell_type": "code",
      "metadata": {
        "id": "IGw7Pb87eKFi",
        "colab_type": "code",
        "colab": {
          "base_uri": "https://localhost:8080/",
          "height": 52
        },
        "outputId": "216c1c6a-8c85-4d06-d55d-2c1d383325c3"
      },
      "source": [
        "# class => .\n",
        "soup.select('.link')"
      ],
      "execution_count": 32,
      "outputs": [
        {
          "output_type": "execute_result",
          "data": {
            "text/plain": [
              "[<a class=\"link\" href=\"#\">This is link1</a>,\n",
              " <a class=\"link\" href=\"# link2\">This is link2</a>]"
            ]
          },
          "metadata": {
            "tags": []
          },
          "execution_count": 32
        }
      ]
    },
    {
      "cell_type": "code",
      "metadata": {
        "id": "DbmBbyefeOc6",
        "colab_type": "code",
        "colab": {
          "base_uri": "https://localhost:8080/",
          "height": 35
        },
        "outputId": "be4de53a-cfba-401c-801a-64239418aab9"
      },
      "source": [
        "soup.select_one('h1#title')"
      ],
      "execution_count": 34,
      "outputs": [
        {
          "output_type": "execute_result",
          "data": {
            "text/plain": [
              "<h1 id=\"title\">Hello World</h1>"
            ]
          },
          "metadata": {
            "tags": []
          },
          "execution_count": 34
        }
      ]
    },
    {
      "cell_type": "code",
      "metadata": {
        "id": "czehzd3DeZZv",
        "colab_type": "code",
        "colab": {
          "base_uri": "https://localhost:8080/",
          "height": 52
        },
        "outputId": "cb24db58-51e0-4b6a-cf6d-562ade190865"
      },
      "source": [
        "soup.select('a.link')"
      ],
      "execution_count": 35,
      "outputs": [
        {
          "output_type": "execute_result",
          "data": {
            "text/plain": [
              "[<a class=\"link\" href=\"#\">This is link1</a>,\n",
              " <a class=\"link\" href=\"# link2\">This is link2</a>]"
            ]
          },
          "metadata": {
            "tags": []
          },
          "execution_count": 35
        }
      ]
    },
    {
      "cell_type": "code",
      "metadata": {
        "id": "qKBw5UH_ecbY",
        "colab_type": "code",
        "colab": {
          "base_uri": "https://localhost:8080/",
          "height": 52
        },
        "outputId": "b26716df-ea36-421e-cfdb-9e1d1bc609f1"
      },
      "source": [
        "for link in soup.select('a'):\n",
        "  #print(link)\n",
        "  #print(link.text)\n",
        "  print(link.get('href'))"
      ],
      "execution_count": 40,
      "outputs": [
        {
          "output_type": "stream",
          "text": [
            "#\n",
            "# link2\n"
          ],
          "name": "stdout"
        }
      ]
    },
    {
      "cell_type": "code",
      "metadata": {
        "id": "3GuaHOWWepMp",
        "colab_type": "code",
        "colab": {}
      },
      "source": [
        "from bs4 import BeautifulSoup \n",
        "ec = ''' \n",
        "<html> \n",
        " <body> \n",
        " <h1 id=\"title\">Jabra Elite 75t 真無線藍牙耳機</h1> \n",
        " <img src=\"https://c.ecimg.tw/items/DYAQ9YA900AEZZI/000001_1593397583.jpg\" width=\"200px\"></img>\n",
        " <div>\n",
        "     <p>四麥克風技術/藍牙5.0/IP55防塵防水\n",
        "電池續航7.5小時,搭配充電盒可達28小時\n",
        "一鍵語音助理,快速開啟Siri/Alexa**/Google Assistant\n",
        "按鍵式操控輕鬆不費力，不會導致耳朵有壓迫感\n",
        "使用Jabra Sound+ 設定個人化音質體驗\n",
        "超強環境音功能，極度接近真實環境周遭聲音\n",
        "體積更小，單耳僅不到6克，服貼各種耳型，配戴超舒適</p>\n",
        " </div> \n",
        " <meta itemprop=\"priceCurrency\" content=\"TWD\">網路價<span class=\"price\" >$<span class=\"value\" id=\"PriceTotal\" itemprop=\"price\" \">5990</span></span>\n",
        " </body> \n",
        " </html>'''\n",
        "\n",
        "soup = BeautifulSoup(html_sample, 'lxml')\n",
        "soup.select_one('')"
      ],
      "execution_count": null,
      "outputs": []
    }
  ]
}