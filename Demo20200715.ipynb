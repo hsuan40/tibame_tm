{
  "nbformat": 4,
  "nbformat_minor": 0,
  "metadata": {
    "colab": {
      "name": "Demo20200715.ipynb",
      "provenance": [],
      "collapsed_sections": []
    },
    "kernelspec": {
      "name": "python3",
      "display_name": "Python 3"
    }
  },
  "cells": [
    {
      "cell_type": "markdown",
      "metadata": {
        "id": "je45k1dzUgV3",
        "colab_type": "text"
      },
      "source": [
        "## Homework1"
      ]
    },
    {
      "cell_type": "code",
      "metadata": {
        "id": "DYe8vUpRNroR",
        "colab_type": "code",
        "colab": {}
      },
      "source": [
        "import requests\n",
        "res = requests.get('https://www.ptt.cc/bbs/creditcard/index.html')"
      ],
      "execution_count": 2,
      "outputs": []
    },
    {
      "cell_type": "code",
      "metadata": {
        "id": "YQRD18ncQqgu",
        "colab_type": "code",
        "colab": {
          "base_uri": "https://localhost:8080/",
          "height": 35
        },
        "outputId": "8b38c339-f618-45f8-fbc7-cabf07066dde"
      },
      "source": [
        "res"
      ],
      "execution_count": 3,
      "outputs": [
        {
          "output_type": "execute_result",
          "data": {
            "text/plain": [
              "<Response [200]>"
            ]
          },
          "metadata": {
            "tags": []
          },
          "execution_count": 3
        }
      ]
    },
    {
      "cell_type": "code",
      "metadata": {
        "id": "ECGDm1j3QrYB",
        "colab_type": "code",
        "colab": {}
      },
      "source": [
        "from bs4 import BeautifulSoup\n",
        "soup = BeautifulSoup(res.text, 'lxml')"
      ],
      "execution_count": 5,
      "outputs": []
    },
    {
      "cell_type": "code",
      "metadata": {
        "id": "XjqGF1SZQvvN",
        "colab_type": "code",
        "colab": {}
      },
      "source": [
        "domain = 'https://www.ptt.cc'\n",
        "articles = []\n",
        "\n",
        "for rec in soup.select('.r-ent'):\n",
        "  #print(rec)\n",
        "  if rec.select_one('.title a'):\n",
        "    title = rec.select_one('.title').text\n",
        "    author = rec.select_one('.author').text\n",
        "    date = rec.select_one('.date').text\n",
        "    link = domain + rec.select_one('.title a').get('href')\n",
        "    articles.append({'title':title, 'author':author, 'date':date, 'link':link})"
      ],
      "execution_count": 15,
      "outputs": []
    },
    {
      "cell_type": "code",
      "metadata": {
        "id": "D0Y9lpzTRjL-",
        "colab_type": "code",
        "colab": {
          "base_uri": "https://localhost:8080/",
          "height": 87
        },
        "outputId": "742c97c6-1bad-492a-b3a1-e5b2ceadcd6d"
      },
      "source": [
        "articles[0]"
      ],
      "execution_count": 16,
      "outputs": [
        {
          "output_type": "execute_result",
          "data": {
            "text/plain": [
              "{'author': 'usedata',\n",
              " 'date': ' 7/15',\n",
              " 'link': 'https://www.ptt.cc/bbs/creditcard/M.1594798800.A.812.html',\n",
              " 'title': '\\n[情報] 華南卡友你最行 2020食在精彩APP刮刮樂\\n'}"
            ]
          },
          "metadata": {
            "tags": []
          },
          "execution_count": 16
        }
      ]
    },
    {
      "cell_type": "code",
      "metadata": {
        "id": "9t-fDDl8TOMj",
        "colab_type": "code",
        "colab": {}
      },
      "source": [
        "import pandas\n",
        "df = pandas.DataFrame(articles)"
      ],
      "execution_count": 17,
      "outputs": []
    },
    {
      "cell_type": "code",
      "metadata": {
        "id": "etsMLRh9TaKP",
        "colab_type": "code",
        "colab": {
          "base_uri": "https://localhost:8080/",
          "height": 254
        },
        "outputId": "d225e239-f332-484a-c981-0ddc7d5dc452"
      },
      "source": [
        "df.head()"
      ],
      "execution_count": 18,
      "outputs": [
        {
          "output_type": "execute_result",
          "data": {
            "text/html": [
              "<div>\n",
              "<style scoped>\n",
              "    .dataframe tbody tr th:only-of-type {\n",
              "        vertical-align: middle;\n",
              "    }\n",
              "\n",
              "    .dataframe tbody tr th {\n",
              "        vertical-align: top;\n",
              "    }\n",
              "\n",
              "    .dataframe thead th {\n",
              "        text-align: right;\n",
              "    }\n",
              "</style>\n",
              "<table border=\"1\" class=\"dataframe\">\n",
              "  <thead>\n",
              "    <tr style=\"text-align: right;\">\n",
              "      <th></th>\n",
              "      <th>title</th>\n",
              "      <th>author</th>\n",
              "      <th>date</th>\n",
              "      <th>link</th>\n",
              "    </tr>\n",
              "  </thead>\n",
              "  <tbody>\n",
              "    <tr>\n",
              "      <th>0</th>\n",
              "      <td>\\n[情報] 華南卡友你最行 2020食在精彩APP刮刮樂\\n</td>\n",
              "      <td>usedata</td>\n",
              "      <td>7/15</td>\n",
              "      <td>https://www.ptt.cc/bbs/creditcard/M.1594798800...</td>\n",
              "    </tr>\n",
              "    <tr>\n",
              "      <th>1</th>\n",
              "      <td>\\n[問題] 國泰世華 7-11振興加碼活動\\n</td>\n",
              "      <td>lianpig5566</td>\n",
              "      <td>7/15</td>\n",
              "      <td>https://www.ptt.cc/bbs/creditcard/M.1594800701...</td>\n",
              "    </tr>\n",
              "    <tr>\n",
              "      <th>2</th>\n",
              "      <td>\\n富邦J卡綁振興券\\n</td>\n",
              "      <td>vic5710789</td>\n",
              "      <td>7/15</td>\n",
              "      <td>https://www.ptt.cc/bbs/creditcard/M.1594800899...</td>\n",
              "    </tr>\n",
              "    <tr>\n",
              "      <th>3</th>\n",
              "      <td>\\n[心得] 凱基現金回饋 新光寰宇現金回饋卡 核卡\\n</td>\n",
              "      <td>stg20000</td>\n",
              "      <td>7/15</td>\n",
              "      <td>https://www.ptt.cc/bbs/creditcard/M.1594803198...</td>\n",
              "    </tr>\n",
              "    <tr>\n",
              "      <th>4</th>\n",
              "      <td>\\nRe: [問題] 中國醫藥大學附設醫院(台中)_信用卡回饋?\\n</td>\n",
              "      <td>a719417</td>\n",
              "      <td>7/15</td>\n",
              "      <td>https://www.ptt.cc/bbs/creditcard/M.1594810933...</td>\n",
              "    </tr>\n",
              "  </tbody>\n",
              "</table>\n",
              "</div>"
            ],
            "text/plain": [
              "                                title  ...                                               link\n",
              "0     \\n[情報] 華南卡友你最行 2020食在精彩APP刮刮樂\\n  ...  https://www.ptt.cc/bbs/creditcard/M.1594798800...\n",
              "1            \\n[問題] 國泰世華 7-11振興加碼活動\\n  ...  https://www.ptt.cc/bbs/creditcard/M.1594800701...\n",
              "2                        \\n富邦J卡綁振興券\\n  ...  https://www.ptt.cc/bbs/creditcard/M.1594800899...\n",
              "3        \\n[心得] 凱基現金回饋 新光寰宇現金回饋卡 核卡\\n  ...  https://www.ptt.cc/bbs/creditcard/M.1594803198...\n",
              "4  \\nRe: [問題] 中國醫藥大學附設醫院(台中)_信用卡回饋?\\n  ...  https://www.ptt.cc/bbs/creditcard/M.1594810933...\n",
              "\n",
              "[5 rows x 4 columns]"
            ]
          },
          "metadata": {
            "tags": []
          },
          "execution_count": 18
        }
      ]
    },
    {
      "cell_type": "code",
      "metadata": {
        "id": "NGUvrjGuTc46",
        "colab_type": "code",
        "colab": {}
      },
      "source": [
        "df.to_csv('ptt_creditcard.csv', encoding = 'utf-8-sig')"
      ],
      "execution_count": 23,
      "outputs": []
    },
    {
      "cell_type": "markdown",
      "metadata": {
        "id": "c31Zugf9WJAt",
        "colab_type": "text"
      },
      "source": [
        "## 英文斷詞"
      ]
    },
    {
      "cell_type": "code",
      "metadata": {
        "id": "ofA_TAdpTkAB",
        "colab_type": "code",
        "colab": {
          "base_uri": "https://localhost:8080/",
          "height": 35
        },
        "outputId": "46f3c787-977a-4af7-9356-c794b83621ac"
      },
      "source": [
        "s = 'this is a book'\n",
        "s.split()"
      ],
      "execution_count": 24,
      "outputs": [
        {
          "output_type": "execute_result",
          "data": {
            "text/plain": [
              "['this', 'is', 'a', 'book']"
            ]
          },
          "metadata": {
            "tags": []
          },
          "execution_count": 24
        }
      ]
    },
    {
      "cell_type": "markdown",
      "metadata": {
        "id": "DRRoc057XgOv",
        "colab_type": "text"
      },
      "source": [
        "## 中文斷詞"
      ]
    },
    {
      "cell_type": "code",
      "metadata": {
        "id": "nWA2kVslWTKh",
        "colab_type": "code",
        "colab": {
          "base_uri": "https://localhost:8080/",
          "height": 35
        },
        "outputId": "6d4aa2ac-993c-473a-edc5-fcbd853ec4c8"
      },
      "source": [
        "import jieba\n",
        "s = '那酸民婉君也可以報名嗎?'\n",
        "jieba.cut(s)"
      ],
      "execution_count": 25,
      "outputs": [
        {
          "output_type": "execute_result",
          "data": {
            "text/plain": [
              "<generator object Tokenizer.cut at 0x7fe44b3cfeb8>"
            ]
          },
          "metadata": {
            "tags": []
          },
          "execution_count": 25
        }
      ]
    },
    {
      "cell_type": "code",
      "metadata": {
        "id": "WwrFuA6XXrrp",
        "colab_type": "code",
        "colab": {
          "base_uri": "https://localhost:8080/",
          "height": 191
        },
        "outputId": "5c02bb8c-77cd-4f22-ad89-fee19de648f9"
      },
      "source": [
        "for w in jieba.cut(s):\n",
        "  print(w)"
      ],
      "execution_count": 26,
      "outputs": [
        {
          "output_type": "stream",
          "text": [
            "Building prefix dict from the default dictionary ...\n",
            "Dumping model to file cache /tmp/jieba.cache\n",
            "Loading model cost 0.979 seconds.\n",
            "Prefix dict has been built successfully.\n"
          ],
          "name": "stderr"
        },
        {
          "output_type": "stream",
          "text": [
            "那酸民婉君\n",
            "也\n",
            "可以\n",
            "報名\n",
            "嗎\n",
            "?\n"
          ],
          "name": "stdout"
        }
      ]
    },
    {
      "cell_type": "code",
      "metadata": {
        "id": "8RypH-hdYL1k",
        "colab_type": "code",
        "colab": {}
      },
      "source": [
        "s = '''中央流行疫情指揮中心今天下午2時舉行例行記者會。指揮官陳時中宣布，7月16日起，兩歲以下持我國居留證的陸籍子女可以申請入境，也就是2018年7月7日(含)以後出生後的子女，父母可以陪同。符合該政策的人數約100多人，陪同者並未規定必須是孩童的父母。'''"
      ],
      "execution_count": 27,
      "outputs": []
    },
    {
      "cell_type": "code",
      "metadata": {
        "id": "-P6zzDWlYjkV",
        "colab_type": "code",
        "colab": {
          "base_uri": "https://localhost:8080/",
          "height": 173
        },
        "outputId": "ff88a0b4-f912-4d10-b26f-e1d8da999efd"
      },
      "source": [
        "import re\n",
        "re.split('[，。]',s)"
      ],
      "execution_count": 28,
      "outputs": [
        {
          "output_type": "execute_result",
          "data": {
            "text/plain": [
              "['中央流行疫情指揮中心今天下午2時舉行例行記者會',\n",
              " '指揮官陳時中宣布',\n",
              " '7月16日起',\n",
              " '兩歲以下持我國居留證的陸籍子女可以申請入境',\n",
              " '也就是2018年7月7日(含)以後出生後的子女',\n",
              " '父母可以陪同',\n",
              " '符合該政策的人數約100多人',\n",
              " '陪同者並未規定必須是孩童的父母',\n",
              " '']"
            ]
          },
          "metadata": {
            "tags": []
          },
          "execution_count": 28
        }
      ]
    },
    {
      "cell_type": "code",
      "metadata": {
        "id": "-87-H067Ytr9",
        "colab_type": "code",
        "colab": {
          "base_uri": "https://localhost:8080/",
          "height": 35
        },
        "outputId": "8e2b1948-cfb4-4f18-bdbf-1bb27b8f3bc2"
      },
      "source": [
        "jieba.get_dict_file()"
      ],
      "execution_count": 29,
      "outputs": [
        {
          "output_type": "execute_result",
          "data": {
            "text/plain": [
              "<_io.BufferedReader name='/usr/local/lib/python3.6/dist-packages/jieba/dict.txt'>"
            ]
          },
          "metadata": {
            "tags": []
          },
          "execution_count": 29
        }
      ]
    },
    {
      "cell_type": "code",
      "metadata": {
        "id": "sAFDfN0nZMz3",
        "colab_type": "code",
        "colab": {
          "base_uri": "https://localhost:8080/",
          "height": 191
        },
        "outputId": "e32951c7-46bf-47d0-aeee-59891326517f"
      },
      "source": [
        "! head /usr/local/lib/python3.6/dist-packages/jieba/dict.txt"
      ],
      "execution_count": 30,
      "outputs": [
        {
          "output_type": "stream",
          "text": [
            "AT&T 3 nz\n",
            "B超 3 n\n",
            "c# 3 nz\n",
            "C# 3 nz\n",
            "c++ 3 nz\n",
            "C++ 3 nz\n",
            "T恤 4 n\n",
            "A座 3 n\n",
            "A股 3 n\n",
            "A型 3 n\n"
          ],
          "name": "stdout"
        }
      ]
    },
    {
      "cell_type": "markdown",
      "metadata": {
        "id": "8_5jLYQafbBx",
        "colab_type": "text"
      },
      "source": [
        "## Jieba 斷詞實戰"
      ]
    },
    {
      "cell_type": "code",
      "metadata": {
        "id": "w_FNk2I9f2Ds",
        "colab_type": "code",
        "colab": {
          "base_uri": "https://localhost:8080/",
          "height": 35
        },
        "outputId": "418e9f9c-609e-4cac-f167-e8da9c5d65df"
      },
      "source": [
        "import jieba\n",
        "seg_list = jieba.cut(\"大巨蛋案對市府同仁下封口令？　柯P否認\")\n",
        "print(\"Default Mode:\", \"/ \".join(seg_list))"
      ],
      "execution_count": 31,
      "outputs": [
        {
          "output_type": "stream",
          "text": [
            "Default Mode: 大/ 巨蛋/ 案對/ 市府/ 同仁/ 下/ 封口令/ ？/ 　/ 柯/ P/ 否認\n"
          ],
          "name": "stdout"
        }
      ]
    },
    {
      "cell_type": "code",
      "metadata": {
        "id": "B1lIB3WWZPwx",
        "colab_type": "code",
        "colab": {
          "base_uri": "https://localhost:8080/",
          "height": 35
        },
        "outputId": "5cd3a71f-e328-475e-aa65-35cb66f62d7f"
      },
      "source": [
        "import jieba\n",
        "seg_list = jieba.cut(\"大巨蛋案對市府同仁下封口令？　柯P否認\", cut_all=True)\n",
        "print(\"Full Mode:\", \"/ \".join(seg_list))"
      ],
      "execution_count": 32,
      "outputs": [
        {
          "output_type": "stream",
          "text": [
            "Full Mode: 大/ 巨蛋/ 案/ 對/ 市府/ 同仁/ 下/ 封口/ 封口令/ 口令/ ？/ 　/ / 柯/ P/ 否/ 認\n"
          ],
          "name": "stdout"
        }
      ]
    },
    {
      "cell_type": "code",
      "metadata": {
        "id": "2jaune7Vf_Qy",
        "colab_type": "code",
        "colab": {
          "base_uri": "https://localhost:8080/",
          "height": 52
        },
        "outputId": "d7e2d83b-f655-46f4-9a26-8df46cf62b76"
      },
      "source": [
        "! cat userdict.txt"
      ],
      "execution_count": 33,
      "outputs": [
        {
          "output_type": "stream",
          "text": [
            "大巨蛋\n",
            "柯p"
          ],
          "name": "stdout"
        }
      ]
    },
    {
      "cell_type": "code",
      "metadata": {
        "id": "Y5Y4DGS9gnvV",
        "colab_type": "code",
        "colab": {}
      },
      "source": [
        "jieba.load_userdict('userdict.txt')"
      ],
      "execution_count": 36,
      "outputs": []
    },
    {
      "cell_type": "code",
      "metadata": {
        "id": "TII0kKjcgsar",
        "colab_type": "code",
        "colab": {
          "base_uri": "https://localhost:8080/",
          "height": 35
        },
        "outputId": "140290d3-ae03-4492-fd02-b508552e33c6"
      },
      "source": [
        "import jieba\n",
        "seg_list = jieba.cut(\"大巨蛋案對市府同仁下封口令？　柯P否認\")\n",
        "print(\"/ \".join(seg_list))"
      ],
      "execution_count": 37,
      "outputs": [
        {
          "output_type": "stream",
          "text": [
            "大巨蛋/ 案對/ 市府/ 同仁/ 下/ 封口令/ ？/ 　/ 柯P/ 否認\n"
          ],
          "name": "stdout"
        }
      ]
    },
    {
      "cell_type": "code",
      "metadata": {
        "id": "5GGjIWvQgvEh",
        "colab_type": "code",
        "colab": {
          "base_uri": "https://localhost:8080/",
          "height": 35
        },
        "outputId": "4d40b7b5-7c02-48ff-975a-ea8433803cad"
      },
      "source": [
        "jieba.get_dict_file().name"
      ],
      "execution_count": 38,
      "outputs": [
        {
          "output_type": "execute_result",
          "data": {
            "application/vnd.google.colaboratory.intrinsic": {
              "type": "string"
            },
            "text/plain": [
              "'/usr/local/lib/python3.6/dist-packages/jieba/dict.txt'"
            ]
          },
          "metadata": {
            "tags": []
          },
          "execution_count": 38
        }
      ]
    },
    {
      "cell_type": "code",
      "metadata": {
        "id": "uNh0WZ0lhEg6",
        "colab_type": "code",
        "colab": {
          "base_uri": "https://localhost:8080/",
          "height": 104
        },
        "outputId": "79856f24-6052-427b-faa5-a944f16e434c"
      },
      "source": [
        "! git clone https://github.com/ldkrsi/jieba-zh_TW.git"
      ],
      "execution_count": 39,
      "outputs": [
        {
          "output_type": "stream",
          "text": [
            "Cloning into 'jieba-zh_TW'...\n",
            "remote: Enumerating objects: 2320, done.\u001b[K\n",
            "remote: Total 2320 (delta 0), reused 0 (delta 0), pack-reused 2320\u001b[K\n",
            "Receiving objects: 100% (2320/2320), 44.97 MiB | 21.96 MiB/s, done.\n",
            "Resolving deltas: 100% (1311/1311), done.\n"
          ],
          "name": "stdout"
        }
      ]
    },
    {
      "cell_type": "code",
      "metadata": {
        "id": "pimWfb_4hd1W",
        "colab_type": "code",
        "colab": {
          "base_uri": "https://localhost:8080/",
          "height": 35
        },
        "outputId": "826e24f7-2ace-4321-b879-9d7000ce5cc6"
      },
      "source": [
        "! ls jieba-zh_TW/"
      ],
      "execution_count": 41,
      "outputs": [
        {
          "output_type": "stream",
          "text": [
            "Changelog  jieba  LICENSE  MANIFEST.in\tREADME.md\n"
          ],
          "name": "stdout"
        }
      ]
    },
    {
      "cell_type": "code",
      "metadata": {
        "id": "5FWtVfDlhgiV",
        "colab_type": "code",
        "colab": {
          "base_uri": "https://localhost:8080/",
          "height": 35
        },
        "outputId": "e6f900df-2a57-4d09-fd8c-b4b6a6c48356"
      },
      "source": [
        "! mv jieba-zh_TW/jieba/* /usr/local/lib/python3.6/dist-packages/jieba/"
      ],
      "execution_count": 46,
      "outputs": [
        {
          "output_type": "stream",
          "text": [
            "mv: cannot stat 'jieba-zh_TW/jieba/*': No such file or directory\n"
          ],
          "name": "stdout"
        }
      ]
    },
    {
      "cell_type": "code",
      "metadata": {
        "id": "mmMYmf9IhtSs",
        "colab_type": "code",
        "colab": {
          "base_uri": "https://localhost:8080/",
          "height": 35
        },
        "outputId": "b62f0cf1-ae18-4ec1-8157-21ff840eebbb"
      },
      "source": [
        "import jieba\n",
        "seg_list = jieba.cut(\"大巨蛋案對市府同仁下封口令？　柯P否認\")\n",
        "print(\"/ \".join(seg_list))"
      ],
      "execution_count": 47,
      "outputs": [
        {
          "output_type": "stream",
          "text": [
            "大巨蛋/ 案對/ 市府/ 同仁/ 下/ 封口令/ ？/ 　/ 柯P/ 否認\n"
          ],
          "name": "stdout"
        }
      ]
    },
    {
      "cell_type": "code",
      "metadata": {
        "id": "ijb4yGXOhvOS",
        "colab_type": "code",
        "colab": {
          "base_uri": "https://localhost:8080/",
          "height": 208
        },
        "outputId": "d901ba73-db05-4428-8c1b-9eb85ec13c76"
      },
      "source": [
        "import jieba.posseg as pseg\n",
        "jieba.load_userdict('userdict.txt')\n",
        "words = pseg.cut(\"大巨蛋案對市府同仁下封口令？　柯P否認\")\n",
        "for w in words:\n",
        "    print(w.word, w.flag)\n"
      ],
      "execution_count": 49,
      "outputs": [
        {
          "output_type": "stream",
          "text": [
            "大巨蛋 n\n",
            "案 ng\n",
            "對 p\n",
            "市府 n\n",
            "同仁 nr\n",
            "下 f\n",
            "封口令 n\n",
            "？ x\n",
            "　 x\n",
            "柯P n\n",
            "否認 v\n"
          ],
          "name": "stdout"
        }
      ]
    },
    {
      "cell_type": "code",
      "metadata": {
        "id": "QUlmK9L5iHce",
        "colab_type": "code",
        "colab": {}
      },
      "source": [
        "import requests\n",
        "from bs4 import BeautifulSoup\n",
        "res = requests.get('https://ec.ltn.com.tw/article/breakingnews/3229690')\n",
        "soup = BeautifulSoup(res.text, 'lxml')"
      ],
      "execution_count": 50,
      "outputs": []
    },
    {
      "cell_type": "code",
      "metadata": {
        "id": "axKVLy3klNb-",
        "colab_type": "code",
        "colab": {}
      },
      "source": [
        "keywords = soup.select_one('meta[name=\"keywords\"]').get('content')"
      ],
      "execution_count": 53,
      "outputs": []
    },
    {
      "cell_type": "code",
      "metadata": {
        "id": "DLfdVBjslUUB",
        "colab_type": "code",
        "colab": {}
      },
      "source": [
        "with open('userdict.txt', 'a') as f:\n",
        "  f.write('\\n')\n",
        "  for w in keywords.split(','):\n",
        "    f.write(w + '\\n')"
      ],
      "execution_count": 55,
      "outputs": []
    },
    {
      "cell_type": "code",
      "metadata": {
        "id": "oqsYF0V_lapU",
        "colab_type": "code",
        "colab": {
          "base_uri": "https://localhost:8080/",
          "height": 156
        },
        "outputId": "36a93262-865e-445b-a39f-e826bed893c7"
      },
      "source": [
        "! cat userdict.txt"
      ],
      "execution_count": 56,
      "outputs": [
        {
          "output_type": "stream",
          "text": [
            "大巨蛋 100 n\n",
            "柯p 100 n\n",
            "柯P 100 n\n",
            "人口\n",
            "全球人口\n",
            "生育率\n",
            "中國\n",
            "美國\n"
          ],
          "name": "stdout"
        }
      ]
    },
    {
      "cell_type": "markdown",
      "metadata": {
        "id": "sCkCb7x9mykO",
        "colab_type": "text"
      },
      "source": [
        "## Ckiptagger"
      ]
    },
    {
      "cell_type": "code",
      "metadata": {
        "id": "31GPS3Q6lpUQ",
        "colab_type": "code",
        "colab": {
          "base_uri": "https://localhost:8080/",
          "height": 107
        },
        "outputId": "cd904298-3ca3-4a95-8616-b21ab0e278b4"
      },
      "source": [
        "! pip install -U ckiptagger"
      ],
      "execution_count": 57,
      "outputs": [
        {
          "output_type": "stream",
          "text": [
            "Collecting ckiptagger\n",
            "  Downloading https://files.pythonhosted.org/packages/5d/24/9ee7289b423345bc1705453437d9b0d9e93a015fbc00885c6033c2f50fab/ckiptagger-0.1.1-py3-none-any.whl\n",
            "Installing collected packages: ckiptagger\n",
            "Successfully installed ckiptagger-0.1.1\n"
          ],
          "name": "stdout"
        }
      ]
    },
    {
      "cell_type": "code",
      "metadata": {
        "id": "yFxRNkFQnkzg",
        "colab_type": "code",
        "colab": {
          "base_uri": "https://localhost:8080/",
          "height": 87
        },
        "outputId": "143353b9-aca8-4758-b9f8-6881e0b75397"
      },
      "source": [
        "from ckiptagger import data_utils\n",
        "data_utils.download_data_gdown(\"./\")"
      ],
      "execution_count": 59,
      "outputs": [
        {
          "output_type": "stream",
          "text": [
            "Downloading...\n",
            "From: https://drive.google.com/uc?id=1efHsY16pxK0lBD2gYCgCTnv1Swstq771\n",
            "To: /content/data.zip\n",
            "1.88GB [00:16, 115MB/s] \n"
          ],
          "name": "stderr"
        }
      ]
    },
    {
      "cell_type": "code",
      "metadata": {
        "id": "-heppsIOod-1",
        "colab_type": "code",
        "colab": {
          "base_uri": "https://localhost:8080/",
          "height": 35
        },
        "outputId": "fca60d4a-30bd-445f-bbd1-59cae5d72835"
      },
      "source": [
        "% tensorflow_version 1.x"
      ],
      "execution_count": 1,
      "outputs": [
        {
          "output_type": "stream",
          "text": [
            "TensorFlow 1.x selected.\n"
          ],
          "name": "stdout"
        }
      ]
    },
    {
      "cell_type": "code",
      "metadata": {
        "id": "Ro3B2KlMm2DE",
        "colab_type": "code",
        "colab": {}
      },
      "source": [
        "from ckiptagger import data_utils, construct_dictionary, WS, POS, NER\n",
        "ws = WS(\"./data\")\n",
        "pos = POS(\"./data\")\n",
        "ner = NER(\"./data\")\n",
        "sentence_list = [\n",
        "\"\"\"已開發國家的生育率正明顯下降，而據國際醫學期刊「刺胳針」（The Lancet）報告，預計全球人口在2064年達到97億人的高峰後，將在2100年回落至88億人，刺胳針報告更估計，隨著高齡人口增加、工作年齡人口減少，經濟也將發生巨大變化，預計中國在2035年取代美國，成為全世界GDP最高的國家\"\"\"\n",
        "]\n",
        "\n",
        "word_sentence_list = ws(\n",
        " sentence_list,\n",
        ")\n",
        "pos_sentence_list = pos(word_sentence_list)\n",
        "entity_sentence_list = ner(word_sentence_list, pos_sentence_list)\n",
        "\n"
      ],
      "execution_count": 2,
      "outputs": []
    },
    {
      "cell_type": "code",
      "metadata": {
        "id": "78RFtTutoNRq",
        "colab_type": "code",
        "colab": {
          "base_uri": "https://localhost:8080/",
          "height": 1000
        },
        "outputId": "3b64f9b5-97f5-4638-f22a-6c2577c412bd"
      },
      "source": [
        "word_sentence_list"
      ],
      "execution_count": 3,
      "outputs": [
        {
          "output_type": "execute_result",
          "data": {
            "text/plain": [
              "[['已',\n",
              "  '開發',\n",
              "  '國家',\n",
              "  '的',\n",
              "  '生育率',\n",
              "  '正',\n",
              "  '明顯',\n",
              "  '下降',\n",
              "  '，',\n",
              "  '而',\n",
              "  '據',\n",
              "  '國際',\n",
              "  '醫學',\n",
              "  '期刊',\n",
              "  '「',\n",
              "  '刺胳針',\n",
              "  '」',\n",
              "  '（',\n",
              "  'The Lancet',\n",
              "  '）',\n",
              "  '報告',\n",
              "  '，',\n",
              "  '預計',\n",
              "  '全球',\n",
              "  '人口',\n",
              "  '在',\n",
              "  '2064年',\n",
              "  '達到',\n",
              "  '97億',\n",
              "  '人',\n",
              "  '的',\n",
              "  '高峰',\n",
              "  '後',\n",
              "  '，',\n",
              "  '將',\n",
              "  '在',\n",
              "  '2100年',\n",
              "  '回落',\n",
              "  '至',\n",
              "  '88億',\n",
              "  '人',\n",
              "  '，',\n",
              "  '刺胳針',\n",
              "  '報告',\n",
              "  '更',\n",
              "  '估計',\n",
              "  '，',\n",
              "  '隨著',\n",
              "  '高齡',\n",
              "  '人口',\n",
              "  '增加',\n",
              "  '、',\n",
              "  '工作',\n",
              "  '年齡',\n",
              "  '人口',\n",
              "  '減少',\n",
              "  '，',\n",
              "  '經濟',\n",
              "  '也',\n",
              "  '將',\n",
              "  '發生',\n",
              "  '巨大',\n",
              "  '變化',\n",
              "  '，',\n",
              "  '預計',\n",
              "  '中國',\n",
              "  '在',\n",
              "  '2035年',\n",
              "  '取代',\n",
              "  '美國',\n",
              "  '，',\n",
              "  '成為',\n",
              "  '全',\n",
              "  '世界',\n",
              "  'GDP',\n",
              "  '最',\n",
              "  '高',\n",
              "  '的',\n",
              "  '國家']]"
            ]
          },
          "metadata": {
            "tags": []
          },
          "execution_count": 3
        }
      ]
    },
    {
      "cell_type": "code",
      "metadata": {
        "id": "r3WNIgkXo7xy",
        "colab_type": "code",
        "colab": {
          "base_uri": "https://localhost:8080/",
          "height": 139
        },
        "outputId": "fc2a70ff-b92c-4d06-e9f9-27a3c7e46693"
      },
      "source": [
        "entity_sentence_list"
      ],
      "execution_count": 4,
      "outputs": [
        {
          "output_type": "execute_result",
          "data": {
            "text/plain": [
              "[{(50, 55, 'DATE', '2064年'),\n",
              "  (57, 60, 'CARDINAL', '97億'),\n",
              "  (68, 73, 'DATE', '2100年'),\n",
              "  (76, 79, 'CARDINAL', '88億'),\n",
              "  (121, 123, 'GPE', '中國'),\n",
              "  (124, 129, 'DATE', '2035年'),\n",
              "  (131, 133, 'GPE', '美國')}]"
            ]
          },
          "metadata": {
            "tags": []
          },
          "execution_count": 4
        }
      ]
    },
    {
      "cell_type": "markdown",
      "metadata": {
        "id": "7kfvIFogpPSe",
        "colab_type": "text"
      },
      "source": [
        "## NLTK"
      ]
    },
    {
      "cell_type": "code",
      "metadata": {
        "id": "Ct2Y_cBipBfQ",
        "colab_type": "code",
        "colab": {
          "base_uri": "https://localhost:8080/",
          "height": 52
        },
        "outputId": "4ac26e32-cd29-4de9-deda-1a665507357f"
      },
      "source": [
        "import nltk\n",
        "nltk.download('punkt')\n",
        "text = \"\"\"On the day when the government's top infectious disease specialist Anthony Fauci said he would not be surprised to see the US record 100,000 new coronavirus cases per day, Trump refused to break his deafening silence.\"\"\"\n",
        "\n",
        "sentences = nltk.sent_tokenize(text)\n",
        "\n"
      ],
      "execution_count": 5,
      "outputs": [
        {
          "output_type": "stream",
          "text": [
            "[nltk_data] Downloading package punkt to /root/nltk_data...\n",
            "[nltk_data]   Unzipping tokenizers/punkt.zip.\n"
          ],
          "name": "stdout"
        }
      ]
    },
    {
      "cell_type": "code",
      "metadata": {
        "id": "bd8qRAy8pTlu",
        "colab_type": "code",
        "colab": {
          "base_uri": "https://localhost:8080/",
          "height": 55
        },
        "outputId": "6684ef7e-d9c4-4d92-ab37-0895a446981f"
      },
      "source": [
        "sentences"
      ],
      "execution_count": 6,
      "outputs": [
        {
          "output_type": "execute_result",
          "data": {
            "text/plain": [
              "[\"On the day when the government's top infectious disease specialist Anthony Fauci said he would not be surprised to see the US record 100,000 new coronavirus cases per day, Trump refused to break his deafening silence.\"]"
            ]
          },
          "metadata": {
            "tags": []
          },
          "execution_count": 6
        }
      ]
    },
    {
      "cell_type": "code",
      "metadata": {
        "id": "X0OkhMbxpVzV",
        "colab_type": "code",
        "colab": {}
      },
      "source": [
        "from nltk.tokenize import word_tokenize\n",
        "tokens = [word_tokenize(sent) for sent in sentences]\n",
        "\n"
      ],
      "execution_count": 7,
      "outputs": []
    },
    {
      "cell_type": "code",
      "metadata": {
        "id": "EdX6ngJ9pbht",
        "colab_type": "code",
        "colab": {
          "base_uri": "https://localhost:8080/",
          "height": 693
        },
        "outputId": "9b3f97a9-8d7b-4326-848a-3072c22d60be"
      },
      "source": [
        "tokens"
      ],
      "execution_count": 8,
      "outputs": [
        {
          "output_type": "execute_result",
          "data": {
            "text/plain": [
              "[['On',\n",
              "  'the',\n",
              "  'day',\n",
              "  'when',\n",
              "  'the',\n",
              "  'government',\n",
              "  \"'s\",\n",
              "  'top',\n",
              "  'infectious',\n",
              "  'disease',\n",
              "  'specialist',\n",
              "  'Anthony',\n",
              "  'Fauci',\n",
              "  'said',\n",
              "  'he',\n",
              "  'would',\n",
              "  'not',\n",
              "  'be',\n",
              "  'surprised',\n",
              "  'to',\n",
              "  'see',\n",
              "  'the',\n",
              "  'US',\n",
              "  'record',\n",
              "  '100,000',\n",
              "  'new',\n",
              "  'coronavirus',\n",
              "  'cases',\n",
              "  'per',\n",
              "  'day',\n",
              "  ',',\n",
              "  'Trump',\n",
              "  'refused',\n",
              "  'to',\n",
              "  'break',\n",
              "  'his',\n",
              "  'deafening',\n",
              "  'silence',\n",
              "  '.']]"
            ]
          },
          "metadata": {
            "tags": []
          },
          "execution_count": 8
        }
      ]
    },
    {
      "cell_type": "code",
      "metadata": {
        "id": "gWL__8JmpcZE",
        "colab_type": "code",
        "colab": {
          "base_uri": "https://localhost:8080/",
          "height": 35
        },
        "outputId": "ec74127c-67da-483c-b284-d36106c55e1e"
      },
      "source": [
        "import nltk.stem\n",
        "s = nltk.stem.SnowballStemmer('english')\n",
        "s.stem('graphics')"
      ],
      "execution_count": 9,
      "outputs": [
        {
          "output_type": "execute_result",
          "data": {
            "application/vnd.google.colaboratory.intrinsic": {
              "type": "string"
            },
            "text/plain": [
              "'graphic'"
            ]
          },
          "metadata": {
            "tags": []
          },
          "execution_count": 9
        }
      ]
    },
    {
      "cell_type": "code",
      "metadata": {
        "id": "Zoicy5Ngp4GC",
        "colab_type": "code",
        "colab": {
          "base_uri": "https://localhost:8080/",
          "height": 87
        },
        "outputId": "68db29d3-3bb3-4a98-c4fb-e21212dafd0d"
      },
      "source": [
        "print(s.stem(\"imaging\"))\n",
        "print(s.stem(\"image\"))\n",
        "print(s.stem(\"imagination\"))\n",
        "print(s.stem(\"imagine\"))"
      ],
      "execution_count": 10,
      "outputs": [
        {
          "output_type": "stream",
          "text": [
            "imag\n",
            "imag\n",
            "imagin\n",
            "imagin\n"
          ],
          "name": "stdout"
        }
      ]
    },
    {
      "cell_type": "markdown",
      "metadata": {
        "id": "O3SIC1pKqbN-",
        "colab_type": "text"
      },
      "source": [
        "## 詞頻分析"
      ]
    },
    {
      "cell_type": "code",
      "metadata": {
        "id": "ezOMOKBzqvPI",
        "colab_type": "code",
        "colab": {
          "base_uri": "https://localhost:8080/",
          "height": 35
        },
        "outputId": "3eafaa23-ae02-47b1-82d4-e43b36bfb4aa"
      },
      "source": [
        "from collections import Counter\n",
        "li = ['a', 'b', 'c', 'a', 'b']\n",
        "c = Counter(li)\n",
        "c"
      ],
      "execution_count": 14,
      "outputs": [
        {
          "output_type": "execute_result",
          "data": {
            "text/plain": [
              "Counter({'a': 2, 'b': 2, 'c': 1})"
            ]
          },
          "metadata": {
            "tags": []
          },
          "execution_count": 14
        }
      ]
    },
    {
      "cell_type": "code",
      "metadata": {
        "id": "ve4dadbSq4bt",
        "colab_type": "code",
        "colab": {
          "base_uri": "https://localhost:8080/",
          "height": 35
        },
        "outputId": "b1354f24-b580-4107-8eac-49a40c80ddd6"
      },
      "source": [
        "c.most_common(2)"
      ],
      "execution_count": 15,
      "outputs": [
        {
          "output_type": "execute_result",
          "data": {
            "text/plain": [
              "[('a', 2), ('b', 2)]"
            ]
          },
          "metadata": {
            "tags": []
          },
          "execution_count": 15
        }
      ]
    },
    {
      "cell_type": "code",
      "metadata": {
        "id": "bwNJDcnWp_ay",
        "colab_type": "code",
        "colab": {}
      },
      "source": [
        "s = '''\n",
        "財經頻道／綜合報導〕已開發國家的生育率正明顯下降，而據國際醫學期刊「刺胳針」（The Lancet）報告，預計全球人口在2064年達到97億人的高峰後，將在2100年回落至88億人，刺胳針報告更估計，隨著高齡人口增加、工作年齡人口減少，經濟也將發生巨大變化，預計中國在2035年取代美國，成為全世界GDP最高的國家。\n",
        "\n",
        "《CNBC》報導，權威醫學期刊「刺胳針」14日發布的新報告估計，現代避孕方法、改善女童與婦女的教育，可能導致全球生育率「普遍」和「持續」下降，其意味在缺乏自由移民政策的情況下，地球上195個國家中的183個，在本世紀將無法維持現有人口。\n",
        "\n",
        "預計包括日本、泰國、義大利和西班牙等23個國家的人口，將減少超過一半，而包括中國的另外34個國家的人口，將減少超過25％；相對的，非洲撒哈拉沙漠以南地區的人口，預計將在本世紀內增長3倍，到2100年達到30.7億人，高於2017年估計的10.3億人。北非和中東地區，則是和2017年相比，另外兩個人口預計在2100年增加的地區。\n",
        "\n",
        "研究更估計，隨著生育率下降，全世界超過80歲的人口數量，在2100年和低於5歲的人口比例將是2比1；到2100年，5歲以下兒童的數量將下降41％至4.01億人，同時年齡超過80歲的人口，將從1.41億增加6倍，至約8.66億人。\n",
        "\n",
        "研究更顯示，工作年齡人口下降，可能大幅改變經濟規模，預計中國將在2035年取代美國，成為世界GDP最高國家，儘管若移民繼續維持美國的勞動力，且中國自2050年起人口迅速減少，則美國有望在2098年重登世界最大經濟體寶座。另外，印度預期將是在本世紀內，能維持其勞動人口數量的少數亞洲強國，其GDP將從當前的排名第7升至排名第3。\n",
        "\n",
        "而撒哈拉以南的非洲地區，則在人口增長趨勢下，將於地緣政治舞台上成為日益強大的地區。\n",
        "\n",
        "對於「刺胳針」的研究結果，倫敦大學學院教授Ibrahim Abubakar表示，如果其中有一半的內容正確，那麼移民將是所有國家的必需品，而非一種選擇，且眾所周知，移民對健康和經濟有積極影響，問題是國家要選擇藉有計畫的人口流動改善健康和財富，還是輸入底層勞工、導致社會失衡。\n",
        "'''"
      ],
      "execution_count": 11,
      "outputs": []
    },
    {
      "cell_type": "code",
      "metadata": {
        "id": "o22gbUOUqf7c",
        "colab_type": "code",
        "colab": {}
      },
      "source": [
        "import jieba\n",
        "from collections import Counter\n",
        "c = Counter(list(jieba.cut(s)))"
      ],
      "execution_count": 16,
      "outputs": []
    },
    {
      "cell_type": "code",
      "metadata": {
        "id": "47sC8TXirNtu",
        "colab_type": "code",
        "colab": {}
      },
      "source": [
        "## non-pythonic\n",
        "ary = []\n",
        "for w in jieba.cut(s):\n",
        "  if len(w) >= 2:\n",
        "    ary.append(w)"
      ],
      "execution_count": 19,
      "outputs": []
    },
    {
      "cell_type": "code",
      "metadata": {
        "id": "HcHp8W9krZh_",
        "colab_type": "code",
        "colab": {
          "base_uri": "https://localhost:8080/",
          "height": 1000
        },
        "outputId": "d10b3c30-fd14-4e2a-badd-2e7c0234676c"
      },
      "source": [
        "## Pythonic\n",
        "[w for w in jieba.cut(s) if len(w) >= 2]"
      ],
      "execution_count": 20,
      "outputs": [
        {
          "output_type": "execute_result",
          "data": {
            "text/plain": [
              "['財經',\n",
              " '頻道',\n",
              " '綜合',\n",
              " '報導',\n",
              " '已開',\n",
              " '發國家',\n",
              " '生育率',\n",
              " '正明顯',\n",
              " '下降',\n",
              " '而據',\n",
              " '國際',\n",
              " '醫學',\n",
              " '期刊',\n",
              " '胳針',\n",
              " 'The',\n",
              " 'Lancet',\n",
              " '報告',\n",
              " '預計',\n",
              " '全球',\n",
              " '人口',\n",
              " '2064',\n",
              " '97',\n",
              " '億人',\n",
              " '高峰',\n",
              " '將在',\n",
              " '2100',\n",
              " '回落',\n",
              " '88',\n",
              " '億人',\n",
              " '胳針',\n",
              " '報告',\n",
              " '估計',\n",
              " '隨著',\n",
              " '高齡',\n",
              " '人口',\n",
              " '增加',\n",
              " '工作',\n",
              " '年齡',\n",
              " '人口',\n",
              " '減少',\n",
              " '經濟',\n",
              " '將發生',\n",
              " '巨大',\n",
              " '變化',\n",
              " '預計',\n",
              " '中國',\n",
              " '2035',\n",
              " '取代',\n",
              " '美國',\n",
              " '成為',\n",
              " '全世界',\n",
              " 'GDP',\n",
              " '最高',\n",
              " '國家',\n",
              " 'CNBC',\n",
              " '報導',\n",
              " '權威',\n",
              " '醫學',\n",
              " '期刊',\n",
              " '胳針',\n",
              " '14',\n",
              " '發布',\n",
              " '報告',\n",
              " '估計',\n",
              " '現代',\n",
              " '避孕',\n",
              " '方法',\n",
              " '改善',\n",
              " '女童',\n",
              " '婦女',\n",
              " '教育',\n",
              " '可能',\n",
              " '導致',\n",
              " '全球',\n",
              " '生育率',\n",
              " '普遍',\n",
              " '持續',\n",
              " '下降',\n",
              " '意味',\n",
              " '缺乏',\n",
              " '自由',\n",
              " '移民',\n",
              " '政策',\n",
              " '情況',\n",
              " '地球',\n",
              " '195',\n",
              " '個國',\n",
              " '家中',\n",
              " '183',\n",
              " '本世紀',\n",
              " '將無法',\n",
              " '維持',\n",
              " '現有',\n",
              " '人口',\n",
              " '預計',\n",
              " '包括',\n",
              " '日本',\n",
              " '泰國',\n",
              " '大利',\n",
              " '西班牙',\n",
              " '23',\n",
              " '個國家',\n",
              " '人口',\n",
              " '將減',\n",
              " '超過',\n",
              " '一半',\n",
              " '包括',\n",
              " '中國',\n",
              " '另外',\n",
              " '34',\n",
              " '個國家',\n",
              " '人口',\n",
              " '將減',\n",
              " '超過',\n",
              " '25',\n",
              " '相對',\n",
              " '非洲',\n",
              " '撒哈拉沙漠',\n",
              " '以南',\n",
              " '地區',\n",
              " '人口',\n",
              " '預計將',\n",
              " '本世紀',\n",
              " '增長',\n",
              " '2100',\n",
              " '30.7',\n",
              " '億人',\n",
              " '2017',\n",
              " '估計',\n",
              " '10.3',\n",
              " '億人',\n",
              " '北非',\n",
              " '中東',\n",
              " '地區',\n",
              " '則是',\n",
              " '2017',\n",
              " '相比',\n",
              " '另外',\n",
              " '兩個',\n",
              " '人口',\n",
              " '預計',\n",
              " '2100',\n",
              " '增加',\n",
              " '地區',\n",
              " '研究',\n",
              " '估計',\n",
              " '隨著',\n",
              " '生育率',\n",
              " '下降',\n",
              " '全世界',\n",
              " '超過',\n",
              " '80',\n",
              " '人口',\n",
              " '數量',\n",
              " '2100',\n",
              " '人口比例',\n",
              " '將是',\n",
              " '2100',\n",
              " '以下',\n",
              " '兒童',\n",
              " '數量將',\n",
              " '下降',\n",
              " '41',\n",
              " '4.01',\n",
              " '億人',\n",
              " '同時',\n",
              " '年齡',\n",
              " '超過',\n",
              " '80',\n",
              " '人口',\n",
              " '將從',\n",
              " '1.41',\n",
              " '增加',\n",
              " '至約',\n",
              " '8.66',\n",
              " '億人',\n",
              " '研究',\n",
              " '顯示',\n",
              " '工作',\n",
              " '年齡',\n",
              " '人口',\n",
              " '下降',\n",
              " '可能',\n",
              " '大幅',\n",
              " '改變',\n",
              " '經濟',\n",
              " '規模',\n",
              " '預計',\n",
              " '中國將',\n",
              " '2035',\n",
              " '取代',\n",
              " '美國',\n",
              " '成為',\n",
              " '世界',\n",
              " 'GDP',\n",
              " '最高',\n",
              " '國家',\n",
              " '移民',\n",
              " '繼續',\n",
              " '維持',\n",
              " '美國',\n",
              " '勞動力',\n",
              " '中國',\n",
              " '2050',\n",
              " '人口',\n",
              " '迅速',\n",
              " '減少',\n",
              " '則美國',\n",
              " '有望',\n",
              " '2098',\n",
              " '重登',\n",
              " '世界',\n",
              " '最大',\n",
              " '經濟體',\n",
              " '寶座',\n",
              " '另外',\n",
              " '印度',\n",
              " '預期',\n",
              " '將是',\n",
              " '本世紀',\n",
              " '能維持',\n",
              " '勞動',\n",
              " '人口',\n",
              " '數量',\n",
              " '數亞洲',\n",
              " '強國',\n",
              " 'GDP',\n",
              " '將從',\n",
              " '當前',\n",
              " '排名第',\n",
              " '升至',\n",
              " '排名第',\n",
              " '撒哈拉',\n",
              " '以南',\n",
              " '非洲',\n",
              " '地區',\n",
              " '則在',\n",
              " '人口',\n",
              " '增長',\n",
              " '趨勢',\n",
              " '將於地緣',\n",
              " '政治舞台',\n",
              " '上成',\n",
              " '日益',\n",
              " '強大',\n",
              " '地區',\n",
              " '胳針',\n",
              " '研究',\n",
              " '結果',\n",
              " '倫敦',\n",
              " '大學學院',\n",
              " '教授',\n",
              " 'Ibrahim',\n",
              " 'Abubakar',\n",
              " '表示',\n",
              " '如果',\n",
              " '其中',\n",
              " '一半',\n",
              " '內容',\n",
              " '正確',\n",
              " '那麼',\n",
              " '移民',\n",
              " '將是',\n",
              " '所有',\n",
              " '國家',\n",
              " '必需品',\n",
              " '一種',\n",
              " '選擇',\n",
              " '且眾',\n",
              " '周知',\n",
              " '移民',\n",
              " '健康',\n",
              " '經濟',\n",
              " '積極',\n",
              " '影響',\n",
              " '問題',\n",
              " '國家要',\n",
              " '選擇',\n",
              " '計畫',\n",
              " '人口',\n",
              " '流動',\n",
              " '改善',\n",
              " '健康',\n",
              " '財富',\n",
              " '還是',\n",
              " '輸入',\n",
              " '底層',\n",
              " '勞工',\n",
              " '導致',\n",
              " '社會',\n",
              " '失衡']"
            ]
          },
          "metadata": {
            "tags": []
          },
          "execution_count": 20
        }
      ]
    },
    {
      "cell_type": "code",
      "metadata": {
        "id": "aALrtNzpqkLS",
        "colab_type": "code",
        "colab": {
          "base_uri": "https://localhost:8080/",
          "height": 191
        },
        "outputId": "cfccf605-69d0-40d0-e6cf-61e918499203"
      },
      "source": [
        "import jieba\n",
        "from collections import Counter\n",
        "c = Counter([w for w in jieba.cut(s) if len(w) >= 2])\n",
        "c.most_common(10)"
      ],
      "execution_count": 21,
      "outputs": [
        {
          "output_type": "execute_result",
          "data": {
            "text/plain": [
              "[('人口', 15),\n",
              " ('億人', 6),\n",
              " ('下降', 5),\n",
              " ('預計', 5),\n",
              " ('2100', 5),\n",
              " ('地區', 5),\n",
              " ('胳針', 4),\n",
              " ('估計', 4),\n",
              " ('移民', 4),\n",
              " ('超過', 4)]"
            ]
          },
          "metadata": {
            "tags": []
          },
          "execution_count": 21
        }
      ]
    },
    {
      "cell_type": "code",
      "metadata": {
        "id": "WK_kcH4-sQbY",
        "colab_type": "code",
        "colab": {}
      },
      "source": [
        "#' '.join(jieba.cut(s))"
      ],
      "execution_count": 24,
      "outputs": []
    },
    {
      "cell_type": "code",
      "metadata": {
        "id": "WCsdjasBrDqp",
        "colab_type": "code",
        "colab": {
          "base_uri": "https://localhost:8080/",
          "height": 217
        },
        "outputId": "12554b3d-1269-4c3e-bdaa-c912924d5933"
      },
      "source": [
        "from wordcloud import WordCloud\n",
        "wordcloud = WordCloud(background_color=\"white\", max_words=5000, contour_width=3, contour_color='steelblue')\n",
        "wordcloud.generate(' '.join(jieba.cut(s)))\n",
        "wordcloud.to_image()\n"
      ],
      "execution_count": 25,
      "outputs": [
        {
          "output_type": "execute_result",
          "data": {
            "image/png": "[encoded data removed]",
            "text/plain": [
              "<PIL.Image.Image image mode=RGB size=400x200 at 0x7FE10F3DADA0>"
            ]
          },
          "metadata": {
            "tags": []
          },
          "execution_count": 25
        }
      ]
    },
    {
      "cell_type": "code",
      "metadata": {
        "id": "QiprY1Qvsaye",
        "colab_type": "code",
        "colab": {
          "base_uri": "https://localhost:8080/",
          "height": 228
        },
        "outputId": "656da751-4450-4d81-8db8-61f269616d9d"
      },
      "source": [
        "! wget https://noto-website-2.storage.googleapis.com/pkgs/NotoSansCJKtc-hinted.zip"
      ],
      "execution_count": 26,
      "outputs": [
        {
          "output_type": "stream",
          "text": [
            "--2020-07-15 13:38:03--  https://noto-website-2.storage.googleapis.com/pkgs/NotoSansCJKtc-hinted.zip\n",
            "Resolving noto-website-2.storage.googleapis.com (noto-website-2.storage.googleapis.com)... 173.194.210.128, 2607:f8b0:400c:c0f::80\n",
            "Connecting to noto-website-2.storage.googleapis.com (noto-website-2.storage.googleapis.com)|173.194.210.128|:443... connected.\n",
            "HTTP request sent, awaiting response... 200 OK\n",
            "Length: 121247366 (116M) [application/zip]\n",
            "Saving to: ‘NotoSansCJKtc-hinted.zip’\n",
            "\n",
            "NotoSansCJKtc-hinte 100%[===================>] 115.63M  64.8MB/s    in 1.8s    \n",
            "\n",
            "2020-07-15 13:38:05 (64.8 MB/s) - ‘NotoSansCJKtc-hinted.zip’ saved [121247366/121247366]\n",
            "\n"
          ],
          "name": "stdout"
        }
      ]
    },
    {
      "cell_type": "code",
      "metadata": {
        "id": "JQhIWl5-slv0",
        "colab_type": "code",
        "colab": {
          "base_uri": "https://localhost:8080/",
          "height": 225
        },
        "outputId": "55208971-76f7-421b-c913-771c3bcf7c10"
      },
      "source": [
        "! unzip NotoSansCJKtc-hinted.zip"
      ],
      "execution_count": 27,
      "outputs": [
        {
          "output_type": "stream",
          "text": [
            "Archive:  NotoSansCJKtc-hinted.zip\n",
            "  inflating: LICENSE_OFL.txt         \n",
            "  inflating: NotoSansCJKtc-Black.otf  \n",
            "  inflating: NotoSansCJKtc-Bold.otf  \n",
            "  inflating: NotoSansCJKtc-DemiLight.otf  \n",
            "  inflating: NotoSansCJKtc-Light.otf  \n",
            "  inflating: NotoSansCJKtc-Medium.otf  \n",
            "  inflating: NotoSansCJKtc-Regular.otf  \n",
            "  inflating: NotoSansCJKtc-Thin.otf  \n",
            "  inflating: NotoSansMonoCJKtc-Bold.otf  \n",
            "  inflating: NotoSansMonoCJKtc-Regular.otf  \n",
            "  inflating: README                  \n"
          ],
          "name": "stdout"
        }
      ]
    },
    {
      "cell_type": "code",
      "metadata": {
        "id": "CTnrKCsAswAx",
        "colab_type": "code",
        "colab": {
          "base_uri": "https://localhost:8080/",
          "height": 217
        },
        "outputId": "6cab88a3-0220-455b-9cf7-9d565ffc00ae"
      },
      "source": [
        "wc = WordCloud(background_color='black',font_path='/content/NotoSansCJKtc-Regular.otf')\n",
        "wc.generate(' '.join(jieba.cut(s)))\n",
        "wc.to_image()"
      ],
      "execution_count": 30,
      "outputs": [
        {
          "output_type": "execute_result",
          "data": {
            "image/png": "[encoded data removed]",
            "text/plain": [
              "<PIL.Image.Image image mode=RGB size=400x200 at 0x7FE10F3DA9E8>"
            ]
          },
          "metadata": {
            "tags": []
          },
          "execution_count": 30
        }
      ]
    },
    {
      "cell_type": "code",
      "metadata": {
        "id": "S0xtKArNr_VH",
        "colab_type": "code",
        "colab": {}
      },
      "source": [
        "from wordcloud import WordCloud\n",
        "wordcloud = WordCloud(background_color=\"white\", max_words=5000, contour_width=3, contour_color='steelblue')\n",
        "wordcloud.generate('hello, this is david speaking')\n",
        "wordcloud.to_image()\n"
      ],
      "execution_count": null,
      "outputs": []
    }
  ]
}