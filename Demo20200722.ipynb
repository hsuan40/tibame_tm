{
 "cells": [
  {
   "cell_type": "markdown",
   "metadata": {
    "colab_type": "text",
    "id": "LujkkLZTSzT0"
   },
   "source": [
    "## 作業二"
   ]
  },
  {
   "cell_type": "code",
   "execution_count": 1,
   "metadata": {
    "colab": {
     "base_uri": "https://localhost:8080/",
     "height": 204
    },
    "colab_type": "code",
    "id": "2eTufyGvRUTP",
    "outputId": "cad5797a-3178-4fd3-9e32-1b4a9bc29c12"
   },
   "outputs": [
    {
     "name": "stdout",
     "output_type": "stream",
     "text": [
      "--2020-07-22 11:33:05--  https://raw.githubusercontent.com/ywchiu/tibame_tm/master/data/article.txt\n",
      "Resolving raw.githubusercontent.com (raw.githubusercontent.com)... 151.101.0.133, 151.101.64.133, 151.101.128.133, ...\n",
      "Connecting to raw.githubusercontent.com (raw.githubusercontent.com)|151.101.0.133|:443... connected.\n",
      "HTTP request sent, awaiting response... 200 OK\n",
      "Length: 17982 (18K) [text/plain]\n",
      "Saving to: ‘article.txt’\n",
      "\n",
      "\r",
      "article.txt           0%[                    ]       0  --.-KB/s               \r",
      "article.txt         100%[===================>]  17.56K  --.-KB/s    in 0.01s   \n",
      "\n",
      "2020-07-22 11:33:05 (1.42 MB/s) - ‘article.txt’ saved [17982/17982]\n",
      "\n"
     ]
    }
   ],
   "source": [
    "! wget https://raw.githubusercontent.com/ywchiu/tibame_tm/master/data/article.txt"
   ]
  },
  {
   "cell_type": "code",
   "execution_count": 2,
   "metadata": {
    "colab": {},
    "colab_type": "code",
    "id": "csqstx2qTDNX"
   },
   "outputs": [],
   "source": [
    "import requests \n",
    "res = requests.get('https://raw.githubusercontent.com/ywchiu/tibame_tm/master/data/article.txt')\n",
    "with open('article2.txt', 'w') as f:\n",
    "  f.write(res.text)"
   ]
  },
  {
   "cell_type": "code",
   "execution_count": 5,
   "metadata": {
    "colab": {},
    "colab_type": "code",
    "id": "bHHkNoQ6TPkL"
   },
   "outputs": [],
   "source": [
    "with open('article.txt', encoding = 'utf-8') as f:\n",
    "  data = f.read()"
   ]
  },
  {
   "cell_type": "code",
   "execution_count": 9,
   "metadata": {
    "colab": {},
    "colab_type": "code",
    "id": "kIhr69wXTWj7"
   },
   "outputs": [],
   "source": [
    "import jieba\n",
    "#list(jieba.cut(data))"
   ]
  },
  {
   "cell_type": "code",
   "execution_count": 11,
   "metadata": {
    "colab": {},
    "colab_type": "code",
    "id": "TuMmBlbuTXFb"
   },
   "outputs": [],
   "source": [
    "words = jieba.lcut(data)"
   ]
  },
  {
   "cell_type": "code",
   "execution_count": 13,
   "metadata": {
    "colab": {
     "base_uri": "https://localhost:8080/",
     "height": 34
    },
    "colab_type": "code",
    "id": "W_XKdnIWTzIO",
    "outputId": "995bb830-428a-4e79-ffd9-415b0ea4440f"
   },
   "outputs": [
    {
     "data": {
      "text/plain": [
       "list"
      ]
     },
     "execution_count": 13,
     "metadata": {
      "tags": []
     },
     "output_type": "execute_result"
    }
   ],
   "source": [
    "type(words)"
   ]
  },
  {
   "cell_type": "markdown",
   "metadata": {
    "colab_type": "text",
    "id": "hKhRPG0TUFc2"
   },
   "source": [
    "### 方法一"
   ]
  },
  {
   "cell_type": "code",
   "execution_count": 14,
   "metadata": {
    "colab": {
     "base_uri": "https://localhost:8080/",
     "height": 34
    },
    "colab_type": "code",
    "id": "nNk5ZVKMUNLb",
    "outputId": "5b3b79ce-f08a-47fd-cc4f-b44ca4e877a3"
   },
   "outputs": [
    {
     "data": {
      "text/plain": [
       "{1: 4, 2: 2, 3: 1}"
      ]
     },
     "execution_count": 14,
     "metadata": {
      "tags": []
     },
     "output_type": "execute_result"
    }
   ],
   "source": [
    "a = [1,1,2,2,1,3,1]\n",
    "dic = {}\n",
    "for w in a:\n",
    "  if w not in dic:\n",
    "    dic[w] = 1\n",
    "  else:\n",
    "    dic[w] = dic[w] + 1\n",
    "dic"
   ]
  },
  {
   "cell_type": "code",
   "execution_count": 19,
   "metadata": {
    "colab": {},
    "colab_type": "code",
    "id": "zmTPueA9T_MO"
   },
   "outputs": [],
   "source": [
    "dic = {}\n",
    "for word in words:\n",
    "  if len(word) >= 2:\n",
    "    if word not in dic:\n",
    "      dic[word] = 1\n",
    "    else:\n",
    "      dic[word] = dic[word] + 1"
   ]
  },
  {
   "cell_type": "code",
   "execution_count": 20,
   "metadata": {
    "colab": {
     "base_uri": "https://localhost:8080/",
     "height": 187
    },
    "colab_type": "code",
    "id": "TNLEkZQzUjJm",
    "outputId": "74d611b4-7302-46a4-f707-d03a27be026d"
   },
   "outputs": [
    {
     "data": {
      "text/plain": [
       "[('我們', 68),\n",
       " ('台灣', 41),\n",
       " ('發展', 26),\n",
       " ('產業', 24),\n",
       " ('國家', 22),\n",
       " ('未來', 20),\n",
       " ('人民', 18),\n",
       " ('社會', 18),\n",
       " ('全球', 18),\n",
       " ('國際', 17)]"
      ]
     },
     "execution_count": 20,
     "metadata": {
      "tags": []
     },
     "output_type": "execute_result"
    }
   ],
   "source": [
    "swd = sorted(dic.items(), key = lambda e: e[1], reverse=True)\n",
    "swd[0:10]"
   ]
  },
  {
   "cell_type": "markdown",
   "metadata": {
    "colab_type": "text",
    "id": "v_z6XqlPU4Xp"
   },
   "source": [
    "### 方法二"
   ]
  },
  {
   "cell_type": "code",
   "execution_count": 21,
   "metadata": {
    "colab": {},
    "colab_type": "code",
    "id": "HAmltqulUj2I"
   },
   "outputs": [],
   "source": [
    "dic = {}\n",
    "for word in words:\n",
    "  if len(word) >= 2:\n",
    "    dic[word] = dic.get(word, 0) + 1"
   ]
  },
  {
   "cell_type": "code",
   "execution_count": 22,
   "metadata": {
    "colab": {
     "base_uri": "https://localhost:8080/",
     "height": 187
    },
    "colab_type": "code",
    "id": "D4Jp3GvCVDgL",
    "outputId": "6c496788-a0ef-4da1-f497-353c867845a9"
   },
   "outputs": [
    {
     "data": {
      "text/plain": [
       "[('我們', 68),\n",
       " ('台灣', 41),\n",
       " ('發展', 26),\n",
       " ('產業', 24),\n",
       " ('國家', 22),\n",
       " ('未來', 20),\n",
       " ('人民', 18),\n",
       " ('社會', 18),\n",
       " ('全球', 18),\n",
       " ('國際', 17)]"
      ]
     },
     "execution_count": 22,
     "metadata": {
      "tags": []
     },
     "output_type": "execute_result"
    }
   ],
   "source": [
    "swd = sorted(dic.items(), key = lambda e: e[1], reverse=True)\n",
    "swd[0:10]"
   ]
  },
  {
   "cell_type": "markdown",
   "metadata": {
    "colab_type": "text",
    "id": "3-X2DvlQVGb9"
   },
   "source": [
    "### 方法三"
   ]
  },
  {
   "cell_type": "code",
   "execution_count": 24,
   "metadata": {
    "colab": {
     "base_uri": "https://localhost:8080/",
     "height": 187
    },
    "colab_type": "code",
    "id": "CW5_8YonVEzT",
    "outputId": "46bc7637-bc97-415d-c78d-864e55c07429"
   },
   "outputs": [
    {
     "data": {
      "text/plain": [
       "[('我們', 68),\n",
       " ('台灣', 41),\n",
       " ('發展', 26),\n",
       " ('產業', 24),\n",
       " ('國家', 22),\n",
       " ('未來', 20),\n",
       " ('人民', 18),\n",
       " ('社會', 18),\n",
       " ('全球', 18),\n",
       " ('國際', 17)]"
      ]
     },
     "execution_count": 24,
     "metadata": {
      "tags": []
     },
     "output_type": "execute_result"
    }
   ],
   "source": [
    "from collections import Counter\n",
    "c = Counter([w for w in words if len(w) >=2])\n",
    "c.most_common(10)"
   ]
  },
  {
   "cell_type": "code",
   "execution_count": 25,
   "metadata": {
    "colab": {},
    "colab_type": "code",
    "id": "WPWOsVMkVP3E"
   },
   "outputs": [],
   "source": [
    "import wordcloud"
   ]
  },
  {
   "cell_type": "code",
   "execution_count": 26,
   "metadata": {
    "colab": {
     "base_uri": "https://localhost:8080/",
     "height": 217
    },
    "colab_type": "code",
    "id": "DosyWkGUVcLU",
    "outputId": "cca2d52a-6ea0-4892-86c9-48870604f81f"
   },
   "outputs": [
    {
     "data": {
      "image/png": "[encoded data removed]",
      "text/plain": [
       "<PIL.Image.Image image mode=RGB size=400x200 at 0x7F15B3550F98>"
      ]
     },
     "execution_count": 26,
     "metadata": {
      "tags": []
     },
     "output_type": "execute_result"
    }
   ],
   "source": [
    "from wordcloud import WordCloud\n",
    "wordcloud = WordCloud(background_color=\"white\", max_words=5000, contour_width=3, contour_color='steelblue')\n",
    "wordcloud.generate(' '.join(jieba.cut(data)))\n",
    "wordcloud.to_image()"
   ]
  },
  {
   "cell_type": "code",
   "execution_count": 27,
   "metadata": {
    "colab": {
     "base_uri": "https://localhost:8080/",
     "height": 204
    },
    "colab_type": "code",
    "id": "U8fwOQsGVwe6",
    "outputId": "01d66763-4edf-4a0c-f607-3d217035c26c"
   },
   "outputs": [
    {
     "name": "stdout",
     "output_type": "stream",
     "text": [
      "--2020-07-22 11:45:06--  https://noto-website-2.storage.googleapis.com/pkgs/NotoSansCJKtc-hinted.zip\n",
      "Resolving noto-website-2.storage.googleapis.com (noto-website-2.storage.googleapis.com)... 74.125.139.128, 2607:f8b0:400c:c05::80\n",
      "Connecting to noto-website-2.storage.googleapis.com (noto-website-2.storage.googleapis.com)|74.125.139.128|:443... connected.\n",
      "HTTP request sent, awaiting response... 200 OK\n",
      "Length: 121247366 (116M) [application/zip]\n",
      "Saving to: ‘NotoSansCJKtc-hinted.zip’\n",
      "\n",
      "NotoSansCJKtc-hinte 100%[===================>] 115.63M  52.0MB/s    in 2.2s    \n",
      "\n",
      "2020-07-22 11:45:09 (52.0 MB/s) - ‘NotoSansCJKtc-hinted.zip’ saved [121247366/121247366]\n",
      "\n"
     ]
    }
   ],
   "source": [
    "! wget https://noto-website-2.storage.googleapis.com/pkgs/NotoSansCJKtc-hinted.zip"
   ]
  },
  {
   "cell_type": "code",
   "execution_count": 28,
   "metadata": {
    "colab": {
     "base_uri": "https://localhost:8080/",
     "height": 221
    },
    "colab_type": "code",
    "id": "j-YX1YUNV2Ld",
    "outputId": "95544a01-8c4c-4737-9507-ff3b642d44e0"
   },
   "outputs": [
    {
     "name": "stdout",
     "output_type": "stream",
     "text": [
      "Archive:  NotoSansCJKtc-hinted.zip\n",
      "  inflating: LICENSE_OFL.txt         \n",
      "  inflating: NotoSansCJKtc-Black.otf  \n",
      "  inflating: NotoSansCJKtc-Bold.otf  \n",
      "  inflating: NotoSansCJKtc-DemiLight.otf  \n",
      "  inflating: NotoSansCJKtc-Light.otf  \n",
      "  inflating: NotoSansCJKtc-Medium.otf  \n",
      "  inflating: NotoSansCJKtc-Regular.otf  \n",
      "  inflating: NotoSansCJKtc-Thin.otf  \n",
      "  inflating: NotoSansMonoCJKtc-Bold.otf  \n",
      "  inflating: NotoSansMonoCJKtc-Regular.otf  \n",
      "  inflating: README                  \n"
     ]
    }
   ],
   "source": [
    "\n",
    "! unzip NotoSansCJKtc-hinted.zip"
   ]
  },
  {
   "cell_type": "code",
   "execution_count": 30,
   "metadata": {
    "colab": {
     "base_uri": "https://localhost:8080/",
     "height": 217
    },
    "colab_type": "code",
    "id": "zBbrAtZhV5fv",
    "outputId": "6c800ef2-2ecf-436f-f94a-dfd1ebfc118d"
   },
   "outputs": [
    {
     "data": {
      "image/png": "[encoded data removed]",
      "text/plain": [
       "<PIL.Image.Image image mode=RGB size=400x200 at 0x7F15B2B1BEB8>"
      ]
     },
     "execution_count": 30,
     "metadata": {
      "tags": []
     },
     "output_type": "execute_result"
    }
   ],
   "source": [
    "wc = WordCloud(background_color='white',font_path='/content/NotoSansCJKtc-Regular.otf')\n",
    "wc.generate(' '.join(jieba.cut(data)))\n",
    "wc.to_image()"
   ]
  },
  {
   "cell_type": "markdown",
   "metadata": {
    "colab_type": "text",
    "id": "8AO5RRiSYN4I"
   },
   "source": [
    "## 詞頻矩陣"
   ]
  },
  {
   "cell_type": "code",
   "execution_count": 31,
   "metadata": {
    "colab": {},
    "colab_type": "code",
    "id": "9zD8vc3OWARD"
   },
   "outputs": [],
   "source": [
    "sentences = [\"How to format my hard disk\", \"Hard disk format problems\"]"
   ]
  },
  {
   "cell_type": "code",
   "execution_count": 34,
   "metadata": {
    "colab": {},
    "colab_type": "code",
    "id": "ApvaDTeSYTW5"
   },
   "outputs": [],
   "source": [
    "words_set = []\n",
    "for sentence in sentences:\n",
    "  words = sentence.lower().split()\n",
    "  words_set = words_set + words"
   ]
  },
  {
   "cell_type": "code",
   "execution_count": 36,
   "metadata": {
    "colab": {
     "base_uri": "https://localhost:8080/",
     "height": 35
    },
    "colab_type": "code",
    "id": "Q1Vd8twFYed-",
    "outputId": "ed04e478-5fa7-410a-ac91-c97934a44a2a"
   },
   "outputs": [
    {
     "data": {
      "text/plain": [
       "{'disk', 'format', 'hard', 'how', 'my', 'problems', 'to'}"
      ]
     },
     "execution_count": 36,
     "metadata": {
      "tags": []
     },
     "output_type": "execute_result"
    }
   ],
   "source": [
    "set(words_set)"
   ]
  },
  {
   "cell_type": "code",
   "execution_count": 40,
   "metadata": {
    "colab": {},
    "colab_type": "code",
    "id": "Js5ubm8jYl7-"
   },
   "outputs": [],
   "source": [
    "id_to_word = {}\n",
    "word_to_id = {}\n",
    "for idx, word in enumerate(set(words_set)):\n",
    "  #print(idx, word)\n",
    "  id_to_word[idx] = word\n",
    "  word_to_id[word] = idx"
   ]
  },
  {
   "cell_type": "code",
   "execution_count": 41,
   "metadata": {
    "colab": {
     "base_uri": "https://localhost:8080/",
     "height": 35
    },
    "colab_type": "code",
    "id": "aZI0BikOY229",
    "outputId": "1e1e8b79-675b-4923-8d88-3462be1f629a"
   },
   "outputs": [
    {
     "data": {
      "text/plain": [
       "{0: 'my', 1: 'disk', 2: 'problems', 3: 'to', 4: 'how', 5: 'hard', 6: 'format'}"
      ]
     },
     "execution_count": 41,
     "metadata": {
      "tags": []
     },
     "output_type": "execute_result"
    }
   ],
   "source": [
    "id_to_word"
   ]
  },
  {
   "cell_type": "code",
   "execution_count": 42,
   "metadata": {
    "colab": {
     "base_uri": "https://localhost:8080/",
     "height": 35
    },
    "colab_type": "code",
    "id": "K3tl9ornZMnJ",
    "outputId": "b7aec7be-1f29-468f-91bb-aa2c131cc42f"
   },
   "outputs": [
    {
     "data": {
      "text/plain": [
       "{'disk': 1, 'format': 6, 'hard': 5, 'how': 4, 'my': 0, 'problems': 2, 'to': 3}"
      ]
     },
     "execution_count": 42,
     "metadata": {
      "tags": []
     },
     "output_type": "execute_result"
    }
   ],
   "source": [
    "word_to_id"
   ]
  },
  {
   "cell_type": "code",
   "execution_count": 45,
   "metadata": {
    "colab": {},
    "colab_type": "code",
    "id": "ZmsmoLY9ZOdP"
   },
   "outputs": [],
   "source": [
    "import numpy as np\n",
    "m = np.zeros((len(sentences), len(word_to_id)))"
   ]
  },
  {
   "cell_type": "code",
   "execution_count": 46,
   "metadata": {
    "colab": {
     "base_uri": "https://localhost:8080/",
     "height": 35
    },
    "colab_type": "code",
    "id": "QIbYf1MAZkWd",
    "outputId": "bb9bf36c-1376-44d7-c49c-ea916c31ce33"
   },
   "outputs": [
    {
     "data": {
      "text/plain": [
       "(2, 7)"
      ]
     },
     "execution_count": 46,
     "metadata": {
      "tags": []
     },
     "output_type": "execute_result"
    }
   ],
   "source": [
    "m.shape"
   ]
  },
  {
   "cell_type": "code",
   "execution_count": 53,
   "metadata": {
    "colab": {},
    "colab_type": "code",
    "id": "tJbjyxxOZqe_"
   },
   "outputs": [],
   "source": [
    "for i, sentence in enumerate(sentences):\n",
    "  for w in sentence.lower().split():\n",
    "    #print(w, i, word_to_id[w])\n",
    "    m[i, word_to_id[w]] = 1"
   ]
  },
  {
   "cell_type": "code",
   "execution_count": 54,
   "metadata": {
    "colab": {
     "base_uri": "https://localhost:8080/",
     "height": 52
    },
    "colab_type": "code",
    "id": "XDYfkTkjZy3s",
    "outputId": "f60f4ad4-486e-448e-e398-0c1be81cc3d8"
   },
   "outputs": [
    {
     "data": {
      "text/plain": [
       "array([[1., 1., 0., 1., 1., 1., 1.],\n",
       "       [0., 1., 1., 0., 0., 1., 1.]])"
      ]
     },
     "execution_count": 54,
     "metadata": {
      "tags": []
     },
     "output_type": "execute_result"
    }
   ],
   "source": [
    "m"
   ]
  },
  {
   "cell_type": "markdown",
   "metadata": {
    "colab_type": "text",
    "id": "wyiG82h_ad_g"
   },
   "source": [
    "## Numpy"
   ]
  },
  {
   "cell_type": "code",
   "execution_count": 55,
   "metadata": {
    "colab": {},
    "colab_type": "code",
    "id": "t7MsOOHcaOE8"
   },
   "outputs": [],
   "source": [
    "a = [1,3,5,7,9]\n",
    "b = [2,4,6,8,10]"
   ]
  },
  {
   "cell_type": "code",
   "execution_count": 59,
   "metadata": {
    "colab": {
     "base_uri": "https://localhost:8080/",
     "height": 104
    },
    "colab_type": "code",
    "id": "L7luRp5wa1lD",
    "outputId": "f14af0e8-681b-4847-fd91-175a2de530c2"
   },
   "outputs": [
    {
     "name": "stdout",
     "output_type": "stream",
     "text": [
      "2\n",
      "12\n",
      "30\n",
      "56\n",
      "90\n"
     ]
    }
   ],
   "source": [
    "for i in range(0, len(a)):\n",
    "  #print(i, a[i], b[i])\n",
    "  print(a[i] * b[i])"
   ]
  },
  {
   "cell_type": "code",
   "execution_count": 60,
   "metadata": {
    "colab": {
     "base_uri": "https://localhost:8080/",
     "height": 104
    },
    "colab_type": "code",
    "id": "JZDy68Fwa3vr",
    "outputId": "8d06fe3a-8e1e-498a-ff27-d6c853f8ac21"
   },
   "outputs": [
    {
     "name": "stdout",
     "output_type": "stream",
     "text": [
      "(1, 2)\n",
      "(3, 4)\n",
      "(5, 6)\n",
      "(7, 8)\n",
      "(9, 10)\n"
     ]
    }
   ],
   "source": [
    "for rec in zip(a,b):\n",
    "  print(rec)"
   ]
  },
  {
   "cell_type": "code",
   "execution_count": 61,
   "metadata": {
    "colab": {
     "base_uri": "https://localhost:8080/",
     "height": 104
    },
    "colab_type": "code",
    "id": "1onj5wH-bJfB",
    "outputId": "938dd431-ba72-4dfa-a952-d2cea3aa8b46"
   },
   "outputs": [
    {
     "name": "stdout",
     "output_type": "stream",
     "text": [
      "1 2\n",
      "3 4\n",
      "5 6\n",
      "7 8\n",
      "9 10\n"
     ]
    }
   ],
   "source": [
    "for i, j  in zip(a,b):\n",
    "  print(i,j)"
   ]
  },
  {
   "cell_type": "code",
   "execution_count": 62,
   "metadata": {
    "colab": {
     "base_uri": "https://localhost:8080/",
     "height": 104
    },
    "colab_type": "code",
    "id": "yZgNZvj2bQ8P",
    "outputId": "615e3eaf-5d51-4dc7-d046-0e0749effe49"
   },
   "outputs": [
    {
     "name": "stdout",
     "output_type": "stream",
     "text": [
      "2\n",
      "12\n",
      "30\n",
      "56\n",
      "90\n"
     ]
    }
   ],
   "source": [
    "for i, j  in zip(a,b):\n",
    "  print(i * j)"
   ]
  },
  {
   "cell_type": "code",
   "execution_count": 63,
   "metadata": {
    "colab": {
     "base_uri": "https://localhost:8080/",
     "height": 165
    },
    "colab_type": "code",
    "id": "PuqSamUObTRJ",
    "outputId": "073efe7f-6cb5-43cc-dfb2-d962988b11b3"
   },
   "outputs": [
    {
     "ename": "TypeError",
     "evalue": "ignored",
     "output_type": "error",
     "traceback": [
      "\u001b[0;31m---------------------------------------------------------------------------\u001b[0m",
      "\u001b[0;31mTypeError\u001b[0m                                 Traceback (most recent call last)",
      "\u001b[0;32m<ipython-input-63-9bc1a869709f>\u001b[0m in \u001b[0;36m<module>\u001b[0;34m()\u001b[0m\n\u001b[0;32m----> 1\u001b[0;31m \u001b[0ma\u001b[0m \u001b[0;34m*\u001b[0m \u001b[0mb\u001b[0m\u001b[0;34m\u001b[0m\u001b[0;34m\u001b[0m\u001b[0m\n\u001b[0m",
      "\u001b[0;31mTypeError\u001b[0m: can't multiply sequence by non-int of type 'list'"
     ]
    }
   ],
   "source": [
    "a * b"
   ]
  },
  {
   "cell_type": "code",
   "execution_count": 64,
   "metadata": {
    "colab": {
     "base_uri": "https://localhost:8080/",
     "height": 35
    },
    "colab_type": "code",
    "id": "cg5DKN18bV_Y",
    "outputId": "ae4048d9-6345-4442-b642-2e20cae17320"
   },
   "outputs": [
    {
     "data": {
      "text/plain": [
       "list"
      ]
     },
     "execution_count": 64,
     "metadata": {
      "tags": []
     },
     "output_type": "execute_result"
    }
   ],
   "source": [
    "type(a)"
   ]
  },
  {
   "cell_type": "code",
   "execution_count": 65,
   "metadata": {
    "colab": {
     "base_uri": "https://localhost:8080/",
     "height": 35
    },
    "colab_type": "code",
    "id": "gIztU938bnyF",
    "outputId": "a94fab2d-e667-4664-a84f-f01056b76fda"
   },
   "outputs": [
    {
     "data": {
      "text/plain": [
       "[1, 3, 5, 7, 9]"
      ]
     },
     "execution_count": 65,
     "metadata": {
      "tags": []
     },
     "output_type": "execute_result"
    }
   ],
   "source": [
    "a"
   ]
  },
  {
   "cell_type": "code",
   "execution_count": 67,
   "metadata": {
    "colab": {},
    "colab_type": "code",
    "id": "VWfOHzQ0boVk"
   },
   "outputs": [],
   "source": [
    "import numpy as np\n",
    "na = np.array(a)"
   ]
  },
  {
   "cell_type": "code",
   "execution_count": 68,
   "metadata": {
    "colab": {
     "base_uri": "https://localhost:8080/",
     "height": 35
    },
    "colab_type": "code",
    "id": "vOn1jUNwbrvJ",
    "outputId": "ccaac4dd-6521-4c0e-c3a4-bea17358650c"
   },
   "outputs": [
    {
     "data": {
      "text/plain": [
       "numpy.ndarray"
      ]
     },
     "execution_count": 68,
     "metadata": {
      "tags": []
     },
     "output_type": "execute_result"
    }
   ],
   "source": [
    "type(na)"
   ]
  },
  {
   "cell_type": "code",
   "execution_count": 69,
   "metadata": {
    "colab": {
     "base_uri": "https://localhost:8080/",
     "height": 35
    },
    "colab_type": "code",
    "id": "Nr9NobvqbwUY",
    "outputId": "06b78fd9-bb3a-4a64-eb2b-3e76561c44b6"
   },
   "outputs": [
    {
     "data": {
      "text/plain": [
       "array([1, 3, 5, 7, 9])"
      ]
     },
     "execution_count": 69,
     "metadata": {
      "tags": []
     },
     "output_type": "execute_result"
    }
   ],
   "source": [
    "na"
   ]
  },
  {
   "cell_type": "code",
   "execution_count": 70,
   "metadata": {
    "colab": {},
    "colab_type": "code",
    "id": "OgC27E43bxXJ"
   },
   "outputs": [],
   "source": [
    "import numpy as np\n",
    "na = np.array(a)\n",
    "nb = np.array(b)"
   ]
  },
  {
   "cell_type": "code",
   "execution_count": 71,
   "metadata": {
    "colab": {
     "base_uri": "https://localhost:8080/",
     "height": 35
    },
    "colab_type": "code",
    "id": "rZIL3sbib4Po",
    "outputId": "cf845146-8151-4786-f236-a7bf4cf2da1c"
   },
   "outputs": [
    {
     "data": {
      "text/plain": [
       "array([ 3,  7, 11, 15, 19])"
      ]
     },
     "execution_count": 71,
     "metadata": {
      "tags": []
     },
     "output_type": "execute_result"
    }
   ],
   "source": [
    "na + nb"
   ]
  },
  {
   "cell_type": "code",
   "execution_count": 72,
   "metadata": {
    "colab": {
     "base_uri": "https://localhost:8080/",
     "height": 35
    },
    "colab_type": "code",
    "id": "x1OtuzcNb5oC",
    "outputId": "109ac4ba-d776-4264-bc14-213d2cec0ac2"
   },
   "outputs": [
    {
     "data": {
      "text/plain": [
       "array([ 2, 12, 30, 56, 90])"
      ]
     },
     "execution_count": 72,
     "metadata": {
      "tags": []
     },
     "output_type": "execute_result"
    }
   ],
   "source": [
    "na * nb"
   ]
  },
  {
   "cell_type": "code",
   "execution_count": 74,
   "metadata": {
    "colab": {},
    "colab_type": "code",
    "id": "gxVlLQRvb64r"
   },
   "outputs": [],
   "source": [
    "na = np.array([1,2,3,4,5])"
   ]
  },
  {
   "cell_type": "code",
   "execution_count": 75,
   "metadata": {
    "colab": {
     "base_uri": "https://localhost:8080/",
     "height": 35
    },
    "colab_type": "code",
    "id": "8_0A1WfjcQ_F",
    "outputId": "3b253f91-d6bf-41ba-a8ba-0d68028e0931"
   },
   "outputs": [
    {
     "data": {
      "text/plain": [
       "1"
      ]
     },
     "execution_count": 75,
     "metadata": {
      "tags": []
     },
     "output_type": "execute_result"
    }
   ],
   "source": [
    "na[0]"
   ]
  },
  {
   "cell_type": "code",
   "execution_count": 76,
   "metadata": {
    "colab": {
     "base_uri": "https://localhost:8080/",
     "height": 35
    },
    "colab_type": "code",
    "id": "SAr1G_JVcTNr",
    "outputId": "ee326e7c-24c3-4ea6-c8ac-a2e8ed3cddfa"
   },
   "outputs": [
    {
     "data": {
      "text/plain": [
       "5"
      ]
     },
     "execution_count": 76,
     "metadata": {
      "tags": []
     },
     "output_type": "execute_result"
    }
   ],
   "source": [
    "na[-1]"
   ]
  },
  {
   "cell_type": "code",
   "execution_count": 77,
   "metadata": {
    "colab": {
     "base_uri": "https://localhost:8080/",
     "height": 35
    },
    "colab_type": "code",
    "id": "obmhrFzgcUXH",
    "outputId": "aba332f1-d8ce-4b57-be83-937acbea5c4c"
   },
   "outputs": [
    {
     "data": {
      "text/plain": [
       "array([False, False, False,  True,  True])"
      ]
     },
     "execution_count": 77,
     "metadata": {
      "tags": []
     },
     "output_type": "execute_result"
    }
   ],
   "source": [
    "na > 3"
   ]
  },
  {
   "cell_type": "code",
   "execution_count": 78,
   "metadata": {
    "colab": {
     "base_uri": "https://localhost:8080/",
     "height": 35
    },
    "colab_type": "code",
    "id": "PfQijRwWcYrj",
    "outputId": "6edd635f-9b65-4a6b-f829-27bcfbfa3e32"
   },
   "outputs": [
    {
     "data": {
      "text/plain": [
       "array([4, 5])"
      ]
     },
     "execution_count": 78,
     "metadata": {
      "tags": []
     },
     "output_type": "execute_result"
    }
   ],
   "source": [
    "na[na > 3]"
   ]
  },
  {
   "cell_type": "code",
   "execution_count": 79,
   "metadata": {
    "colab": {},
    "colab_type": "code",
    "id": "dy6pwlsPcdT6"
   },
   "outputs": [],
   "source": [
    "na = np.array([[1,2,3,4,5],[6,7,8,9,10]])"
   ]
  },
  {
   "cell_type": "code",
   "execution_count": 80,
   "metadata": {
    "colab": {
     "base_uri": "https://localhost:8080/",
     "height": 52
    },
    "colab_type": "code",
    "id": "8M-BxQmucoT3",
    "outputId": "48829643-bbd3-491d-ea8c-cbc183f639cc"
   },
   "outputs": [
    {
     "data": {
      "text/plain": [
       "array([[ 1,  2,  3,  4,  5],\n",
       "       [ 6,  7,  8,  9, 10]])"
      ]
     },
     "execution_count": 80,
     "metadata": {
      "tags": []
     },
     "output_type": "execute_result"
    }
   ],
   "source": [
    "na"
   ]
  },
  {
   "cell_type": "code",
   "execution_count": 81,
   "metadata": {
    "colab": {
     "base_uri": "https://localhost:8080/",
     "height": 35
    },
    "colab_type": "code",
    "id": "2uU7Bci3covB",
    "outputId": "f4173626-2d08-4f5d-f8e0-d897a9202879"
   },
   "outputs": [
    {
     "data": {
      "text/plain": [
       "1"
      ]
     },
     "execution_count": 81,
     "metadata": {
      "tags": []
     },
     "output_type": "execute_result"
    }
   ],
   "source": [
    "na[0,0]"
   ]
  },
  {
   "cell_type": "code",
   "execution_count": 82,
   "metadata": {
    "colab": {
     "base_uri": "https://localhost:8080/",
     "height": 35
    },
    "colab_type": "code",
    "id": "KsMXqX_Ycqsw",
    "outputId": "270bebe8-8d3b-4761-f5dc-bd9649457a7c"
   },
   "outputs": [
    {
     "data": {
      "text/plain": [
       "array([1, 2, 3, 4, 5])"
      ]
     },
     "execution_count": 82,
     "metadata": {
      "tags": []
     },
     "output_type": "execute_result"
    }
   ],
   "source": [
    "na[0,:]"
   ]
  },
  {
   "cell_type": "code",
   "execution_count": 83,
   "metadata": {
    "colab": {
     "base_uri": "https://localhost:8080/",
     "height": 35
    },
    "colab_type": "code",
    "id": "NHBPWHokcuGH",
    "outputId": "a6b8b078-0067-413a-b9dd-ed4e3ac89851"
   },
   "outputs": [
    {
     "data": {
      "text/plain": [
       "array([1, 6])"
      ]
     },
     "execution_count": 83,
     "metadata": {
      "tags": []
     },
     "output_type": "execute_result"
    }
   ],
   "source": [
    "na[:,0]"
   ]
  },
  {
   "cell_type": "code",
   "execution_count": 84,
   "metadata": {
    "colab": {
     "base_uri": "https://localhost:8080/",
     "height": 104
    },
    "colab_type": "code",
    "id": "0znIX7hOcwh-",
    "outputId": "137bf999-7204-4b84-8392-56f0103cdf26"
   },
   "outputs": [
    {
     "data": {
      "text/plain": [
       "array([[ 1,  6],\n",
       "       [ 2,  7],\n",
       "       [ 3,  8],\n",
       "       [ 4,  9],\n",
       "       [ 5, 10]])"
      ]
     },
     "execution_count": 84,
     "metadata": {
      "tags": []
     },
     "output_type": "execute_result"
    }
   ],
   "source": [
    "na.T"
   ]
  },
  {
   "cell_type": "markdown",
   "metadata": {
    "colab_type": "text",
    "id": "N645O9Uldjn9"
   },
   "source": [
    "## 使用scikit-learn 建立詞頻矩陣"
   ]
  },
  {
   "cell_type": "markdown",
   "metadata": {
    "colab_type": "text",
    "id": "JGdQIMnFeUNJ"
   },
   "source": [
    "- fit: 產生結構\n",
    "- fit_transform: 產生結構並轉換資料\n",
    "- transform: 轉換資料"
   ]
  },
  {
   "cell_type": "code",
   "execution_count": 87,
   "metadata": {
    "colab": {},
    "colab_type": "code",
    "id": "vXFQVJ6bd6LC"
   },
   "outputs": [],
   "source": [
    "content = [\"How to format my hard disk\", \"Hard disk format problems\"]"
   ]
  },
  {
   "cell_type": "code",
   "execution_count": 89,
   "metadata": {
    "colab": {},
    "colab_type": "code",
    "id": "ZDDusSAodi4w"
   },
   "outputs": [],
   "source": [
    "from sklearn.feature_extraction.text import CountVectorizer\n",
    "vectorizer = CountVectorizer()\n",
    "X = vectorizer.fit_transform(content)"
   ]
  },
  {
   "cell_type": "code",
   "execution_count": 93,
   "metadata": {
    "colab": {
     "base_uri": "https://localhost:8080/",
     "height": 35
    },
    "colab_type": "code",
    "id": "HtNfAJK7elQk",
    "outputId": "28b3e8db-94d1-4dfe-ee36-0b6b848bef99"
   },
   "outputs": [
    {
     "data": {
      "text/plain": [
       "['disk', 'format', 'hard', 'how', 'my', 'problems', 'to']"
      ]
     },
     "execution_count": 93,
     "metadata": {
      "tags": []
     },
     "output_type": "execute_result"
    }
   ],
   "source": [
    "vectorizer.get_feature_names()"
   ]
  },
  {
   "cell_type": "code",
   "execution_count": 91,
   "metadata": {
    "colab": {
     "base_uri": "https://localhost:8080/",
     "height": 52
    },
    "colab_type": "code",
    "id": "vUF66rRvcyUJ",
    "outputId": "106560f5-ae92-4440-e217-00eb745094aa"
   },
   "outputs": [
    {
     "data": {
      "text/plain": [
       "array([[1, 1, 1, 1, 1, 0, 1],\n",
       "       [1, 1, 1, 0, 0, 1, 0]])"
      ]
     },
     "execution_count": 91,
     "metadata": {
      "tags": []
     },
     "output_type": "execute_result"
    }
   ],
   "source": [
    "X.toarray()"
   ]
  },
  {
   "cell_type": "code",
   "execution_count": 92,
   "metadata": {
    "colab": {
     "base_uri": "https://localhost:8080/",
     "height": 35
    },
    "colab_type": "code",
    "id": "3McORfdFeBYG",
    "outputId": "4068b430-afb9-49a7-a4f8-8ad69386d805"
   },
   "outputs": [
    {
     "data": {
      "text/plain": [
       "(2, 7)"
      ]
     },
     "execution_count": 92,
     "metadata": {
      "tags": []
     },
     "output_type": "execute_result"
    }
   ],
   "source": [
    "X.shape"
   ]
  },
  {
   "cell_type": "code",
   "execution_count": 96,
   "metadata": {
    "colab": {},
    "colab_type": "code",
    "id": "ZulHRiCOeheK"
   },
   "outputs": [],
   "source": [
    "content2 = ['i love hard disk']\n",
    "X2 = vectorizer.transform(content2)"
   ]
  },
  {
   "cell_type": "code",
   "execution_count": 97,
   "metadata": {
    "colab": {
     "base_uri": "https://localhost:8080/",
     "height": 35
    },
    "colab_type": "code",
    "id": "YruxqtUFe1s1",
    "outputId": "211c5619-005e-4f43-945a-2eb53c613c61"
   },
   "outputs": [
    {
     "data": {
      "text/plain": [
       "array([[1, 0, 1, 0, 0, 0, 0]])"
      ]
     },
     "execution_count": 97,
     "metadata": {
      "tags": []
     },
     "output_type": "execute_result"
    }
   ],
   "source": [
    "X2.toarray()"
   ]
  },
  {
   "cell_type": "markdown",
   "metadata": {
    "colab_type": "text",
    "id": "ffqlkg6MiS69"
   },
   "source": [
    "## 建立詞袋模型"
   ]
  },
  {
   "cell_type": "code",
   "execution_count": 98,
   "metadata": {
    "colab": {},
    "colab_type": "code",
    "id": "pDOan9hve54l"
   },
   "outputs": [],
   "source": [
    "contents = ['This is a toy post about machine learning. Actually, it contains not much interesting stuff.',\n",
    "'Imaging databases can get huge.',\n",
    "'Most imaging databases safe images permanently.',\n",
    "'Imaging databases store images.',\n",
    "'Imaging databases store images. Imaging databases store images. Imaging databases store images.']\n"
   ]
  },
  {
   "cell_type": "code",
   "execution_count": 99,
   "metadata": {
    "colab": {},
    "colab_type": "code",
    "id": "hat1WxaEiW2A"
   },
   "outputs": [],
   "source": [
    "from sklearn.feature_extraction.text import CountVectorizer\n",
    "vectorizer = CountVectorizer()\n",
    "X = vectorizer.fit_transform(contents)"
   ]
  },
  {
   "cell_type": "code",
   "execution_count": 100,
   "metadata": {
    "colab": {
     "base_uri": "https://localhost:8080/",
     "height": 55
    },
    "colab_type": "code",
    "id": "_JsySjDJigzz",
    "outputId": "d23f6ea6-8cd6-4edb-cb47-eb9ace12a866"
   },
   "outputs": [
    {
     "name": "stdout",
     "output_type": "stream",
     "text": [
      "['about', 'actually', 'can', 'contains', 'databases', 'get', 'huge', 'images', 'imaging', 'interesting', 'is', 'it', 'learning', 'machine', 'most', 'much', 'not', 'permanently', 'post', 'safe', 'store', 'stuff', 'this', 'toy']\n"
     ]
    }
   ],
   "source": [
    "print(vectorizer.get_feature_names())"
   ]
  },
  {
   "cell_type": "code",
   "execution_count": 101,
   "metadata": {
    "colab": {
     "base_uri": "https://localhost:8080/",
     "height": 52
    },
    "colab_type": "code",
    "id": "gp0wuyr1ijDU",
    "outputId": "3f003b4d-baca-44a5-9164-47449cefa0dc"
   },
   "outputs": [
    {
     "data": {
      "text/plain": [
       "<5x24 sparse matrix of type '<class 'numpy.int64'>'\n",
       "\twith 33 stored elements in Compressed Sparse Row format>"
      ]
     },
     "execution_count": 101,
     "metadata": {
      "tags": []
     },
     "output_type": "execute_result"
    }
   ],
   "source": [
    "X"
   ]
  },
  {
   "cell_type": "code",
   "execution_count": 106,
   "metadata": {
    "colab": {},
    "colab_type": "code",
    "id": "MPdJ-OwXik2D"
   },
   "outputs": [],
   "source": [
    "new_post = 'imaging databases'"
   ]
  },
  {
   "cell_type": "code",
   "execution_count": 107,
   "metadata": {
    "colab": {},
    "colab_type": "code",
    "id": "K_ooSMTWivIR"
   },
   "outputs": [],
   "source": [
    "new_post_vec = vectorizer.transform([new_post])"
   ]
  },
  {
   "cell_type": "code",
   "execution_count": 108,
   "metadata": {
    "colab": {
     "base_uri": "https://localhost:8080/",
     "height": 52
    },
    "colab_type": "code",
    "id": "zCgfcDomi11A",
    "outputId": "6517e4c3-bf9b-4475-9a91-26e4048a5781"
   },
   "outputs": [
    {
     "data": {
      "text/plain": [
       "<1x24 sparse matrix of type '<class 'numpy.int64'>'\n",
       "\twith 2 stored elements in Compressed Sparse Row format>"
      ]
     },
     "execution_count": 108,
     "metadata": {
      "tags": []
     },
     "output_type": "execute_result"
    }
   ],
   "source": [
    "new_post_vec"
   ]
  },
  {
   "cell_type": "code",
   "execution_count": 109,
   "metadata": {
    "colab": {
     "base_uri": "https://localhost:8080/",
     "height": 52
    },
    "colab_type": "code",
    "id": "Or2_JAJii2_B",
    "outputId": "89573710-96c3-4af0-a44b-4b1246f3115a"
   },
   "outputs": [
    {
     "data": {
      "text/plain": [
       "array([[0, 0, 0, 0, 1, 0, 0, 0, 1, 0, 0, 0, 0, 0, 0, 0, 0, 0, 0, 0, 0, 0,\n",
       "        0, 0]])"
      ]
     },
     "execution_count": 109,
     "metadata": {
      "tags": []
     },
     "output_type": "execute_result"
    }
   ],
   "source": [
    "new_post_vec.toarray()"
   ]
  },
  {
   "cell_type": "code",
   "execution_count": 119,
   "metadata": {
    "colab": {
     "base_uri": "https://localhost:8080/",
     "height": 35
    },
    "colab_type": "code",
    "id": "6UQtFZQVi-oG",
    "outputId": "09b48d6a-9cd2-4445-ba05-74c6db7e5fd6"
   },
   "outputs": [
    {
     "data": {
      "text/plain": [
       "4.0"
      ]
     },
     "execution_count": 119,
     "metadata": {
      "tags": []
     },
     "output_type": "execute_result"
    }
   ],
   "source": [
    "# euclidean distance\n",
    "# sqrt(sum ((x - y) ^ 2))\n",
    "import math\n",
    "math.sqrt((((new_post_vec - X[0] ).toarray()) ** 2).sum())"
   ]
  },
  {
   "cell_type": "code",
   "execution_count": 117,
   "metadata": {
    "colab": {
     "base_uri": "https://localhost:8080/",
     "height": 35
    },
    "colab_type": "code",
    "id": "xsDYMfSfjVxT",
    "outputId": "25d36695-b141-43f9-8290-682144ed227c"
   },
   "outputs": [
    {
     "data": {
      "text/plain": [
       "4.0"
      ]
     },
     "execution_count": 117,
     "metadata": {
      "tags": []
     },
     "output_type": "execute_result"
    }
   ],
   "source": [
    "import scipy as sp\n",
    "sp.linalg.norm((new_post_vec - X[0] ).toarray())"
   ]
  },
  {
   "cell_type": "code",
   "execution_count": 121,
   "metadata": {
    "colab": {},
    "colab_type": "code",
    "id": "bZAkOmApkCzg"
   },
   "outputs": [],
   "source": [
    "def dist_raw(v1, v2):\n",
    "  delta = v1-v2\n",
    "  return sp.linalg.norm(delta.toarray())\n"
   ]
  },
  {
   "cell_type": "code",
   "execution_count": 123,
   "metadata": {
    "colab": {
     "base_uri": "https://localhost:8080/",
     "height": 104
    },
    "colab_type": "code",
    "id": "je7DKln7kYMB",
    "outputId": "c970c6c2-32f1-486e-9b04-abecf35489cf"
   },
   "outputs": [
    {
     "name": "stdout",
     "output_type": "stream",
     "text": [
      "This is a toy post about machine learning. Actually, it contains not much interesting stuff. 4.0\n",
      "Imaging databases can get huge. 1.7320508075688772\n",
      "Most imaging databases safe images permanently. 2.0\n",
      "Imaging databases store images. 1.4142135623730951\n",
      "Imaging databases store images. Imaging databases store images. Imaging databases store images. 5.0990195135927845\n"
     ]
    }
   ],
   "source": [
    "for i in range(5):\n",
    "  d = dist_raw(X[i], new_post_vec)\n",
    "  print(contents[i], d)"
   ]
  },
  {
   "cell_type": "code",
   "execution_count": 124,
   "metadata": {
    "colab": {
     "base_uri": "https://localhost:8080/",
     "height": 52
    },
    "colab_type": "code",
    "id": "yPeHN7lEkgrZ",
    "outputId": "66671c6c-6ce7-41bb-a240-dc99bde257bd"
   },
   "outputs": [
    {
     "data": {
      "text/plain": [
       "array([[0, 0, 0, 0, 1, 0, 0, 1, 1, 0, 0, 0, 0, 0, 0, 0, 0, 0, 0, 0, 1, 0,\n",
       "        0, 0]])"
      ]
     },
     "execution_count": 124,
     "metadata": {
      "tags": []
     },
     "output_type": "execute_result"
    }
   ],
   "source": [
    "X[3].toarray()"
   ]
  },
  {
   "cell_type": "code",
   "execution_count": 125,
   "metadata": {
    "colab": {
     "base_uri": "https://localhost:8080/",
     "height": 52
    },
    "colab_type": "code",
    "id": "fyW8Y1oYk3yO",
    "outputId": "be7e9010-b82c-499d-a31f-b48b2f698953"
   },
   "outputs": [
    {
     "data": {
      "text/plain": [
       "array([[0, 0, 0, 0, 3, 0, 0, 3, 3, 0, 0, 0, 0, 0, 0, 0, 0, 0, 0, 0, 3, 0,\n",
       "        0, 0]])"
      ]
     },
     "execution_count": 125,
     "metadata": {
      "tags": []
     },
     "output_type": "execute_result"
    }
   ],
   "source": [
    "X[4].toarray()"
   ]
  },
  {
   "cell_type": "code",
   "execution_count": 126,
   "metadata": {
    "colab": {},
    "colab_type": "code",
    "id": "dRrF-kP2k5WN"
   },
   "outputs": [],
   "source": [
    "def dist(v1, v2):\n",
    "    v1_normalized  = v1 / sp.linalg.norm(v1.toarray()) \n",
    "    v2_normalized  = v2 / sp.linalg.norm(v2.toarray())\n",
    "    delta = v1_normalized - v2_normalized\n",
    "    return sp.linalg.norm(delta.toarray())\n"
   ]
  },
  {
   "cell_type": "code",
   "execution_count": 127,
   "metadata": {
    "colab": {
     "base_uri": "https://localhost:8080/",
     "height": 104
    },
    "colab_type": "code",
    "id": "PB5_T_MtmMbB",
    "outputId": "e488654c-7139-43a5-dee7-369fc29d1c0c"
   },
   "outputs": [
    {
     "name": "stdout",
     "output_type": "stream",
     "text": [
      "This is a toy post about machine learning. Actually, it contains not much interesting stuff. 1.414213562373095\n",
      "Imaging databases can get huge. 0.8573732768944039\n",
      "Most imaging databases safe images permanently. 0.9194016867619662\n",
      "Imaging databases store images. 0.7653668647301795\n",
      "Imaging databases store images. Imaging databases store images. Imaging databases store images. 0.7653668647301795\n"
     ]
    }
   ],
   "source": [
    "for i in range(5):\n",
    "  d = dist(X[i], new_post_vec)\n",
    "  print(contents[i], d)"
   ]
  },
  {
   "cell_type": "code",
   "execution_count": 128,
   "metadata": {
    "colab": {
     "base_uri": "https://localhost:8080/",
     "height": 432
    },
    "colab_type": "code",
    "id": "UDcbM9BZmS7o",
    "outputId": "bfac35c5-53ed-4210-edc7-96381d63b893"
   },
   "outputs": [
    {
     "data": {
      "text/plain": [
       "['about',\n",
       " 'actually',\n",
       " 'can',\n",
       " 'contains',\n",
       " 'databases',\n",
       " 'get',\n",
       " 'huge',\n",
       " 'images',\n",
       " 'imaging',\n",
       " 'interesting',\n",
       " 'is',\n",
       " 'it',\n",
       " 'learning',\n",
       " 'machine',\n",
       " 'most',\n",
       " 'much',\n",
       " 'not',\n",
       " 'permanently',\n",
       " 'post',\n",
       " 'safe',\n",
       " 'store',\n",
       " 'stuff',\n",
       " 'this',\n",
       " 'toy']"
      ]
     },
     "execution_count": 128,
     "metadata": {
      "tags": []
     },
     "output_type": "execute_result"
    }
   ],
   "source": [
    "vectorizer.get_feature_names()"
   ]
  },
  {
   "cell_type": "code",
   "execution_count": 131,
   "metadata": {
    "colab": {},
    "colab_type": "code",
    "id": "TMN3YH1GmeVu"
   },
   "outputs": [],
   "source": [
    "vectorizer = CountVectorizer(stop_words='english')\n",
    "X = vectorizer.fit_transform(contents)"
   ]
  },
  {
   "cell_type": "code",
   "execution_count": 133,
   "metadata": {
    "colab": {
     "base_uri": "https://localhost:8080/",
     "height": 276
    },
    "colab_type": "code",
    "id": "BBG1JUsmmvoN",
    "outputId": "0c29ec1d-bf6f-41a0-c63a-12ee671ed338"
   },
   "outputs": [
    {
     "data": {
      "text/plain": [
       "['actually',\n",
       " 'contains',\n",
       " 'databases',\n",
       " 'huge',\n",
       " 'images',\n",
       " 'imaging',\n",
       " 'interesting',\n",
       " 'learning',\n",
       " 'machine',\n",
       " 'permanently',\n",
       " 'post',\n",
       " 'safe',\n",
       " 'store',\n",
       " 'stuff',\n",
       " 'toy']"
      ]
     },
     "execution_count": 133,
     "metadata": {
      "tags": []
     },
     "output_type": "execute_result"
    }
   ],
   "source": [
    "vectorizer.get_feature_names()"
   ]
  },
  {
   "cell_type": "code",
   "execution_count": 132,
   "metadata": {
    "colab": {
     "base_uri": "https://localhost:8080/",
     "height": 52
    },
    "colab_type": "code",
    "id": "7Xb6AWntmnRf",
    "outputId": "f714247e-edd3-486b-f95e-abe33fbb4f96"
   },
   "outputs": [
    {
     "data": {
      "text/plain": [
       "<5x15 sparse matrix of type '<class 'numpy.int64'>'\n",
       "\twith 24 stored elements in Compressed Sparse Row format>"
      ]
     },
     "execution_count": 132,
     "metadata": {
      "tags": []
     },
     "output_type": "execute_result"
    }
   ],
   "source": [
    "X"
   ]
  },
  {
   "cell_type": "code",
   "execution_count": 134,
   "metadata": {
    "colab": {},
    "colab_type": "code",
    "id": "LhrpZd7imsgM"
   },
   "outputs": [],
   "source": [
    "new_post_vec = vectorizer.transform([new_post])"
   ]
  },
  {
   "cell_type": "code",
   "execution_count": 135,
   "metadata": {
    "colab": {
     "base_uri": "https://localhost:8080/",
     "height": 104
    },
    "colab_type": "code",
    "id": "S-J5Jsd9m49a",
    "outputId": "10461dd4-2014-431f-bd74-a83d0787b9ef"
   },
   "outputs": [
    {
     "name": "stdout",
     "output_type": "stream",
     "text": [
      "This is a toy post about machine learning. Actually, it contains not much interesting stuff. 1.414213562373095\n",
      "Imaging databases can get huge. 0.6058108930553725\n",
      "Most imaging databases safe images permanently. 0.8573732768944039\n",
      "Imaging databases store images. 0.7653668647301795\n",
      "Imaging databases store images. Imaging databases store images. Imaging databases store images. 0.7653668647301795\n"
     ]
    }
   ],
   "source": [
    "for i in range(5):\n",
    "  d = dist(X[i], new_post_vec)\n",
    "  print(contents[i], d)"
   ]
  },
  {
   "cell_type": "code",
   "execution_count": 138,
   "metadata": {
    "colab": {
     "base_uri": "https://localhost:8080/",
     "height": 55
    },
    "colab_type": "code",
    "id": "fEwHDE6nnN0L",
    "outputId": "3ea5fc29-52d5-435b-f9a1-82d55f8a5044"
   },
   "outputs": [
    {
     "name": "stdout",
     "output_type": "stream",
     "text": [
      "['actually', 'contains', 'databases', 'huge', 'images', 'imaging', 'interesting', 'learning', 'machine', 'permanently', 'post', 'safe', 'store', 'stuff', 'toy']\n"
     ]
    }
   ],
   "source": [
    "print(vectorizer.get_feature_names())"
   ]
  },
  {
   "cell_type": "code",
   "execution_count": 136,
   "metadata": {
    "colab": {
     "base_uri": "https://localhost:8080/",
     "height": 35
    },
    "colab_type": "code",
    "id": "qI52cDzMm7Hu",
    "outputId": "597f4686-e1ff-4da4-93ae-60dc3d5b44fa"
   },
   "outputs": [
    {
     "data": {
      "text/plain": [
       "array([[0, 0, 1, 0, 1, 1, 0, 0, 0, 0, 0, 0, 1, 0, 0]])"
      ]
     },
     "execution_count": 136,
     "metadata": {
      "tags": []
     },
     "output_type": "execute_result"
    }
   ],
   "source": [
    "X[3].toarray()"
   ]
  },
  {
   "cell_type": "code",
   "execution_count": 139,
   "metadata": {
    "colab": {
     "base_uri": "https://localhost:8080/",
     "height": 35
    },
    "colab_type": "code",
    "id": "jPHAclgtnMsv",
    "outputId": "ff5f5ec3-2c8a-4eb4-e210-41ce95485390"
   },
   "outputs": [
    {
     "data": {
      "application/vnd.google.colaboratory.intrinsic": {
       "type": "string"
      },
      "text/plain": [
       "'graphic'"
      ]
     },
     "execution_count": 139,
     "metadata": {
      "tags": []
     },
     "output_type": "execute_result"
    }
   ],
   "source": [
    "import nltk.stem\n",
    "s = nltk.stem.SnowballStemmer('english')\n",
    "s.stem('graphics')"
   ]
  },
  {
   "cell_type": "code",
   "execution_count": 140,
   "metadata": {
    "colab": {
     "base_uri": "https://localhost:8080/",
     "height": 86
    },
    "colab_type": "code",
    "id": "vrQbqLxCnpxk",
    "outputId": "06969437-1e52-45a3-c5f7-a5b064a8683f"
   },
   "outputs": [
    {
     "name": "stdout",
     "output_type": "stream",
     "text": [
      "imag\n",
      "imag\n",
      "imagin\n",
      "imagin\n"
     ]
    }
   ],
   "source": [
    "print(s.stem(\"imaging\"))\n",
    "print(s.stem(\"image\"))\n",
    "print(s.stem(\"imagination\"))\n",
    "print(s.stem(\"imagine\"))"
   ]
  },
  {
   "cell_type": "code",
   "execution_count": 141,
   "metadata": {
    "colab": {},
    "colab_type": "code",
    "id": "wQvxXzR4n8BZ"
   },
   "outputs": [],
   "source": [
    "import nltk.stem\n",
    "english_stemmer = nltk.stem.SnowballStemmer('english')\n",
    "\n",
    "class StemmedCountVectorizer(CountVectorizer):\n",
    "    def build_analyzer(self):\n",
    "        analyzer = super(StemmedCountVectorizer, self).build_analyzer()\n",
    "        return lambda doc: (english_stemmer.stem(w) for w in analyzer(doc))\n"
   ]
  },
  {
   "cell_type": "code",
   "execution_count": 142,
   "metadata": {
    "colab": {},
    "colab_type": "code",
    "id": "Ntlqirp4oeDG"
   },
   "outputs": [],
   "source": [
    "vectorizer = StemmedCountVectorizer(stop_words='english')\n",
    "X = vectorizer.fit_transform(contents)"
   ]
  },
  {
   "cell_type": "code",
   "execution_count": 144,
   "metadata": {
    "colab": {
     "base_uri": "https://localhost:8080/",
     "height": 55
    },
    "colab_type": "code",
    "id": "cDQTWkNyospV",
    "outputId": "4a87e905-7e64-4e79-866f-51a562d21fb0"
   },
   "outputs": [
    {
     "name": "stdout",
     "output_type": "stream",
     "text": [
      "['actual', 'contain', 'databas', 'huge', 'imag', 'interest', 'learn', 'machin', 'perman', 'post', 'safe', 'store', 'stuff', 'toy']\n"
     ]
    }
   ],
   "source": [
    "print(vectorizer.get_feature_names())"
   ]
  },
  {
   "cell_type": "code",
   "execution_count": 143,
   "metadata": {
    "colab": {
     "base_uri": "https://localhost:8080/",
     "height": 52
    },
    "colab_type": "code",
    "id": "DwrMGx28oqhs",
    "outputId": "beccd3d2-bc52-4d6f-84ef-e3162054b6e2"
   },
   "outputs": [
    {
     "data": {
      "text/plain": [
       "<5x14 sparse matrix of type '<class 'numpy.int64'>'\n",
       "\twith 21 stored elements in Compressed Sparse Row format>"
      ]
     },
     "execution_count": 143,
     "metadata": {
      "tags": []
     },
     "output_type": "execute_result"
    }
   ],
   "source": [
    "X"
   ]
  },
  {
   "cell_type": "code",
   "execution_count": 145,
   "metadata": {
    "colab": {},
    "colab_type": "code",
    "id": "_8aPucdaoq7C"
   },
   "outputs": [],
   "source": [
    "new_post_vec = vectorizer.transform([new_post])"
   ]
  },
  {
   "cell_type": "code",
   "execution_count": 146,
   "metadata": {
    "colab": {
     "base_uri": "https://localhost:8080/",
     "height": 104
    },
    "colab_type": "code",
    "id": "Fmy-jjlto0hx",
    "outputId": "e56382e2-7a91-4e7a-a6d6-bf3d1794b023"
   },
   "outputs": [
    {
     "name": "stdout",
     "output_type": "stream",
     "text": [
      "This is a toy post about machine learning. Actually, it contains not much interesting stuff. 1.414213562373095\n",
      "Imaging databases can get huge. 0.6058108930553725\n",
      "Most imaging databases safe images permanently. 0.6296288974669553\n",
      "Imaging databases store images. 0.5176380902050415\n",
      "Imaging databases store images. Imaging databases store images. Imaging databases store images. 0.5176380902050415\n"
     ]
    }
   ],
   "source": [
    "for i in range(5):\n",
    "  d = dist(X[i], new_post_vec)\n",
    "  print(contents[i], d)"
   ]
  },
  {
   "cell_type": "markdown",
   "metadata": {
    "colab_type": "text",
    "id": "hzmP9hY7qAxM"
   },
   "source": [
    "## TFIDF"
   ]
  },
  {
   "cell_type": "code",
   "execution_count": 148,
   "metadata": {
    "colab": {},
    "colab_type": "code",
    "id": "89etFEdro2z5"
   },
   "outputs": [],
   "source": [
    "a, abb, abc = ['a'], ['a', 'b', 'b'], ['a', 'b', 'c']\n",
    "D = [a,abb,abc]"
   ]
  },
  {
   "cell_type": "code",
   "execution_count": 149,
   "metadata": {
    "colab": {
     "base_uri": "https://localhost:8080/",
     "height": 35
    },
    "colab_type": "code",
    "id": "YxFNcP-bqHXq",
    "outputId": "f469fec1-5f23-4787-e806-cc545ac76835"
   },
   "outputs": [
    {
     "data": {
      "text/plain": [
       "0.0"
      ]
     },
     "execution_count": 149,
     "metadata": {
      "tags": []
     },
     "output_type": "execute_result"
    }
   ],
   "source": [
    "import math\n",
    "# tfidf('a', a, D)\n",
    "tf = 1/1\n",
    "idf = math.log(3/3)\n",
    "tf * idf"
   ]
  },
  {
   "cell_type": "code",
   "execution_count": 150,
   "metadata": {
    "colab": {
     "base_uri": "https://localhost:8080/",
     "height": 35
    },
    "colab_type": "code",
    "id": "DGOiVO7pqZaP",
    "outputId": "7954ef94-8664-426f-8e5f-d0150ab78d69"
   },
   "outputs": [
    {
     "data": {
      "text/plain": [
       "0.0"
      ]
     },
     "execution_count": 150,
     "metadata": {
      "tags": []
     },
     "output_type": "execute_result"
    }
   ],
   "source": [
    "# tfidf('a', abb, D)\n",
    "tf = 1/3\n",
    "idf = math.log(3/3)\n",
    "tf * idf"
   ]
  },
  {
   "cell_type": "code",
   "execution_count": 151,
   "metadata": {
    "colab": {
     "base_uri": "https://localhost:8080/",
     "height": 35
    },
    "colab_type": "code",
    "id": "1UX0nCFhqgY9",
    "outputId": "cdb11993-a594-4a1c-bdad-b3c68b9e146c"
   },
   "outputs": [
    {
     "data": {
      "text/plain": [
       "0.27031007207210955"
      ]
     },
     "execution_count": 151,
     "metadata": {
      "tags": []
     },
     "output_type": "execute_result"
    }
   ],
   "source": [
    "# tfidf('b', abb, D)\n",
    "tf = 2/3\n",
    "idf = math.log(3/2)\n",
    "tf * idf"
   ]
  },
  {
   "cell_type": "code",
   "execution_count": 152,
   "metadata": {
    "colab": {
     "base_uri": "https://localhost:8080/",
     "height": 35
    },
    "colab_type": "code",
    "id": "Rog38CAFqmEW",
    "outputId": "fca8db53-17d0-4796-f5cd-01f90376d2d5"
   },
   "outputs": [
    {
     "data": {
      "text/plain": [
       "0.0"
      ]
     },
     "execution_count": 152,
     "metadata": {
      "tags": []
     },
     "output_type": "execute_result"
    }
   ],
   "source": [
    "# tfidf('a', abc, D)\n",
    "tf = 1/3\n",
    "idf = math.log(3/3)\n",
    "tf * idf"
   ]
  },
  {
   "cell_type": "code",
   "execution_count": 153,
   "metadata": {
    "colab": {
     "base_uri": "https://localhost:8080/",
     "height": 35
    },
    "colab_type": "code",
    "id": "basj_2Owqr0n",
    "outputId": "a0124716-5772-4814-9236-98597e26790b"
   },
   "outputs": [
    {
     "data": {
      "text/plain": [
       "0.13515503603605478"
      ]
     },
     "execution_count": 153,
     "metadata": {
      "tags": []
     },
     "output_type": "execute_result"
    }
   ],
   "source": [
    "# tfidf('b', abc, D)\n",
    "tf = 1/3\n",
    "idf = math.log(3/2)\n",
    "tf * idf"
   ]
  },
  {
   "cell_type": "code",
   "execution_count": 154,
   "metadata": {
    "colab": {
     "base_uri": "https://localhost:8080/",
     "height": 35
    },
    "colab_type": "code",
    "id": "Aglv8qfDqw7j",
    "outputId": "1481123b-8269-411b-c1e1-253a39552c0c"
   },
   "outputs": [
    {
     "data": {
      "text/plain": [
       "0.3662040962227032"
      ]
     },
     "execution_count": 154,
     "metadata": {
      "tags": []
     },
     "output_type": "execute_result"
    }
   ],
   "source": [
    "# tfidf('c', abc, D)\n",
    "tf = 1/3\n",
    "idf = math.log(3/1)\n",
    "tf * idf"
   ]
  },
  {
   "cell_type": "code",
   "execution_count": 155,
   "metadata": {
    "colab": {},
    "colab_type": "code",
    "id": "5BnFnePgq3eq"
   },
   "outputs": [],
   "source": [
    "def tfidf(t, d, D):\n",
    "  tf = d.count(t) / len(d)\n",
    "  idf  = math.log(len(D)/ len([doc for doc in D if t in doc]) )\n",
    "  return tf * idf"
   ]
  },
  {
   "cell_type": "code",
   "execution_count": 156,
   "metadata": {
    "colab": {
     "base_uri": "https://localhost:8080/",
     "height": 35
    },
    "colab_type": "code",
    "id": "aWYquZ_KrLLq",
    "outputId": "937c76cb-01b3-41d1-a39c-9d0ff068aa67"
   },
   "outputs": [
    {
     "data": {
      "text/plain": [
       "0.3662040962227032"
      ]
     },
     "execution_count": 156,
     "metadata": {
      "tags": []
     },
     "output_type": "execute_result"
    }
   ],
   "source": [
    "tfidf('c', abc, D)"
   ]
  },
  {
   "cell_type": "code",
   "execution_count": 157,
   "metadata": {
    "colab": {},
    "colab_type": "code",
    "id": "QfVIJsrKrO4_"
   },
   "outputs": [],
   "source": [
    "from sklearn.feature_extraction.text import TfidfVectorizer\n",
    "vectorizer = TfidfVectorizer()\n",
    "X = vectorizer.fit_transform(contents)"
   ]
  },
  {
   "cell_type": "code",
   "execution_count": 159,
   "metadata": {
    "colab": {},
    "colab_type": "code",
    "id": "1Ha23f1FreU1"
   },
   "outputs": [],
   "source": [
    "#X.toarray()"
   ]
  },
  {
   "cell_type": "code",
   "execution_count": 160,
   "metadata": {
    "colab": {},
    "colab_type": "code",
    "id": "io17-bbprfJ-"
   },
   "outputs": [],
   "source": [
    "class StemmedTfidfVectorizer(TfidfVectorizer):\n",
    "    def build_analyzer(self):\n",
    "        analyzer = super(TfidfVectorizer,self).build_analyzer()\n",
    "        return lambda doc: (english_stemmer.stem(w) for w in analyzer(doc))\n"
   ]
  },
  {
   "cell_type": "code",
   "execution_count": 164,
   "metadata": {
    "colab": {},
    "colab_type": "code",
    "id": "MPztP5V4roPF"
   },
   "outputs": [],
   "source": [
    "vectorizer = StemmedTfidfVectorizer(stop_words='english')\n",
    "X = vectorizer.fit_transform(contents)"
   ]
  },
  {
   "cell_type": "code",
   "execution_count": 165,
   "metadata": {
    "colab": {
     "base_uri": "https://localhost:8080/",
     "height": 52
    },
    "colab_type": "code",
    "id": "bU80Aq0FrrSk",
    "outputId": "aad34bd0-9d7e-42a3-f166-02b5ccc27fd9"
   },
   "outputs": [
    {
     "data": {
      "text/plain": [
       "<5x14 sparse matrix of type '<class 'numpy.float64'>'\n",
       "\twith 21 stored elements in Compressed Sparse Row format>"
      ]
     },
     "execution_count": 165,
     "metadata": {
      "tags": []
     },
     "output_type": "execute_result"
    }
   ],
   "source": [
    "X"
   ]
  },
  {
   "cell_type": "code",
   "execution_count": 166,
   "metadata": {
    "colab": {},
    "colab_type": "code",
    "id": "5QCFPunnrtS1"
   },
   "outputs": [],
   "source": [
    "new_post_vec = vectorizer.transform([new_post])"
   ]
  },
  {
   "cell_type": "code",
   "execution_count": 167,
   "metadata": {
    "colab": {
     "base_uri": "https://localhost:8080/",
     "height": 104
    },
    "colab_type": "code",
    "id": "25pdgANwr6vV",
    "outputId": "850b1479-ae48-450e-f455-449ecb22ac6e"
   },
   "outputs": [
    {
     "name": "stdout",
     "output_type": "stream",
     "text": [
      "This is a toy post about machine learning. Actually, it contains not much interesting stuff. 1.4142135623730951\n",
      "Imaging databases can get huge. 0.8681697052899789\n",
      "Most imaging databases safe images permanently. 0.859044512133176\n",
      "Imaging databases store images. 0.634205801303706\n",
      "Imaging databases store images. Imaging databases store images. Imaging databases store images. 0.634205801303706\n"
     ]
    }
   ],
   "source": [
    "for i in range(5):\n",
    "  d = dist(X[i], new_post_vec)\n",
    "  print(contents[i], d)"
   ]
  },
  {
   "cell_type": "markdown",
   "metadata": {
    "colab_type": "text",
    "id": "2fj16efZshZm"
   },
   "source": [
    "## 中文詞頻矩陣"
   ]
  },
  {
   "cell_type": "code",
   "execution_count": 168,
   "metadata": {
    "colab": {},
    "colab_type": "code",
    "id": "wUYBYs9Nr-KL"
   },
   "outputs": [],
   "source": [
    "ary = ['【更新】柯P：洪智坤洩漏公文案還沒看到公文　今處理',\n",
    "       '留洪智坤 柯：殘障求職不易',\n",
    "       '人事處議處洪智坤　柯P：不清楚議處結果']\n"
   ]
  },
  {
   "cell_type": "code",
   "execution_count": 174,
   "metadata": {
    "colab": {},
    "colab_type": "code",
    "id": "grUln9Qms8nf"
   },
   "outputs": [],
   "source": [
    "import jieba\n",
    "jieba.add_word('柯P')\n",
    "jieba.add_word('人事處')\n",
    "jieba.add_word('洪智坤')"
   ]
  },
  {
   "cell_type": "code",
   "execution_count": 175,
   "metadata": {
    "colab": {},
    "colab_type": "code",
    "id": "EB-BHXNfsmql"
   },
   "outputs": [],
   "source": [
    "corpus = []\n",
    "for title in ary:\n",
    "  corpus.append(' '.join(jieba.cut(title)))"
   ]
  },
  {
   "cell_type": "code",
   "execution_count": 176,
   "metadata": {
    "colab": {
     "base_uri": "https://localhost:8080/",
     "height": 69
    },
    "colab_type": "code",
    "id": "XaG6vKoJs1_U",
    "outputId": "a6d8aca7-bdae-4651-d472-480e9e04753d"
   },
   "outputs": [
    {
     "data": {
      "text/plain": [
       "['【 更新 】 柯P ： 洪智坤 洩漏 公文 案還 沒 看到 公文 \\u3000 今處理',\n",
       " '留 洪智坤   柯 ： 殘障 求職 不易',\n",
       " '人事處 議處 洪智坤 \\u3000 柯P ： 不 清楚 議處 結果']"
      ]
     },
     "execution_count": 176,
     "metadata": {
      "tags": []
     },
     "output_type": "execute_result"
    }
   ],
   "source": [
    "corpus"
   ]
  },
  {
   "cell_type": "code",
   "execution_count": 177,
   "metadata": {
    "colab": {},
    "colab_type": "code",
    "id": "Mcg1bplSs2m2"
   },
   "outputs": [],
   "source": [
    "from sklearn.feature_extraction.text import CountVectorizer\n",
    "vectorizer = CountVectorizer()\n",
    "X = vectorizer.fit_transform(corpus)"
   ]
  },
  {
   "cell_type": "code",
   "execution_count": 179,
   "metadata": {
    "colab": {
     "base_uri": "https://localhost:8080/",
     "height": 35
    },
    "colab_type": "code",
    "id": "I0_PUFXAtVmS",
    "outputId": "5fdb65f3-f00e-495c-b144-23a92899fad1"
   },
   "outputs": [
    {
     "name": "stdout",
     "output_type": "stream",
     "text": [
      "['不易', '人事處', '今處理', '公文', '更新', '柯p', '案還', '殘障', '求職', '洩漏', '洪智坤', '清楚', '看到', '結果', '議處']\n"
     ]
    }
   ],
   "source": [
    "print(vectorizer.get_feature_names())"
   ]
  },
  {
   "cell_type": "code",
   "execution_count": 180,
   "metadata": {
    "colab": {
     "base_uri": "https://localhost:8080/",
     "height": 69
    },
    "colab_type": "code",
    "id": "FEV2lb93tRn3",
    "outputId": "b96837fe-04fb-4d12-e465-4893d62cddea"
   },
   "outputs": [
    {
     "data": {
      "text/plain": [
       "array([[0, 0, 1, 2, 1, 1, 1, 0, 0, 1, 1, 0, 1, 0, 0],\n",
       "       [1, 0, 0, 0, 0, 0, 0, 1, 1, 0, 1, 0, 0, 0, 0],\n",
       "       [0, 1, 0, 0, 0, 1, 0, 0, 0, 0, 1, 1, 0, 1, 2]])"
      ]
     },
     "execution_count": 180,
     "metadata": {
      "tags": []
     },
     "output_type": "execute_result"
    }
   ],
   "source": [
    "X.toarray()"
   ]
  },
  {
   "cell_type": "code",
   "execution_count": 181,
   "metadata": {
    "colab": {},
    "colab_type": "code",
    "id": "06W-dbRwtSE8"
   },
   "outputs": [],
   "source": [
    "from sklearn.feature_extraction.text import TfidfVectorizer\n",
    "vectorizer = TfidfVectorizer()\n",
    "X = vectorizer.fit_transform(corpus)"
   ]
  },
  {
   "cell_type": "code",
   "execution_count": 182,
   "metadata": {
    "colab": {
     "base_uri": "https://localhost:8080/",
     "height": 173
    },
    "colab_type": "code",
    "id": "zNq7ClECtjhR",
    "outputId": "4c0e09c8-130d-4582-fd84-806f77a709ea"
   },
   "outputs": [
    {
     "data": {
      "text/plain": [
       "array([[0.        , 0.        , 0.31738473, 0.63476946, 0.31738473,\n",
       "        0.24137927, 0.31738473, 0.        , 0.        , 0.31738473,\n",
       "        0.18745253, 0.        , 0.31738473, 0.        , 0.        ],\n",
       "       [0.54645401, 0.        , 0.        , 0.        , 0.        ,\n",
       "        0.        , 0.        , 0.54645401, 0.54645401, 0.        ,\n",
       "        0.32274454, 0.        , 0.        , 0.        , 0.        ],\n",
       "       [0.        , 0.35517252, 0.        , 0.        , 0.        ,\n",
       "        0.27011786, 0.        , 0.        , 0.        , 0.        ,\n",
       "        0.20977061, 0.35517252, 0.        , 0.35517252, 0.71034504]])"
      ]
     },
     "execution_count": 182,
     "metadata": {
      "tags": []
     },
     "output_type": "execute_result"
    }
   ],
   "source": [
    "X.toarray()"
   ]
  },
  {
   "cell_type": "code",
   "execution_count": null,
   "metadata": {
    "colab": {},
    "colab_type": "code",
    "id": "_RCgHp7ptk_H"
   },
   "outputs": [],
   "source": []
  }
 ],
 "metadata": {
  "colab": {
   "collapsed_sections": [],
   "name": "Demo20200722.ipynb",
   "provenance": []
  },
  "kernelspec": {
   "display_name": "Python 3",
   "language": "python",
   "name": "python3"
  },
  "language_info": {
   "codemirror_mode": {
    "name": "ipython",
    "version": 3
   },
   "file_extension": ".py",
   "mimetype": "text/x-python",
   "name": "python",
   "nbconvert_exporter": "python",
   "pygments_lexer": "ipython3",
   "version": "3.7.3"
  }
 },
 "nbformat": 4,
 "nbformat_minor": 1
}
