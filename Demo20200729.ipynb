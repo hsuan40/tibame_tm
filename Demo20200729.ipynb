{
  "nbformat": 4,
  "nbformat_minor": 0,
  "metadata": {
    "colab": {
      "name": "Demo20200729.ipynb",
      "provenance": [],
      "collapsed_sections": []
    },
    "kernelspec": {
      "name": "python3",
      "display_name": "Python 3"
    }
  },
  "cells": [
    {
      "cell_type": "markdown",
      "metadata": {
        "id": "mduavn94V_-R",
        "colab_type": "text"
      },
      "source": [
        "## 作業三"
      ]
    },
    {
      "cell_type": "markdown",
      "metadata": {
        "id": "cbKkOyimWEKH",
        "colab_type": "text"
      },
      "source": [
        "### 方法一"
      ]
    },
    {
      "cell_type": "code",
      "metadata": {
        "id": "bT_DkRlSU_cm",
        "colab_type": "code",
        "colab": {
          "base_uri": "https://localhost:8080/",
          "height": 207
        },
        "outputId": "e8f431c5-a371-434d-a186-718c62705ff1"
      },
      "source": [
        "! wget https://raw.githubusercontent.com/ywchiu/tibame_tm/master/data/creditcard_titles.csv"
      ],
      "execution_count": 1,
      "outputs": [
        {
          "output_type": "stream",
          "text": [
            "--2020-07-29 11:32:37--  https://raw.githubusercontent.com/ywchiu/tibame_tm/master/data/creditcard_titles.csv\n",
            "Resolving raw.githubusercontent.com (raw.githubusercontent.com)... 151.101.0.133, 151.101.64.133, 151.101.128.133, ...\n",
            "Connecting to raw.githubusercontent.com (raw.githubusercontent.com)|151.101.0.133|:443... connected.\n",
            "HTTP request sent, awaiting response... 200 OK\n",
            "Length: 3688 (3.6K) [text/plain]\n",
            "Saving to: ‘creditcard_titles.csv’\n",
            "\n",
            "\rcreditcard_titles.c   0%[                    ]       0  --.-KB/s               \rcreditcard_titles.c 100%[===================>]   3.60K  --.-KB/s    in 0s      \n",
            "\n",
            "2020-07-29 11:32:37 (60.6 MB/s) - ‘creditcard_titles.csv’ saved [3688/3688]\n",
            "\n"
          ],
          "name": "stdout"
        }
      ]
    },
    {
      "cell_type": "code",
      "metadata": {
        "id": "HIkrFr5FWHRH",
        "colab_type": "code",
        "colab": {}
      },
      "source": [
        "titles = []\n",
        "with open('creditcard_titles.csv') as f:\n",
        "  for line in f.readlines()[1:]:\n",
        "    titles.append(line.strip().split(',')[1])"
      ],
      "execution_count": 9,
      "outputs": []
    },
    {
      "cell_type": "code",
      "metadata": {
        "id": "XHNFlebMWRpN",
        "colab_type": "code",
        "colab": {}
      },
      "source": [
        "#titles"
      ],
      "execution_count": 23,
      "outputs": []
    },
    {
      "cell_type": "markdown",
      "metadata": {
        "id": "OtMosS1jW2uF",
        "colab_type": "text"
      },
      "source": [
        "### 方法二"
      ]
    },
    {
      "cell_type": "code",
      "metadata": {
        "id": "ZObxHUwQWbNE",
        "colab_type": "code",
        "colab": {}
      },
      "source": [
        "import pandas\n",
        "df = pandas.read_csv('creditcard_titles.csv', index_col = 0)"
      ],
      "execution_count": 13,
      "outputs": []
    },
    {
      "cell_type": "code",
      "metadata": {
        "id": "PDCL836BXA5m",
        "colab_type": "code",
        "colab": {}
      },
      "source": [
        "titles = df['title'].tolist()"
      ],
      "execution_count": 17,
      "outputs": []
    },
    {
      "cell_type": "markdown",
      "metadata": {
        "id": "6h6D6NdxXWM6",
        "colab_type": "text"
      },
      "source": [
        "### 方法三"
      ]
    },
    {
      "cell_type": "code",
      "metadata": {
        "id": "PRmSyvTNXBVv",
        "colab_type": "code",
        "colab": {}
      },
      "source": [
        "import pandas\n",
        "df = pandas.read_csv('https://raw.githubusercontent.com/ywchiu/tibame_tm/master/data/creditcard_titles.csv', index_col = 0)"
      ],
      "execution_count": 18,
      "outputs": []
    },
    {
      "cell_type": "code",
      "metadata": {
        "id": "Bx5hwDvSXlal",
        "colab_type": "code",
        "colab": {}
      },
      "source": [
        "titles = df['title'].tolist()"
      ],
      "execution_count": 22,
      "outputs": []
    },
    {
      "cell_type": "code",
      "metadata": {
        "id": "6erZTX-SXmjJ",
        "colab_type": "code",
        "colab": {}
      },
      "source": [
        "import jieba\n",
        "jieba.add_word('台新')\n",
        "jieba.add_word('富邦')\n",
        "jieba.load_userdict('userdict.txt')\n",
        "corpus = []\n",
        "for title in titles:\n",
        "  corpus.append(' '.join(jieba.cut(title)))\n",
        "#print(corpus)"
      ],
      "execution_count": 31,
      "outputs": []
    },
    {
      "cell_type": "code",
      "metadata": {
        "id": "zr_nfHb6YBWx",
        "colab_type": "code",
        "colab": {}
      },
      "source": [
        "from sklearn.feature_extraction.text import CountVectorizer\n",
        "vectorizer = CountVectorizer(stop_words = ['不是'])\n",
        "X = vectorizer.fit_transform(corpus)"
      ],
      "execution_count": 36,
      "outputs": []
    },
    {
      "cell_type": "code",
      "metadata": {
        "id": "3f00APqEZjp0",
        "colab_type": "code",
        "colab": {
          "base_uri": "https://localhost:8080/",
          "height": 55
        },
        "outputId": "2dfcac6a-0a93-4839-cc43-2e1f09ec7f0b"
      },
      "source": [
        "print(vectorizer.get_feature_names())"
      ],
      "execution_count": 37,
      "outputs": [
        {
          "output_type": "stream",
          "text": [
            "['10', '109', '15', '150', '18', '2020', '50', 'ana', 'app', 'apple', 'bear', 'costco', 'gogo', 'happy', 'hello', 'icash', 'kitty', 'line', 'linepay', 'money', 'money101', 'only', 'pay', 'pi', 're', 'ubear', 'ubereat', 'wallet', 'youbike2', '三代', '三倍', '三越', '上市', '上網', '上路', '下半年', '不划算', '世界', '中信', '中油', '付款', '位券', '使用', '促刷', '信用卡', '倍券', '優惠', '元大', '兆豐', '全新', '凱基', '分期', '分眾', '列入', '刷卡', '券綁', '加碼', '助理', '匯豐', '匯豐及', '卡娜', '卡換', '卡新戶禮', '卡會', '卡未核', '卡申', '卡莉', '卡面', '可以', '台哥', '台新', '合庫', '名額', '售票', '商務御璽', '商機', '問去', '問題', '嘟嘟', '回饋', '國旅', '國泰', '園學費', '土地', '城市', '外幣', '多家', '大滿', '大聯名', '太陽', '如何', '學貸', '家人', '寄來', '富邦', '寰宇', '小白', '屈臣氏', '年繳', '幼兒', '張高', '影城', '御璽', '心得', '悍將', '悠遊', '情報', '感謝', '應援哩', '懶人包', '房停車', '折抵', '抽獎', '拚振興', '指定', '振新券', '振興券', '掛號', '推數', '推薦', '推銷', '改換', '整理', '新光', '新戶', '新聞', '星展', '最新', '有人', '未過', '本月', '查詢', '核卡', '樂天', '樂跑', '正常', '永豐幣', '沒有', '活動', '消費', '渣打', '炫晶', '無限卡享', '熊回饋', '燃料', '玉山', '現金', '申請', '疑問', '研究', '神奇', '算實體', '簡訊', '粉紅', '紙本', '紙本券', '經濟部', '線上', '繳卡費', '繳稅', '繳納', '繳費', '聯名', '聯邦', '聯邦卡', '自動', '花旗', '討論', '調額', '請問', '謄本', '證明', '財力', '貫之路', '費用', '賴點', '近視', '這是', '通路', '金卡', '金融', '金袋', '金額', '銀行', '鑽金', '閒聊', '關於', '限制', '雷射', '電話', '頂級', '預購', '領現', '頻率', '額度', '飯店', '高雄']\n"
          ],
          "name": "stdout"
        }
      ]
    },
    {
      "cell_type": "code",
      "metadata": {
        "id": "5nDgBY_PZeJV",
        "colab_type": "code",
        "colab": {
          "base_uri": "https://localhost:8080/",
          "height": 52
        },
        "outputId": "40a5b6b0-ec6d-4892-cffc-a8c170f12a1f"
      },
      "source": [
        "X"
      ],
      "execution_count": 33,
      "outputs": [
        {
          "output_type": "execute_result",
          "data": {
            "text/plain": [
              "<71x198 sparse matrix of type '<class 'numpy.int64'>'\n",
              "\twith 451 stored elements in Compressed Sparse Row format>"
            ]
          },
          "metadata": {
            "tags": []
          },
          "execution_count": 33
        }
      ]
    },
    {
      "cell_type": "code",
      "metadata": {
        "id": "bgvb4zxNZesT",
        "colab_type": "code",
        "colab": {}
      },
      "source": [
        "import re\n",
        "corpus = []\n",
        "for title in titles:\n",
        "  segwords = []\n",
        "  for word in jieba.cut(title):\n",
        "    m = re.match('[\\u4e00-\\u9fa5]+', word)\n",
        "    if m:\n",
        "      segwords.append(word)\n",
        "  corpus.append(' '.join(segwords))"
      ],
      "execution_count": 38,
      "outputs": []
    },
    {
      "cell_type": "code",
      "metadata": {
        "id": "8Q8rprzYaoNx",
        "colab_type": "code",
        "colab": {}
      },
      "source": [
        "from sklearn.feature_extraction.text import CountVectorizer\n",
        "vectorizer = CountVectorizer()\n",
        "X = vectorizer.fit_transform(corpus)"
      ],
      "execution_count": 39,
      "outputs": []
    },
    {
      "cell_type": "code",
      "metadata": {
        "id": "_LsL1XHnarOP",
        "colab_type": "code",
        "colab": {
          "base_uri": "https://localhost:8080/",
          "height": 55
        },
        "outputId": "ec19c2e0-61c8-4aec-a86b-358875a495c3"
      },
      "source": [
        "print(vectorizer.get_feature_names())"
      ],
      "execution_count": 40,
      "outputs": [
        {
          "output_type": "stream",
          "text": [
            "['三代', '三倍', '三越', '上市', '上網', '上路', '下半年', '不划算', '不是', '世界', '中信', '中油', '付款', '位券', '使用', '促刷', '信用卡', '倍券', '優惠', '元大', '兆豐', '全新', '凱基', '分期', '分眾', '列入', '刷卡', '券綁', '加碼', '助理', '匯豐', '匯豐及', '卡娜', '卡換', '卡新戶禮', '卡會', '卡未核', '卡申', '卡莉', '卡面', '可以', '台哥', '台新', '合庫', '名額', '售票', '商務御璽', '商機', '問去', '問題', '嘟嘟', '回饋', '國旅', '國泰', '園學費', '土地', '城市', '外幣', '多家', '大滿', '大聯名', '太陽', '如何', '學貸', '家人', '寄來', '富邦', '寰宇', '小白', '屈臣氏', '年繳', '幼兒', '張高', '影城', '御璽', '心得', '悍將', '悠遊', '情報', '感謝', '應援哩', '懶人包', '房停車', '折抵', '抽獎', '拚振興', '指定', '振新券', '振興券', '掛號', '推數', '推薦', '推銷', '改換', '整理', '新光', '新戶', '新聞', '星展', '最新', '有人', '未過', '本月', '查詢', '核卡', '樂天', '樂跑', '正常', '永豐幣', '沒有', '活動', '消費', '渣打', '炫晶', '無限卡享', '熊回饋', '燃料', '玉山', '現金', '申請', '疑問', '研究', '神奇', '算實體', '簡訊', '粉紅', '紙本', '紙本券', '經濟部', '線上', '繳卡費', '繳稅', '繳納', '繳費', '聯名', '聯邦', '聯邦卡', '自動', '花旗', '討論', '調額', '請問', '謄本', '證明', '財力', '貫之路', '費用', '賴點', '近視', '這是', '通路', '金卡', '金融', '金袋', '金額', '銀行', '鑽金', '閒聊', '關於', '限制', '雷射', '電話', '頂級', '預購', '領現', '頻率', '額度', '飯店', '高雄']\n"
          ],
          "name": "stdout"
        }
      ]
    },
    {
      "cell_type": "code",
      "metadata": {
        "id": "uozBxB9jatZl",
        "colab_type": "code",
        "colab": {}
      },
      "source": [
        "import re\n",
        "corpus = []\n",
        "for title in titles:\n",
        "  corpus.append([word for word in jieba.cut(title) if re.match('[\\u4e00-\\u9fa5]+', word)])\n",
        "  "
      ],
      "execution_count": 41,
      "outputs": []
    },
    {
      "cell_type": "code",
      "metadata": {
        "id": "UeMmBrEka7BM",
        "colab_type": "code",
        "colab": {}
      },
      "source": [
        "class ChineseCountVectorizer(CountVectorizer):\n",
        "    def build_analyzer(self):\n",
        "        analyzer = super(ChineseCountVectorizer, self).build_analyzer()\n",
        "        return lambda doc: (w for w in analyzer(doc) if re.match('[\\u4e00-\\u9fa5]+', w))"
      ],
      "execution_count": 42,
      "outputs": []
    },
    {
      "cell_type": "code",
      "metadata": {
        "id": "A3BzoCyEbNJA",
        "colab_type": "code",
        "colab": {}
      },
      "source": [
        "corpus = []\n",
        "for title in titles:\n",
        "  corpus.append(' '.join(jieba.cut(title)))"
      ],
      "execution_count": 43,
      "outputs": []
    },
    {
      "cell_type": "code",
      "metadata": {
        "id": "8kegwjfebPzT",
        "colab_type": "code",
        "colab": {}
      },
      "source": [
        "vectorizer = ChineseCountVectorizer()\n",
        "X = vectorizer.fit_transform(corpus)"
      ],
      "execution_count": 44,
      "outputs": []
    },
    {
      "cell_type": "code",
      "metadata": {
        "id": "5C2Xv4WXbTHo",
        "colab_type": "code",
        "colab": {
          "base_uri": "https://localhost:8080/",
          "height": 55
        },
        "outputId": "786a6124-efb2-44f5-94de-d6f4e00a8b74"
      },
      "source": [
        "print(vectorizer.get_feature_names())"
      ],
      "execution_count": 45,
      "outputs": [
        {
          "output_type": "stream",
          "text": [
            "['三代', '三倍', '三越', '上市', '上網', '上路', '下半年', '不划算', '不是', '世界', '中信', '中油', '付款', '位券', '使用', '促刷', '信用卡', '倍券', '優惠', '元大', '兆豐', '全新', '凱基', '分期', '分眾', '列入', '刷卡', '券綁', '加碼', '助理', '匯豐', '匯豐及', '卡娜', '卡換', '卡新戶禮', '卡會', '卡未核', '卡申', '卡莉', '卡面', '可以', '台哥', '台新', '合庫', '名額', '售票', '商務御璽', '商機', '問去', '問題', '嘟嘟', '回饋', '國旅', '國泰', '園學費', '土地', '城市', '外幣', '多家', '大滿', '大聯名', '太陽', '如何', '學貸', '家人', '寄來', '富邦', '寰宇', '小白', '屈臣氏', '年繳', '幼兒', '張高', '影城', '御璽', '心得', '悍將', '悠遊', '情報', '感謝', '應援哩', '懶人包', '房停車', '折抵', '抽獎', '拚振興', '指定', '振新券', '振興券', '掛號', '推數', '推薦', '推銷', '改換', '整理', '新光', '新戶', '新聞', '星展', '最新', '有人', '未過', '本月', '查詢', '核卡', '樂天', '樂跑', '正常', '永豐幣', '沒有', '活動', '消費', '渣打', '炫晶', '無限卡享', '熊回饋', '燃料', '玉山', '現金', '申請', '疑問', '研究', '神奇', '算實體', '簡訊', '粉紅', '紙本', '紙本券', '經濟部', '線上', '繳卡費', '繳稅', '繳納', '繳費', '聯名', '聯邦', '聯邦卡', '自動', '花旗', '討論', '調額', '請問', '謄本', '證明', '財力', '貫之路', '費用', '賴點', '近視', '這是', '通路', '金卡', '金融', '金袋', '金額', '銀行', '鑽金', '閒聊', '關於', '限制', '雷射', '電話', '頂級', '預購', '領現', '頻率', '額度', '飯店', '高雄']\n"
          ],
          "name": "stdout"
        }
      ]
    },
    {
      "cell_type": "code",
      "metadata": {
        "id": "z7SGkhuFbU-f",
        "colab_type": "code",
        "colab": {}
      },
      "source": [
        "from sklearn.feature_extraction.text import TfidfVectorizer\n",
        "vectorizer = TfidfVectorizer()\n",
        "X = vectorizer.fit_transform(corpus)"
      ],
      "execution_count": 46,
      "outputs": []
    },
    {
      "cell_type": "markdown",
      "metadata": {
        "id": "2Z8KffGicq_F",
        "colab_type": "text"
      },
      "source": [
        "## Euclidean Distance"
      ]
    },
    {
      "cell_type": "code",
      "metadata": {
        "id": "bySjTv-_berX",
        "colab_type": "code",
        "colab": {}
      },
      "source": [
        "contents = ['This is a toy post about machine learning. Actually, it contains not much interesting stuff.',\n",
        "'Imaging databases can get huge.',\n",
        "'Most imaging databases safe images permanently.',\n",
        "'Imaging databases store images.',\n",
        "'Imaging databases store images. Imaging databases store images. Imaging databases store images.']"
      ],
      "execution_count": 47,
      "outputs": []
    },
    {
      "cell_type": "code",
      "metadata": {
        "id": "AAedbEFvcvof",
        "colab_type": "code",
        "colab": {}
      },
      "source": [
        "corpus = []\n",
        "for doc in contents:\n",
        "  corpus.append(doc.lower())"
      ],
      "execution_count": 50,
      "outputs": []
    },
    {
      "cell_type": "code",
      "metadata": {
        "id": "IMMJ2zugdCmm",
        "colab_type": "code",
        "colab": {}
      },
      "source": [
        "corpus = [doc.lower() for doc in contents]"
      ],
      "execution_count": 51,
      "outputs": []
    },
    {
      "cell_type": "code",
      "metadata": {
        "id": "LRPYUwmKdNQ1",
        "colab_type": "code",
        "colab": {}
      },
      "source": [
        "from sklearn.feature_extraction.text import CountVectorizer\n",
        "vectorizer = CountVectorizer()\n",
        "X = vectorizer.fit_transform(corpus)"
      ],
      "execution_count": 52,
      "outputs": []
    },
    {
      "cell_type": "code",
      "metadata": {
        "id": "2L-ihvoddZfc",
        "colab_type": "code",
        "colab": {
          "base_uri": "https://localhost:8080/",
          "height": 52
        },
        "outputId": "ef77e45b-1be9-4b49-9703-8fdcf7030e36"
      },
      "source": [
        "X"
      ],
      "execution_count": 53,
      "outputs": [
        {
          "output_type": "execute_result",
          "data": {
            "text/plain": [
              "<5x24 sparse matrix of type '<class 'numpy.int64'>'\n",
              "\twith 33 stored elements in Compressed Sparse Row format>"
            ]
          },
          "metadata": {
            "tags": []
          },
          "execution_count": 53
        }
      ]
    },
    {
      "cell_type": "code",
      "metadata": {
        "id": "acjn87eXdaEz",
        "colab_type": "code",
        "colab": {
          "base_uri": "https://localhost:8080/",
          "height": 52
        },
        "outputId": "8e962c4d-5edf-4c77-d174-e00c12e80545"
      },
      "source": [
        "X[0].toarray().flatten()"
      ],
      "execution_count": 56,
      "outputs": [
        {
          "output_type": "execute_result",
          "data": {
            "text/plain": [
              "array([1, 1, 0, 1, 0, 0, 0, 0, 0, 1, 1, 1, 1, 1, 0, 1, 1, 0, 1, 0, 0, 1,\n",
              "       1, 1])"
            ]
          },
          "metadata": {
            "tags": []
          },
          "execution_count": 56
        }
      ]
    },
    {
      "cell_type": "code",
      "metadata": {
        "id": "8IsV3Hw_ddFz",
        "colab_type": "code",
        "colab": {
          "base_uri": "https://localhost:8080/",
          "height": 52
        },
        "outputId": "c00be862-dd59-412b-f829-eae5c033e11e"
      },
      "source": [
        "X[1].toarray().flatten()"
      ],
      "execution_count": 57,
      "outputs": [
        {
          "output_type": "execute_result",
          "data": {
            "text/plain": [
              "array([0, 0, 1, 0, 1, 1, 1, 0, 1, 0, 0, 0, 0, 0, 0, 0, 0, 0, 0, 0, 0, 0,\n",
              "       0, 0])"
            ]
          },
          "metadata": {
            "tags": []
          },
          "execution_count": 57
        }
      ]
    },
    {
      "cell_type": "code",
      "metadata": {
        "id": "o9F0qzIEdkAb",
        "colab_type": "code",
        "colab": {
          "base_uri": "https://localhost:8080/",
          "height": 35
        },
        "outputId": "e7e4913c-14e6-4c8d-acee-b6bc224d249a"
      },
      "source": [
        "import math\n",
        "math.sqrt(sum((X[0].toarray().flatten() - X[1].toarray().flatten()) ** 2))"
      ],
      "execution_count": 61,
      "outputs": [
        {
          "output_type": "execute_result",
          "data": {
            "text/plain": [
              "4.358898943540674"
            ]
          },
          "metadata": {
            "tags": []
          },
          "execution_count": 61
        }
      ]
    },
    {
      "cell_type": "code",
      "metadata": {
        "id": "QCbyYsZzdnxS",
        "colab_type": "code",
        "colab": {}
      },
      "source": [
        "import scipy as sp\n",
        "\n",
        "def dist_raw(v1, v2):\n",
        "  delta = v1-v2\n",
        "  return sp.linalg.norm(delta.toarray())\n"
      ],
      "execution_count": 63,
      "outputs": []
    },
    {
      "cell_type": "code",
      "metadata": {
        "id": "1F2AXChqd6_W",
        "colab_type": "code",
        "colab": {
          "base_uri": "https://localhost:8080/",
          "height": 35
        },
        "outputId": "3af020e1-f675-472f-c912-54428b93f6ce"
      },
      "source": [
        "dist_raw(X[0] ,X[1] )"
      ],
      "execution_count": 66,
      "outputs": [
        {
          "output_type": "execute_result",
          "data": {
            "text/plain": [
              "4.358898943540674"
            ]
          },
          "metadata": {
            "tags": []
          },
          "execution_count": 66
        }
      ]
    },
    {
      "cell_type": "code",
      "metadata": {
        "id": "VO6G9GjFd-7N",
        "colab_type": "code",
        "colab": {
          "base_uri": "https://localhost:8080/",
          "height": 104
        },
        "outputId": "5ad32a88-815a-49fb-c63b-15db73015725"
      },
      "source": [
        "from sklearn.metrics.pairwise import euclidean_distances\n",
        "euclidean_distances(X)"
      ],
      "execution_count": 67,
      "outputs": [
        {
          "output_type": "execute_result",
          "data": {
            "text/plain": [
              "array([[0.        , 4.35889894, 4.47213595, 4.24264069, 7.07106781],\n",
              "       [4.35889894, 0.        , 2.64575131, 2.23606798, 5.38516481],\n",
              "       [4.47213595, 2.64575131, 0.        , 2.        , 4.89897949],\n",
              "       [4.24264069, 2.23606798, 2.        , 0.        , 4.        ],\n",
              "       [7.07106781, 5.38516481, 4.89897949, 4.        , 0.        ]])"
            ]
          },
          "metadata": {
            "tags": []
          },
          "execution_count": 67
        }
      ]
    },
    {
      "cell_type": "markdown",
      "metadata": {
        "id": "O5jbj8ote8BJ",
        "colab_type": "text"
      },
      "source": [
        "## Jaccard Similarity"
      ]
    },
    {
      "cell_type": "code",
      "metadata": {
        "id": "aQvbtfrfeSWa",
        "colab_type": "code",
        "colab": {
          "base_uri": "https://localhost:8080/",
          "height": 35
        },
        "outputId": "cc578f02-0969-462f-cae8-c8ecaf000aa2"
      },
      "source": [
        "import numpy as np\n",
        "a = np.array([3,3,1,0,0,2])\n",
        "(a > 0).astype(int)"
      ],
      "execution_count": 70,
      "outputs": [
        {
          "output_type": "execute_result",
          "data": {
            "text/plain": [
              "array([1, 1, 1, 0, 0, 1])"
            ]
          },
          "metadata": {
            "tags": []
          },
          "execution_count": 70
        }
      ]
    },
    {
      "cell_type": "code",
      "metadata": {
        "id": "ufakn_LTfHWy",
        "colab_type": "code",
        "colab": {
          "base_uri": "https://localhost:8080/",
          "height": 35
        },
        "outputId": "61a215ec-b637-4fe6-c669-ec41bbaa7741"
      },
      "source": [
        "np.asarray(a, np.bool)"
      ],
      "execution_count": 71,
      "outputs": [
        {
          "output_type": "execute_result",
          "data": {
            "text/plain": [
              "array([ True,  True,  True, False, False,  True])"
            ]
          },
          "metadata": {
            "tags": []
          },
          "execution_count": 71
        }
      ]
    },
    {
      "cell_type": "code",
      "metadata": {
        "id": "BF_qfkm4fOPI",
        "colab_type": "code",
        "colab": {}
      },
      "source": [
        "def jaccard(v1,v2):\n",
        "  v1 = np.asarray(v1, np.bool)\n",
        "  v2 = np.asarray(v2, np.bool)\n",
        "  return np.double(np.bitwise_and(v1, v2).sum()) / np.double(np.bitwise_or(v1, v2).sum())"
      ],
      "execution_count": 75,
      "outputs": []
    },
    {
      "cell_type": "code",
      "metadata": {
        "id": "Kptj0OjKfizs",
        "colab_type": "code",
        "colab": {
          "base_uri": "https://localhost:8080/",
          "height": 35
        },
        "outputId": "df970312-5d93-4cd0-d163-a3d78ce7407d"
      },
      "source": [
        "jaccard(X[0].toarray().flatten(),X[1].toarray().flatten())"
      ],
      "execution_count": 77,
      "outputs": [
        {
          "output_type": "execute_result",
          "data": {
            "text/plain": [
              "0.0"
            ]
          },
          "metadata": {
            "tags": []
          },
          "execution_count": 77
        }
      ]
    },
    {
      "cell_type": "code",
      "metadata": {
        "id": "O6DiSvYdfvKT",
        "colab_type": "code",
        "colab": {
          "base_uri": "https://localhost:8080/",
          "height": 35
        },
        "outputId": "32fa8881-75b8-4291-8d4d-a3e8dd569e5f"
      },
      "source": [
        "jaccard(X[3].toarray().flatten(),X[4].toarray().flatten())"
      ],
      "execution_count": 78,
      "outputs": [
        {
          "output_type": "execute_result",
          "data": {
            "text/plain": [
              "1.0"
            ]
          },
          "metadata": {
            "tags": []
          },
          "execution_count": 78
        }
      ]
    },
    {
      "cell_type": "code",
      "metadata": {
        "id": "uuWUaGn7f29_",
        "colab_type": "code",
        "colab": {
          "base_uri": "https://localhost:8080/",
          "height": 35
        },
        "outputId": "bcd26b1f-54f0-44ee-f847-f222595f0a9d"
      },
      "source": [
        "from sklearn.metrics import jaccard_score\n",
        "v1 = np.asarray(X[3].toarray().flatten(), np.bool)\n",
        "v2 = np.asarray(X[4].toarray().flatten(), np.bool)\n",
        "jaccard_score(v1, v2)"
      ],
      "execution_count": 80,
      "outputs": [
        {
          "output_type": "execute_result",
          "data": {
            "text/plain": [
              "1.0"
            ]
          },
          "metadata": {
            "tags": []
          },
          "execution_count": 80
        }
      ]
    },
    {
      "cell_type": "code",
      "metadata": {
        "id": "p5HmPBkkgJGA",
        "colab_type": "code",
        "colab": {
          "base_uri": "https://localhost:8080/",
          "height": 35
        },
        "outputId": "484e0d42-211c-4619-b202-4da0aa1004f4"
      },
      "source": [
        "X.shape"
      ],
      "execution_count": 82,
      "outputs": [
        {
          "output_type": "execute_result",
          "data": {
            "text/plain": [
              "(5, 24)"
            ]
          },
          "metadata": {
            "tags": []
          },
          "execution_count": 82
        }
      ]
    },
    {
      "cell_type": "code",
      "metadata": {
        "id": "TlTeLAF6gZ0h",
        "colab_type": "code",
        "colab": {
          "base_uri": "https://localhost:8080/",
          "height": 35
        },
        "outputId": "79fb4653-dc62-4951-a653-4a107f86e62f"
      },
      "source": [
        "X.shape[0]"
      ],
      "execution_count": 83,
      "outputs": [
        {
          "output_type": "execute_result",
          "data": {
            "text/plain": [
              "5"
            ]
          },
          "metadata": {
            "tags": []
          },
          "execution_count": 83
        }
      ]
    },
    {
      "cell_type": "code",
      "metadata": {
        "id": "AM9m8tyDgjJ1",
        "colab_type": "code",
        "colab": {}
      },
      "source": [
        "n = X.shape[0]"
      ],
      "execution_count": 84,
      "outputs": []
    },
    {
      "cell_type": "code",
      "metadata": {
        "id": "LwsKyv5_gdn-",
        "colab_type": "code",
        "colab": {
          "base_uri": "https://localhost:8080/",
          "height": 104
        },
        "outputId": "4e57eb28-c8b0-4206-ad5d-43c5b8b3f1b2"
      },
      "source": [
        "m = np.zeros((n,n))\n",
        "m"
      ],
      "execution_count": 86,
      "outputs": [
        {
          "output_type": "execute_result",
          "data": {
            "text/plain": [
              "array([[0., 0., 0., 0., 0.],\n",
              "       [0., 0., 0., 0., 0.],\n",
              "       [0., 0., 0., 0., 0.],\n",
              "       [0., 0., 0., 0., 0.],\n",
              "       [0., 0., 0., 0., 0.]])"
            ]
          },
          "metadata": {
            "tags": []
          },
          "execution_count": 86
        }
      ]
    },
    {
      "cell_type": "code",
      "metadata": {
        "id": "oL3_acK9glG2",
        "colab_type": "code",
        "colab": {}
      },
      "source": [
        "for i in range(n):\n",
        "  for j in range(n):\n",
        "    v1 = np.asarray(X[i].toarray().flatten(), np.bool)\n",
        "    v2 = np.asarray(X[j].toarray().flatten(), np.bool)\n",
        "    m[i,j] = jaccard_score(v1, v2)"
      ],
      "execution_count": 87,
      "outputs": []
    },
    {
      "cell_type": "code",
      "metadata": {
        "id": "WstP9o8xg6Z0",
        "colab_type": "code",
        "colab": {
          "base_uri": "https://localhost:8080/",
          "height": 104
        },
        "outputId": "679860ed-7d06-4eca-e77f-a42264af026a"
      },
      "source": [
        "m"
      ],
      "execution_count": 88,
      "outputs": [
        {
          "output_type": "execute_result",
          "data": {
            "text/plain": [
              "array([[1.        , 0.        , 0.        , 0.        , 0.        ],\n",
              "       [0.        , 1.        , 0.22222222, 0.28571429, 0.28571429],\n",
              "       [0.        , 0.22222222, 1.        , 0.42857143, 0.42857143],\n",
              "       [0.        , 0.28571429, 0.42857143, 1.        , 1.        ],\n",
              "       [0.        , 0.28571429, 0.42857143, 1.        , 1.        ]])"
            ]
          },
          "metadata": {
            "tags": []
          },
          "execution_count": 88
        }
      ]
    },
    {
      "cell_type": "markdown",
      "metadata": {
        "id": "ZfpRRjc_hsO3",
        "colab_type": "text"
      },
      "source": [
        "## Cosine Slimilarity"
      ]
    },
    {
      "cell_type": "code",
      "metadata": {
        "id": "f7Ao-QEFg6-L",
        "colab_type": "code",
        "colab": {}
      },
      "source": [
        "import math\n",
        "def cos_similarity(v1,v2):\n",
        "  return np.dot(v1,v2) / math.sqrt((v1 ** 2).sum()) * math.sqrt((v2 ** 2).sum())"
      ],
      "execution_count": 91,
      "outputs": []
    },
    {
      "cell_type": "code",
      "metadata": {
        "id": "u0wKX1Ugh4fw",
        "colab_type": "code",
        "colab": {
          "base_uri": "https://localhost:8080/",
          "height": 35
        },
        "outputId": "a7de6440-b158-4db2-b09c-3a177c034b62"
      },
      "source": [
        "cos_similarity(X[0].toarray().flatten(),X[1].toarray().flatten())"
      ],
      "execution_count": 92,
      "outputs": [
        {
          "output_type": "execute_result",
          "data": {
            "text/plain": [
              "0.0"
            ]
          },
          "metadata": {
            "tags": []
          },
          "execution_count": 92
        }
      ]
    },
    {
      "cell_type": "code",
      "metadata": {
        "id": "hGcpfBqiiAcV",
        "colab_type": "code",
        "colab": {
          "base_uri": "https://localhost:8080/",
          "height": 104
        },
        "outputId": "f17da4ef-1225-4017-86b1-fc464aac123b"
      },
      "source": [
        "from sklearn.metrics.pairwise import cosine_similarity\n",
        "cosine_similarity(X)"
      ],
      "execution_count": 94,
      "outputs": [
        {
          "output_type": "execute_result",
          "data": {
            "text/plain": [
              "array([[1.        , 0.        , 0.        , 0.        , 0.        ],\n",
              "       [0.        , 1.        , 0.36514837, 0.4472136 , 0.4472136 ],\n",
              "       [0.        , 0.36514837, 1.        , 0.61237244, 0.61237244],\n",
              "       [0.        , 0.4472136 , 0.61237244, 1.        , 1.        ],\n",
              "       [0.        , 0.4472136 , 0.61237244, 1.        , 1.        ]])"
            ]
          },
          "metadata": {
            "tags": []
          },
          "execution_count": 94
        }
      ]
    },
    {
      "cell_type": "code",
      "metadata": {
        "id": "wIenug5tiKJO",
        "colab_type": "code",
        "colab": {
          "base_uri": "https://localhost:8080/",
          "height": 104
        },
        "outputId": "e4b108ac-d27a-445d-d0a4-60cc3bf1da12"
      },
      "source": [
        "from sklearn.metrics.pairwise import cosine_distances\n",
        "cosine_distances(X)"
      ],
      "execution_count": 95,
      "outputs": [
        {
          "output_type": "execute_result",
          "data": {
            "text/plain": [
              "array([[0.        , 1.        , 1.        , 1.        , 1.        ],\n",
              "       [1.        , 0.        , 0.63485163, 0.5527864 , 0.5527864 ],\n",
              "       [1.        , 0.63485163, 0.        , 0.38762756, 0.38762756],\n",
              "       [1.        , 0.5527864 , 0.38762756, 0.        , 0.        ],\n",
              "       [1.        , 0.5527864 , 0.38762756, 0.        , 0.        ]])"
            ]
          },
          "metadata": {
            "tags": []
          },
          "execution_count": 95
        }
      ]
    },
    {
      "cell_type": "code",
      "metadata": {
        "id": "UWwyIM72iVXr",
        "colab_type": "code",
        "colab": {}
      },
      "source": [
        "# distance = 1 - similarity\n",
        "# similarity = 1 - distance"
      ],
      "execution_count": null,
      "outputs": []
    },
    {
      "cell_type": "markdown",
      "metadata": {
        "id": "USGdrikOi0gG",
        "colab_type": "text"
      },
      "source": [
        "## TF-IDF"
      ]
    },
    {
      "cell_type": "code",
      "metadata": {
        "id": "-0q_7buoi10U",
        "colab_type": "code",
        "colab": {}
      },
      "source": [
        "from sklearn.feature_extraction.text import TfidfVectorizer\n",
        "vectorizer = TfidfVectorizer()\n",
        "X = vectorizer.fit_transform(corpus)\n"
      ],
      "execution_count": 96,
      "outputs": []
    },
    {
      "cell_type": "code",
      "metadata": {
        "id": "IPcAEHogi-z0",
        "colab_type": "code",
        "colab": {
          "base_uri": "https://localhost:8080/",
          "height": 52
        },
        "outputId": "2c06f44a-dd8a-470f-ace4-ab503e2d2c76"
      },
      "source": [
        "X"
      ],
      "execution_count": 97,
      "outputs": [
        {
          "output_type": "execute_result",
          "data": {
            "text/plain": [
              "<5x24 sparse matrix of type '<class 'numpy.float64'>'\n",
              "\twith 33 stored elements in Compressed Sparse Row format>"
            ]
          },
          "metadata": {
            "tags": []
          },
          "execution_count": 97
        }
      ]
    },
    {
      "cell_type": "code",
      "metadata": {
        "id": "iJ82CslPi_QW",
        "colab_type": "code",
        "colab": {
          "base_uri": "https://localhost:8080/",
          "height": 449
        },
        "outputId": "8dde52d3-24e8-4bec-a5f9-46e31f048b95"
      },
      "source": [
        "X.toarray()"
      ],
      "execution_count": 98,
      "outputs": [
        {
          "output_type": "execute_result",
          "data": {
            "text/plain": [
              "array([[0.26726124, 0.26726124, 0.        , 0.26726124, 0.        ,\n",
              "        0.        , 0.        , 0.        , 0.        , 0.26726124,\n",
              "        0.26726124, 0.26726124, 0.26726124, 0.26726124, 0.        ,\n",
              "        0.26726124, 0.26726124, 0.        , 0.26726124, 0.        ,\n",
              "        0.        , 0.26726124, 0.26726124, 0.26726124],\n",
              "       [0.        , 0.        , 0.52451722, 0.        , 0.29550385,\n",
              "        0.52451722, 0.52451722, 0.        , 0.29550385, 0.        ,\n",
              "        0.        , 0.        , 0.        , 0.        , 0.        ,\n",
              "        0.        , 0.        , 0.        , 0.        , 0.        ,\n",
              "        0.        , 0.        , 0.        , 0.        ],\n",
              "       [0.        , 0.        , 0.        , 0.        , 0.27880274,\n",
              "        0.        , 0.        , 0.33142212, 0.27880274, 0.        ,\n",
              "        0.        , 0.        , 0.        , 0.        , 0.49487286,\n",
              "        0.        , 0.        , 0.49487286, 0.        , 0.49487286,\n",
              "        0.        , 0.        , 0.        , 0.        ],\n",
              "       [0.        , 0.        , 0.        , 0.        , 0.42780918,\n",
              "        0.        , 0.        , 0.50855106, 0.42780918, 0.        ,\n",
              "        0.        , 0.        , 0.        , 0.        , 0.        ,\n",
              "        0.        , 0.        , 0.        , 0.        , 0.        ,\n",
              "        0.61264544, 0.        , 0.        , 0.        ],\n",
              "       [0.        , 0.        , 0.        , 0.        , 0.42780918,\n",
              "        0.        , 0.        , 0.50855106, 0.42780918, 0.        ,\n",
              "        0.        , 0.        , 0.        , 0.        , 0.        ,\n",
              "        0.        , 0.        , 0.        , 0.        , 0.        ,\n",
              "        0.61264544, 0.        , 0.        , 0.        ]])"
            ]
          },
          "metadata": {
            "tags": []
          },
          "execution_count": 98
        }
      ]
    },
    {
      "cell_type": "code",
      "metadata": {
        "id": "ExHqWHk8jAsj",
        "colab_type": "code",
        "colab": {
          "base_uri": "https://localhost:8080/",
          "height": 104
        },
        "outputId": "0ffab6b1-d861-405d-cd31-9bba966f412f"
      },
      "source": [
        "from sklearn.metrics.pairwise import cosine_similarity\n",
        "cosine_similarity(X)"
      ],
      "execution_count": 99,
      "outputs": [
        {
          "output_type": "execute_result",
          "data": {
            "text/plain": [
              "array([[1.        , 0.        , 0.        , 0.        , 0.        ],\n",
              "       [0.        , 1.        , 0.16477457, 0.25283852, 0.25283852],\n",
              "       [0.        , 0.16477457, 1.        , 0.40709381, 0.40709381],\n",
              "       [0.        , 0.25283852, 0.40709381, 1.        , 1.        ],\n",
              "       [0.        , 0.25283852, 0.40709381, 1.        , 1.        ]])"
            ]
          },
          "metadata": {
            "tags": []
          },
          "execution_count": 99
        }
      ]
    },
    {
      "cell_type": "code",
      "metadata": {
        "id": "NU3wzld1jHwz",
        "colab_type": "code",
        "colab": {}
      },
      "source": [
        ""
      ],
      "execution_count": null,
      "outputs": []
    }
  ]
}