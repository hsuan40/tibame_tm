{
  "nbformat": 4,
  "nbformat_minor": 0,
  "metadata": {
    "colab": {
      "name": "Demo20200805.ipynb",
      "provenance": [],
      "collapsed_sections": []
    },
    "kernelspec": {
      "name": "python3",
      "display_name": "Python 3"
    }
  },
  "cells": [
    {
      "cell_type": "markdown",
      "metadata": {
        "id": "EVN87ZVZY5JQ",
        "colab_type": "text"
      },
      "source": [
        "## 作業"
      ]
    },
    {
      "cell_type": "code",
      "metadata": {
        "id": "ZxZgJemnXv9s",
        "colab_type": "code",
        "colab": {}
      },
      "source": [
        "import pandas\n",
        "qa = pandas.read_excel('https://raw.githubusercontent.com/ywchiu/tibame_tm/master/data/pchome_qa.xlsx', index_col = 0)"
      ],
      "execution_count": 3,
      "outputs": []
    },
    {
      "cell_type": "code",
      "metadata": {
        "id": "Weeobw7PZCyO",
        "colab_type": "code",
        "colab": {
          "base_uri": "https://localhost:8080/",
          "height": 285
        },
        "outputId": "4c24e513-f432-4e8f-b503-e676e470c7cd"
      },
      "source": [
        "qa.head()"
      ],
      "execution_count": 4,
      "outputs": [
        {
          "output_type": "execute_result",
          "data": {
            "text/html": [
              "<div>\n",
              "<style scoped>\n",
              "    .dataframe tbody tr th:only-of-type {\n",
              "        vertical-align: middle;\n",
              "    }\n",
              "\n",
              "    .dataframe tbody tr th {\n",
              "        vertical-align: top;\n",
              "    }\n",
              "\n",
              "    .dataframe thead th {\n",
              "        text-align: right;\n",
              "    }\n",
              "</style>\n",
              "<table border=\"1\" class=\"dataframe\">\n",
              "  <thead>\n",
              "    <tr style=\"text-align: right;\">\n",
              "      <th></th>\n",
              "      <th>question</th>\n",
              "      <th>answer</th>\n",
              "    </tr>\n",
              "  </thead>\n",
              "  <tbody>\n",
              "    <tr>\n",
              "      <th>0</th>\n",
              "      <td>請問付款方式有哪幾種？</td>\n",
              "      <td>目前商店街提供信用卡、提款機轉帳、超商付款等多種付款方式。唯實際的付款方式將依各店家開放的付...</td>\n",
              "    </tr>\n",
              "    <tr>\n",
              "      <th>1</th>\n",
              "      <td>請問線上分期付款的授權和額度如何計算？</td>\n",
              "      <td>銀行授權是以分期價總額授權，同樣的信用額度也是以分期價總額扣取，但是您付款是分期逐月付款，如...</td>\n",
              "    </tr>\n",
              "    <tr>\n",
              "      <th>2</th>\n",
              "      <td>我是選擇分期付款，為什麼銀行簡訊通知總金額？</td>\n",
              "      <td>銀行通知消費總金額是沒錯，因為銀行需要對持卡者做授權額度控管，並且安全完善的通知消費者核對總...</td>\n",
              "    </tr>\n",
              "    <tr>\n",
              "      <th>3</th>\n",
              "      <td>請問使用分期付款可以再改回一次付清嗎？</td>\n",
              "      <td>由於一次付清和分期付款兩者是不同的收單銀行，且受限銀行規定，因此無法做直接的更改，故請在訂購...</td>\n",
              "    </tr>\n",
              "    <tr>\n",
              "      <th>4</th>\n",
              "      <td>我有網路虛擬信用卡，可不可以在PC home商店街消費？</td>\n",
              "      <td>目前PChome商店街為配合銀行安全性機制和訂單快速作業流程，請消費者在輸入卡號的同時輸入卡...</td>\n",
              "    </tr>\n",
              "  </tbody>\n",
              "</table>\n",
              "</div>"
            ],
            "text/plain": [
              "                       question                                             answer\n",
              "0                   請問付款方式有哪幾種？  目前商店街提供信用卡、提款機轉帳、超商付款等多種付款方式。唯實際的付款方式將依各店家開放的付...\n",
              "1           請問線上分期付款的授權和額度如何計算？  銀行授權是以分期價總額授權，同樣的信用額度也是以分期價總額扣取，但是您付款是分期逐月付款，如...\n",
              "2        我是選擇分期付款，為什麼銀行簡訊通知總金額？  銀行通知消費總金額是沒錯，因為銀行需要對持卡者做授權額度控管，並且安全完善的通知消費者核對總...\n",
              "3           請問使用分期付款可以再改回一次付清嗎？  由於一次付清和分期付款兩者是不同的收單銀行，且受限銀行規定，因此無法做直接的更改，故請在訂購...\n",
              "4  我有網路虛擬信用卡，可不可以在PC home商店街消費？  目前PChome商店街為配合銀行安全性機制和訂單快速作業流程，請消費者在輸入卡號的同時輸入卡..."
            ]
          },
          "metadata": {
            "tags": []
          },
          "execution_count": 4
        }
      ]
    },
    {
      "cell_type": "code",
      "metadata": {
        "id": "mf-mWDYnZHZS",
        "colab_type": "code",
        "colab": {}
      },
      "source": [
        "import jieba\n",
        "corpus = []\n",
        "answers = []\n",
        "for idx, rec in qa.iterrows():\n",
        "  corpus.append(' '.join(jieba.cut(rec['question'])))\n",
        "  answers.append(rec['answer'])"
      ],
      "execution_count": 7,
      "outputs": []
    },
    {
      "cell_type": "code",
      "metadata": {
        "id": "yz024gHsZlok",
        "colab_type": "code",
        "colab": {}
      },
      "source": [
        "from sklearn.feature_extraction.text import TfidfVectorizer\n",
        "vectorizer = TfidfVectorizer()\n",
        "tfidf = vectorizer.fit_transform(corpus)"
      ],
      "execution_count": 8,
      "outputs": []
    },
    {
      "cell_type": "code",
      "metadata": {
        "id": "lwO6rW5CaVGT",
        "colab_type": "code",
        "colab": {}
      },
      "source": [
        "#print(vectorizer.get_feature_names())"
      ],
      "execution_count": 11,
      "outputs": []
    },
    {
      "cell_type": "code",
      "metadata": {
        "id": "Q69iteJBaQ0J",
        "colab_type": "code",
        "colab": {
          "base_uri": "https://localhost:8080/",
          "height": 52
        },
        "outputId": "00c96974-8acc-4376-d039-cef397e38549"
      },
      "source": [
        "tfidf"
      ],
      "execution_count": 9,
      "outputs": [
        {
          "output_type": "execute_result",
          "data": {
            "text/plain": [
              "<28x100 sparse matrix of type '<class 'numpy.float64'>'\n",
              "\twith 163 stored elements in Compressed Sparse Row format>"
            ]
          },
          "metadata": {
            "tags": []
          },
          "execution_count": 9
        }
      ]
    },
    {
      "cell_type": "code",
      "metadata": {
        "id": "sjdWXxJ3aRm3",
        "colab_type": "code",
        "colab": {}
      },
      "source": [
        "query = '請問要如何查詢我的訂單'\n",
        "query_seg = ' '.join(jieba.cut(query))"
      ],
      "execution_count": 13,
      "outputs": []
    },
    {
      "cell_type": "code",
      "metadata": {
        "id": "87Z4TSLAals0",
        "colab_type": "code",
        "colab": {}
      },
      "source": [
        "query_vec = vectorizer.transform([query_seg])"
      ],
      "execution_count": 15,
      "outputs": []
    },
    {
      "cell_type": "code",
      "metadata": {
        "id": "l3xiYTmPa29Z",
        "colab_type": "code",
        "colab": {}
      },
      "source": [
        "from sklearn.metrics.pairwise import cosine_similarity, cosine_distances\n",
        "cs = cosine_similarity(query_vec, tfidf).flatten()"
      ],
      "execution_count": 19,
      "outputs": []
    },
    {
      "cell_type": "code",
      "metadata": {
        "id": "KSyA8AuvbOtJ",
        "colab_type": "code",
        "colab": {}
      },
      "source": [
        "pos = cs.argsort()[::-1][0]"
      ],
      "execution_count": 23,
      "outputs": []
    },
    {
      "cell_type": "code",
      "metadata": {
        "id": "FpJFbDRfbUs1",
        "colab_type": "code",
        "colab": {
          "base_uri": "https://localhost:8080/",
          "height": 35
        },
        "outputId": "b26d02a7-6e05-408d-8978-55b3cf6a2396"
      },
      "source": [
        "answers[pos]"
      ],
      "execution_count": 24,
      "outputs": [
        {
          "output_type": "execute_result",
          "data": {
            "application/vnd.google.colaboratory.intrinsic+json": {
              "type": "string"
            },
            "text/plain": [
              "'請至[我的帳戶 > 交易紀錄]查詢您在商店街交易的訂單資料。'"
            ]
          },
          "metadata": {
            "tags": []
          },
          "execution_count": 24
        }
      ]
    },
    {
      "cell_type": "code",
      "metadata": {
        "id": "Uv0Mgy1ZbgzC",
        "colab_type": "code",
        "colab": {
          "base_uri": "https://localhost:8080/",
          "height": 35
        },
        "outputId": "373a2c7e-f9a9-4aea-e6d6-1d127efae4cf"
      },
      "source": [
        "corpus[pos]"
      ],
      "execution_count": 25,
      "outputs": [
        {
          "output_type": "execute_result",
          "data": {
            "application/vnd.google.colaboratory.intrinsic+json": {
              "type": "string"
            },
            "text/plain": [
              "'如何 查詢 我 的 訂 單資料 呢 ?'"
            ]
          },
          "metadata": {
            "tags": []
          },
          "execution_count": 25
        }
      ]
    },
    {
      "cell_type": "markdown",
      "metadata": {
        "id": "Iojm9o8wiiaN",
        "colab_type": "text"
      },
      "source": [
        "## KMeans 分群"
      ]
    },
    {
      "cell_type": "code",
      "metadata": {
        "id": "Bdo1hr5dbl_T",
        "colab_type": "code",
        "colab": {}
      },
      "source": [
        "from sklearn.datasets import load_iris\n",
        "iris = load_iris()"
      ],
      "execution_count": 27,
      "outputs": []
    },
    {
      "cell_type": "code",
      "metadata": {
        "id": "J0r4xw-Eim3C",
        "colab_type": "code",
        "colab": {
          "base_uri": "https://localhost:8080/",
          "height": 69
        },
        "outputId": "aa0c7b1d-6f00-4d93-a779-e3bcb67e5bc0"
      },
      "source": [
        "iris.data[0:3,:]"
      ],
      "execution_count": 29,
      "outputs": [
        {
          "output_type": "execute_result",
          "data": {
            "text/plain": [
              "array([[5.1, 3.5, 1.4, 0.2],\n",
              "       [4.9, 3. , 1.4, 0.2],\n",
              "       [4.7, 3.2, 1.3, 0.2]])"
            ]
          },
          "metadata": {
            "tags": []
          },
          "execution_count": 29
        }
      ]
    },
    {
      "cell_type": "code",
      "metadata": {
        "id": "p37ox36biqRb",
        "colab_type": "code",
        "colab": {
          "base_uri": "https://localhost:8080/",
          "height": 138
        },
        "outputId": "7224546b-7db5-4a84-e546-082440094df0"
      },
      "source": [
        "iris.target"
      ],
      "execution_count": 30,
      "outputs": [
        {
          "output_type": "execute_result",
          "data": {
            "text/plain": [
              "array([0, 0, 0, 0, 0, 0, 0, 0, 0, 0, 0, 0, 0, 0, 0, 0, 0, 0, 0, 0, 0, 0,\n",
              "       0, 0, 0, 0, 0, 0, 0, 0, 0, 0, 0, 0, 0, 0, 0, 0, 0, 0, 0, 0, 0, 0,\n",
              "       0, 0, 0, 0, 0, 0, 1, 1, 1, 1, 1, 1, 1, 1, 1, 1, 1, 1, 1, 1, 1, 1,\n",
              "       1, 1, 1, 1, 1, 1, 1, 1, 1, 1, 1, 1, 1, 1, 1, 1, 1, 1, 1, 1, 1, 1,\n",
              "       1, 1, 1, 1, 1, 1, 1, 1, 1, 1, 1, 1, 2, 2, 2, 2, 2, 2, 2, 2, 2, 2,\n",
              "       2, 2, 2, 2, 2, 2, 2, 2, 2, 2, 2, 2, 2, 2, 2, 2, 2, 2, 2, 2, 2, 2,\n",
              "       2, 2, 2, 2, 2, 2, 2, 2, 2, 2, 2, 2, 2, 2, 2, 2, 2, 2])"
            ]
          },
          "metadata": {
            "tags": []
          },
          "execution_count": 30
        }
      ]
    },
    {
      "cell_type": "code",
      "metadata": {
        "id": "WAecw0rMi38A",
        "colab_type": "code",
        "colab": {}
      },
      "source": [
        "from sklearn.cluster import KMeans\n",
        "kmeans = KMeans(n_clusters = 3, init = 'k-means++', random_state = 123)\n",
        "y_kmeans = kmeans.fit_predict(iris.data)"
      ],
      "execution_count": 32,
      "outputs": []
    },
    {
      "cell_type": "code",
      "metadata": {
        "id": "TmACAcYFjs9-",
        "colab_type": "code",
        "colab": {
          "base_uri": "https://localhost:8080/",
          "height": 138
        },
        "outputId": "624edf08-0dff-49f0-ae2c-0d35d6668e76"
      },
      "source": [
        "y_kmeans"
      ],
      "execution_count": 33,
      "outputs": [
        {
          "output_type": "execute_result",
          "data": {
            "text/plain": [
              "array([0, 0, 0, 0, 0, 0, 0, 0, 0, 0, 0, 0, 0, 0, 0, 0, 0, 0, 0, 0, 0, 0,\n",
              "       0, 0, 0, 0, 0, 0, 0, 0, 0, 0, 0, 0, 0, 0, 0, 0, 0, 0, 0, 0, 0, 0,\n",
              "       0, 0, 0, 0, 0, 0, 2, 2, 1, 2, 2, 2, 2, 2, 2, 2, 2, 2, 2, 2, 2, 2,\n",
              "       2, 2, 2, 2, 2, 2, 2, 2, 2, 2, 2, 1, 2, 2, 2, 2, 2, 2, 2, 2, 2, 2,\n",
              "       2, 2, 2, 2, 2, 2, 2, 2, 2, 2, 2, 2, 1, 2, 1, 1, 1, 1, 2, 1, 1, 1,\n",
              "       1, 1, 1, 2, 2, 1, 1, 1, 1, 2, 1, 2, 1, 2, 1, 1, 2, 2, 1, 1, 1, 1,\n",
              "       1, 2, 1, 1, 1, 1, 2, 1, 1, 1, 2, 1, 1, 1, 2, 1, 1, 2], dtype=int32)"
            ]
          },
          "metadata": {
            "tags": []
          },
          "execution_count": 33
        }
      ]
    },
    {
      "cell_type": "code",
      "metadata": {
        "id": "C1flDUYLjxAu",
        "colab_type": "code",
        "colab": {
          "base_uri": "https://localhost:8080/",
          "height": 295
        },
        "outputId": "b5ee8aff-eb31-477a-c0c9-e3e652db1e7e"
      },
      "source": [
        "import matplotlib.pyplot as plt\n",
        "plt.scatter(iris.data[y_kmeans == 0, 2], iris.data[y_kmeans == 0, 3], s = 100, c = 'red', label = 'Cluster 1')\n",
        "plt.scatter(iris.data[y_kmeans == 1, 2], iris.data[y_kmeans == 1, 3], s = 100, c = 'blue', label = 'Cluster 2')\n",
        "plt.scatter(iris.data[y_kmeans == 2, 2], iris.data[y_kmeans == 2, 3], s = 100, c = 'green', label = 'Cluster 3')\n",
        "\n",
        "plt.scatter(kmeans.cluster_centers_[:, 2], kmeans.cluster_centers_[:, 3], s = 100, c = 'yellow', label = 'Centroids')\n",
        "\n",
        "\n",
        "plt.title('Clusters of Iris')\n",
        "plt.xlabel('Petal.Length')\n",
        "plt.ylabel('Petal.Width')\n",
        "plt.legend()\n",
        "plt.show()\n"
      ],
      "execution_count": 38,
      "outputs": [
        {
          "output_type": "display_data",
          "data": {
            "image/png": "[encoded data removed]",
            "text/plain": [
              "<Figure size 432x288 with 1 Axes>"
            ]
          },
          "metadata": {
            "tags": [],
            "needs_background": "light"
          }
        }
      ]
    },
    {
      "cell_type": "code",
      "metadata": {
        "id": "dQT_cpwBkOVw",
        "colab_type": "code",
        "colab": {
          "base_uri": "https://localhost:8080/",
          "height": 295
        },
        "outputId": "b8e8f554-5160-4657-be81-771058d53dec"
      },
      "source": [
        "import matplotlib.pyplot as plt\n",
        "plt.scatter(iris.data[iris.target == 0, 2], iris.data[iris.target  == 0, 3], s = 100, c = 'red', label = 'Cluster 1')\n",
        "plt.scatter(iris.data[iris.target  == 1, 2], iris.data[iris.target  == 1, 3], s = 100, c = 'blue', label = 'Cluster 2')\n",
        "plt.scatter(iris.data[iris.target  == 2, 2], iris.data[iris.target  == 2, 3], s = 100, c = 'green', label = 'Cluster 3')\n",
        "\n",
        "plt.title('Real Iris')\n",
        "plt.xlabel('Petal.Length')\n",
        "plt.ylabel('Petal.Width')\n",
        "plt.legend()\n",
        "plt.show()\n"
      ],
      "execution_count": 35,
      "outputs": [
        {
          "output_type": "display_data",
          "data": {
            "image/png": "[encoded data removed]",
            "text/plain": [
              "<Figure size 432x288 with 1 Axes>"
            ]
          },
          "metadata": {
            "tags": [],
            "needs_background": "light"
          }
        }
      ]
    },
    {
      "cell_type": "code",
      "metadata": {
        "id": "8lX0tiJgkZeR",
        "colab_type": "code",
        "colab": {}
      },
      "source": [
        "import pandas\n",
        "dataset = pandas.read_csv('https://raw.githubusercontent.com/ywchiu/tibame_tm/master/data/customers.csv')"
      ],
      "execution_count": 39,
      "outputs": []
    },
    {
      "cell_type": "code",
      "metadata": {
        "id": "Z1l7aPDilal5",
        "colab_type": "code",
        "colab": {
          "base_uri": "https://localhost:8080/",
          "height": 198
        },
        "outputId": "df378a10-ac00-4507-ade6-fd344a38e9bd"
      },
      "source": [
        "dataset.head()"
      ],
      "execution_count": 40,
      "outputs": [
        {
          "output_type": "execute_result",
          "data": {
            "text/html": [
              "<div>\n",
              "<style scoped>\n",
              "    .dataframe tbody tr th:only-of-type {\n",
              "        vertical-align: middle;\n",
              "    }\n",
              "\n",
              "    .dataframe tbody tr th {\n",
              "        vertical-align: top;\n",
              "    }\n",
              "\n",
              "    .dataframe thead th {\n",
              "        text-align: right;\n",
              "    }\n",
              "</style>\n",
              "<table border=\"1\" class=\"dataframe\">\n",
              "  <thead>\n",
              "    <tr style=\"text-align: right;\">\n",
              "      <th></th>\n",
              "      <th>CustomerID</th>\n",
              "      <th>Genre</th>\n",
              "      <th>Age</th>\n",
              "      <th>Annual Income (k$)</th>\n",
              "      <th>Spending Score (1-100)</th>\n",
              "    </tr>\n",
              "  </thead>\n",
              "  <tbody>\n",
              "    <tr>\n",
              "      <th>0</th>\n",
              "      <td>1</td>\n",
              "      <td>Male</td>\n",
              "      <td>19</td>\n",
              "      <td>15</td>\n",
              "      <td>39</td>\n",
              "    </tr>\n",
              "    <tr>\n",
              "      <th>1</th>\n",
              "      <td>2</td>\n",
              "      <td>Male</td>\n",
              "      <td>21</td>\n",
              "      <td>15</td>\n",
              "      <td>81</td>\n",
              "    </tr>\n",
              "    <tr>\n",
              "      <th>2</th>\n",
              "      <td>3</td>\n",
              "      <td>Female</td>\n",
              "      <td>20</td>\n",
              "      <td>16</td>\n",
              "      <td>6</td>\n",
              "    </tr>\n",
              "    <tr>\n",
              "      <th>3</th>\n",
              "      <td>4</td>\n",
              "      <td>Female</td>\n",
              "      <td>23</td>\n",
              "      <td>16</td>\n",
              "      <td>77</td>\n",
              "    </tr>\n",
              "    <tr>\n",
              "      <th>4</th>\n",
              "      <td>5</td>\n",
              "      <td>Female</td>\n",
              "      <td>31</td>\n",
              "      <td>17</td>\n",
              "      <td>40</td>\n",
              "    </tr>\n",
              "  </tbody>\n",
              "</table>\n",
              "</div>"
            ],
            "text/plain": [
              "   CustomerID   Genre  Age  Annual Income (k$)  Spending Score (1-100)\n",
              "0           1    Male   19                  15                      39\n",
              "1           2    Male   21                  15                      81\n",
              "2           3  Female   20                  16                       6\n",
              "3           4  Female   23                  16                      77\n",
              "4           5  Female   31                  17                      40"
            ]
          },
          "metadata": {
            "tags": []
          },
          "execution_count": 40
        }
      ]
    },
    {
      "cell_type": "code",
      "metadata": {
        "id": "wYKv4lMblbPh",
        "colab_type": "code",
        "colab": {}
      },
      "source": [
        "X = dataset.iloc[:,[3,4]].values"
      ],
      "execution_count": 41,
      "outputs": []
    },
    {
      "cell_type": "code",
      "metadata": {
        "id": "y8YTFKG_liIf",
        "colab_type": "code",
        "colab": {}
      },
      "source": [
        "from sklearn.cluster import KMeans\n",
        "kmeans = KMeans(n_clusters= 5, init = 'k-means++', random_state = 42)\n",
        "y_kmeans = kmeans.fit_predict(X)"
      ],
      "execution_count": 43,
      "outputs": []
    },
    {
      "cell_type": "code",
      "metadata": {
        "id": "x32SijXIpYFZ",
        "colab_type": "code",
        "colab": {
          "base_uri": "https://localhost:8080/",
          "height": 35
        },
        "outputId": "2169501d-a78c-42bd-b154-c5dbd17b3805"
      },
      "source": [
        "# withing cluster sum of squares\n",
        "kmeans.inertia_"
      ],
      "execution_count": 53,
      "outputs": [
        {
          "output_type": "execute_result",
          "data": {
            "text/plain": [
              "44448.45544793371"
            ]
          },
          "metadata": {
            "tags": []
          },
          "execution_count": 53
        }
      ]
    },
    {
      "cell_type": "code",
      "metadata": {
        "id": "xpesZoeipg8p",
        "colab_type": "code",
        "colab": {
          "base_uri": "https://localhost:8080/",
          "height": 35
        },
        "outputId": "07d94c97-15e2-4b0b-ff7a-52c73c742e41"
      },
      "source": [
        "from sklearn.metrics import silhouette_score\n",
        "silhouette_score(X, y_kmeans)"
      ],
      "execution_count": 54,
      "outputs": [
        {
          "output_type": "execute_result",
          "data": {
            "text/plain": [
              "0.553931997444648"
            ]
          },
          "metadata": {
            "tags": []
          },
          "execution_count": 54
        }
      ]
    },
    {
      "cell_type": "code",
      "metadata": {
        "id": "kZXYoej8l6lq",
        "colab_type": "code",
        "colab": {
          "base_uri": "https://localhost:8080/",
          "height": 190
        },
        "outputId": "806f1441-82ca-41ef-950f-21acc390fe64"
      },
      "source": [
        "y_kmeans"
      ],
      "execution_count": 44,
      "outputs": [
        {
          "output_type": "execute_result",
          "data": {
            "text/plain": [
              "array([3, 0, 3, 0, 3, 0, 3, 0, 3, 0, 3, 0, 3, 0, 3, 0, 3, 0, 3, 0, 3, 0,\n",
              "       3, 0, 3, 0, 3, 0, 3, 0, 3, 0, 3, 0, 3, 0, 3, 0, 3, 0, 3, 0, 3, 1,\n",
              "       3, 0, 1, 1, 1, 1, 1, 1, 1, 1, 1, 1, 1, 1, 1, 1, 1, 1, 1, 1, 1, 1,\n",
              "       1, 1, 1, 1, 1, 1, 1, 1, 1, 1, 1, 1, 1, 1, 1, 1, 1, 1, 1, 1, 1, 1,\n",
              "       1, 1, 1, 1, 1, 1, 1, 1, 1, 1, 1, 1, 1, 1, 1, 1, 1, 1, 1, 1, 1, 1,\n",
              "       1, 1, 1, 1, 1, 1, 1, 1, 1, 1, 1, 1, 1, 2, 4, 2, 1, 2, 4, 2, 4, 2,\n",
              "       1, 2, 4, 2, 4, 2, 4, 2, 4, 2, 1, 2, 4, 2, 4, 2, 4, 2, 4, 2, 4, 2,\n",
              "       4, 2, 4, 2, 4, 2, 4, 2, 4, 2, 4, 2, 4, 2, 4, 2, 4, 2, 4, 2, 4, 2,\n",
              "       4, 2, 4, 2, 4, 2, 4, 2, 4, 2, 4, 2, 4, 2, 4, 2, 4, 2, 4, 2, 4, 2,\n",
              "       4, 2], dtype=int32)"
            ]
          },
          "metadata": {
            "tags": []
          },
          "execution_count": 44
        }
      ]
    },
    {
      "cell_type": "code",
      "metadata": {
        "id": "kXa59G58lizP",
        "colab_type": "code",
        "colab": {
          "base_uri": "https://localhost:8080/",
          "height": 295
        },
        "outputId": "9f6fd0cd-ac73-4feb-ffd4-74083e691527"
      },
      "source": [
        "plt.scatter(X[y_kmeans == 0, 0], X[y_kmeans == 0, 1], s = 100, c = 'red', label = 'Cluster 1')\n",
        "plt.scatter(X[y_kmeans == 1, 0], X[y_kmeans == 1, 1], s = 100, c = 'blue', label = 'Cluster 2')\n",
        "plt.scatter(X[y_kmeans == 2, 0], X[y_kmeans == 2, 1], s = 100, c = 'green', label = 'Cluster 3')\n",
        "plt.scatter(X[y_kmeans == 3, 0], X[y_kmeans == 3, 1], s = 100, c = 'cyan', label = 'Cluster 4')\n",
        "plt.scatter(X[y_kmeans == 4, 0], X[y_kmeans == 4, 1], s = 100, c = 'magenta', label = 'Cluster 5')\n",
        "plt.scatter(kmeans.cluster_centers_[:, 0], kmeans.cluster_centers_[:, 1], s = 300, c = 'yellow', label = 'Centroids')\n",
        "plt.title('Clusters of customers')\n",
        "plt.xlabel('Annual Income (k$)')\n",
        "plt.ylabel('Spending Score (1-100)')\n",
        "plt.legend()\n",
        "plt.show()\n"
      ],
      "execution_count": 45,
      "outputs": [
        {
          "output_type": "display_data",
          "data": {
            "image/png": "[encoded data removed]",
            "text/plain": [
              "<Figure size 432x288 with 1 Axes>"
            ]
          },
          "metadata": {
            "tags": [],
            "needs_background": "light"
          }
        }
      ]
    },
    {
      "cell_type": "code",
      "metadata": {
        "id": "FG6ur5iUmCSd",
        "colab_type": "code",
        "colab": {
          "base_uri": "https://localhost:8080/",
          "height": 35
        },
        "outputId": "47f23f2e-effc-46d4-c943-6d63368d61e7"
      },
      "source": [
        "import numpy\n",
        "numpy.random.seed(42)\n",
        "numpy.random.randint(1,42, 6)"
      ],
      "execution_count": 52,
      "outputs": [
        {
          "output_type": "execute_result",
          "data": {
            "text/plain": [
              "array([39, 29, 15,  8, 21, 39])"
            ]
          },
          "metadata": {
            "tags": []
          },
          "execution_count": 52
        }
      ]
    },
    {
      "cell_type": "markdown",
      "metadata": {
        "id": "1Mc4807xqve4",
        "colab_type": "text"
      },
      "source": [
        "## 文字分群"
      ]
    },
    {
      "cell_type": "code",
      "metadata": {
        "id": "e7xKxEY2pG8g",
        "colab_type": "code",
        "colab": {}
      },
      "source": [
        "import pandas\n",
        "news = pandas.read_excel('https://raw.githubusercontent.com/ywchiu/tibame_tm/master/data/20150628news.xlsx', index_col = 0 )"
      ],
      "execution_count": 57,
      "outputs": []
    },
    {
      "cell_type": "code",
      "metadata": {
        "id": "xHUY59VFqzxp",
        "colab_type": "code",
        "colab": {
          "base_uri": "https://localhost:8080/",
          "height": 285
        },
        "outputId": "c2eb43b3-0d05-4288-851b-5682d151d7df"
      },
      "source": [
        "news.head()"
      ],
      "execution_count": 58,
      "outputs": [
        {
          "output_type": "execute_result",
          "data": {
            "text/html": [
              "<div>\n",
              "<style scoped>\n",
              "    .dataframe tbody tr th:only-of-type {\n",
              "        vertical-align: middle;\n",
              "    }\n",
              "\n",
              "    .dataframe tbody tr th {\n",
              "        vertical-align: top;\n",
              "    }\n",
              "\n",
              "    .dataframe thead th {\n",
              "        text-align: right;\n",
              "    }\n",
              "</style>\n",
              "<table border=\"1\" class=\"dataframe\">\n",
              "  <thead>\n",
              "    <tr style=\"text-align: right;\">\n",
              "      <th></th>\n",
              "      <th>category</th>\n",
              "      <th>description</th>\n",
              "      <th>pubdate</th>\n",
              "      <th>title</th>\n",
              "    </tr>\n",
              "  </thead>\n",
              "  <tbody>\n",
              "    <tr>\n",
              "      <th>0</th>\n",
              "      <td>社會/生活</td>\n",
              "      <td>新北市八仙水上樂園昨晚發生粉塵爆炸，新北市衛生局統計到目前為止，由救護車送醫再加上自行送醫的...</td>\n",
              "      <td>Sun, 28 Jun 2015 07:40:00 +0800</td>\n",
              "      <td>八仙塵爆  五相關人依公共危險重傷害法辦</td>\n",
              "    </tr>\n",
              "    <tr>\n",
              "      <th>1</th>\n",
              "      <td>社會/生活</td>\n",
              "      <td>新北市八仙樂園昨天晚上(6/27)舉辦活動，過程中噴灑大量玉米粉而引發粉塵爆炸，根據最新統計...</td>\n",
              "      <td>Sun, 28 Jun 2015 07:40:00 +0800</td>\n",
              "      <td>八仙樂園意外 病患持續增加中</td>\n",
              "    </tr>\n",
              "    <tr>\n",
              "      <th>2</th>\n",
              "      <td>財經/要聞</td>\n",
              "      <td>希臘債務違約限期逼近，資金持續外流。路透社引述三間銀行的消息指出，希臘國內有3分之1的自動櫃...</td>\n",
              "      <td>Sun, 28 Jun 2015 07:40:00 +0800</td>\n",
              "      <td>希臘國內三分一自動櫃員機現金短缺</td>\n",
              "    </tr>\n",
              "    <tr>\n",
              "      <th>3</th>\n",
              "      <td>社會/生活</td>\n",
              "      <td>台鐵「新基隆車站」第一階段工程本月底完成，台鐵表示，明天（29號）啟用後，由於南站周邊道路尚...</td>\n",
              "      <td>Sun, 28 Jun 2015 07:40:00 +0800</td>\n",
              "      <td>台鐵新基隆車站29日正式啟用</td>\n",
              "    </tr>\n",
              "    <tr>\n",
              "      <th>4</th>\n",
              "      <td>財經/要聞</td>\n",
              "      <td>《中國時報》\\n●樂園變煉獄 派對驚爆 逾300人遭火紋身\\n八仙樂園昨晚舉辦「COLOR ...</td>\n",
              "      <td>Sun, 28 Jun 2015 07:38:17 +0800</td>\n",
              "      <td>6月28日各報頭版要聞</td>\n",
              "    </tr>\n",
              "  </tbody>\n",
              "</table>\n",
              "</div>"
            ],
            "text/plain": [
              "  category  ...                 title\n",
              "0    社會/生活  ...  八仙塵爆  五相關人依公共危險重傷害法辦\n",
              "1    社會/生活  ...        八仙樂園意外 病患持續增加中\n",
              "2    財經/要聞  ...      希臘國內三分一自動櫃員機現金短缺\n",
              "3    社會/生活  ...        台鐵新基隆車站29日正式啟用\n",
              "4    財經/要聞  ...           6月28日各報頭版要聞\n",
              "\n",
              "[5 rows x 4 columns]"
            ]
          },
          "metadata": {
            "tags": []
          },
          "execution_count": 58
        }
      ]
    },
    {
      "cell_type": "code",
      "metadata": {
        "id": "aTMMXT2Uq0xG",
        "colab_type": "code",
        "colab": {}
      },
      "source": [
        "import jieba\n",
        "corpus = []\n",
        "titles = []\n",
        "for idx, rec in news.iterrows():\n",
        "  titles.append(rec['title'])\n",
        "  corpus.append(' '.join(jieba.cut(rec['description'])))"
      ],
      "execution_count": 59,
      "outputs": []
    },
    {
      "cell_type": "code",
      "metadata": {
        "id": "UusjvVLzrKEV",
        "colab_type": "code",
        "colab": {}
      },
      "source": [
        "from sklearn.feature_extraction.text import CountVectorizer\n",
        "vectorizer = CountVectorizer()\n",
        "X = vectorizer.fit_transform(corpus)"
      ],
      "execution_count": 60,
      "outputs": []
    },
    {
      "cell_type": "code",
      "metadata": {
        "id": "PSYgrz3CrTts",
        "colab_type": "code",
        "colab": {
          "base_uri": "https://localhost:8080/",
          "height": 52
        },
        "outputId": "493bbda3-34ce-41a4-acd3-c8a40fad3746"
      },
      "source": [
        "X"
      ],
      "execution_count": 61,
      "outputs": [
        {
          "output_type": "execute_result",
          "data": {
            "text/plain": [
              "<147x12829 sparse matrix of type '<class 'numpy.int64'>'\n",
              "\twith 23783 stored elements in Compressed Sparse Row format>"
            ]
          },
          "metadata": {
            "tags": []
          },
          "execution_count": 61
        }
      ]
    },
    {
      "cell_type": "code",
      "metadata": {
        "id": "Relb8yKbrURs",
        "colab_type": "code",
        "colab": {}
      },
      "source": [
        "from sklearn.metrics.pairwise import cosine_similarity\n",
        "n_cosine_similarities = cosine_similarity(X)"
      ],
      "execution_count": 62,
      "outputs": []
    },
    {
      "cell_type": "code",
      "metadata": {
        "id": "f5iyXJmgreme",
        "colab_type": "code",
        "colab": {}
      },
      "source": [
        "from sklearn.cluster import KMeans \n",
        "kmeans = KMeans(n_clusters=4, init = 'k-means++', random_state = 42)\n",
        "c = kmeans.fit_predict(n_cosine_similarities)"
      ],
      "execution_count": 64,
      "outputs": []
    },
    {
      "cell_type": "code",
      "metadata": {
        "id": "x2o3Cu3ertf2",
        "colab_type": "code",
        "colab": {
          "base_uri": "https://localhost:8080/",
          "height": 138
        },
        "outputId": "c3fa9783-dad1-40df-ac9a-6217c1f715fc"
      },
      "source": [
        "c"
      ],
      "execution_count": 65,
      "outputs": [
        {
          "output_type": "execute_result",
          "data": {
            "text/plain": [
              "array([2, 2, 1, 0, 2, 0, 2, 0, 0, 0, 0, 2, 1, 3, 3, 0, 2, 0, 0, 0, 3, 2,\n",
              "       0, 0, 1, 2, 0, 0, 0, 0, 0, 0, 0, 0, 0, 0, 0, 1, 3, 1, 0, 2, 1, 0,\n",
              "       0, 0, 0, 0, 0, 0, 0, 0, 0, 0, 0, 0, 0, 0, 0, 0, 0, 0, 0, 0, 0, 0,\n",
              "       0, 0, 0, 0, 0, 0, 0, 0, 0, 0, 0, 0, 0, 0, 0, 2, 1, 0, 1, 0, 0, 2,\n",
              "       2, 2, 2, 2, 1, 2, 0, 2, 2, 2, 2, 0, 2, 2, 2, 2, 2, 2, 2, 0, 0, 0,\n",
              "       3, 3, 2, 2, 1, 0, 3, 2, 2, 3, 2, 3, 0, 2, 3, 3, 3, 2, 3, 0, 0, 0,\n",
              "       0, 0, 0, 0, 0, 3, 0, 0, 0, 0, 3, 2, 2, 3, 3], dtype=int32)"
            ]
          },
          "metadata": {
            "tags": []
          },
          "execution_count": 65
        }
      ]
    },
    {
      "cell_type": "code",
      "metadata": {
        "id": "P3ci5DjlryDn",
        "colab_type": "code",
        "colab": {}
      },
      "source": [
        "np_titles = numpy.array(titles)"
      ],
      "execution_count": 66,
      "outputs": []
    },
    {
      "cell_type": "code",
      "metadata": {
        "id": "hqp9FQoer7wA",
        "colab_type": "code",
        "colab": {
          "base_uri": "https://localhost:8080/",
          "height": 311
        },
        "outputId": "7ce044fd-ac99-464f-e046-bf26d0d56292"
      },
      "source": [
        "for rec in np_titles[c == 3]:\n",
        "  print(rec)"
      ],
      "execution_count": 71,
      "outputs": [
        {
          "output_type": "stream",
          "text": [
            "羅志祥哭了 蔡依林讚表現很好\n",
            "蔡依林淚奪金曲 錦榮傳訊恭喜\n",
            "陳奕迅、張惠妹稱王封后  蔡依林抱回最大獎\n",
            "陳奕迅、莫文蔚伴侶均不知阿娜答金曲獲獎\n",
            "金曲26／蔡依林擒３獎大勝　淚崩再挺婚姻平權\n",
            "金曲26／張惠妹奪歌后卻失落　要世界感受彩虹力量\n",
            "金曲26／蔡依林淚奪最佳專輯＋完整得獎名單\n",
            "僅次Jolin！徐佳瑩入圍6獎全槓被封遺珠\n",
            "金曲最風光！蔡依林紅毯全勝又獲3獎成大贏家\n",
            "張惠妹3度封后  想破江蕙紀錄\n",
            "金曲26／陳奕迅稱王謝台灣　張惠妹封后秒噴淚\n",
            "蔡依林呸大贏家  金曲最佳專輯獎\n",
            "陳奕迅二度打敗歌神  金曲歌王好嗨\n",
            "金曲獎完整得獎名單！阿妹封后 陳奕迅稱王\n",
            "第26屆金曲獎 陳奕迅奪歌王、阿妹封歌后\n",
            "金曲最佳國語專輯：呸\n",
            "《金曲26》2015金曲獎得獎名單 線上直播懶人包\n"
          ],
          "name": "stdout"
        }
      ]
    },
    {
      "cell_type": "code",
      "metadata": {
        "id": "S3CHGPYxr9in",
        "colab_type": "code",
        "colab": {
          "base_uri": "https://localhost:8080/",
          "height": 35
        },
        "outputId": "848f1d91-d031-454f-966f-a521e8a42b66"
      },
      "source": [
        "kmeans.inertia_"
      ],
      "execution_count": 72,
      "outputs": [
        {
          "output_type": "execute_result",
          "data": {
            "text/plain": [
              "140.88904659690158"
            ]
          },
          "metadata": {
            "tags": []
          },
          "execution_count": 72
        }
      ]
    },
    {
      "cell_type": "code",
      "metadata": {
        "id": "hWxnU0xvsmXN",
        "colab_type": "code",
        "colab": {}
      },
      "source": [
        "from sklearn.metrics import silhouette_score\n",
        "\n",
        "sil_ary = []\n",
        "\n",
        "for k in range(2,21):\n",
        "    km = KMeans(n_clusters = k, init='k-means++', random_state=42)\n",
        "    c = km.fit_predict(n_cosine_similarities)\n",
        "    sil_ary.append(silhouette_score(n_cosine_similarities, labels=c))\n"
      ],
      "execution_count": 74,
      "outputs": []
    },
    {
      "cell_type": "code",
      "metadata": {
        "id": "XIsWrEJHtM4o",
        "colab_type": "code",
        "colab": {
          "base_uri": "https://localhost:8080/",
          "height": 282
        },
        "outputId": "bd96d557-f102-486c-f8fa-7199dfb72b03"
      },
      "source": [
        "plt.plot(range(2,21), sil_ary)"
      ],
      "execution_count": 76,
      "outputs": [
        {
          "output_type": "execute_result",
          "data": {
            "text/plain": [
              "[<matplotlib.lines.Line2D at 0x7f50733af9b0>]"
            ]
          },
          "metadata": {
            "tags": []
          },
          "execution_count": 76
        },
        {
          "output_type": "display_data",
          "data": {
            "image/png": "[encoded data removed]",
            "text/plain": [
              "<Figure size 432x288 with 1 Axes>"
            ]
          },
          "metadata": {
            "tags": [],
            "needs_background": "light"
          }
        }
      ]
    },
    {
      "cell_type": "code",
      "metadata": {
        "id": "VoQWoI_gtWyk",
        "colab_type": "code",
        "colab": {}
      },
      "source": [
        "import pandas\n",
        "news = pandas.read_excel('https://raw.githubusercontent.com/ywchiu/tibame_tm/master/data/news.xlsx', index_col = 0 )"
      ],
      "execution_count": 77,
      "outputs": []
    },
    {
      "cell_type": "code",
      "metadata": {
        "id": "xlgithGytwcI",
        "colab_type": "code",
        "colab": {
          "base_uri": "https://localhost:8080/",
          "height": 319
        },
        "outputId": "3084b121-a4fd-419c-db9a-5a57ef70f548"
      },
      "source": [
        "news.head()"
      ],
      "execution_count": 78,
      "outputs": [
        {
          "output_type": "execute_result",
          "data": {
            "text/html": [
              "<div>\n",
              "<style scoped>\n",
              "    .dataframe tbody tr th:only-of-type {\n",
              "        vertical-align: middle;\n",
              "    }\n",
              "\n",
              "    .dataframe tbody tr th {\n",
              "        vertical-align: top;\n",
              "    }\n",
              "\n",
              "    .dataframe thead th {\n",
              "        text-align: right;\n",
              "    }\n",
              "</style>\n",
              "<table border=\"1\" class=\"dataframe\">\n",
              "  <thead>\n",
              "    <tr style=\"text-align: right;\">\n",
              "      <th></th>\n",
              "      <th>category</th>\n",
              "      <th>content</th>\n",
              "      <th>link</th>\n",
              "      <th>title</th>\n",
              "    </tr>\n",
              "  </thead>\n",
              "  <tbody>\n",
              "    <tr>\n",
              "      <th>0</th>\n",
              "      <td>政治</td>\n",
              "      <td>新增：立委說法民進黨立法院黨團預計在明天的院會中，讓改制農田水利會的《農田水利會組織通則》修...</td>\n",
              "      <td>https://tw.news.appledaily.com/politics/realti...</td>\n",
              "      <td>【更新】水利會改官派明闖關　綠委24小時前顧議場大門防藍突襲</td>\n",
              "    </tr>\n",
              "    <tr>\n",
              "      <th>1</th>\n",
              "      <td>論壇</td>\n",
              "      <td>邱俊棠／台中市民、見習醫師；曾任台灣醫學生聯合會對外副會長對於公民參與公眾事務而能得到單位首...</td>\n",
              "      <td>https://tw.news.appledaily.com/forum/realtime/...</td>\n",
              "      <td>請中市府為所當為 加速中火燃煤限制</td>\n",
              "    </tr>\n",
              "    <tr>\n",
              "      <th>2</th>\n",
              "      <td>社會</td>\n",
              "      <td>被控來台涉發展情報組織的中國學生周泓旭，因接觸我方外交部官員而露餡落網，今年9月被台北地院一...</td>\n",
              "      <td>https://tw.news.appledaily.com/local/realtime/...</td>\n",
              "      <td>陸生共諜嗆台司法　「不敢公開審理我」</td>\n",
              "    </tr>\n",
              "    <tr>\n",
              "      <th>3</th>\n",
              "      <td>生活</td>\n",
              "      <td>【廣編特輯】 對於全能神教會在中國所遭受的迫害與在韓國、香港及臺灣所面對的反面宣傳，非政府組...</td>\n",
              "      <td>https://tw.news.appledaily.com/life/realtime/2...</td>\n",
              "      <td>【特企】NGO聯名譴責中共迫害宗教信仰</td>\n",
              "    </tr>\n",
              "    <tr>\n",
              "      <th>4</th>\n",
              "      <td>生活</td>\n",
              "      <td>立法院交通委員會今審查《道路交通管理處罰條例》，通過營業大客車駕駛人行駛一般道路未繫安全帶，...</td>\n",
              "      <td>https://tw.news.appledaily.com/life/realtime/2...</td>\n",
              "      <td>乘客搭大客車不配合繫安全帶　立院初審通過可罰6千元</td>\n",
              "    </tr>\n",
              "  </tbody>\n",
              "</table>\n",
              "</div>"
            ],
            "text/plain": [
              "  category  ...                           title\n",
              "0       政治  ...  【更新】水利會改官派明闖關　綠委24小時前顧議場大門防藍突襲\n",
              "1       論壇  ...               請中市府為所當為 加速中火燃煤限制\n",
              "2       社會  ...              陸生共諜嗆台司法　「不敢公開審理我」\n",
              "3       生活  ...             【特企】NGO聯名譴責中共迫害宗教信仰\n",
              "4       生活  ...       乘客搭大客車不配合繫安全帶　立院初審通過可罰6千元\n",
              "\n",
              "[5 rows x 4 columns]"
            ]
          },
          "metadata": {
            "tags": []
          },
          "execution_count": 78
        }
      ]
    },
    {
      "cell_type": "code",
      "metadata": {
        "id": "oq9E2XF8txnH",
        "colab_type": "code",
        "colab": {}
      },
      "source": [
        "import jieba\n",
        "corpus = []\n",
        "titles = []\n",
        "for idx, rec in news.iterrows():\n",
        "  titles.append(rec['title'])\n",
        "  corpus.append(' '.join(jieba.cut(rec['content'])))"
      ],
      "execution_count": 79,
      "outputs": []
    },
    {
      "cell_type": "code",
      "metadata": {
        "id": "bNb3mt7Ct3Y1",
        "colab_type": "code",
        "colab": {}
      },
      "source": [
        "from sklearn.feature_extraction.text import CountVectorizer\n",
        "vectorizer = CountVectorizer()\n",
        "X = vectorizer.fit_transform(corpus)"
      ],
      "execution_count": 80,
      "outputs": []
    },
    {
      "cell_type": "code",
      "metadata": {
        "id": "FBlSeCLHt7bH",
        "colab_type": "code",
        "colab": {
          "base_uri": "https://localhost:8080/",
          "height": 52
        },
        "outputId": "8f366cec-9db0-4182-d696-9d76502f130d"
      },
      "source": [
        "X"
      ],
      "execution_count": 81,
      "outputs": [
        {
          "output_type": "execute_result",
          "data": {
            "text/plain": [
              "<899x38658 sparse matrix of type '<class 'numpy.int64'>'\n",
              "\twith 128159 stored elements in Compressed Sparse Row format>"
            ]
          },
          "metadata": {
            "tags": []
          },
          "execution_count": 81
        }
      ]
    },
    {
      "cell_type": "code",
      "metadata": {
        "id": "c1lpv4TAt8Pz",
        "colab_type": "code",
        "colab": {}
      },
      "source": [
        "from sklearn.metrics.pairwise import cosine_similarity\n",
        "n_cosine_similarities = cosine_similarity(X)"
      ],
      "execution_count": 82,
      "outputs": []
    },
    {
      "cell_type": "code",
      "metadata": {
        "id": "nS9qIWlfuAkm",
        "colab_type": "code",
        "colab": {}
      },
      "source": [
        "from sklearn.cluster import KMeans \n",
        "kmeans = KMeans(n_clusters=10, init = 'k-means++', random_state = 42)\n",
        "c = kmeans.fit_predict(n_cosine_similarities)"
      ],
      "execution_count": 83,
      "outputs": []
    },
    {
      "cell_type": "code",
      "metadata": {
        "id": "QGX5FMpIuEJV",
        "colab_type": "code",
        "colab": {}
      },
      "source": [
        "np_titles = numpy.array(titles)"
      ],
      "execution_count": 84,
      "outputs": []
    },
    {
      "cell_type": "code",
      "metadata": {
        "id": "9vUeuVipuHjE",
        "colab_type": "code",
        "colab": {}
      },
      "source": [
        "#for rec in np_titles[c == 3]:\n",
        "#  print(rec)"
      ],
      "execution_count": 89,
      "outputs": []
    },
    {
      "cell_type": "code",
      "metadata": {
        "id": "z0M_CSq4uTSj",
        "colab_type": "code",
        "colab": {}
      },
      "source": [
        "from sklearn.metrics import silhouette_score\n",
        "\n",
        "sil_ary = []\n",
        "\n",
        "for k in range(2,21):\n",
        "    km = KMeans(n_clusters = k, init='k-means++', random_state=42)\n",
        "    c = km.fit_predict(n_cosine_similarities)\n",
        "    sil_ary.append(silhouette_score(n_cosine_similarities, labels=c))\n"
      ],
      "execution_count": 90,
      "outputs": []
    },
    {
      "cell_type": "code",
      "metadata": {
        "id": "bY5Otw7PuW5r",
        "colab_type": "code",
        "colab": {
          "base_uri": "https://localhost:8080/",
          "height": 285
        },
        "outputId": "f3777315-ff67-4500-9fe7-0df208c67bd7"
      },
      "source": [
        "plt.plot(range(2,21), sil_ary)"
      ],
      "execution_count": 91,
      "outputs": [
        {
          "output_type": "execute_result",
          "data": {
            "text/plain": [
              "[<matplotlib.lines.Line2D at 0x7f50733122e8>]"
            ]
          },
          "metadata": {
            "tags": []
          },
          "execution_count": 91
        },
        {
          "output_type": "display_data",
          "data": {
            "image/png": "[encoded data removed]",
            "text/plain": [
              "<Figure size 432x288 with 1 Axes>"
            ]
          },
          "metadata": {
            "tags": [],
            "needs_background": "light"
          }
        }
      ]
    },
    {
      "cell_type": "markdown",
      "metadata": {
        "id": "CYYrAXVfvEyp",
        "colab_type": "text"
      },
      "source": [
        "## Networkx"
      ]
    },
    {
      "cell_type": "code",
      "metadata": {
        "id": "BPcjkACHueHr",
        "colab_type": "code",
        "colab": {}
      },
      "source": [
        "import networkx as nx\n",
        "G= nx.Graph()"
      ],
      "execution_count": 93,
      "outputs": []
    },
    {
      "cell_type": "code",
      "metadata": {
        "id": "I9e04EK9vKCz",
        "colab_type": "code",
        "colab": {}
      },
      "source": [
        "G.add_node('A')\n",
        "G.add_node('B')\n",
        "G.add_node('C')"
      ],
      "execution_count": 94,
      "outputs": []
    },
    {
      "cell_type": "code",
      "metadata": {
        "id": "prHXi0SjvP16",
        "colab_type": "code",
        "colab": {}
      },
      "source": [
        "G.add_edge('A', 'B')\n",
        "G.add_edge('A', 'C')"
      ],
      "execution_count": 95,
      "outputs": []
    },
    {
      "cell_type": "code",
      "metadata": {
        "id": "JRFyi5-cvTLY",
        "colab_type": "code",
        "colab": {
          "base_uri": "https://localhost:8080/",
          "height": 319
        },
        "outputId": "ef453636-0b4b-4288-ce6f-4741f4c05f91"
      },
      "source": [
        "nx.draw(G)"
      ],
      "execution_count": 96,
      "outputs": [
        {
          "output_type": "display_data",
          "data": {
            "image/png": "[encoded data removed]",
            "text/plain": [
              "<Figure size 432x288 with 1 Axes>"
            ]
          },
          "metadata": {
            "tags": []
          }
        }
      ]
    },
    {
      "cell_type": "code",
      "metadata": {
        "id": "zSYXc7mzvVNm",
        "colab_type": "code",
        "colab": {
          "base_uri": "https://localhost:8080/",
          "height": 69
        },
        "outputId": "d4101622-64e5-4ff6-c39f-0ccadd69540a"
      },
      "source": [
        "nx.adj_matrix(G).toarray()"
      ],
      "execution_count": 98,
      "outputs": [
        {
          "output_type": "execute_result",
          "data": {
            "text/plain": [
              "array([[0, 1, 1],\n",
              "       [1, 0, 0],\n",
              "       [1, 0, 0]], dtype=int64)"
            ]
          },
          "metadata": {
            "tags": []
          },
          "execution_count": 98
        }
      ]
    },
    {
      "cell_type": "markdown",
      "metadata": {
        "id": "yc0HXepow9jr",
        "colab_type": "text"
      },
      "source": [
        "## 社群偵測法分群"
      ]
    },
    {
      "cell_type": "code",
      "metadata": {
        "id": "5Eth3Rsuvdcv",
        "colab_type": "code",
        "colab": {}
      },
      "source": [
        "import pandas\n",
        "news = pandas.read_excel('https://raw.githubusercontent.com/ywchiu/tibame_tm/master/data/news.xlsx', index_col = 0 )"
      ],
      "execution_count": 99,
      "outputs": []
    },
    {
      "cell_type": "code",
      "metadata": {
        "id": "9nCjhqLww_ix",
        "colab_type": "code",
        "colab": {}
      },
      "source": [
        "import jieba\n",
        "corpus = []\n",
        "titles = []\n",
        "for idx, rec in news.iterrows():\n",
        "  titles.append(rec['title'])\n",
        "  corpus.append(' '.join(jieba.cut(rec['content'])))"
      ],
      "execution_count": 100,
      "outputs": []
    },
    {
      "cell_type": "code",
      "metadata": {
        "id": "55CKIOgNxCXW",
        "colab_type": "code",
        "colab": {}
      },
      "source": [
        "from sklearn.feature_extraction.text import CountVectorizer\n",
        "vectorizer = CountVectorizer()\n",
        "X = vectorizer.fit_transform(corpus)"
      ],
      "execution_count": 101,
      "outputs": []
    },
    {
      "cell_type": "code",
      "metadata": {
        "id": "-ZUnKy7AxGqE",
        "colab_type": "code",
        "colab": {}
      },
      "source": [
        "from sklearn.metrics.pairwise import cosine_similarity\n",
        "n_cosine_similarities = cosine_similarity(X)"
      ],
      "execution_count": 102,
      "outputs": []
    },
    {
      "cell_type": "code",
      "metadata": {
        "id": "RrbSo6nIxLBo",
        "colab_type": "code",
        "colab": {
          "base_uri": "https://localhost:8080/",
          "height": 35
        },
        "outputId": "e97efb78-3463-4d54-e4ce-c3deb79fe2ed"
      },
      "source": [
        "n_cosine_similarities.shape"
      ],
      "execution_count": 103,
      "outputs": [
        {
          "output_type": "execute_result",
          "data": {
            "text/plain": [
              "(899, 899)"
            ]
          },
          "metadata": {
            "tags": []
          },
          "execution_count": 103
        }
      ]
    },
    {
      "cell_type": "code",
      "metadata": {
        "id": "haPp3SypxN3p",
        "colab_type": "code",
        "colab": {}
      },
      "source": [
        "m = (n_cosine_similarities >= 0.3).astype(int)"
      ],
      "execution_count": 107,
      "outputs": []
    },
    {
      "cell_type": "code",
      "metadata": {
        "id": "2TmB6S15xTYn",
        "colab_type": "code",
        "colab": {}
      },
      "source": [
        "G = nx.from_numpy_matrix(m)"
      ],
      "execution_count": 109,
      "outputs": []
    },
    {
      "cell_type": "code",
      "metadata": {
        "id": "bA4H_9USxka-",
        "colab_type": "code",
        "colab": {
          "base_uri": "https://localhost:8080/",
          "height": 35
        },
        "outputId": "d40dfa5d-b1e4-48a1-bdfb-12a783ab58b5"
      },
      "source": [
        "G"
      ],
      "execution_count": 110,
      "outputs": [
        {
          "output_type": "execute_result",
          "data": {
            "text/plain": [
              "<networkx.classes.graph.Graph at 0x7f50721a8518>"
            ]
          },
          "metadata": {
            "tags": []
          },
          "execution_count": 110
        }
      ]
    },
    {
      "cell_type": "code",
      "metadata": {
        "id": "zCBQrPXrxpFQ",
        "colab_type": "code",
        "colab": {
          "base_uri": "https://localhost:8080/",
          "height": 106
        },
        "outputId": "8aeead3a-cee9-4237-f338-ae95c17bdfe1"
      },
      "source": [
        "! pip install python-louvain"
      ],
      "execution_count": 111,
      "outputs": [
        {
          "output_type": "stream",
          "text": [
            "Requirement already satisfied: python-louvain in /usr/local/lib/python3.6/dist-packages (0.14)\n",
            "Requirement already satisfied: numpy in /usr/local/lib/python3.6/dist-packages (from python-louvain) (1.18.5)\n",
            "Requirement already satisfied: networkx in /usr/local/lib/python3.6/dist-packages (from python-louvain) (2.4)\n",
            "Requirement already satisfied: decorator>=4.3.0 in /usr/local/lib/python3.6/dist-packages (from networkx->python-louvain) (4.4.2)\n"
          ],
          "name": "stdout"
        }
      ]
    },
    {
      "cell_type": "code",
      "metadata": {
        "id": "V_wtkZqpxv8M",
        "colab_type": "code",
        "colab": {}
      },
      "source": [
        "import community\n",
        "comm = community.best_partition(G)"
      ],
      "execution_count": 112,
      "outputs": []
    },
    {
      "cell_type": "code",
      "metadata": {
        "id": "UPyC3jLVx3hb",
        "colab_type": "code",
        "colab": {}
      },
      "source": [
        "np_titles = numpy.array(titles)"
      ],
      "execution_count": 116,
      "outputs": []
    },
    {
      "cell_type": "code",
      "metadata": {
        "id": "D7cEhPEcx26w",
        "colab_type": "code",
        "colab": {
          "base_uri": "https://localhost:8080/",
          "height": 1000
        },
        "outputId": "28961b18-b41a-4eac-88cd-f729b34adb8d"
      },
      "source": [
        "from collections import Counter\n",
        "cluster_ary = numpy.array(list(comm.values()))\n",
        "c = Counter(comm.values())\n",
        "\n",
        "for group , cnt in c.most_common(10):\n",
        "  articles = np_titles[cluster_ary == group]\n",
        "  for news in articles:\n",
        "    print(news)\n",
        "  print('==========================')"
      ],
      "execution_count": 119,
      "outputs": [
        {
          "output_type": "stream",
          "text": [
            "小嫻婚變冒毒菇　勾于美人「奉茶」夢魘\n",
            "遭粉絲頁冒名捲「正嫻」口水戰　于美人：跟我真的無關！\n",
            "「想抱孫要看天！」　他批小嫻婆婆殘忍強逼\n",
            "砲轟小嫻被酸民攻陷　「何三姑」粉絲頁關了\n",
            "【好聚不好散】離婚掏出6千萬　這女星比小嫻還慘\n",
            "【狗仔偷拍】小嫻搬離何守正家租66坪房　月租6萬元\n",
            "許聖梅心疼小嫻被當空氣　爆何守正「有兩個女學員」\n",
            "【動畫解盤】毒菇跳火線譙seafood　小嫻難瘦香菇\n",
            "十二月十四日各報頭條搶先報\n",
            "不捨善良小嫻慘遭婚變　乃哥「命運捉弄人」\n",
            "【獨家】小嫻賣房求子　婆婆竟拒入籍何家\n",
            "【毒菇護弟】何守正姊姊不是華岡七仙女　美法連線批小嫻\n",
            "小嫻離婚導火線　拉何守正信妙禪\n",
            "【狗仔偷拍】何守正現身！「全台最沒尊嚴的婆婆」也出來了\n",
            "小嫻中分手魔咒！ 同公司4女星全都婚變\n",
            "何守正姐姐神護航！遭網友酸：全台最討人厭大姑\n",
            "小嫻別傻傻被欺負！女律師說「姐寶」就要這樣對付\n",
            "【小嫻婚變】他說很奇怪　「一定是男生劈腿？」\n",
            "教友小嫻婚姻觸礁　曾之喬談情避不開Seafood\n",
            "小嫻守正結婚在台沒登記　想離婚只有兩條路\n",
            "胡瓜2個月前耳聞小嫻婚變　震驚之餘好心疼\n",
            "何守正兩個姊姊護航扯婆媳　「他」戳破媽寶特色\n",
            "大姑出面護弟！轟小嫻不能生「媽媽是全台最沒有尊嚴的婆婆」\n",
            "小嫻信奉妙禪　關鍵原因與何守正有關！\n",
            "小嫻何守正想離婚　必須先做這件事！\n",
            "女網紅因為這理由挺余祥銓！讓人不知該哭還是笑\n",
            "「小嫻不快樂！」　許聖梅：何守正虧欠她\n",
            "【內幕動畫】小嫻婚變何守正姊反擊　不滿媽煮飯侍奉星媳婦\n",
            "小嫻多信妙禪？　曾見證「師父帶我跳舞」\n",
            "【話當年】被拍和她上賓館　何守正掰了阿妹\n",
            "小嫻婚變無徵兆　男星嘆：兩人向來出雙入對\n",
            "【獨家內幕】太傷！小嫻被分手　何守正當小三面前攤牌\n",
            "【小嫻離婚】何守正稱沒有遺憾　人妻女星超火「一嘴屁話」\n",
            "【小嫻離婚】3大退讓人財兩失　求子花光430萬積蓄\n",
            "==========================\n",
            "【特企】NGO聯名譴責中共迫害宗教信仰\n",
            "【特企】NGO聯名譴責中共迫害宗教信仰\n",
            "【特企】NGO聯名譴責中共迫害宗教信仰\n",
            "【特企】NGO聯名譴責中共迫害宗教信仰\n",
            "【特企】NGO聯名譴責中共迫害宗教信仰\n",
            "【特企】NGO聯名譴責中共迫害宗教信仰\n",
            "【特企】NGO聯名譴責中共迫害宗教信仰\n",
            "【特企】NGO聯名譴責中共迫害宗教信仰\n",
            "【特企】NGO聯名譴責中共迫害宗教信仰\n",
            "【特企】NGO聯名譴責中共迫害宗教信仰\n",
            "【特企】NGO聯名譴責中共迫害宗教信仰\n",
            "【特企】NGO聯名譴責中共迫害宗教信仰\n",
            "【特企】NGO聯名譴責中共迫害宗教信仰\n",
            "【特企】NGO聯名譴責中共迫害宗教信仰\n",
            "【特企】NGO聯名譴責中共迫害宗教信仰\n",
            "【特企】NGO聯名譴責中共迫害宗教信仰\n",
            "【特企】NGO聯名譴責中共迫害宗教信仰\n",
            "【特企】NGO聯名譴責中共迫害宗教信仰\n",
            "【特企】NGO聯名譴責中共迫害宗教信仰\n",
            "【特企】NGO聯名譴責中共迫害宗教信仰\n",
            "【特企】NGO聯名譴責中共迫害宗教信仰\n",
            "【特企】NGO聯名譴責中共迫害宗教信仰\n",
            "【特企】NGO聯名譴責中共迫害宗教信仰\n",
            "【特企】NGO聯名譴責中共迫害宗教信仰\n",
            "【特企】NGO聯名譴責中共迫害宗教信仰\n",
            "【特企】NGO聯名譴責中共迫害宗教信仰\n",
            "【特企】NGO聯名譴責中共迫害宗教信仰\n",
            "【特企】NGO聯名譴責中共迫害宗教信仰\n",
            "【特企】NGO聯名譴責中共迫害宗教信仰\n",
            "【特企】NGO聯名譴責中共迫害宗教信仰\n",
            "==========================\n",
            "打臉提勒森　白宮：現在不是與北韓談判的時機\n",
            "【美夢一場】美台軍艦互訪皆是空？　卜睿哲：川普不會執行\n",
            "【美國輸了？】美對北韓首見軟化　提勒森：談判可無先決條件\n",
            "余杰：台灣不是1949年的北平\n",
            "AIT主席莫健拜會　賴清德：台灣善盡責任維護區域穩定\n",
            "小心！在美結婚台灣沒登記　偷腥照樣能捉姦\n",
            "川普簽署國防授權法　賴清德：美國願意伸出援手是好事\n",
            "美國會授權軍艦來台　蒲博思：總統職權不需國會指揮\n",
            "共機頻擾台　國台辦：不承認一中就無軍事互信\n",
            "川普簽署國防授權法　總統府：感謝美國長期支持台灣\n",
            "美台軍艦互訪寫入國會意見　前高官：川普不會執行\n",
            "川普簽NDAA評估美台軍艦互停　立委憂台灣成籌碼\n",
            "美台軍艦互訪？　陸國台辦：挾洋自重不可能得逞\n",
            "美國務卿首度未提《台灣關係法》　外交部：對台政策不變\n",
            "美國務卿說明「一中政策」　未照慣例提「台灣關係法」\n",
            "別再叫金正恩肥宅　最新稱謂晉身「金最高」\n",
            "美國態度才放軟　金正恩又嗆：建立全球最強核武\n",
            "川普簽署國防授權法　美艦停台列國會意見\n",
            "【誰怕誰】中國嗆武統台灣　美議員：美台應聯合軍演\n",
            "==========================\n",
            "被爆賤賣中視讓利4.8億　馬英九回應了\n",
            "徐永明：看來蔡正元不願再掩護馬英九\n",
            " 回應北檢聲明　徐巧芯 ：不要事情鬧大了才推給媒體\n",
            "「狗急跳牆亂咬人」溫紳說馬英九該告媒體\n",
            "遭馬英九告洩密　北檢：嚴守偵查不公開\n",
            "「忍無可忍」　馬英九怒告檢察長洩三中案不實秘密\n",
            "李惠仁怒嗆：馬英九，你有什麼資格按鈴？！\n",
            "馬英九反擊！不滿遭影射三中案有罪　馬親自到地檢署告北檢洩密\n",
            "三中案馬英九圖利中時老闆？　北檢：不評論\n",
            "藍營人士：北檢一再人格謀殺馬英九　「營造有罪氛圍」\n",
            "三中案交易傳有馬英九讓利關鍵錄音　馬辦諷：宛如小說\n",
            "三中案祕錄光碟！恐扳倒馬英九　當年他錄的\n",
            "三中案500萬禮盒照　馬英九一句話成關鍵\n",
            "==========================\n",
            "空污拉警報　民進黨：這是中國政府不可迴避的問題\n",
            "賴清德：移動污染源空污費　2成給地方政府使用\n",
            "一起對抗空污　氣象局新增境外污染趨勢模擬（動畫）\n",
            "民眾周日上街反空污　李應元在廣播節目道歉\n",
            "民眾周日上街反空污　李應元在廣播節目道歉\n",
            "打擊空污　蔡英文指示：參考日韓防範境外移污染源\n",
            "【空污防制】詹順貴：真的有中國汙染源　不能把問題簡化\n",
            "徐國勇說主要污染源是中國　環團批爭搶年度幹話王\n",
            "徐國勇說空污源來自中國　吳敦義批：民進黨遇到問題只會推\n",
            "環署要到中國考察空污治理　立委酸「人家改善比較好」\n",
            "李應元去南部「都沒戴口罩」　遭問「沒吸到髒空氣？」\n",
            "==========================\n",
            "Fed升息美元走軟　台幣今再升破30元大關\n",
            "【Fed告別秀】葉倫談比特幣　以7個字總結\n",
            "Fed宣布升息1碼　台股早盤大漲逾百點\n",
            "Fed升息符合預期　經濟學家：大家可過個平安聖誕節\n",
            "【Fed有鴿味】美元軟了黃金硬了　美股道指創新高\n",
            "這家供應商獲蘋果投資117億　股價暴漲31%\n",
            "川普不給力美元軟趴趴　歐元料再升逾10%\n",
            "蘋果寫傳奇！上市37周年股價飆436倍\n",
            "蘋果與台灣經濟多密切　《金融時報》這張圖表讓你秒懂\n",
            "靜候FOMC結論　台幣平盤整理午盤小貶0.5分\n",
            "==========================\n",
            "【尊嚴片】被前女友譏諷「裝B」　他抓緊胯下崩潰\n",
            "【心碎片】學網路撩妹不成　他慘被罵「死肥宅」\n",
            "台菜融合泰國麵　祖孫倆呷到忘記錄影\n",
            "南京大屠殺被消音　他批台人選擇性遺忘\n",
            "【扭蛋片】單身男只愛大奶　美少女怒喊「膚淺」\n",
            "和網球肘說掰掰　物理治療師這樣做\n",
            "粉嫩征服少女心　莓果蒙布朗超繽紛\n",
            "【職場人蔘】上班裝忙這藝術　學不會就無法脫嫩\n",
            "【長知識】女師解中學性教育　龜頭長這樣有原因\n",
            "選擇障礙真難搞　她挑男友竟猶豫這點\n",
            "==========================\n",
            "玉山清晨降雪　陽光露臉融化糖霜潤大地\n",
            "後天入冬最強冷空氣來襲　低溫下探12℃\n",
            "像灑了糖霜！玉山今晨降雪　積雪0.5公分\n",
            "明溫暖舒適！　吳德榮：周六變天下探11℃\n",
            "豪雨夜襲！宜蘭防大豪雨　北北基發大雨特報\n",
            "輕颱啟德恐生成　入冬最強冷空氣周末來襲下探11℃（動畫）\n",
            "吳德榮：周六冷空氣報到探11℃　冷到下周一\n",
            "北北基宜豪雨特報！　周六「入冬最強」冷空氣報到\n",
            "==========================\n",
            "驚！　野生捕獲恐龍遛汪星人\n",
            "驚！　野生捕獲恐龍遛汪星人\n",
            "搔癢無尾熊 表情超enjoy\n",
            "【笑翻片】各種抓！動物止癢出奇招\n",
            "【保護片】就是不能下水！狗狗護小主人\n",
            "群狗亂舞開趴　畫面太「美」讓人不敢看\n",
            "一家人霸氣合照　萌到爆！\n",
            "超近看螞蟻食蜂蜜　竟感到療癒？\n",
            "==========================\n",
            "黃國昌：長期目標要消滅國民黨　不支持柯文哲的兩岸一家親\n",
            "罷免案將投票　李遠哲今再度現身力挺黃國昌\n",
            "黃國昌若被罷免會更強　他：成為選輸北市的阿扁\n",
            "花媽和小竹輪　歡迎大家來高雄大氣球遊行\n",
            "【聲援片】沈發惠呼籲罷昌案投「不同意」　黃國昌：謝謝您\n",
            "「兩蔣時代」超譯　網友：不准傷皇城內的和氣！\n",
            "罷昌案周六投票　時代力量全力澄清不實謠言\n",
            "==========================\n"
          ],
          "name": "stdout"
        }
      ]
    }
  ]
}