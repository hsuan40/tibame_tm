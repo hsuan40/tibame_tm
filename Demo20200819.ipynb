{
  "nbformat": 4,
  "nbformat_minor": 0,
  "metadata": {
    "colab": {
      "name": "Demo20200819.ipynb",
      "provenance": [],
      "collapsed_sections": []
    },
    "kernelspec": {
      "name": "python3",
      "display_name": "Python 3"
    }
  },
  "cells": [
    {
      "cell_type": "markdown",
      "metadata": {
        "id": "sCW7-qszfPtl",
        "colab_type": "text"
      },
      "source": [
        "## 作業六"
      ]
    },
    {
      "cell_type": "code",
      "metadata": {
        "id": "4fFmOdeKevPS",
        "colab_type": "code",
        "colab": {}
      },
      "source": [
        "import pandas\n",
        "finance = pandas.read_excel('https://raw.githubusercontent.com/ywchiu/tibame_tm/master/data/finance_article.xlsx')"
      ],
      "execution_count": 1,
      "outputs": []
    },
    {
      "cell_type": "code",
      "metadata": {
        "id": "0H3JjomKfXpi",
        "colab_type": "code",
        "colab": {
          "base_uri": "https://localhost:8080/",
          "height": 285
        },
        "outputId": "191160eb-ca46-4e0c-ef3f-08f34ebd724e"
      },
      "source": [
        "finance.head()"
      ],
      "execution_count": 2,
      "outputs": [
        {
          "output_type": "execute_result",
          "data": {
            "text/html": [
              "<div>\n",
              "<style scoped>\n",
              "    .dataframe tbody tr th:only-of-type {\n",
              "        vertical-align: middle;\n",
              "    }\n",
              "\n",
              "    .dataframe tbody tr th {\n",
              "        vertical-align: top;\n",
              "    }\n",
              "\n",
              "    .dataframe thead th {\n",
              "        text-align: right;\n",
              "    }\n",
              "</style>\n",
              "<table border=\"1\" class=\"dataframe\">\n",
              "  <thead>\n",
              "    <tr style=\"text-align: right;\">\n",
              "      <th></th>\n",
              "      <th>url</th>\n",
              "      <th>title</th>\n",
              "      <th>content</th>\n",
              "      <th>tag</th>\n",
              "    </tr>\n",
              "  </thead>\n",
              "  <tbody>\n",
              "    <tr>\n",
              "      <th>0</th>\n",
              "      <td>https://www.ptt.cc/bbs/Loan/M.1586506724.A.914...</td>\n",
              "      <td>[問題] 新北原屋貸款</td>\n",
              "      <td>[抵押房屋資訊]\\n地點：新北市永和\\n房屋形態：透天五樓\\n房屋種類：自有住宅\\n房屋/土...</td>\n",
              "      <td>Loan</td>\n",
              "    </tr>\n",
              "    <tr>\n",
              "      <th>1</th>\n",
              "      <td>https://www.ptt.cc/bbs/Loan/M.1586449508.A.618...</td>\n",
              "      <td>信貸 (台積電)</td>\n",
              "      <td>1. 信貸金額：80-200萬\\n2. 還款期限：7年\\n3. 貸款用途：投資理財\\n4. ...</td>\n",
              "      <td>Loan</td>\n",
              "    </tr>\n",
              "    <tr>\n",
              "      <th>2</th>\n",
              "      <td>https://www.ptt.cc/bbs/Stock/M.1586573726.A.DB...</td>\n",
              "      <td>[新聞] 瑞幸咖啡遭遇做空 疫情危機下中概股受到的放大鏡式狙擊</td>\n",
              "      <td>1.原文連結：\\n\\n2.原文內容：\\n林祖偉／BBC中文\\n\\n瑞幸咖啡有超過4500間分...</td>\n",
              "      <td>Stock</td>\n",
              "    </tr>\n",
              "    <tr>\n",
              "      <th>3</th>\n",
              "      <td>https://www.ptt.cc/bbs/Stock/M.1586582519.A.AE...</td>\n",
              "      <td>[新聞] 14檔業績四升 法人搶</td>\n",
              "      <td>1.原文連結：\\n\\n2.原文內容：14檔業績四升 法人搶\\n2020-04-11 00:1...</td>\n",
              "      <td>Stock</td>\n",
              "    </tr>\n",
              "    <tr>\n",
              "      <th>4</th>\n",
              "      <td>https://www.ptt.cc/bbs/Stock/M.1586572758.A.8B...</td>\n",
              "      <td>[新聞] 突變酵素 塑膠瓶幾小時內能回收</td>\n",
              "      <td>1.原文連結：\\n\\n2.原文內容：\\n科學家創造出一種突變細菌酵素，能在幾小時分解塑膠瓶進...</td>\n",
              "      <td>Stock</td>\n",
              "    </tr>\n",
              "  </tbody>\n",
              "</table>\n",
              "</div>"
            ],
            "text/plain": [
              "                                                 url  ...    tag\n",
              "0  https://www.ptt.cc/bbs/Loan/M.1586506724.A.914...  ...   Loan\n",
              "1  https://www.ptt.cc/bbs/Loan/M.1586449508.A.618...  ...   Loan\n",
              "2  https://www.ptt.cc/bbs/Stock/M.1586573726.A.DB...  ...  Stock\n",
              "3  https://www.ptt.cc/bbs/Stock/M.1586582519.A.AE...  ...  Stock\n",
              "4  https://www.ptt.cc/bbs/Stock/M.1586572758.A.8B...  ...  Stock\n",
              "\n",
              "[5 rows x 4 columns]"
            ]
          },
          "metadata": {
            "tags": []
          },
          "execution_count": 2
        }
      ]
    },
    {
      "cell_type": "code",
      "metadata": {
        "id": "Bjb6aSdFfeTI",
        "colab_type": "code",
        "colab": {
          "base_uri": "https://localhost:8080/",
          "height": 86
        },
        "outputId": "56b31109-7d70-41c8-993c-b97aa5abb8ab"
      },
      "source": [
        "import jieba\n",
        "corpus = []\n",
        "tags = []\n",
        "for idx, rec in finance.iterrows():\n",
        "  corpus.append(' '.join(jieba.cut(rec['content'])))\n",
        "  tags.append(rec['tag'])"
      ],
      "execution_count": 3,
      "outputs": [
        {
          "output_type": "stream",
          "text": [
            "Building prefix dict from the default dictionary ...\n",
            "Dumping model to file cache /tmp/jieba.cache\n",
            "Loading model cost 0.959 seconds.\n",
            "Prefix dict has been built successfully.\n"
          ],
          "name": "stderr"
        }
      ]
    },
    {
      "cell_type": "code",
      "metadata": {
        "id": "LR0XfHlJfzB1",
        "colab_type": "code",
        "colab": {}
      },
      "source": [
        "from sklearn.feature_extraction.text import CountVectorizer, TfidfVectorizer\n",
        "vectorizer = TfidfVectorizer()\n",
        "tfidf = vectorizer.fit_transform(corpus)"
      ],
      "execution_count": 6,
      "outputs": []
    },
    {
      "cell_type": "code",
      "metadata": {
        "id": "NxKW8zoAgCmD",
        "colab_type": "code",
        "colab": {}
      },
      "source": [
        "X = tfidf\n",
        "y = tags"
      ],
      "execution_count": 7,
      "outputs": []
    },
    {
      "cell_type": "code",
      "metadata": {
        "id": "pXBWI21XgUyH",
        "colab_type": "code",
        "colab": {}
      },
      "source": [
        "from sklearn.model_selection import train_test_split\n",
        "train_x, test_x, train_y, test_y = train_test_split(X,y, test_size = 0.2, random_state = 42)"
      ],
      "execution_count": 8,
      "outputs": []
    },
    {
      "cell_type": "code",
      "metadata": {
        "id": "-fFhOCDUgoyn",
        "colab_type": "code",
        "colab": {
          "base_uri": "https://localhost:8080/",
          "height": 35
        },
        "outputId": "4055a79c-8c32-4e71-bc76-505c1a6ec104"
      },
      "source": [
        "from sklearn.naive_bayes import MultinomialNB\n",
        "clf = MultinomialNB(alpha = 0.01)\n",
        "clf.fit(train_x, train_y)"
      ],
      "execution_count": 9,
      "outputs": [
        {
          "output_type": "execute_result",
          "data": {
            "text/plain": [
              "MultinomialNB(alpha=0.01, class_prior=None, fit_prior=True)"
            ]
          },
          "metadata": {
            "tags": []
          },
          "execution_count": 9
        }
      ]
    },
    {
      "cell_type": "code",
      "metadata": {
        "id": "9lRiTdQ1g0MI",
        "colab_type": "code",
        "colab": {}
      },
      "source": [
        "pred_y = clf.predict(test_x)"
      ],
      "execution_count": 11,
      "outputs": []
    },
    {
      "cell_type": "code",
      "metadata": {
        "id": "oYbhKopyg26C",
        "colab_type": "code",
        "colab": {
          "base_uri": "https://localhost:8080/",
          "height": 35
        },
        "outputId": "8b26cf9e-a83b-4514-da0b-8d2c28f66a7d"
      },
      "source": [
        "from sklearn.metrics import accuracy_score\n",
        "accuracy_score(test_y, pred_y)"
      ],
      "execution_count": 12,
      "outputs": [
        {
          "output_type": "execute_result",
          "data": {
            "text/plain": [
              "1.0"
            ]
          },
          "metadata": {
            "tags": []
          },
          "execution_count": 12
        }
      ]
    },
    {
      "cell_type": "code",
      "metadata": {
        "id": "W2yfsZYrhCS5",
        "colab_type": "code",
        "colab": {
          "base_uri": "https://localhost:8080/",
          "height": 86
        },
        "outputId": "46932f29-3964-469f-d4df-b29d8883b754"
      },
      "source": [
        "from sklearn.metrics import confusion_matrix\n",
        "print(clf.classes_)\n",
        "confusion_matrix(test_y, pred_y)"
      ],
      "execution_count": 14,
      "outputs": [
        {
          "output_type": "stream",
          "text": [
            "['Loan' 'Stock' 'creditcard']\n"
          ],
          "name": "stdout"
        },
        {
          "output_type": "execute_result",
          "data": {
            "text/plain": [
              "array([[24,  0,  0],\n",
              "       [ 0, 17,  0],\n",
              "       [ 0,  0, 19]])"
            ]
          },
          "metadata": {
            "tags": []
          },
          "execution_count": 14
        }
      ]
    },
    {
      "cell_type": "markdown",
      "metadata": {
        "id": "M16qA9jHkJ_h",
        "colab_type": "text"
      },
      "source": [
        "## Yahoo 奇摩爬蟲"
      ]
    },
    {
      "cell_type": "code",
      "metadata": {
        "id": "ZO9x_IoohYUw",
        "colab_type": "code",
        "colab": {}
      },
      "source": [
        "import requests\n",
        "res = requests.get('https://movies.yahoo.com.tw/movieinfo_review.html/id=8779?sort=update_ts&order=desc&page=2')\n"
      ],
      "execution_count": 16,
      "outputs": []
    },
    {
      "cell_type": "code",
      "metadata": {
        "id": "IwvrTGgDkOmg",
        "colab_type": "code",
        "colab": {}
      },
      "source": [
        "from bs4 import BeautifulSoup\n",
        "soup = BeautifulSoup(res.text, 'lxml')"
      ],
      "execution_count": 17,
      "outputs": []
    },
    {
      "cell_type": "code",
      "metadata": {
        "id": "NszybN62kWAy",
        "colab_type": "code",
        "colab": {}
      },
      "source": [
        "#soup"
      ],
      "execution_count": 19,
      "outputs": []
    },
    {
      "cell_type": "code",
      "metadata": {
        "id": "o2J09GgWkYN9",
        "colab_type": "code",
        "colab": {}
      },
      "source": [
        "movie_ary = []\n",
        "for li in soup.select('.usercom_list li'):\n",
        "  stars = li.select_one('input[name=score]').get('value')\n",
        "  comments = li.select('span')[2].text\n",
        "  movie_ary.append({'comments':comments, 'stars':stars})\n",
        "  #print('====================')"
      ],
      "execution_count": 29,
      "outputs": []
    },
    {
      "cell_type": "code",
      "metadata": {
        "id": "q2FxdrefkpV9",
        "colab_type": "code",
        "colab": {}
      },
      "source": [
        "import pandas\n",
        "moviedf = pandas.DataFrame(movie_ary)"
      ],
      "execution_count": 30,
      "outputs": []
    },
    {
      "cell_type": "code",
      "metadata": {
        "id": "yNA69woylv7k",
        "colab_type": "code",
        "colab": {
          "base_uri": "https://localhost:8080/",
          "height": 348
        },
        "outputId": "28a55522-1732-4a0d-f53e-38f3f95ee860"
      },
      "source": [
        "moviedf"
      ],
      "execution_count": 31,
      "outputs": [
        {
          "output_type": "execute_result",
          "data": {
            "text/html": [
              "<div>\n",
              "<style scoped>\n",
              "    .dataframe tbody tr th:only-of-type {\n",
              "        vertical-align: middle;\n",
              "    }\n",
              "\n",
              "    .dataframe tbody tr th {\n",
              "        vertical-align: top;\n",
              "    }\n",
              "\n",
              "    .dataframe thead th {\n",
              "        text-align: right;\n",
              "    }\n",
              "</style>\n",
              "<table border=\"1\" class=\"dataframe\">\n",
              "  <thead>\n",
              "    <tr style=\"text-align: right;\">\n",
              "      <th></th>\n",
              "      <th>comments</th>\n",
              "      <th>stars</th>\n",
              "    </tr>\n",
              "  </thead>\n",
              "  <tbody>\n",
              "    <tr>\n",
              "      <th>0</th>\n",
              "      <td>為拍而拍 全毀 面目全非 女主選角選成這樣我已經忍著掏錢出來看 結果整體也是爛的一匹</td>\n",
              "      <td>1</td>\n",
              "    </tr>\n",
              "    <tr>\n",
              "      <th>1</th>\n",
              "      <td>普普 看到想睡覺 劇情流暢 但看完不是很過癮</td>\n",
              "      <td>3</td>\n",
              "    </tr>\n",
              "    <tr>\n",
              "      <th>2</th>\n",
              "      <td>比復仇者聯盟4~好看太多!驚奇隊長~好看~推</td>\n",
              "      <td>5</td>\n",
              "    </tr>\n",
              "    <tr>\n",
              "      <th>3</th>\n",
              "      <td>https://www.facebook.com/profile.php?id=100028...</td>\n",
              "      <td>5</td>\n",
              "    </tr>\n",
              "    <tr>\n",
              "      <th>4</th>\n",
              "      <td>比預期好看，幾部英雄系列電影裡覺得很推薦的一部</td>\n",
              "      <td>4</td>\n",
              "    </tr>\n",
              "    <tr>\n",
              "      <th>5</th>\n",
              "      <td>看片找我 www.gamedisc.cc</td>\n",
              "      <td>5</td>\n",
              "    </tr>\n",
              "    <tr>\n",
              "      <th>6</th>\n",
              "      <td>沒有想像中好看，但交代了一些以前復仇者聯盟系列沒有的細節，總體還行</td>\n",
              "      <td>4</td>\n",
              "    </tr>\n",
              "    <tr>\n",
              "      <th>7</th>\n",
              "      <td>真是很乏味無趣的一部戲.超級失望~</td>\n",
              "      <td>1</td>\n",
              "    </tr>\n",
              "    <tr>\n",
              "      <th>8</th>\n",
              "      <td>女角給1星。其它不是很有趣。\\r\\n內容適合國中小學生。</td>\n",
              "      <td>1</td>\n",
              "    </tr>\n",
              "    <tr>\n",
              "      <th>9</th>\n",
              "      <td>對女超人無抵抗～正妹！力挺哈哈</td>\n",
              "      <td>4</td>\n",
              "    </tr>\n",
              "  </tbody>\n",
              "</table>\n",
              "</div>"
            ],
            "text/plain": [
              "                                            comments stars\n",
              "0         為拍而拍 全毀 面目全非 女主選角選成這樣我已經忍著掏錢出來看 結果整體也是爛的一匹     1\n",
              "1                             普普 看到想睡覺 劇情流暢 但看完不是很過癮     3\n",
              "2                             比復仇者聯盟4~好看太多!驚奇隊長~好看~推     5\n",
              "3  https://www.facebook.com/profile.php?id=100028...     5\n",
              "4                            比預期好看，幾部英雄系列電影裡覺得很推薦的一部     4\n",
              "5                               看片找我 www.gamedisc.cc     5\n",
              "6                  沒有想像中好看，但交代了一些以前復仇者聯盟系列沒有的細節，總體還行     4\n",
              "7                                  真是很乏味無趣的一部戲.超級失望~     1\n",
              "8                       女角給1星。其它不是很有趣。\\r\\n內容適合國中小學生。     1\n",
              "9                                    對女超人無抵抗～正妹！力挺哈哈     4"
            ]
          },
          "metadata": {
            "tags": []
          },
          "execution_count": 31
        }
      ]
    },
    {
      "cell_type": "code",
      "metadata": {
        "id": "F27FXeo_lwfq",
        "colab_type": "code",
        "colab": {}
      },
      "source": [
        "def convertRate(stars):\n",
        "  if int(stars) >= 4:\n",
        "    return 'good'\n",
        "  elif int(stars) == 3:\n",
        "    return 'soso'\n",
        "  else:\n",
        "    return 'bad'"
      ],
      "execution_count": 32,
      "outputs": []
    },
    {
      "cell_type": "code",
      "metadata": {
        "id": "3xu128PlmK6F",
        "colab_type": "code",
        "colab": {}
      },
      "source": [
        "moviedf['status'] = moviedf['stars'].map(convertRate)"
      ],
      "execution_count": 34,
      "outputs": []
    },
    {
      "cell_type": "code",
      "metadata": {
        "id": "4jzbWEGmmSZo",
        "colab_type": "code",
        "colab": {
          "base_uri": "https://localhost:8080/",
          "height": 348
        },
        "outputId": "89f27ebb-54ee-4eb7-a162-220a543a8d20"
      },
      "source": [
        "moviedf"
      ],
      "execution_count": 35,
      "outputs": [
        {
          "output_type": "execute_result",
          "data": {
            "text/html": [
              "<div>\n",
              "<style scoped>\n",
              "    .dataframe tbody tr th:only-of-type {\n",
              "        vertical-align: middle;\n",
              "    }\n",
              "\n",
              "    .dataframe tbody tr th {\n",
              "        vertical-align: top;\n",
              "    }\n",
              "\n",
              "    .dataframe thead th {\n",
              "        text-align: right;\n",
              "    }\n",
              "</style>\n",
              "<table border=\"1\" class=\"dataframe\">\n",
              "  <thead>\n",
              "    <tr style=\"text-align: right;\">\n",
              "      <th></th>\n",
              "      <th>comments</th>\n",
              "      <th>stars</th>\n",
              "      <th>status</th>\n",
              "    </tr>\n",
              "  </thead>\n",
              "  <tbody>\n",
              "    <tr>\n",
              "      <th>0</th>\n",
              "      <td>為拍而拍 全毀 面目全非 女主選角選成這樣我已經忍著掏錢出來看 結果整體也是爛的一匹</td>\n",
              "      <td>1</td>\n",
              "      <td>bad</td>\n",
              "    </tr>\n",
              "    <tr>\n",
              "      <th>1</th>\n",
              "      <td>普普 看到想睡覺 劇情流暢 但看完不是很過癮</td>\n",
              "      <td>3</td>\n",
              "      <td>soso</td>\n",
              "    </tr>\n",
              "    <tr>\n",
              "      <th>2</th>\n",
              "      <td>比復仇者聯盟4~好看太多!驚奇隊長~好看~推</td>\n",
              "      <td>5</td>\n",
              "      <td>good</td>\n",
              "    </tr>\n",
              "    <tr>\n",
              "      <th>3</th>\n",
              "      <td>https://www.facebook.com/profile.php?id=100028...</td>\n",
              "      <td>5</td>\n",
              "      <td>good</td>\n",
              "    </tr>\n",
              "    <tr>\n",
              "      <th>4</th>\n",
              "      <td>比預期好看，幾部英雄系列電影裡覺得很推薦的一部</td>\n",
              "      <td>4</td>\n",
              "      <td>good</td>\n",
              "    </tr>\n",
              "    <tr>\n",
              "      <th>5</th>\n",
              "      <td>看片找我 www.gamedisc.cc</td>\n",
              "      <td>5</td>\n",
              "      <td>good</td>\n",
              "    </tr>\n",
              "    <tr>\n",
              "      <th>6</th>\n",
              "      <td>沒有想像中好看，但交代了一些以前復仇者聯盟系列沒有的細節，總體還行</td>\n",
              "      <td>4</td>\n",
              "      <td>good</td>\n",
              "    </tr>\n",
              "    <tr>\n",
              "      <th>7</th>\n",
              "      <td>真是很乏味無趣的一部戲.超級失望~</td>\n",
              "      <td>1</td>\n",
              "      <td>bad</td>\n",
              "    </tr>\n",
              "    <tr>\n",
              "      <th>8</th>\n",
              "      <td>女角給1星。其它不是很有趣。\\r\\n內容適合國中小學生。</td>\n",
              "      <td>1</td>\n",
              "      <td>bad</td>\n",
              "    </tr>\n",
              "    <tr>\n",
              "      <th>9</th>\n",
              "      <td>對女超人無抵抗～正妹！力挺哈哈</td>\n",
              "      <td>4</td>\n",
              "      <td>good</td>\n",
              "    </tr>\n",
              "  </tbody>\n",
              "</table>\n",
              "</div>"
            ],
            "text/plain": [
              "                                            comments stars status\n",
              "0         為拍而拍 全毀 面目全非 女主選角選成這樣我已經忍著掏錢出來看 結果整體也是爛的一匹     1    bad\n",
              "1                             普普 看到想睡覺 劇情流暢 但看完不是很過癮     3   soso\n",
              "2                             比復仇者聯盟4~好看太多!驚奇隊長~好看~推     5   good\n",
              "3  https://www.facebook.com/profile.php?id=100028...     5   good\n",
              "4                            比預期好看，幾部英雄系列電影裡覺得很推薦的一部     4   good\n",
              "5                               看片找我 www.gamedisc.cc     5   good\n",
              "6                  沒有想像中好看，但交代了一些以前復仇者聯盟系列沒有的細節，總體還行     4   good\n",
              "7                                  真是很乏味無趣的一部戲.超級失望~     1    bad\n",
              "8                       女角給1星。其它不是很有趣。\\r\\n內容適合國中小學生。     1    bad\n",
              "9                                    對女超人無抵抗～正妹！力挺哈哈     4   good"
            ]
          },
          "metadata": {
            "tags": []
          },
          "execution_count": 35
        }
      ]
    },
    {
      "cell_type": "code",
      "metadata": {
        "id": "DJupSaIqmWXA",
        "colab_type": "code",
        "colab": {
          "base_uri": "https://localhost:8080/",
          "height": 198
        },
        "outputId": "a185936e-5572-44f6-e144-5c2483d61d7b"
      },
      "source": [
        "import pandas\n",
        "movies  = pandas.read_excel('https://raw.githubusercontent.com/ywchiu/tibame_tm/master/data/yahoo_movie.xlsx', index_col = 0)\n",
        "movies.head()"
      ],
      "execution_count": 37,
      "outputs": [
        {
          "output_type": "execute_result",
          "data": {
            "text/html": [
              "<div>\n",
              "<style scoped>\n",
              "    .dataframe tbody tr th:only-of-type {\n",
              "        vertical-align: middle;\n",
              "    }\n",
              "\n",
              "    .dataframe tbody tr th {\n",
              "        vertical-align: top;\n",
              "    }\n",
              "\n",
              "    .dataframe thead th {\n",
              "        text-align: right;\n",
              "    }\n",
              "</style>\n",
              "<table border=\"1\" class=\"dataframe\">\n",
              "  <thead>\n",
              "    <tr style=\"text-align: right;\">\n",
              "      <th></th>\n",
              "      <th>content</th>\n",
              "      <th>stars</th>\n",
              "      <th>title</th>\n",
              "      <th>status</th>\n",
              "    </tr>\n",
              "  </thead>\n",
              "  <tbody>\n",
              "    <tr>\n",
              "      <th>0</th>\n",
              "      <td>不知道耶! 看完整個無感\\r\\n有種覺得就是女兒\"給蕭\"害死了老爸\\r\\n然後...既然可以...</td>\n",
              "      <td>3</td>\n",
              "      <td>古墓奇兵</td>\n",
              "      <td>soso</td>\n",
              "    </tr>\n",
              "    <tr>\n",
              "      <th>1</th>\n",
              "      <td>很好看的動作片，不會浪費錢跟時間。很久沒有這樣的探險片。可說是女版的印第安那瓊。女主角跟爸爸...</td>\n",
              "      <td>5</td>\n",
              "      <td>古墓奇兵</td>\n",
              "      <td>good</td>\n",
              "    </tr>\n",
              "    <tr>\n",
              "      <th>2</th>\n",
              "      <td>說這個不好看的話，那我還真不知道，還有什麼片是您可以去看得了。電影好看，但話說羅拉有裝可以撿...</td>\n",
              "      <td>5</td>\n",
              "      <td>古墓奇兵</td>\n",
              "      <td>good</td>\n",
              "    </tr>\n",
              "    <tr>\n",
              "      <th>3</th>\n",
              "      <td>父女重逢真的很讓人感動，五顆星。</td>\n",
              "      <td>5</td>\n",
              "      <td>古墓奇兵</td>\n",
              "      <td>good</td>\n",
              "    </tr>\n",
              "    <tr>\n",
              "      <th>4</th>\n",
              "      <td>劇情雖然老套，但仍拍出新意，古墓能殺人的方式不就是機關和毒，要求亂七八糟的觀眾，你看喪尸片看多了。</td>\n",
              "      <td>4</td>\n",
              "      <td>古墓奇兵</td>\n",
              "      <td>good</td>\n",
              "    </tr>\n",
              "  </tbody>\n",
              "</table>\n",
              "</div>"
            ],
            "text/plain": [
              "                                             content  stars title status\n",
              "0  不知道耶! 看完整個無感\\r\\n有種覺得就是女兒\"給蕭\"害死了老爸\\r\\n然後...既然可以...      3  古墓奇兵   soso\n",
              "1  很好看的動作片，不會浪費錢跟時間。很久沒有這樣的探險片。可說是女版的印第安那瓊。女主角跟爸爸...      5  古墓奇兵   good\n",
              "2  說這個不好看的話，那我還真不知道，還有什麼片是您可以去看得了。電影好看，但話說羅拉有裝可以撿...      5  古墓奇兵   good\n",
              "3                                   父女重逢真的很讓人感動，五顆星。      5  古墓奇兵   good\n",
              "4  劇情雖然老套，但仍拍出新意，古墓能殺人的方式不就是機關和毒，要求亂七八糟的觀眾，你看喪尸片看多了。      4  古墓奇兵   good"
            ]
          },
          "metadata": {
            "tags": []
          },
          "execution_count": 37
        }
      ]
    },
    {
      "cell_type": "code",
      "metadata": {
        "id": "GVfs56hUmqN9",
        "colab_type": "code",
        "colab": {
          "base_uri": "https://localhost:8080/",
          "height": 121
        },
        "outputId": "43044060-a21a-4430-ec4f-a21faae0c397"
      },
      "source": [
        "movies['title'].value_counts()"
      ],
      "execution_count": 39,
      "outputs": [
        {
          "output_type": "execute_result",
          "data": {
            "text/plain": [
              "最終騎士       452\n",
              "奧創紀元       281\n",
              "攻殼機動隊      173\n",
              "最後的絕地武士    117\n",
              "古墓奇兵        89\n",
              "Name: title, dtype: int64"
            ]
          },
          "metadata": {
            "tags": []
          },
          "execution_count": 39
        }
      ]
    },
    {
      "cell_type": "code",
      "metadata": {
        "id": "_uANfgwGnFAd",
        "colab_type": "code",
        "colab": {}
      },
      "source": [
        "import jieba\n",
        "corpus = []\n",
        "tags = []\n",
        "for idx, rec in movies[movies['status'].isin(['good', 'bad'])].iterrows():\n",
        "  corpus.append(' '.join(jieba.cut(rec.get('content'))))\n",
        "  tags.append(rec.get('status'))"
      ],
      "execution_count": 41,
      "outputs": []
    },
    {
      "cell_type": "code",
      "metadata": {
        "id": "_tK2OMpxnLGx",
        "colab_type": "code",
        "colab": {
          "base_uri": "https://localhost:8080/",
          "height": 52
        },
        "outputId": "7b5ea2a4-5003-48f7-9357-8b3e5300edeb"
      },
      "source": [
        "from sklearn.feature_extraction.text import TfidfVectorizer\n",
        "vectorizer = TfidfVectorizer()\n",
        "X = vectorizer.fit_transform(corpus)\n",
        "X"
      ],
      "execution_count": 42,
      "outputs": [
        {
          "output_type": "execute_result",
          "data": {
            "text/plain": [
              "<980x5900 sparse matrix of type '<class 'numpy.float64'>'\n",
              "\twith 16897 stored elements in Compressed Sparse Row format>"
            ]
          },
          "metadata": {
            "tags": []
          },
          "execution_count": 42
        }
      ]
    },
    {
      "cell_type": "code",
      "metadata": {
        "id": "xh0onmNzn7DO",
        "colab_type": "code",
        "colab": {}
      },
      "source": [
        "y = tags"
      ],
      "execution_count": 43,
      "outputs": []
    },
    {
      "cell_type": "code",
      "metadata": {
        "id": "sIsaYeGQnp2w",
        "colab_type": "code",
        "colab": {}
      },
      "source": [
        "from sklearn.model_selection import train_test_split\n",
        "train_X, test_X, train_Y, test_Y = train_test_split(X, y, test_size = 0.3, random_state =42)"
      ],
      "execution_count": 44,
      "outputs": []
    },
    {
      "cell_type": "code",
      "metadata": {
        "id": "4LtIQmiFoGHF",
        "colab_type": "code",
        "colab": {
          "base_uri": "https://localhost:8080/",
          "height": 35
        },
        "outputId": "98b34404-c0d2-45f5-f3ba-3d3836ff248f"
      },
      "source": [
        "train_X.shape"
      ],
      "execution_count": 45,
      "outputs": [
        {
          "output_type": "execute_result",
          "data": {
            "text/plain": [
              "(686, 5900)"
            ]
          },
          "metadata": {
            "tags": []
          },
          "execution_count": 45
        }
      ]
    },
    {
      "cell_type": "code",
      "metadata": {
        "id": "9U3cH10_oHO4",
        "colab_type": "code",
        "colab": {
          "base_uri": "https://localhost:8080/",
          "height": 35
        },
        "outputId": "9f30ea51-56da-4488-ecbf-3a7a09eb1092"
      },
      "source": [
        "test_X.shape"
      ],
      "execution_count": 46,
      "outputs": [
        {
          "output_type": "execute_result",
          "data": {
            "text/plain": [
              "(294, 5900)"
            ]
          },
          "metadata": {
            "tags": []
          },
          "execution_count": 46
        }
      ]
    },
    {
      "cell_type": "code",
      "metadata": {
        "id": "hO5hTWHXoI0Q",
        "colab_type": "code",
        "colab": {
          "base_uri": "https://localhost:8080/",
          "height": 35
        },
        "outputId": "27292c64-2b4d-44b6-cd27-2a7e467b3a3b"
      },
      "source": [
        "from sklearn.naive_bayes import MultinomialNB\n",
        "clf = MultinomialNB(alpha = 0.01)\n",
        "clf.fit(train_X, train_Y)"
      ],
      "execution_count": 47,
      "outputs": [
        {
          "output_type": "execute_result",
          "data": {
            "text/plain": [
              "MultinomialNB(alpha=0.01, class_prior=None, fit_prior=True)"
            ]
          },
          "metadata": {
            "tags": []
          },
          "execution_count": 47
        }
      ]
    },
    {
      "cell_type": "code",
      "metadata": {
        "id": "pJJPCajooZ4y",
        "colab_type": "code",
        "colab": {}
      },
      "source": [
        "predicted = clf.predict(test_X)"
      ],
      "execution_count": 48,
      "outputs": []
    },
    {
      "cell_type": "code",
      "metadata": {
        "id": "vAxdfwcmoScB",
        "colab_type": "code",
        "colab": {
          "base_uri": "https://localhost:8080/",
          "height": 35
        },
        "outputId": "f01ca949-ed13-4108-c418-25488752a32c"
      },
      "source": [
        "from sklearn.metrics import accuracy_score, confusion_matrix\n",
        "accuracy_score(test_Y, predicted)"
      ],
      "execution_count": 49,
      "outputs": [
        {
          "output_type": "execute_result",
          "data": {
            "text/plain": [
              "0.7653061224489796"
            ]
          },
          "metadata": {
            "tags": []
          },
          "execution_count": 49
        }
      ]
    },
    {
      "cell_type": "code",
      "metadata": {
        "id": "2M34vDmaofs0",
        "colab_type": "code",
        "colab": {
          "base_uri": "https://localhost:8080/",
          "height": 69
        },
        "outputId": "4dcf86de-a010-4965-e584-47e84243bb55"
      },
      "source": [
        "print(clf.classes_)\n",
        "confusion_matrix(test_Y, predicted)"
      ],
      "execution_count": 51,
      "outputs": [
        {
          "output_type": "stream",
          "text": [
            "['bad' 'good']\n"
          ],
          "name": "stdout"
        },
        {
          "output_type": "execute_result",
          "data": {
            "text/plain": [
              "array([[ 83,  34],\n",
              "       [ 35, 142]])"
            ]
          },
          "metadata": {
            "tags": []
          },
          "execution_count": 51
        }
      ]
    },
    {
      "cell_type": "code",
      "metadata": {
        "id": "GphdJvmBol6S",
        "colab_type": "code",
        "colab": {
          "base_uri": "https://localhost:8080/",
          "height": 35
        },
        "outputId": "66f7730e-ead8-44cf-9438-84ea8826dba6"
      },
      "source": [
        "clf.feature_count_.shape"
      ],
      "execution_count": 53,
      "outputs": [
        {
          "output_type": "execute_result",
          "data": {
            "text/plain": [
              "(2, 5900)"
            ]
          },
          "metadata": {
            "tags": []
          },
          "execution_count": 53
        }
      ]
    },
    {
      "cell_type": "code",
      "metadata": {
        "id": "SMXbA9Q2o51w",
        "colab_type": "code",
        "colab": {}
      },
      "source": [
        "#vectorizer.get_feature_names()"
      ],
      "execution_count": 55,
      "outputs": []
    },
    {
      "cell_type": "code",
      "metadata": {
        "id": "2QitcPD3pRA9",
        "colab_type": "code",
        "colab": {}
      },
      "source": [
        "features_ary = []\n",
        "for word, bad_count, good_count in zip(vectorizer.get_feature_names(), clf.feature_count_[0], clf.feature_count_[1]):\n",
        "  dic = {}\n",
        "  dic['good_ratio'] = good_count/(bad_count + 1)\n",
        "  dic['bad_ratio'] = bad_count / (good_count + 1)\n",
        "  dic['good_cnt'] = good_count\n",
        "  dic['bad_cnt'] = bad_count\n",
        "  dic['word'] = word\n",
        "  features_ary.append(dic)"
      ],
      "execution_count": 56,
      "outputs": []
    },
    {
      "cell_type": "code",
      "metadata": {
        "id": "QzeuwLS-p_Vk",
        "colab_type": "code",
        "colab": {}
      },
      "source": [
        "import pandas\n",
        "features_df = pandas.DataFrame(features_ary)"
      ],
      "execution_count": 57,
      "outputs": []
    },
    {
      "cell_type": "code",
      "metadata": {
        "id": "dDg0YzkEqDz3",
        "colab_type": "code",
        "colab": {
          "base_uri": "https://localhost:8080/",
          "height": 348
        },
        "outputId": "55c6e5b7-1920-4087-b70f-988f1322796d"
      },
      "source": [
        "features_df.sort_values('good_ratio', ascending=False).head(10)"
      ],
      "execution_count": 60,
      "outputs": [
        {
          "output_type": "execute_result",
          "data": {
            "text/html": [
              "<div>\n",
              "<style scoped>\n",
              "    .dataframe tbody tr th:only-of-type {\n",
              "        vertical-align: middle;\n",
              "    }\n",
              "\n",
              "    .dataframe tbody tr th {\n",
              "        vertical-align: top;\n",
              "    }\n",
              "\n",
              "    .dataframe thead th {\n",
              "        text-align: right;\n",
              "    }\n",
              "</style>\n",
              "<table border=\"1\" class=\"dataframe\">\n",
              "  <thead>\n",
              "    <tr style=\"text-align: right;\">\n",
              "      <th></th>\n",
              "      <th>good_ratio</th>\n",
              "      <th>bad_ratio</th>\n",
              "      <th>good_cnt</th>\n",
              "      <th>bad_cnt</th>\n",
              "      <th>word</th>\n",
              "    </tr>\n",
              "  </thead>\n",
              "  <tbody>\n",
              "    <tr>\n",
              "      <th>5387</th>\n",
              "      <td>4.817935</td>\n",
              "      <td>0.035680</td>\n",
              "      <td>6.025683</td>\n",
              "      <td>0.250677</td>\n",
              "      <td>還不錯</td>\n",
              "    </tr>\n",
              "    <tr>\n",
              "      <th>1998</th>\n",
              "      <td>4.779283</td>\n",
              "      <td>0.171791</td>\n",
              "      <td>31.293674</td>\n",
              "      <td>5.547776</td>\n",
              "      <td>好看</td>\n",
              "    </tr>\n",
              "    <tr>\n",
              "      <th>683</th>\n",
              "      <td>4.431739</td>\n",
              "      <td>0.070624</td>\n",
              "      <td>6.906312</td>\n",
              "      <td>0.558375</td>\n",
              "      <td>不錯</td>\n",
              "    </tr>\n",
              "    <tr>\n",
              "      <th>5722</th>\n",
              "      <td>3.213449</td>\n",
              "      <td>0.118747</td>\n",
              "      <td>5.813320</td>\n",
              "      <td>0.809059</td>\n",
              "      <td>非常</td>\n",
              "    </tr>\n",
              "    <tr>\n",
              "      <th>2265</th>\n",
              "      <td>2.985051</td>\n",
              "      <td>0.000000</td>\n",
              "      <td>2.985051</td>\n",
              "      <td>0.000000</td>\n",
              "      <td>希望</td>\n",
              "    </tr>\n",
              "    <tr>\n",
              "      <th>5649</th>\n",
              "      <td>2.788027</td>\n",
              "      <td>0.121061</td>\n",
              "      <td>4.717970</td>\n",
              "      <td>0.692225</td>\n",
              "      <td>雖然</td>\n",
              "    </tr>\n",
              "    <tr>\n",
              "      <th>3241</th>\n",
              "      <td>2.642371</td>\n",
              "      <td>0.072733</td>\n",
              "      <td>3.508927</td>\n",
              "      <td>0.327946</td>\n",
              "      <td>有些</td>\n",
              "    </tr>\n",
              "    <tr>\n",
              "      <th>3839</th>\n",
              "      <td>2.640637</td>\n",
              "      <td>0.178569</td>\n",
              "      <td>5.889079</td>\n",
              "      <td>1.230174</td>\n",
              "      <td>爽片</td>\n",
              "    </tr>\n",
              "    <tr>\n",
              "      <th>1255</th>\n",
              "      <td>2.510567</td>\n",
              "      <td>0.100913</td>\n",
              "      <td>3.701753</td>\n",
              "      <td>0.474469</td>\n",
              "      <td>刺激</td>\n",
              "    </tr>\n",
              "    <tr>\n",
              "      <th>678</th>\n",
              "      <td>2.387562</td>\n",
              "      <td>0.113462</td>\n",
              "      <td>3.646203</td>\n",
              "      <td>0.527166</td>\n",
              "      <td>不過</td>\n",
              "    </tr>\n",
              "  </tbody>\n",
              "</table>\n",
              "</div>"
            ],
            "text/plain": [
              "      good_ratio  bad_ratio   good_cnt   bad_cnt word\n",
              "5387    4.817935   0.035680   6.025683  0.250677  還不錯\n",
              "1998    4.779283   0.171791  31.293674  5.547776   好看\n",
              "683     4.431739   0.070624   6.906312  0.558375   不錯\n",
              "5722    3.213449   0.118747   5.813320  0.809059   非常\n",
              "2265    2.985051   0.000000   2.985051  0.000000   希望\n",
              "5649    2.788027   0.121061   4.717970  0.692225   雖然\n",
              "3241    2.642371   0.072733   3.508927  0.327946   有些\n",
              "3839    2.640637   0.178569   5.889079  1.230174   爽片\n",
              "1255    2.510567   0.100913   3.701753  0.474469   刺激\n",
              "678     2.387562   0.113462   3.646203  0.527166   不過"
            ]
          },
          "metadata": {
            "tags": []
          },
          "execution_count": 60
        }
      ]
    },
    {
      "cell_type": "code",
      "metadata": {
        "id": "A5OlB9ISqFu8",
        "colab_type": "code",
        "colab": {
          "base_uri": "https://localhost:8080/",
          "height": 348
        },
        "outputId": "a61e821f-d286-4643-f2dc-5653a7ba5459"
      },
      "source": [
        "features_df.sort_values('bad_ratio', ascending=False).head(10)"
      ],
      "execution_count": 61,
      "outputs": [
        {
          "output_type": "execute_result",
          "data": {
            "text/html": [
              "<div>\n",
              "<style scoped>\n",
              "    .dataframe tbody tr th:only-of-type {\n",
              "        vertical-align: middle;\n",
              "    }\n",
              "\n",
              "    .dataframe tbody tr th {\n",
              "        vertical-align: top;\n",
              "    }\n",
              "\n",
              "    .dataframe thead th {\n",
              "        text-align: right;\n",
              "    }\n",
              "</style>\n",
              "<table border=\"1\" class=\"dataframe\">\n",
              "  <thead>\n",
              "    <tr style=\"text-align: right;\">\n",
              "      <th></th>\n",
              "      <th>good_ratio</th>\n",
              "      <th>bad_ratio</th>\n",
              "      <th>good_cnt</th>\n",
              "      <th>bad_cnt</th>\n",
              "      <th>word</th>\n",
              "    </tr>\n",
              "  </thead>\n",
              "  <tbody>\n",
              "    <tr>\n",
              "      <th>4204</th>\n",
              "      <td>0.036470</td>\n",
              "      <td>5.473130</td>\n",
              "      <td>0.294949</td>\n",
              "      <td>7.087424</td>\n",
              "      <td>睡著</td>\n",
              "    </tr>\n",
              "    <tr>\n",
              "      <th>3606</th>\n",
              "      <td>0.039703</td>\n",
              "      <td>4.792868</td>\n",
              "      <td>0.284045</td>\n",
              "      <td>6.154257</td>\n",
              "      <td>浪費</td>\n",
              "    </tr>\n",
              "    <tr>\n",
              "      <th>4113</th>\n",
              "      <td>0.184471</td>\n",
              "      <td>3.658543</td>\n",
              "      <td>2.643348</td>\n",
              "      <td>13.329343</td>\n",
              "      <td>看到</td>\n",
              "    </tr>\n",
              "    <tr>\n",
              "      <th>4206</th>\n",
              "      <td>0.013387</td>\n",
              "      <td>3.540975</td>\n",
              "      <td>0.063817</td>\n",
              "      <td>3.766948</td>\n",
              "      <td>睡覺</td>\n",
              "    </tr>\n",
              "    <tr>\n",
              "      <th>3667</th>\n",
              "      <td>0.000000</td>\n",
              "      <td>3.219715</td>\n",
              "      <td>0.000000</td>\n",
              "      <td>3.219715</td>\n",
              "      <td>演什麼</td>\n",
              "    </tr>\n",
              "    <tr>\n",
              "      <th>1938</th>\n",
              "      <td>0.148842</td>\n",
              "      <td>3.200874</td>\n",
              "      <td>1.194218</td>\n",
              "      <td>7.023414</td>\n",
              "      <td>失望</td>\n",
              "    </tr>\n",
              "    <tr>\n",
              "      <th>3822</th>\n",
              "      <td>0.058056</td>\n",
              "      <td>2.630249</td>\n",
              "      <td>0.248742</td>\n",
              "      <td>3.284501</td>\n",
              "      <td>爛片</td>\n",
              "    </tr>\n",
              "    <tr>\n",
              "      <th>1871</th>\n",
              "      <td>0.040038</td>\n",
              "      <td>2.584796</td>\n",
              "      <td>0.160096</td>\n",
              "      <td>2.998612</td>\n",
              "      <td>大爛片</td>\n",
              "    </tr>\n",
              "    <tr>\n",
              "      <th>4323</th>\n",
              "      <td>0.059520</td>\n",
              "      <td>2.496003</td>\n",
              "      <td>0.244388</td>\n",
              "      <td>3.105997</td>\n",
              "      <td>第一次</td>\n",
              "    </tr>\n",
              "    <tr>\n",
              "      <th>1487</th>\n",
              "      <td>0.139935</td>\n",
              "      <td>2.492822</td>\n",
              "      <td>0.750607</td>\n",
              "      <td>4.363952</td>\n",
              "      <td>只有</td>\n",
              "    </tr>\n",
              "  </tbody>\n",
              "</table>\n",
              "</div>"
            ],
            "text/plain": [
              "      good_ratio  bad_ratio  good_cnt    bad_cnt word\n",
              "4204    0.036470   5.473130  0.294949   7.087424   睡著\n",
              "3606    0.039703   4.792868  0.284045   6.154257   浪費\n",
              "4113    0.184471   3.658543  2.643348  13.329343   看到\n",
              "4206    0.013387   3.540975  0.063817   3.766948   睡覺\n",
              "3667    0.000000   3.219715  0.000000   3.219715  演什麼\n",
              "1938    0.148842   3.200874  1.194218   7.023414   失望\n",
              "3822    0.058056   2.630249  0.248742   3.284501   爛片\n",
              "1871    0.040038   2.584796  0.160096   2.998612  大爛片\n",
              "4323    0.059520   2.496003  0.244388   3.105997  第一次\n",
              "1487    0.139935   2.492822  0.750607   4.363952   只有"
            ]
          },
          "metadata": {
            "tags": []
          },
          "execution_count": 61
        }
      ]
    },
    {
      "cell_type": "code",
      "metadata": {
        "id": "Ha_VVPLsqYid",
        "colab_type": "code",
        "colab": {}
      },
      "source": [
        "s = '真是很乏味無趣的一部戲.超級失望~'\n",
        "s_seg = ' '.join(jieba.cut(s))\n",
        "s_vec = vectorizer.transform([s_seg])"
      ],
      "execution_count": 63,
      "outputs": []
    },
    {
      "cell_type": "code",
      "metadata": {
        "id": "fxUvUmyMqvQa",
        "colab_type": "code",
        "colab": {
          "base_uri": "https://localhost:8080/",
          "height": 35
        },
        "outputId": "d373d40b-d74a-4a99-b858-06dba678d9eb"
      },
      "source": [
        "clf.predict(s_vec)"
      ],
      "execution_count": 65,
      "outputs": [
        {
          "output_type": "execute_result",
          "data": {
            "text/plain": [
              "array(['bad'], dtype='<U4')"
            ]
          },
          "metadata": {
            "tags": []
          },
          "execution_count": 65
        }
      ]
    },
    {
      "cell_type": "code",
      "metadata": {
        "id": "vYo3-t53q4LA",
        "colab_type": "code",
        "colab": {}
      },
      "source": [
        ""
      ],
      "execution_count": null,
      "outputs": []
    }
  ]
}