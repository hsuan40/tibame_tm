{
  "nbformat": 4,
  "nbformat_minor": 0,
  "metadata": {
    "colab": {
      "name": "Demo20200902.ipynb",
      "provenance": [],
      "collapsed_sections": []
    },
    "kernelspec": {
      "name": "python3",
      "display_name": "Python 3"
    }
  },
  "cells": [
    {
      "cell_type": "markdown",
      "metadata": {
        "id": "0282XJj9lkHE",
        "colab_type": "text"
      },
      "source": [
        "## 作業"
      ]
    },
    {
      "cell_type": "code",
      "metadata": {
        "id": "0LKRJ88UlhrX",
        "colab_type": "code",
        "colab": {}
      },
      "source": [
        "import pandas\n",
        "google = pandas.read_excel('https://raw.githubusercontent.com/ywchiu/tibame_tm/master/data/google_comments.xlsx', index_col = 0)"
      ],
      "execution_count": 3,
      "outputs": []
    },
    {
      "cell_type": "code",
      "metadata": {
        "id": "NoD_0oUxlw9y",
        "colab_type": "code",
        "colab": {
          "base_uri": "https://localhost:8080/",
          "height": 289
        },
        "outputId": "ffc1fd0b-5748-4c3c-e6c6-cf5945b10e10"
      },
      "source": [
        "google.head()"
      ],
      "execution_count": 4,
      "outputs": [
        {
          "output_type": "execute_result",
          "data": {
            "text/html": [
              "<div>\n",
              "<style scoped>\n",
              "    .dataframe tbody tr th:only-of-type {\n",
              "        vertical-align: middle;\n",
              "    }\n",
              "\n",
              "    .dataframe tbody tr th {\n",
              "        vertical-align: top;\n",
              "    }\n",
              "\n",
              "    .dataframe thead th {\n",
              "        text-align: right;\n",
              "    }\n",
              "</style>\n",
              "<table border=\"1\" class=\"dataframe\">\n",
              "  <thead>\n",
              "    <tr style=\"text-align: right;\">\n",
              "      <th></th>\n",
              "      <th>username</th>\n",
              "      <th>score</th>\n",
              "      <th>comment</th>\n",
              "    </tr>\n",
              "  </thead>\n",
              "  <tbody>\n",
              "    <tr>\n",
              "      <th>0</th>\n",
              "      <td>倪依芙</td>\n",
              "      <td>5</td>\n",
              "      <td>起初找不到入口，還以為沒座位，但是原來入口在旁邊樓梯～座位區不大，但是料理很好吃～肉圓的醬微...</td>\n",
              "    </tr>\n",
              "    <tr>\n",
              "      <th>1</th>\n",
              "      <td>Mimi龍</td>\n",
              "      <td>4</td>\n",
              "      <td>聞名已久，今天特別來現場試試，目前改成點餐機點餐， ⋯⋯更多聞名已久，今天特別來現場試試，目...</td>\n",
              "    </tr>\n",
              "    <tr>\n",
              "      <th>2</th>\n",
              "      <td>林昌逸</td>\n",
              "      <td>1</td>\n",
              "      <td>非常生氣服務員的態度😠服務很糟糕，麵都還沒吃完，一起身就把麵收走，擺明趕客人😡😡😡</td>\n",
              "    </tr>\n",
              "    <tr>\n",
              "      <th>3</th>\n",
              "      <td>林幸蓁</td>\n",
              "      <td>5</td>\n",
              "      <td>內用與外帶有不同的點餐方式內用須至店內使用機台點菜、輸入桌號並付款外帶好像只需在入口處點餐即...</td>\n",
              "    </tr>\n",
              "    <tr>\n",
              "      <th>4</th>\n",
              "      <td>台灣TAXI市區叫車禮車包車約拍找小鄭</td>\n",
              "      <td>5</td>\n",
              "      <td>乾淨衛生，廁所很大在地下室，有免費飲料可以喝，拉麵愛好吃，麻辣豆腐不錯、肉粽不錯，目前吃過很...</td>\n",
              "    </tr>\n",
              "  </tbody>\n",
              "</table>\n",
              "</div>"
            ],
            "text/plain": [
              "              username  ...                                            comment\n",
              "0                  倪依芙  ...  起初找不到入口，還以為沒座位，但是原來入口在旁邊樓梯～座位區不大，但是料理很好吃～肉圓的醬微...\n",
              "1                Mimi龍  ...  聞名已久，今天特別來現場試試，目前改成點餐機點餐， ⋯⋯更多聞名已久，今天特別來現場試試，目...\n",
              "2                  林昌逸  ...          非常生氣服務員的態度😠服務很糟糕，麵都還沒吃完，一起身就把麵收走，擺明趕客人😡😡😡\n",
              "3                  林幸蓁  ...  內用與外帶有不同的點餐方式內用須至店內使用機台點菜、輸入桌號並付款外帶好像只需在入口處點餐即...\n",
              "4  台灣TAXI市區叫車禮車包車約拍找小鄭  ...  乾淨衛生，廁所很大在地下室，有免費飲料可以喝，拉麵愛好吃，麻辣豆腐不錯、肉粽不錯，目前吃過很...\n",
              "\n",
              "[5 rows x 3 columns]"
            ]
          },
          "metadata": {
            "tags": []
          },
          "execution_count": 4
        }
      ]
    },
    {
      "cell_type": "code",
      "metadata": {
        "id": "_dGzO48Pl0O5",
        "colab_type": "code",
        "colab": {}
      },
      "source": [
        "def convertScore(score):\n",
        "  if score >= 4:\n",
        "    return 'good'\n",
        "  elif score <= 2:\n",
        "    return 'bad'\n",
        "  else: \n",
        "    return 'soso'"
      ],
      "execution_count": 5,
      "outputs": []
    },
    {
      "cell_type": "code",
      "metadata": {
        "id": "wHWkEFbTmCd4",
        "colab_type": "code",
        "colab": {}
      },
      "source": [
        "google['status'] = google['score'].map(convertScore)"
      ],
      "execution_count": 6,
      "outputs": []
    },
    {
      "cell_type": "code",
      "metadata": {
        "id": "8MNyx91lmk-B",
        "colab_type": "code",
        "colab": {
          "base_uri": "https://localhost:8080/",
          "height": 87
        },
        "outputId": "14a62adc-4f3a-4fcb-f81a-e7384344671e"
      },
      "source": [
        "import jieba\n",
        "corpus = []\n",
        "for e in google['comment'].tolist():\n",
        "    corpus.append(list(jieba.cut(e)))"
      ],
      "execution_count": 7,
      "outputs": [
        {
          "output_type": "stream",
          "text": [
            "Building prefix dict from the default dictionary ...\n",
            "Dumping model to file cache /tmp/jieba.cache\n",
            "Loading model cost 0.940 seconds.\n",
            "Prefix dict has been built successfully.\n"
          ],
          "name": "stderr"
        }
      ]
    },
    {
      "cell_type": "code",
      "metadata": {
        "id": "6HSS50xMmHGv",
        "colab_type": "code",
        "colab": {}
      },
      "source": [
        "from gensim.models import word2vec\n",
        "size = 50  # 產生多少維度 \n",
        "min_count = 5 # 要算至少出現多少次數的字詞\n",
        "workers = -1 # 使用多少個core 計算, -1 使用所有的core 進行計算 \n",
        "window = 10  # 上下文的區間\n",
        "iter = 1000 # 神經網路訓練的迭代數\n",
        "sample = 1e-5 # 取樣的數量\n",
        "model = word2vec.Word2Vec(corpus, \n",
        "                          workers = workers,\n",
        "                          sample = sample,\n",
        "                          size = size,\n",
        "                          min_count=min_count,\n",
        "                          window = window,\n",
        "                          iter = iter)"
      ],
      "execution_count": 8,
      "outputs": []
    },
    {
      "cell_type": "code",
      "metadata": {
        "id": "cFK-YgYNmvU4",
        "colab_type": "code",
        "colab": {}
      },
      "source": [
        "#for ele in model.wv.vocab:\n",
        "#  print(ele)"
      ],
      "execution_count": 10,
      "outputs": []
    },
    {
      "cell_type": "code",
      "metadata": {
        "id": "4ms8hWIQm1UY",
        "colab_type": "code",
        "colab": {
          "base_uri": "https://localhost:8080/",
          "height": 244
        },
        "outputId": "7fc5f762-620d-4c22-d4c7-259ff186fd93"
      },
      "source": [
        "model.wv.get_vector('越南')"
      ],
      "execution_count": 11,
      "outputs": [
        {
          "output_type": "execute_result",
          "data": {
            "text/plain": [
              "array([-6.2473821e-03, -1.5602022e-03,  4.3593664e-03, -7.6216026e-03,\n",
              "        3.2578735e-04, -3.8040073e-03,  4.6569351e-03, -5.2936017e-03,\n",
              "       -8.0661001e-03, -1.8582003e-03, -5.2584196e-03,  5.7037883e-03,\n",
              "       -4.8752283e-03, -2.6064257e-03,  7.5233249e-05,  8.6057857e-03,\n",
              "        7.3851845e-03,  2.5813424e-03,  8.1432397e-03, -8.6519932e-03,\n",
              "       -6.9618798e-03, -4.6876217e-03, -6.9317590e-03,  4.2128176e-04,\n",
              "       -8.2872005e-04, -3.7717759e-03, -7.6840674e-03, -2.0504254e-03,\n",
              "        7.5913146e-03, -7.0984615e-03,  6.1308695e-03,  4.3035331e-03,\n",
              "       -9.7447345e-03,  6.2935022e-03, -4.6922767e-04, -2.8430040e-03,\n",
              "        2.9132112e-03,  1.7843049e-03,  5.6017037e-03,  2.7697338e-03,\n",
              "       -8.8316081e-03,  7.7389916e-03, -9.2706848e-03,  7.2830929e-03,\n",
              "        8.9329835e-03,  8.8444920e-03,  2.1003755e-03,  4.8506825e-04,\n",
              "        7.2138994e-03,  2.1585922e-03], dtype=float32)"
            ]
          },
          "metadata": {
            "tags": []
          },
          "execution_count": 11
        }
      ]
    },
    {
      "cell_type": "code",
      "metadata": {
        "id": "E0IHcglCm-Q_",
        "colab_type": "code",
        "colab": {}
      },
      "source": [
        "import jieba\n",
        "corpus = []\n",
        "tags = []\n",
        "for idx,rec in google[google['status'].isin(['good', 'bad'])].iterrows():\n",
        "  corpus.append(list(jieba.cut(rec.get('comment'))))\n",
        "  tags.append(rec.get('status'))"
      ],
      "execution_count": 12,
      "outputs": []
    },
    {
      "cell_type": "code",
      "metadata": {
        "id": "1GXptONXnSt0",
        "colab_type": "code",
        "colab": {
          "base_uri": "https://localhost:8080/",
          "height": 72
        },
        "outputId": "1399fa6b-4efb-41ac-ccbf-99bc3892c045"
      },
      "source": [
        "import numpy as np\n",
        "x = []\n",
        "y = []\n",
        "size = 50\n",
        "for tag, s in zip(tags, corpus):\n",
        "    vec = np.zeros(size).reshape((1, size))\n",
        "    cnt = 0\n",
        "    for w in s:\n",
        "        if w in model:\n",
        "            vec += model.wv.get_vector(w)\n",
        "            cnt += 1\n",
        "    if cnt > 0:\n",
        "      x.append(vec / cnt)\n",
        "      y.append(tag)"
      ],
      "execution_count": 13,
      "outputs": [
        {
          "output_type": "stream",
          "text": [
            "/usr/local/lib/python3.6/dist-packages/ipykernel_launcher.py:9: DeprecationWarning: Call to deprecated `__contains__` (Method will be removed in 4.0.0, use self.wv.__contains__() instead).\n",
            "  if __name__ == '__main__':\n"
          ],
          "name": "stderr"
        }
      ]
    },
    {
      "cell_type": "code",
      "metadata": {
        "id": "xp0B37bPnm_a",
        "colab_type": "code",
        "colab": {}
      },
      "source": [
        "x = np.concatenate(x, axis = 0)"
      ],
      "execution_count": 15,
      "outputs": []
    },
    {
      "cell_type": "code",
      "metadata": {
        "id": "hmJTMmmAnsAQ",
        "colab_type": "code",
        "colab": {
          "base_uri": "https://localhost:8080/",
          "height": 34
        },
        "outputId": "334db5a4-71cd-4e17-9466-063017bb1b04"
      },
      "source": [
        "x.shape"
      ],
      "execution_count": 16,
      "outputs": [
        {
          "output_type": "execute_result",
          "data": {
            "text/plain": [
              "(440, 50)"
            ]
          },
          "metadata": {
            "tags": []
          },
          "execution_count": 16
        }
      ]
    },
    {
      "cell_type": "code",
      "metadata": {
        "id": "lVo1zOk5nuAY",
        "colab_type": "code",
        "colab": {
          "base_uri": "https://localhost:8080/",
          "height": 34
        },
        "outputId": "7829a33a-cc1b-4fe7-8a01-2d5d3bbc7225"
      },
      "source": [
        "len(y)"
      ],
      "execution_count": 17,
      "outputs": [
        {
          "output_type": "execute_result",
          "data": {
            "text/plain": [
              "440"
            ]
          },
          "metadata": {
            "tags": []
          },
          "execution_count": 17
        }
      ]
    },
    {
      "cell_type": "code",
      "metadata": {
        "id": "YTOQnWmqnxAz",
        "colab_type": "code",
        "colab": {}
      },
      "source": [
        "from sklearn.model_selection import train_test_split\n",
        "train_x, test_x, train_y, test_y = train_test_split(x, y, test_size = 0.2, random_state = 42)"
      ],
      "execution_count": 19,
      "outputs": []
    },
    {
      "cell_type": "code",
      "metadata": {
        "id": "3H4aZ3sqn58v",
        "colab_type": "code",
        "colab": {
          "base_uri": "https://localhost:8080/",
          "height": 34
        },
        "outputId": "d415bcba-fa8f-40e5-e9c5-3ad1e451ab8d"
      },
      "source": [
        "train_x.shape"
      ],
      "execution_count": 20,
      "outputs": [
        {
          "output_type": "execute_result",
          "data": {
            "text/plain": [
              "(352, 50)"
            ]
          },
          "metadata": {
            "tags": []
          },
          "execution_count": 20
        }
      ]
    },
    {
      "cell_type": "code",
      "metadata": {
        "id": "-wGJBYjcn9CF",
        "colab_type": "code",
        "colab": {
          "base_uri": "https://localhost:8080/",
          "height": 34
        },
        "outputId": "a8bf2810-0605-4ce9-f834-8c2773f9a1c3"
      },
      "source": [
        "test_x.shape"
      ],
      "execution_count": 21,
      "outputs": [
        {
          "output_type": "execute_result",
          "data": {
            "text/plain": [
              "(88, 50)"
            ]
          },
          "metadata": {
            "tags": []
          },
          "execution_count": 21
        }
      ]
    },
    {
      "cell_type": "code",
      "metadata": {
        "id": "l_Qi0utOn-_Q",
        "colab_type": "code",
        "colab": {
          "base_uri": "https://localhost:8080/",
          "height": 34
        },
        "outputId": "6e8dbde7-5fb9-4969-fe6e-3b7001099928"
      },
      "source": [
        "len(train_y)"
      ],
      "execution_count": 23,
      "outputs": [
        {
          "output_type": "execute_result",
          "data": {
            "text/plain": [
              "352"
            ]
          },
          "metadata": {
            "tags": []
          },
          "execution_count": 23
        }
      ]
    },
    {
      "cell_type": "code",
      "metadata": {
        "id": "igBoyXBeoA_0",
        "colab_type": "code",
        "colab": {
          "base_uri": "https://localhost:8080/",
          "height": 34
        },
        "outputId": "ef9e0bf8-3a76-4791-b4e9-dc21bb85acb3"
      },
      "source": [
        "len(test_y)"
      ],
      "execution_count": 24,
      "outputs": [
        {
          "output_type": "execute_result",
          "data": {
            "text/plain": [
              "88"
            ]
          },
          "metadata": {
            "tags": []
          },
          "execution_count": 24
        }
      ]
    },
    {
      "cell_type": "code",
      "metadata": {
        "id": "qLEeOxacoE8E",
        "colab_type": "code",
        "colab": {
          "base_uri": "https://localhost:8080/",
          "height": 87
        },
        "outputId": "af8bdfdc-eda0-491d-8b3d-b9376fd15b2c"
      },
      "source": [
        "from sklearn.svm import SVC\n",
        "clf = SVC(kernel = 'rbf')\n",
        "clf.fit(train_x, train_y)"
      ],
      "execution_count": 29,
      "outputs": [
        {
          "output_type": "execute_result",
          "data": {
            "text/plain": [
              "SVC(C=1.0, break_ties=False, cache_size=200, class_weight=None, coef0=0.0,\n",
              "    decision_function_shape='ovr', degree=3, gamma='scale', kernel='rbf',\n",
              "    max_iter=-1, probability=False, random_state=None, shrinking=True,\n",
              "    tol=0.001, verbose=False)"
            ]
          },
          "metadata": {
            "tags": []
          },
          "execution_count": 29
        }
      ]
    },
    {
      "cell_type": "code",
      "metadata": {
        "id": "Ua3gEOP7oSXB",
        "colab_type": "code",
        "colab": {}
      },
      "source": [
        "pred_y = clf.predict(test_x)"
      ],
      "execution_count": 30,
      "outputs": []
    },
    {
      "cell_type": "code",
      "metadata": {
        "id": "ZbESy-zCoZVJ",
        "colab_type": "code",
        "colab": {
          "base_uri": "https://localhost:8080/",
          "height": 34
        },
        "outputId": "858337e5-7734-4008-b7ca-06e29a7389da"
      },
      "source": [
        "from sklearn.metrics import accuracy_score\n",
        "accuracy_score(test_y, pred_y)"
      ],
      "execution_count": 31,
      "outputs": [
        {
          "output_type": "execute_result",
          "data": {
            "text/plain": [
              "0.7045454545454546"
            ]
          },
          "metadata": {
            "tags": []
          },
          "execution_count": 31
        }
      ]
    },
    {
      "cell_type": "code",
      "metadata": {
        "id": "_7NHkCvPoeQ4",
        "colab_type": "code",
        "colab": {
          "base_uri": "https://localhost:8080/",
          "height": 52
        },
        "outputId": "78911b6a-5a61-465f-eb0b-aa64d0524e18"
      },
      "source": [
        "from sklearn.metrics import confusion_matrix\n",
        "confusion_matrix(test_y, pred_y)"
      ],
      "execution_count": 32,
      "outputs": [
        {
          "output_type": "execute_result",
          "data": {
            "text/plain": [
              "array([[29, 11],\n",
              "       [15, 33]])"
            ]
          },
          "metadata": {
            "tags": []
          },
          "execution_count": 32
        }
      ]
    },
    {
      "cell_type": "code",
      "metadata": {
        "id": "eJHNuG1hoihI",
        "colab_type": "code",
        "colab": {
          "base_uri": "https://localhost:8080/",
          "height": 192
        },
        "outputId": "6ea0cd39-1e5c-4e1e-b0fd-094162b52742"
      },
      "source": [
        "from sklearn.ensemble import GradientBoostingClassifier\n",
        "clf = GradientBoostingClassifier()\n",
        "clf.fit(train_x, train_y)"
      ],
      "execution_count": 33,
      "outputs": [
        {
          "output_type": "execute_result",
          "data": {
            "text/plain": [
              "GradientBoostingClassifier(ccp_alpha=0.0, criterion='friedman_mse', init=None,\n",
              "                           learning_rate=0.1, loss='deviance', max_depth=3,\n",
              "                           max_features=None, max_leaf_nodes=None,\n",
              "                           min_impurity_decrease=0.0, min_impurity_split=None,\n",
              "                           min_samples_leaf=1, min_samples_split=2,\n",
              "                           min_weight_fraction_leaf=0.0, n_estimators=100,\n",
              "                           n_iter_no_change=None, presort='deprecated',\n",
              "                           random_state=None, subsample=1.0, tol=0.0001,\n",
              "                           validation_fraction=0.1, verbose=0,\n",
              "                           warm_start=False)"
            ]
          },
          "metadata": {
            "tags": []
          },
          "execution_count": 33
        }
      ]
    },
    {
      "cell_type": "code",
      "metadata": {
        "id": "SJ5oat83o3WW",
        "colab_type": "code",
        "colab": {}
      },
      "source": [
        "pred_y = clf.predict(test_x)"
      ],
      "execution_count": 35,
      "outputs": []
    },
    {
      "cell_type": "code",
      "metadata": {
        "id": "DmPbJA2uozvN",
        "colab_type": "code",
        "colab": {
          "base_uri": "https://localhost:8080/",
          "height": 34
        },
        "outputId": "cf3208c3-d3eb-4dc8-a3ef-c8d8ad174606"
      },
      "source": [
        "from sklearn.metrics import accuracy_score\n",
        "accuracy_score(test_y, pred_y)"
      ],
      "execution_count": 36,
      "outputs": [
        {
          "output_type": "execute_result",
          "data": {
            "text/plain": [
              "0.625"
            ]
          },
          "metadata": {
            "tags": []
          },
          "execution_count": 36
        }
      ]
    },
    {
      "cell_type": "markdown",
      "metadata": {
        "id": "EKDmgfMcpOBC",
        "colab_type": "text"
      },
      "source": [
        "## Selenium\n",
        "- https://chromedriver.chromium.org/\n",
        "- https://www.largitdata.com/course_list/15"
      ]
    },
    {
      "cell_type": "code",
      "metadata": {
        "id": "3E2sIMq4o1H9",
        "colab_type": "code",
        "colab": {
          "base_uri": "https://localhost:8080/",
          "height": 142
        },
        "outputId": "3fcfdc66-9b25-431c-ca67-1976b3836c89"
      },
      "source": [
        "! pip install selenium"
      ],
      "execution_count": 37,
      "outputs": [
        {
          "output_type": "stream",
          "text": [
            "Collecting selenium\n",
            "\u001b[?25l  Downloading https://files.pythonhosted.org/packages/80/d6/4294f0b4bce4de0abf13e17190289f9d0613b0a44e5dd6a7f5ca98459853/selenium-3.141.0-py2.py3-none-any.whl (904kB)\n",
            "\u001b[K     |████████████████████████████████| 911kB 4.5MB/s \n",
            "\u001b[?25hRequirement already satisfied: urllib3 in /usr/local/lib/python3.6/dist-packages (from selenium) (1.24.3)\n",
            "Installing collected packages: selenium\n",
            "Successfully installed selenium-3.141.0\n"
          ],
          "name": "stdout"
        }
      ]
    },
    {
      "cell_type": "code",
      "metadata": {
        "id": "V3yHDiTapjkO",
        "colab_type": "code",
        "colab": {}
      },
      "source": [
        "from selenium import webdriver\n",
        "driver = webdriver.Chrome('/opt/local/common/chromedriver')\n",
        "driver.get('https://www.google.com/search?rlz=1C5CHFA_enTW718TW718&ei=gYZPX4XfFMO4mAWk3I6gDQ&q=google+%E7%8E%89%E6%AC%A3%E7%8F%8D&oq=google+%E7%8E%89%E6%AC%A3%E7%8F%8D&gs_lcp=CgZwc3ktYWIQAzIFCCEQoAEyBQghEKABOgQIABAeOgYIABAIEB5Q5xhYv1dg5l1oEXAAeAGAAcMBiAHFDZIBBDE4LjOYAQCgAQGqAQdnd3Mtd2l6wAEB&sclient=psy-ab&ved=0ahUKEwjFo4yxs8rrAhVDHKYKHSSuA9QQ4dUDCA0&uact=5')"
      ],
      "execution_count": null,
      "outputs": []
    },
    {
      "cell_type": "code",
      "metadata": {
        "id": "_zt5hEcur8E6",
        "colab_type": "code",
        "colab": {}
      },
      "source": [
        "driver.find_element_by_css_selector('a[data-async-trigger=\"reviewDialog\"]').click()"
      ],
      "execution_count": null,
      "outputs": []
    },
    {
      "cell_type": "code",
      "metadata": {
        "id": "aDF6tcQbsATz",
        "colab_type": "code",
        "colab": {}
      },
      "source": [
        "from bs4 import BeautifulSoup\n",
        "soup = BeautifulSoup(driver.page_source)"
      ],
      "execution_count": null,
      "outputs": []
    },
    {
      "cell_type": "code",
      "metadata": {
        "id": "Z5Yc4lu0sCkN",
        "colab_type": "code",
        "colab": {}
      },
      "source": [
        "for review in soup.select('.review-snippet'):\n",
        "    print(review.text)"
      ],
      "execution_count": null,
      "outputs": []
    },
    {
      "cell_type": "code",
      "metadata": {
        "id": "hNih6veksGag",
        "colab_type": "code",
        "colab": {}
      },
      "source": [
        "driver.execute_script(\"window.scrollTo(0, document.body.scrollHeight);\")"
      ],
      "execution_count": null,
      "outputs": []
    }
  ]
}