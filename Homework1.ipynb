{
  "nbformat": 4,
  "nbformat_minor": 0,
  "metadata": {
    "colab": {
      "name": "Homework1.ipynb",
      "provenance": [],
      "collapsed_sections": []
    },
    "kernelspec": {
      "name": "python3",
      "display_name": "Python 3"
    }
  },
  "cells": [
    {
      "cell_type": "markdown",
      "metadata": {
        "id": "uJpe8VnT6rRO",
        "colab_type": "text"
      },
      "source": [
        "### 作業需求\n",
        "\n",
        "PTT 信用卡版 (https://www.ptt.cc/bbs/creditcard/index.html) 有需多使用者對各家信用卡的討論，如果能夠爬取上面的資訊，並加以分析，銀行便能找出民眾對信用卡的期待與想法，以期之後能推出差異化的商品。請您寫一個網路爬蟲，抓取信用卡版的列表頁面(抓取一頁即可)上的標題、連結、時間與作者，並整理爬取內容後以csv 格式做資料匯出。"
      ]
    },
    {
      "cell_type": "markdown",
      "metadata": {
        "id": "zjSMWEk59qwI",
        "colab_type": "text"
      },
      "source": [
        "### 範例資料格式"
      ]
    },
    {
      "cell_type": "code",
      "metadata": {
        "id": "HIyxOaCv9bxV",
        "colab_type": "code",
        "colab": {
          "base_uri": "https://localhost:8080/",
          "height": 204
        },
        "outputId": "4e9a36d7-1932-4089-ac11-688fc69d3e82"
      },
      "source": [
        "df.head()"
      ],
      "execution_count": 14,
      "outputs": [
        {
          "output_type": "execute_result",
          "data": {
            "text/html": [
              "<div>\n",
              "<style scoped>\n",
              "    .dataframe tbody tr th:only-of-type {\n",
              "        vertical-align: middle;\n",
              "    }\n",
              "\n",
              "    .dataframe tbody tr th {\n",
              "        vertical-align: top;\n",
              "    }\n",
              "\n",
              "    .dataframe thead th {\n",
              "        text-align: right;\n",
              "    }\n",
              "</style>\n",
              "<table border=\"1\" class=\"dataframe\">\n",
              "  <thead>\n",
              "    <tr style=\"text-align: right;\">\n",
              "      <th></th>\n",
              "      <th>title</th>\n",
              "      <th>link</th>\n",
              "      <th>date</th>\n",
              "      <th>author</th>\n",
              "    </tr>\n",
              "  </thead>\n",
              "  <tbody>\n",
              "    <tr>\n",
              "      <th>0</th>\n",
              "      <td>[心得] 遠東快樂信用卡</td>\n",
              "      <td>https://www.ptt.cc/bbs/creditcard/M.1594111174...</td>\n",
              "      <td>7/07</td>\n",
              "      <td>kendan88</td>\n",
              "    </tr>\n",
              "    <tr>\n",
              "      <th>1</th>\n",
              "      <td>[問題] 超商預購三倍券用悠遊卡付款</td>\n",
              "      <td>https://www.ptt.cc/bbs/creditcard/M.1594115252...</td>\n",
              "      <td>7/07</td>\n",
              "      <td>rating</td>\n",
              "    </tr>\n",
              "    <tr>\n",
              "      <th>2</th>\n",
              "      <td>[公告] 水桶名單 DongFeng</td>\n",
              "      <td>https://www.ptt.cc/bbs/creditcard/M.1594115256...</td>\n",
              "      <td>7/07</td>\n",
              "      <td>MoonAthenaX</td>\n",
              "    </tr>\n",
              "    <tr>\n",
              "      <th>3</th>\n",
              "      <td>[情報] 台新昇恆昌特賣會專屬邀請</td>\n",
              "      <td>https://www.ptt.cc/bbs/creditcard/M.1594116455...</td>\n",
              "      <td>7/07</td>\n",
              "      <td>f21814</td>\n",
              "    </tr>\n",
              "    <tr>\n",
              "      <th>4</th>\n",
              "      <td>[新聞]神卡大戰》聯邦賴點卡拚回饋 最高國內4%</td>\n",
              "      <td>https://www.ptt.cc/bbs/creditcard/M.1594117196...</td>\n",
              "      <td>7/07</td>\n",
              "      <td>zithromax</td>\n",
              "    </tr>\n",
              "  </tbody>\n",
              "</table>\n",
              "</div>"
            ],
            "text/plain": [
              "                      title  ...       author\n",
              "0              [心得] 遠東快樂信用卡  ...     kendan88\n",
              "1        [問題] 超商預購三倍券用悠遊卡付款  ...       rating\n",
              "2        [公告] 水桶名單 DongFeng  ...  MoonAthenaX\n",
              "3         [情報] 台新昇恆昌特賣會專屬邀請  ...       f21814\n",
              "4  [新聞]神卡大戰》聯邦賴點卡拚回饋 最高國內4%  ...    zithromax\n",
              "\n",
              "[5 rows x 4 columns]"
            ]
          },
          "metadata": {
            "tags": []
          },
          "execution_count": 14
        }
      ]
    },
    {
      "cell_type": "markdown",
      "metadata": {
        "id": "k2vJDZ0O91wp",
        "colab_type": "text"
      },
      "source": [
        "### 評分標準\n",
        "\n",
        "1. 程式碼能順利運行 (20%)\n",
        "2. 程式碼能順利抓取目標網站原始碼 (20%)\n",
        "3. 程式碼能根據需求解析出目標內容之標題、連結、時間與作者 (30%)\n",
        "4. 程式碼能將爬取內容整理至 DataFrame 格式並打印前五筆在畫面上 (30%)"
      ]
    },
    {
      "cell_type": "code",
      "metadata": {
        "id": "S1ONpr6Z-Cpf",
        "colab_type": "code",
        "colab": {}
      },
      "source": [
        ""
      ],
      "execution_count": null,
      "outputs": []
    }
  ]
}