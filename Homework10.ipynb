{
 "cells": [
  {
   "cell_type": "markdown",
   "metadata": {},
   "source": [
    "### 作業需求\n",
    "請使用分類演算法將Google 商店評論文章做情緒分類：\n",
    "\n",
    "1. 先將一Google 店家評論 (https://raw.githubusercontent.com/ywchiu/tibame_tm/master/data/google_comments.xlsx)  下載存入到自己電腦\n",
    "2. 請使用Pandas 將該資料讀入名為 google 的 DataFrame 中?\n",
    "3. 程式碼能夠使用tfidf 矩陣搭配 naive bayes 建立一名為 clf1 的模型?\n",
    "4. 程式碼能夠使用tfidf 矩陣搭配 svm 建立一名為 clf2 的模型?\n",
    "5. 程式碼能夠使用word2vec搭配 svm 建立一名為 clf3 的模型?\n",
    "6. 程式碼能夠使用BERT 建立一名為 clf4 的模型?\n",
    "7. 請將 clf1, clf2, clf3, clf4 套用到測試資料集，計算出各模型的準確度 (Accuracy Score)?\n",
    "8. 請將 clf1, clf2, clf3, clf4 套用到測試資料集，計算出各模型的AUC (Area Under Curve)?\n",
    "9. 請將 clf1, clf2, clf3, clf4 的ROC Curve 繪製於同一張圖上?"
   ]
  },
  {
   "cell_type": "markdown",
   "metadata": {},
   "source": [
    "### 評分標準\n",
    "1. 程式碼能順利運行 (10%)\n",
    "2. 程式碼能順利讀取該檔案，並將資料讀成名為google 的DataFrame (10%)\n",
    "3. 程式碼能夠使用tfidf 矩陣搭配 naive bayes 建立一名為 clf1 的模型 (10%) \n",
    "4. 程式碼能夠使用tfidf 矩陣搭配 svm 建立一名為 clf2 的模型 (10%)\n",
    "5. 程式碼能夠使用word2vec搭配 svm 建立一名為 clf3 的模型 (10%)\n",
    "6. 程式碼能夠使用BERT 建立一名為 clf4 的模型 (10%)\n",
    "7. 程式碼能將 clf1, clf2, clf3, clf4 套用到測試資料集，計算出各模型的準確度 (Accuracy Score) (10%)\n",
    "8. 程式碼能將 clf1, clf2, clf3, clf4 套用到測試資料集，計算出各模型的AUC (Area Under Curve) (10%)\n",
    "9. 程式碼能將 clf1, clf2, clf3, clf4 的ROC Curve 繪製於同一張圖上 (20%)"
   ]
  }
 ],
 "metadata": {
  "kernelspec": {
   "display_name": "Python 3",
   "language": "python",
   "name": "python3"
  },
  "language_info": {
   "codemirror_mode": {
    "name": "ipython",
    "version": 3
   },
   "file_extension": ".py",
   "mimetype": "text/x-python",
   "name": "python",
   "nbconvert_exporter": "python",
   "pygments_lexer": "ipython3",
   "version": "3.7.3"
  }
 },
 "nbformat": 4,
 "nbformat_minor": 4
}
