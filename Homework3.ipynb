{
 "cells": [
  {
   "attachments": {},
   "cell_type": "markdown",
   "metadata": {},
   "source": [
    "### 作業需求\n",
    "利用以下資料建立詞頻矩陣，並利用詞頻矩陣做量化分析：\n",
    "\n",
    "1. 將信用卡版討論文章 (https://github.com/ywchiu/tibame_tm/blob/master/data/creditcard_titles.csv) 下載存入到自己電腦\n",
    "2. 請讀取該檔案，並將所有標題讀入成titles 的list\n",
    "3. 請使用sklearn 將資料轉換為詞頻矩陣(CountVectorizer)\n",
    "4. 請使用sklearn 將資料轉換為TF-IDF矩陣(TfidfVectorizer)\n"
   ]
  },
  {
   "cell_type": "markdown",
   "metadata": {},
   "source": [
    "### 評分標準\n",
    "1. 程式碼能順利運行 (20%)\n",
    "2. 程式碼能順利讀取該檔案，並將所有標題讀入成titles 的list (20%)\n",
    "3. 程式碼能使用sklearn 將資料轉換為詞頻矩陣 (30%)\n",
    "4. 程式碼能使用sklearn 將資料轉換為TF-IDF矩陣 (30%)"
   ]
  },
  {
   "cell_type": "code",
   "execution_count": null,
   "metadata": {},
   "outputs": [],
   "source": []
  }
 ],
 "metadata": {
  "kernelspec": {
   "display_name": "Python 3",
   "language": "python",
   "name": "python3"
  },
  "language_info": {
   "codemirror_mode": {
    "name": "ipython",
    "version": 3
   },
   "file_extension": ".py",
   "mimetype": "text/x-python",
   "name": "python",
   "nbconvert_exporter": "python",
   "pygments_lexer": "ipython3",
   "version": "3.7.3"
  }
 },
 "nbformat": 4,
 "nbformat_minor": 4
}
