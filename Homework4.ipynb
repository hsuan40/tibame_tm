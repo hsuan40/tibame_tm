{
 "cells": [
  {
   "cell_type": "markdown",
   "metadata": {},
   "source": [
    "### 作業需求\n",
    "利用以下資料建立一問答機器人，讓系統可以使用者輸入問題，依問題相似度給予最接近回答：\n",
    "\n",
    "1. 將下載PCHOME常見問答 (https://raw.githubusercontent.com/ywchiu/tibame_tm/master/data/pchome_qa.xlsx) 並存到作業環境?\n",
    "2. 請使用 Pandas 讀取該檔案，並轉變名為qa 的 DataFrame?\n",
    "3. 請將 question 欄位進行切詞，並將切詞過後的資料放入語料庫 corpus (資料型態為List) 中\n",
    "3. 請使用 sklearn 將語料庫 Corpus 轉換成名為tfidf 的 TF-IDF矩陣(TfidfVectorizer)?\n",
    "4. 將使用者輸入問題「請問要如何查詢我的訂單」切詞並轉換為向量，透過相似度計算(Cosine Similarity)回覆最有可能的答案?\n"
   ]
  },
  {
   "cell_type": "markdown",
   "metadata": {},
   "source": [
    "### 評分標準\n",
    "1. 程式碼能順利運行 (20%)\n",
    "2. 程式碼能順利讀取該檔案，並將資料讀成名為qa 的DataFrame (20%)\n",
    "3. 程式碼能將question 欄位進行切詞，並將切詞後的資料放入語料庫 corpus 中 (20%)\n",
    "3. 程式碼能使用sklearn 將資料轉換成名為tfidf 的TF-IDF矩陣 (20%)\n",
    "4. 程式碼能根據使用者輸入「請問要如何查詢我的訂單」，透過相似度計算(Cosine Similarity)回覆最有可能的答案 (20%)"
   ]
  },
  {
   "cell_type": "code",
   "execution_count": null,
   "metadata": {},
   "outputs": [],
   "source": []
  }
 ],
 "metadata": {
  "kernelspec": {
   "display_name": "Python 3",
   "language": "python",
   "name": "python3"
  },
  "language_info": {
   "codemirror_mode": {
    "name": "ipython",
    "version": 3
   },
   "file_extension": ".py",
   "mimetype": "text/x-python",
   "name": "python",
   "nbconvert_exporter": "python",
   "pygments_lexer": "ipython3",
   "version": "3.7.3"
  }
 },
 "nbformat": 4,
 "nbformat_minor": 4
}
