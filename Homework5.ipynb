{
 "cells": [
  {
   "cell_type": "markdown",
   "metadata": {},
   "source": [
    "### 作業需求\n",
    "請使用分群演算法將金融商品討論文章進行分群：\n",
    "\n",
    "1. 將下載一金融文章資料集 (https://raw.githubusercontent.com/ywchiu/tibame_tm/master/data/finance_article.xlsx) 並存到作業環境\n",
    "2. 請使用 Pandas 讀取該檔案，並將檔案轉變名稱為article 的 DataFrame?\n",
    "3. 請使用 jieba 對 article 的 content 進行切詞，並將切詞過後的資料放置於名為 corpus 的 list 中?\n",
    "4. 請使用 sklearn 將語料庫 Corpus 轉換成名為tfidf 的 TF-IDF矩陣 (TfidfVectorizer)?\n",
    "5. 請使用 cosine distance 計算文章與文章間的距離，並將距離存到名為 cs 的變數中?\n",
    "6. 請使用 community detection 分群法將文章分群，並將分群後的結果存入 article_cluster 的變數名中?\n"
   ]
  },
  {
   "cell_type": "markdown",
   "metadata": {},
   "source": [
    "### 評分標準\n",
    "1. 程式碼能順利運行 (10%)\n",
    "2. 程式碼能順利讀取該檔案，並將資料讀成名為article 的DataFrame (10%)\n",
    "3. 程式碼能將 content 欄位進行切詞，並將切詞後的資料放入語料庫 corpus 的 list 中 (15%)\n",
    "4. 程式碼能使用 sklearn 將資料轉換成名為 tfidf 的TF-IDF矩陣 (15%)\n",
    "5. 程式碼能夠用 sklearn 計算文章對文章間的 cosine distance, 並將距離存入名為 cs 的變數中(20%) \n",
    "6. 程式碼能使用community detection 進行分群，並將分群後的結果存入 article_cluster 的變數名中 (30%)"
   ]
  },
  {
   "cell_type": "code",
   "execution_count": null,
   "metadata": {},
   "outputs": [],
   "source": []
  }
 ],
 "metadata": {
  "kernelspec": {
   "display_name": "Python 3",
   "language": "python",
   "name": "python3"
  },
  "language_info": {
   "codemirror_mode": {
    "name": "ipython",
    "version": 3
   },
   "file_extension": ".py",
   "mimetype": "text/x-python",
   "name": "python",
   "nbconvert_exporter": "python",
   "pygments_lexer": "ipython3",
   "version": "3.7.3"
  }
 },
 "nbformat": 4,
 "nbformat_minor": 4
}
