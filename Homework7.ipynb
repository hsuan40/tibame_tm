{
 "cells": [
  {
   "cell_type": "markdown",
   "metadata": {},
   "source": [
    "### 作業需求\n",
    "請使用分類演算法將Google 商店評論文章做情緒分類：\n",
    "\n",
    "1. 先將一Google 店家評論 (https://raw.githubusercontent.com/ywchiu/tibame_tm/master/data/google_comments.xlsx)  下載存入到自己電腦\n",
    "2. 請使用Pandas 將該資料讀入名為 google 的 DataFrame 中\n",
    "3. 請將資料依據內容 content 切詞以後，將資料轉變成一名為tfidf 的TF-IDF矩陣\n",
    "4. 請將資料切分為訓練(train_x, train_y)與測試資料集(test_x, test_y)，其中訓練資料集占80%, 測試資料集占20%\n",
    "5. 請使用貝式分類法建立名為clf1 的分類模型(特徵為詞頻矩陣，目標為 tag)\n",
    "6. 請使用SVM建立名為clf2 的分類模型(特徵為詞頻矩陣，目標為 tag)\n",
    "7. 請計算出clf1, clf2模型準確度(Accuracy)?\n",
    "8. 請列出clf1, clf2模型的混淆矩陣(confusion matrix)?\n"
   ]
  },
  {
   "cell_type": "markdown",
   "metadata": {},
   "source": [
    "### 評分標準\n",
    "1. 程式碼能順利運行 (10%)\n",
    "2. 程式碼能順利讀取該檔案，並將資料讀成名為google 的DataFrame (5%)\n",
    "3. 程式碼能將 content 欄位進行切詞，並將切詞後的資料放入語料庫 corpus 的 list 中 (5%)\n",
    "4. 程式碼能使用 sklearn 將資料轉換成名為 tfidf 的TF-IDF矩陣 (10%)\n",
    "5. 程式碼能夠將資料切分為訓練(train_x, train_y)與測試資料集(test_x, test_y)其中訓練資料集占80%, 測試資料集占20%(10%) \n",
    "6. 程式碼使用貝式分類法建立名為clf1的分類模型(15%)\n",
    "7. 程式碼使用SVM建立名為clf2的分類模型(15%)\n",
    "8. 程式碼能計算模型準確度(Accuracy) (15%)\n",
    "9. 程式碼能列出混淆矩陣(Confusion Matrix) (15%)"
   ]
  },
  {
   "cell_type": "code",
   "execution_count": null,
   "metadata": {},
   "outputs": [],
   "source": []
  }
 ],
 "metadata": {
  "kernelspec": {
   "display_name": "Python 3",
   "language": "python",
   "name": "python3"
  },
  "language_info": {
   "codemirror_mode": {
    "name": "ipython",
    "version": 3
   },
   "file_extension": ".py",
   "mimetype": "text/x-python",
   "name": "python",
   "nbconvert_exporter": "python",
   "pygments_lexer": "ipython3",
   "version": "3.7.3"
  }
 },
 "nbformat": 4,
 "nbformat_minor": 4
}
