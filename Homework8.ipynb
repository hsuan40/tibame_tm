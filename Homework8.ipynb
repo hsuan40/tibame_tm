{
 "cells": [
  {
   "cell_type": "markdown",
   "metadata": {},
   "source": [
    "### 作業需求\n",
    "請使用分類演算法將Google 商店評論文章做情緒分類：\n",
    "\n",
    "1. 先將一Google 店家評論 (https://raw.githubusercontent.com/ywchiu/tibame_tm/master/data/google_comments.xlsx)  下載存入到自己電腦\n",
    "2. 請使用Pandas 將該資料讀入名為 google 的 DataFrame 中?\n",
    "3. 請利用Gensim 為該資料集建立一名為model的詞向量模型?\n",
    "4. 請利用model求出該語料庫的句向量，並將句向量取名為 x, 預測目標取名為 y?\n",
    "5. 程式碼能夠將資料(x,y)切分為訓練(train_x, train_y)與測試資料集(test_x, test_y)其中訓練資料集占80%, 測試資料集占20%(10%)\n",
    "6. 請將訓練資料集 train_x 輸入至 SVM中，建立名為 clf 的分類模型(特徵為train_x，目標為 train_y)?\n",
    "7. 請套用clf 到 測試資料集 test_x, 並產生預測結果 pred_y\n",
    "7. 請根據 test_y, pred_y 計算出clf模型準確度(Accuracy)?\n"
   ]
  },
  {
   "cell_type": "markdown",
   "metadata": {},
   "source": [
    "### 評分標準\n",
    "1. 程式碼能順利運行 (10%)\n",
    "2. 程式碼能順利讀取該檔案，並將資料讀成名為google 的DataFrame (5%)\n",
    "3. 程式碼能將 content 欄位進行切詞，並將切詞後的資料放入語料庫 corpus 的 list 中 (5%)\n",
    "4. 程式碼能使用 gensim 建立名為model 的詞向量模型 (20%)\n",
    "5. 程式碼能使用模型model求出該語料庫的句向量，並將句向量取名為 x, 預測目標取名為 y? (20%)\n",
    "6. 程式碼能夠將資料x,y 切分為訓練(train_x, train_y)與測試資料集(test_x, test_y)其中訓練資料集占80%, 測試資料集占20%(10%) \n",
    "7. 程式碼使用SVM建立名為clf的分類模型(10%)\n",
    "8. 程式碼能套用clf 到 測試資料集 test_x, 並產生預測結果 pred_y (10%)\n",
    "9. 程式碼能計算模型準確度(Accuracy) (10%)"
   ]
  },
  {
   "cell_type": "code",
   "execution_count": null,
   "metadata": {},
   "outputs": [],
   "source": []
  }
 ],
 "metadata": {
  "kernelspec": {
   "display_name": "Python 3",
   "language": "python",
   "name": "python3"
  },
  "language_info": {
   "codemirror_mode": {
    "name": "ipython",
    "version": 3
   },
   "file_extension": ".py",
   "mimetype": "text/x-python",
   "name": "python",
   "nbconvert_exporter": "python",
   "pygments_lexer": "ipython3",
   "version": "3.7.3"
  }
 },
 "nbformat": 4,
 "nbformat_minor": 4
}
