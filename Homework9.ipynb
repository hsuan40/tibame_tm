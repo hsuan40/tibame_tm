{
 "cells": [
  {
   "cell_type": "markdown",
   "metadata": {},
   "source": [
    "### 作業需求\n",
    "請使用分類演算法將Google 商店評論文章做情緒分類：\n",
    "\n",
    "1. 先將一Google 店家評論 (https://raw.githubusercontent.com/ywchiu/tibame_tm/master/data/google_comments.xlsx)  下載存入到自己電腦\n",
    "2. 請使用Pandas 將該資料讀入名為 google 的 DataFrame 中?\n",
    "3. 程式碼能夠將資料google切分為訓練(train_df)與測試資料集(eval_df)其中訓練資料集占80%, 測試資料集占20%(10%)\n",
    "4. 請將訓練資料集 train_df 輸入至 BERT 中，建立名為 model 的分類模型?\n",
    "5. 請套用model 到 測試資料集 eval_df, 並產生名為result 的預測結果?\n"
   ]
  },
  {
   "cell_type": "markdown",
   "metadata": {},
   "source": [
    "### 評分標準\n",
    "1. 程式碼能順利運行 (10%)\n",
    "2. 程式碼能順利讀取該檔案，並將資料讀成名為google 的DataFrame (10%)\n",
    "3. 程式碼能夠將資料google切分為訓練(train_df)與測試資料集(eval_df)其中訓練資料集占80%, 測試資料集占20%(20%) \n",
    "4. 程式碼使用BERT建立名為model的分類模型(30%)\n",
    "5. 程式碼能套用model 到 測試資料集 eval_df, 並產生預測結果 result (30%)"
   ]
  }
 ],
 "metadata": {
  "kernelspec": {
   "display_name": "Python 3",
   "language": "python",
   "name": "python3"
  },
  "language_info": {
   "codemirror_mode": {
    "name": "ipython",
    "version": 3
   },
   "file_extension": ".py",
   "mimetype": "text/x-python",
   "name": "python",
   "nbconvert_exporter": "python",
   "pygments_lexer": "ipython3",
   "version": "3.7.3"
  }
 },
 "nbformat": 4,
 "nbformat_minor": 4
}
