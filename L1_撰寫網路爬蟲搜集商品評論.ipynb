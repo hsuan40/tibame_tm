{
 "cells": [
  {
   "cell_type": "markdown",
   "metadata": {
    "colab_type": "text",
    "id": "5vZkRQjJzVPZ"
   },
   "source": [
    "## 使用 GET"
   ]
  },
  {
   "cell_type": "code",
   "execution_count": 1,
   "metadata": {
    "colab": {
     "base_uri": "https://localhost:8080/",
     "height": 34
    },
    "colab_type": "code",
    "id": "vP3_T4ldCvdN",
    "outputId": "8d508055-9b56-4307-d8dd-4766f4e88b71"
   },
   "outputs": [
    {
     "name": "stdout",
     "output_type": "stream",
     "text": [
      "<Response [200]>\n"
     ]
    }
   ],
   "source": [
    "import requests\n",
    "headers = {\n",
    "   'user-agent': 'Mozilla/5.0 (Windows NT 10.0; Win64; x64) AppleWebKit/537.36 (KHTML, like Gecko) Chrome/83.0.4103.116 Safari/537.36' \n",
    "}\n",
    "res = requests.get('https://www.mobile01.com/topiclist.php?f=180', headers = headers)\n",
    "print(res)\n",
    "#print(res.text)\n"
   ]
  },
  {
   "cell_type": "markdown",
   "metadata": {
    "colab_type": "text",
    "id": "-zU9t8FvzY48"
   },
   "source": [
    "## 使用 POST"
   ]
  },
  {
   "cell_type": "code",
   "execution_count": 2,
   "metadata": {
    "colab": {
     "base_uri": "https://localhost:8080/",
     "height": 34
    },
    "colab_type": "code",
    "id": "7vdnNYPxDI0k",
    "outputId": "563ebb4f-c038-4abc-aa29-499ddd0671a0"
   },
   "outputs": [
    {
     "name": "stdout",
     "output_type": "stream",
     "text": [
      "<Response [200]>\n"
     ]
    }
   ],
   "source": [
    "import requests\n",
    "payload = {\n",
    "'SearchType': 'S', \n",
    "'Lang': 'TW', \n",
    "'StartStation': 'TaiPei', \n",
    "'EndStation': 'XinZhu', \n",
    "'OutWardSearchDate': '2020/07/02', \n",
    "'OutWardSearchTime': '19:00', \n",
    "'ReturnSearchDate': '2020/07/02', \n",
    "'ReturnSearchTime': '19:00'\n",
    "}\n",
    "res = requests.post('https://www.thsrc.com.tw/TimeTable/Search', headers = headers, data = payload)\n",
    "print(res)\n",
    "#print(res.json())"
   ]
  },
  {
   "cell_type": "markdown",
   "metadata": {
    "colab_type": "text",
    "id": "suKynyBHzj5d"
   },
   "source": [
    "## 練習\n",
    "請試著找到哪個連結有包含PCHOME 商品價格?\n",
    "\n",
    "e.g. https://24h.pchome.com.tw/prod/DYAQ9Y-A900AEZZI"
   ]
  },
  {
   "cell_type": "markdown",
   "metadata": {
    "colab_type": "text",
    "id": "aShaB7Tlz3f_"
   },
   "source": [
    "## 使用BeautifulSoup 解析頁面"
   ]
  },
  {
   "cell_type": "code",
   "execution_count": 3,
   "metadata": {
    "colab": {
     "base_uri": "https://localhost:8080/",
     "height": 136
    },
    "colab_type": "code",
    "id": "7LbDePzBzi9I",
    "outputId": "e9d5d598-e7e5-4a7c-8777-29d38f8ce709"
   },
   "outputs": [
    {
     "name": "stdout",
     "output_type": "stream",
     "text": [
      "\n",
      "\n",
      "Hello World\n",
      "This is link1\n",
      "This is link2\n",
      "\n",
      "\n"
     ]
    }
   ],
   "source": [
    "from bs4 import BeautifulSoup \n",
    "html_sample = ''' \n",
    "<html> \n",
    " <body> \n",
    " <h1 id=\"title\">Hello World</h1> \n",
    " <a href=\"#\" class=\"link\">This is link1</a> \n",
    " <a href=\"# link2\" class=\"link\">This is link2</a> \n",
    " </body> \n",
    " </html>'''\n",
    "\n",
    "soup = BeautifulSoup(html_sample, 'lxml')\n",
    "print(soup.text)\n"
   ]
  },
  {
   "cell_type": "code",
   "execution_count": 6,
   "metadata": {
    "colab": {
     "base_uri": "https://localhost:8080/",
     "height": 34
    },
    "colab_type": "code",
    "id": "TvX5iTkC0C0j",
    "outputId": "32455ba1-e647-44f1-fc39-80c5207767c0"
   },
   "outputs": [
    {
     "name": "stdout",
     "output_type": "stream",
     "text": [
      "<h1 id=\"title\">Hello World</h1>\n"
     ]
    }
   ],
   "source": [
    "soup = BeautifulSoup(html_sample, 'lxml') \n",
    "title = soup.select_one('h1') \n",
    "print(title)\n"
   ]
  },
  {
   "cell_type": "code",
   "execution_count": 7,
   "metadata": {
    "colab": {
     "base_uri": "https://localhost:8080/",
     "height": 34
    },
    "colab_type": "code",
    "id": "l4wOE7v-0LaQ",
    "outputId": "cb150d4c-c94e-4779-a877-863773d4f2e7"
   },
   "outputs": [
    {
     "name": "stdout",
     "output_type": "stream",
     "text": [
      "[<a class=\"link\" href=\"#\">This is link1</a>, <a class=\"link\" href=\"# link2\">This is link2</a>]\n"
     ]
    }
   ],
   "source": [
    "soup = BeautifulSoup(html_sample, 'lxml') \n",
    "alink = soup.select('a') \n",
    "print(alink)\n"
   ]
  },
  {
   "cell_type": "code",
   "execution_count": 8,
   "metadata": {
    "colab": {
     "base_uri": "https://localhost:8080/",
     "height": 34
    },
    "colab_type": "code",
    "id": "dQw6GeOo0N7N",
    "outputId": "2b23e4bb-8ef3-407d-d926-c68bd0b59db8"
   },
   "outputs": [
    {
     "name": "stdout",
     "output_type": "stream",
     "text": [
      "[<h1 id=\"title\">Hello World</h1>]\n"
     ]
    }
   ],
   "source": [
    "alink = soup.select('#title') \n",
    "print(alink)"
   ]
  },
  {
   "cell_type": "code",
   "execution_count": 9,
   "metadata": {
    "colab": {
     "base_uri": "https://localhost:8080/",
     "height": 51
    },
    "colab_type": "code",
    "id": "sgfnQnce0S9s",
    "outputId": "ea14d724-c5b6-4228-a3e4-45897b8652a5"
   },
   "outputs": [
    {
     "name": "stdout",
     "output_type": "stream",
     "text": [
      "<a class=\"link\" href=\"#\">This is link1</a>\n",
      "<a class=\"link\" href=\"# link2\">This is link2</a>\n"
     ]
    }
   ],
   "source": [
    "soup = BeautifulSoup(html_sample, 'lxml') \n",
    "for link in soup.select('.link'): \n",
    "    print(link)"
   ]
  },
  {
   "cell_type": "code",
   "execution_count": 10,
   "metadata": {
    "colab": {
     "base_uri": "https://localhost:8080/",
     "height": 51
    },
    "colab_type": "code",
    "id": "3sn3V2uD0Xpv",
    "outputId": "e00b6e04-dd45-4553-e189-a6fa09849392"
   },
   "outputs": [
    {
     "name": "stdout",
     "output_type": "stream",
     "text": [
      "#\n",
      "# link2\n"
     ]
    }
   ],
   "source": [
    "alinks = soup.select('a') \n",
    "for link in alinks: \n",
    "    print(link['href'])"
   ]
  },
  {
   "cell_type": "markdown",
   "metadata": {
    "colab_type": "text",
    "id": "Yy_fjR_N0f4h"
   },
   "source": [
    "## 練習\n",
    "請試著使用BeautifulSoup抓取以下網頁關於商品價格(5990)的資訊?"
   ]
  },
  {
   "cell_type": "markdown",
   "metadata": {
    "colab_type": "text",
    "id": "N8gfFHEJ1H17"
   },
   "source": [
    "<html> \n",
    " <body> \n",
    " <h1 id=\"title\">Jabra Elite 75t 真無線藍牙耳機</h1> \n",
    " <img src=\"https://c.ecimg.tw/items/DYAQ9YA900AEZZI/000001_1593397583.jpg\" width=\"200px\"></img>\n",
    " <div>\n",
    "     <p>四麥克風技術/藍牙5.0/IP55防塵防水\n",
    "電池續航7.5小時,搭配充電盒可達28小時\n",
    "一鍵語音助理,快速開啟Siri/Alexa**/Google Assistant\n",
    "按鍵式操控輕鬆不費力，不會導致耳朵有壓迫感\n",
    "使用Jabra Sound+ 設定個人化音質體驗\n",
    "超強環境音功能，極度接近真實環境周遭聲音\n",
    "體積更小，單耳僅不到6克，服貼各種耳型，配戴超舒適</p>\n",
    " </div> \n",
    " <meta itemprop=\"priceCurrency\" content=\"TWD\">網路價<span class=\"price\" >$<span class=\"value\" id=\"PriceTotal\" itemprop=\"price\" \">5990</span></span>\n",
    " </body> \n",
    " </html>"
   ]
  },
  {
   "cell_type": "code",
   "execution_count": 11,
   "metadata": {
    "colab": {},
    "colab_type": "code",
    "id": "iBJJ8uND0fBb"
   },
   "outputs": [],
   "source": [
    "from bs4 import BeautifulSoup \n",
    "ec = ''' \n",
    "<html> \n",
    " <body> \n",
    " <h1 id=\"title\">Jabra Elite 75t 真無線藍牙耳機</h1> \n",
    " <img src=\"https://c.ecimg.tw/items/DYAQ9YA900AEZZI/000001_1593397583.jpg\" width=\"200px\"></img>\n",
    " <div>\n",
    "     <p>四麥克風技術/藍牙5.0/IP55防塵防水\n",
    "電池續航7.5小時,搭配充電盒可達28小時\n",
    "一鍵語音助理,快速開啟Siri/Alexa**/Google Assistant\n",
    "按鍵式操控輕鬆不費力，不會導致耳朵有壓迫感\n",
    "使用Jabra Sound+ 設定個人化音質體驗\n",
    "超強環境音功能，極度接近真實環境周遭聲音\n",
    "體積更小，單耳僅不到6克，服貼各種耳型，配戴超舒適</p>\n",
    " </div> \n",
    " <meta itemprop=\"priceCurrency\" content=\"TWD\">網路價<span class=\"price\" >$<span class=\"value\" id=\"PriceTotal\" itemprop=\"price\" \">5990</span></span>\n",
    " </body> \n",
    " </html>'''\n",
    "\n",
    "soup = BeautifulSoup(html_sample, 'lxml')"
   ]
  },
  {
   "cell_type": "markdown",
   "metadata": {
    "colab_type": "text",
    "id": "n4QiNkD_2aYD"
   },
   "source": [
    "## 抓取 Mobile01 列表"
   ]
  },
  {
   "cell_type": "code",
   "execution_count": 15,
   "metadata": {
    "colab": {
     "base_uri": "https://localhost:8080/",
     "height": 581
    },
    "colab_type": "code",
    "id": "OqNAwvuCjdfi",
    "outputId": "5e5aadd0-f969-427b-96b4-35ac1cfdc0c2"
   },
   "outputs": [
    {
     "name": "stdout",
     "output_type": "stream",
     "text": [
      "【北極熊開箱】不受線的自由聆聽- Libratone Track Air+ 7 https://www.mobile01.com/topicdetail.php?f=180&t=6131686\n",
      "【試用】英國知名技術高音質《TONE Free 真無線藍牙耳機 FL7》快速充電同時自動殺菌！ 101 https://www.mobile01.com/topicdetail.php?f=180&t=6108419\n",
      "KKBOX 搶先推出Hi Fi FLAC格式無損音樂 6 https://www.mobile01.com/topicdetail.php?f=180&t=6133089\n",
      "KLIPSCH T5 True Wireless 真無線耳機開箱 116 https://www.mobile01.com/topicdetail.php?f=180&t=5855349\n",
      "用入耳式耳機講電話聽不到自己聲音 3 https://www.mobile01.com/topicdetail.php?f=180&t=6135823\n",
      "ONKYO GRANBEAT DP-CMX1 請教港版問題 0 https://www.mobile01.com/topicdetail.php?f=180&t=6135884\n",
      "Jabra Elite Active 75t 試聽報告 配戴舒適、動靜皆宜！ 28 https://www.mobile01.com/topicdetail.php?f=180&t=6065702\n",
      "「野人評比」SONY WIRELESS SURROUND HEADSET LIMITED EDITION VS XROUND AERO EARPHONE VS SONY HT-X9000F 2 https://www.mobile01.com/topicdetail.php?f=180&t=6134635\n",
      "鐵三角 ATH-ANC300TW 耳機開箱 6 https://www.mobile01.com/topicdetail.php?f=180&t=6119134\n",
      "大量動漫 電視盒選擇 1 https://www.mobile01.com/topicdetail.php?f=180&t=6135415\n",
      "請問Klipsch T5 黑，4990可買嗎？ 5 https://www.mobile01.com/topicdetail.php?f=180&t=6127814\n",
      "藍芽喇叭Batman kardon vs JBL 0 https://www.mobile01.com/topicdetail.php?f=180&t=6135451\n",
      "求有降噪功能的真無線藍芽耳機推薦 5 https://www.mobile01.com/topicdetail.php?f=180&t=6127992\n",
      "預算1500以下真無線藍牙耳機請推薦(內含選手) 40 https://www.mobile01.com/topicdetail.php?f=180&t=5940011\n",
      "音頻解碼差異聽得出來嗎? 要不要聽聽看 SBC 跟 aptx 的差異呢? 35 https://www.mobile01.com/topicdetail.php?f=180&t=5977077\n",
      "將絕版的Hi-End至尊旗艦Bowers & Wilkins P9 Signature耳罩式耳機 21 https://www.mobile01.com/topicdetail.php?f=180&t=6074688\n",
      "原來鐵三角是爛到爆 9 https://www.mobile01.com/topicdetail.php?f=180&t=6129897\n",
      "Omix VAC-S真空管藍牙喇叭 極簡設計帶來好音質 0 https://www.mobile01.com/topicdetail.php?f=180&t=6134786\n",
      "Beats等級的低音... 49 https://www.mobile01.com/topicdetail.php?f=180&t=4731587\n",
      "入手【Klipsch】 S1 True Wireless 真無線藍牙耳機 40 https://www.mobile01.com/topicdetail.php?f=180&t=5963479\n",
      "求各位大神3k內 可小爆 藍牙喇叭推薦 0 https://www.mobile01.com/topicdetail.php?f=180&t=6134588\n",
      "(簡單分享文) 2020/5 小米 藍牙耳機 AirDots 超值版 3 https://www.mobile01.com/topicdetail.php?f=180&t=6093763\n",
      "Bowers&Wilkins PX7 開箱文 31 https://www.mobile01.com/topicdetail.php?f=180&t=6048520\n",
      "[請益] Sennheiser VS B&W 耳機抉擇 35 https://www.mobile01.com/topicdetail.php?f=180&t=6018897\n",
      "手機看Youtube的影片能夠 字幕英翻中嗎？ 2 https://www.mobile01.com/topicdetail.php?f=180&t=6133355\n",
      "MD3090與投影機連線的問題 2 https://www.mobile01.com/topicdetail.php?f=180&t=5999163\n",
      "【R式分享】旗艦之林的新星—YOGA SHP-1 13 https://www.mobile01.com/topicdetail.php?f=180&t=6081399\n",
      "真心求推薦 藍牙 小耳機 31 https://www.mobile01.com/topicdetail.php?f=180&t=6067024\n",
      "衝破Jam Heavy Metal 極限的New Jam Hang Around 藍牙喇叭 17 https://www.mobile01.com/topicdetail.php?f=180&t=5603603\n",
      "「開箱分享」Marley Smile Jamaica 無線藍牙耳機開箱實測 43 https://www.mobile01.com/topicdetail.php?f=180&t=5227184\n",
      "聽 KKbox, Spotify其實SBC就夠了! 真的嗎? 47 https://www.mobile01.com/topicdetail.php?f=180&t=5878645\n",
      "UE Boom 以外最佳小型喇叭選擇 ─ Jam Hang Up防水藍芽喇叭 34 https://www.mobile01.com/topicdetail.php?f=180&t=5597698\n"
     ]
    }
   ],
   "source": [
    "#抓取列表原始碼\n",
    "import requests\n",
    "from bs4 import BeautifulSoup\n",
    "headers = {\n",
    "   'user-agent': 'Mozilla/5.0 (Windows NT 10.0; Win64; x64) AppleWebKit/537.36 (KHTML, like Gecko) Chrome/83.0.4103.116 Safari/537.36' \n",
    "}\n",
    "res = requests.get('https://www.mobile01.com/topiclist.php?f=180', headers = headers)\n",
    "soup = BeautifulSoup(res.text , 'lxml')\n",
    "\n",
    "domain = 'https://www.mobile01.com/'\n",
    "\n",
    "#用迴圈遍歷含有 div.l-listTable__tr 的元素\n",
    "for tr in soup.select('div.l-listTable__tr'):\n",
    "  if tr.select_one('.c-listTableTd__title a'):\n",
    "    title = tr.select_one('.c-listTableTd__title a').text.strip()\n",
    "    link = domain + tr.select_one('.c-listTableTd__title a').get('href')\n",
    "    cnt = tr.select_one('.o-fMini').text\n",
    "    print(title, cnt, link)\n"
   ]
  },
  {
   "cell_type": "markdown",
   "metadata": {
    "colab_type": "text",
    "id": "6crPSjlW38Vx"
   },
   "source": [
    "## 練習\n",
    "請試著抓取Mobile01發文作者的名稱?"
   ]
  },
  {
   "cell_type": "markdown",
   "metadata": {
    "colab_type": "text",
    "id": "4ndNyq0R2mOs"
   },
   "source": [
    "## 抓取內文"
   ]
  },
  {
   "cell_type": "markdown",
   "metadata": {
    "colab_type": "text",
    "id": "PospxzkZ2o0I"
   },
   "source": [
    "### 抓取標題"
   ]
  },
  {
   "cell_type": "code",
   "execution_count": 16,
   "metadata": {
    "colab": {
     "base_uri": "https://localhost:8080/",
     "height": 35
    },
    "colab_type": "code",
    "id": "mByAbPDXmeXP",
    "outputId": "2a6b77d8-07b7-42eb-b13b-02c66fe3b388"
   },
   "outputs": [
    {
     "data": {
      "application/vnd.google.colaboratory.intrinsic": {
       "type": "string"
      },
      "text/plain": [
       "'HD800很強我知道  但是有沒有大燒能幫我解釋一下這位燒友到低在跟我說啥咪....我真的不懂'"
      ]
     },
     "execution_count": 16,
     "metadata": {
      "tags": []
     },
     "output_type": "execute_result"
    }
   ],
   "source": [
    "detailurl = 'https://www.mobile01.com/topicdetail.php?f=180&t=5855698'\n",
    "res = requests.get(detailurl, headers = headers)\n",
    "soup = BeautifulSoup(res.text, 'lxml')\n",
    "soup.select_one('h1.t2').text\n"
   ]
  },
  {
   "cell_type": "markdown",
   "metadata": {
    "colab_type": "text",
    "id": "eu2G_YZ32qyf"
   },
   "source": [
    "### 抓取內文"
   ]
  },
  {
   "cell_type": "code",
   "execution_count": 17,
   "metadata": {
    "colab": {
     "base_uri": "https://localhost:8080/",
     "height": 256
    },
    "colab_type": "code",
    "id": "H4TQGdg7lgMX",
    "outputId": "e661cf65-ac53-403d-a1a4-ec8796fb46f0"
   },
   "outputs": [
    {
     "data": {
      "application/vnd.google.colaboratory.intrinsic": {
       "type": "string"
      },
      "text/plain": [
       "'事情的起因其實很簡單 某燒友表示他的HD800S搭配索六萬是目前最棒的耳機 電圈沒對手 上打平板靜電....\\n\\n我跟他說我不喜歡HD800跟800s的聽感 相較之下 我喜歡ABYSS 1266 我認為各方面素質都比HD800好聽.... 他就寄信給我了 但是我到今天看了六次 還是不懂他在說啥咪 有沒有人看的懂 跟我說重點是啥咪？\\n\\n（注 他目前根本還沒有聽過1266 下文中許多聽感敘述都是看規格跟設計推論出來的聽感）\\n\\n內文\\n\\n1.\\n我雖然不懂硬體素材 , 畢竟那要砸錢砸時間下去玩的 ,\\n但調音 跟構造原理的理解 我! 還算可以!!\\n\\n在聊主題之前 我先說明一下\\n\\n@o@\\n大奧 HE-1 , Hifiman SUSVARA , ABYSS 1266 , stax sr-009s\\n\\n這幾把被捧上天的神旗艦 ,\\n一值都是我想要去試聽過的耳機...\\n\\n所以\\n我對這幾把耳機並沒有所謂排斥!, 這點要搞清楚!! @o@!\\n\\n(尤其聲海大奧HE1這把, 這把 我會特地出門為了它專程跑一趟試聽 , 其他隻則還好)\\n\\n\\n有趣的是 ,HE1 這把\\n失真度THD>0.002%\\n簡單來講 它就是還原真實世界聲音 跟透明度而已 ,其實也沒必要去聽\\n\\n你每天無時無刻聽到的聲音就是最頂尖的聲音了\\n大奧跟真實世界聲音差異不大...\\n\\n\\n----------------\\n我來解說一下我對透明度的理解...\\n\\n如果說真實世界透明度是10分滿分 ,\\n那HE1 大概落在9~9.5 ,\\nABYSS大約會在7~8分可能我猜\\n(為什麼?因為我下面有翻看到一篇文章 得出的結論~ )\\n\\n而我的HD800s 可能只有0.5分的透明度 ,非常的差!\\n\\n{但我當初剛run HD800s的前兩天 HD800s透明度有到3分 ,\\n如果前端有搞定 可能還能在加1分左右}\\n\\n\\n2.\\n我要講解ABYSS的音場問題\\n\\n我並不是!\\n並不是因為我了解ABYSS音場能力\\n它的音場 定位 結像 分離度 能力有多好 , 我不可能知道!! @o@\\n我不可能知道!! @o@\\n\\n\\n但我能從腔體設計 知道它音場哪邊有被(限制!)到...\\n我要講的僅僅只是(這個)而已~\\n\\n一個東西不可能做出 它架構本身做不到的事情\\n就好像 耳道耳機 永遠都沒有 耳罩的立體感 ,\\n耳罩也永遠不會有二聲道自然感跟推力\\n\\n你不可能一個皮罩平板打出全圓形音場 , 那很扯爛...@@\\n\\n\\n3.\\n我不知道你是何時 碰觸HD800 的\\n\\n但這把耳機 出生路途坎坷...\\n\\n它是世界上賣最多的旗艦耳機 ,也是最慘的耳機\\n\\n這把耳機 剛做出來的時候 搶奪了一堆重點專利!\\n以至於後面其他耳機 無法抄襲與模仿\\n\\n所以(電圈)耳機 ,是沒有人有辦法超越它的 , 這點我很清楚! @_@!!\\n\\n\\n不過因為它一開始出生 跳Tone跳太大了\\n以至於2000年代左右的擴\\n沒有一個能適應它 搞定它\\n\\n所以沒有任何擴大機能推好它\\n\\n直到2013年 日本出的luxman p750u 才上電視廣告標榜能推的好這個新時代的怪物\\n\\n也就是說 從2009年到2013年的前輩 們\\n幾乎前仆後繼 為搞定HD800 受盡寧虐折磨 , 去配置組裝HD800的套餐\\n\\n不論 歐美 還大陸 ,反正玩家很瘋狂 非常瘋狂\\n那些古早玩家文章我有看一些\\n整個好像很刺激@@\\n\\n但我不想去碰觸!\\n\\nHD800早年真的會搞死人\\n\\n在沒有擴能配得上它的時候 它聲音又如此敏感\\n能力素質可能還帶有些許透明度...\\n\\n你就知道要把這東西搞到能聽 會有多困難多慘烈\\n\\nHD800\\n早期是6.3mm的線 不是平衡!! ,\\n在配上低價前端 ,上平衡很重要 ,這你應該清楚 @o@\\n\\nHD800的專業線材\\n好像也是2012 還是2013才慢慢出現的...\\n\\n所以擴跟線材還有平衡 的普及化 , 最少也差不多是2015年後的事了\\n\\n也所以\\n我才說 你如果是2015年去摸HD800的話\\n那恭喜你 你可以再去聽一次HD800/s系列\\n\\n4.\\nHD800是很有名的參考級耳機\\n以至於後面很多的擴 都是以HD800這下去調整的 , (所以TA-ZH1ES能推它 不意外)\\n\\n它的一些專業線材還挺粗的\\n很多都是在堆人生厚度 聲音密度 低音量上做補齊 (還染色)\\n也所以\\n\\n它不會有你早期聽到HD800的一大灘缺點!!\\n\\n=======================\\n\\nHD800的腔體是圓形大凹陷的 , 振膜詭異 可以呈放射狀投射 ,\\n而且振膜中空 能加大振膜尺寸56mm\\n它膜片形狀很漂亮 失真度最低THD>0.02% ,\\n\\nhttp://media.tumblr.com/tumblr_l9ur5k3g4O1qc9vgx.jpg\\n\\n\\n電圈的構造太簡單\\n如果這幾個重點技術被聲海霸佔 , 基本上電圈世界也沒啥可玩的了....\\n不是其他廠做不出投射音場 ,而是 !根本沒得做!.....\\n\\nT1 2nd有特斯拉技術增加加倍電流\\nSONY Z1R有封閉式開放感 跟120Hz震動\\nFocal Utopia有鈹振膜\\n\\n除了那個鈹振膜 其他基本上沒三小路用 @@\\n\\n5.\\n2016年\\nHD800進化成了HD800s\\n\\n它改良了許多Bug 然後增加一個算強的技術 ,然後線材改成平衡線!\\n\\nHD800s主要改進成 :\\n好推!!,\\n人生增厚些 ,\\n低音增強些 ,\\n聲音暖些些\\n\\n但大體上差異不大~\\n\\n最重要的是\\n它改掉了6K峰值過度尖銳的聲感\\nHD800最嚴重的缺點就是 聲音非常尖銳!\\n\\n光是這個改進 就值得再聽一次HD800s了\\n-----------------------------------\\n\\nHD800s加入了一個算強的技術!\\n\\n\\n【HD 800 S 共振吸收器技術】\\n\\n通過創新吸收器技術改善 HD 800 S的聲音重現，該技術首次用於森海塞爾 IE 800 。這項突破性技術通過消除所謂的掩蔽效應來確保人耳能夠聽到高頻率聲音。對較弱聲音的掩蔽效是指，如果在低頻率範圍內同時出現更響亮的聲音，則人耳將無法感知某些特定頻率範圍內的聲音。然而，利用森海塞爾獲得專利的吸收器技術可吸收共振能量，因此頻率特性不會增加並且所有頻率範圍(即使是最細微的差別) 都可以通過音樂器材聽到。\\n\\n創新型及收器技術的使用使得 IE 800 已成為世界上音質最好的耳道式耳機，同時也為 HD 800 S提供了更高的聲音純度和精度。HD 800 S的升級基於經典HD 800 (56mm 單體)的傲人成績一一應用於動圈耳機迄今為止最大的單體。獨特的耳罩設計使得聲波以小角度進入人耳，進而實現自然、立體的聽覺體驗。\\n\\n===============================\\n\\n\\n這個共振吸收技術\\n在我聽起來 就是\\n\\n我音量開很大聲的時候 還能聽到更多些高音細節\\n\\n對我來說 相當有用!!\\n\\n至少聲音不會完全糊掉....@@\\n\\n===================================================\\n\\n基本上電圈的所有重點技術都落在 聲海手裡\\n\\n我想選擇都沒得選!!\\n\\n===============================================\\n\\nSO\\n從你以前開始聽到HD800\\n到現在 HD800s\\n總共增加了什麼功能?:\\n\\n(能推的擴)+(素質強化+調音耳機線)+(平衡)+(6K峰直削弱+一點暖聲)+(共振吸收技術)\\n+還有SONY (TA-ZH1ES本身的一些黑科技)\\n\\n\\n整個組合聽起來\\n就是一個標準能聽流行音樂的耳機 但失真不高!\\n\\n所以\\n我跟你當初聽到的聲音 很可能有明顯差別@o@!\\n\\n\\n------------------------------\\n一把弄好的HD800s 除了透明度太差, 我不覺得聲音會輸Abyss哪去...\\n\\n\\n6.\\n再來聊聊你耳機音場! @o@\\n\\n我先說\\n我對音場的重視 是非常非常的重視!\\n\\n我說過 聲音分成音色 跟 素質 ,\\n而素質又簡單能分成音場(定位 分離度 結像) 跟 三頻\\n\\n也就是三頻從音場裡 >跑出來的意思啦~\\n\\n聲音來源大體可以這樣簡單形容\\n\\n也就是說\\n音場整整占了素質50%的重要性!!!\\n\\n\\n音場對我有多種要???\\n\\n別說看電影 ,玩FPS遊戲....\\n\\n看\\n人類史上IMDB 拿下滿分的進擊巨人動畫 , 擠下所有美劇\\nhttps://www.google.com/search?q=imdb+%E9%80%B2%E6%93%8A%E5%B7%A8%E4%BA%BA&oq=IMDB&aqs=chrome.1.69i57j35i39j0l4.5851j0j7&sourceid=chrome&ie=UTF-8\\n\\n\\n進擊巨人 是一個相當相當吃音場的動畫巨作~!\\n\\n巨大廣闊浩瀚衝擊回音\\n\\nhttp://www.shadowzo.com/wp-content/uploads/2016/12/%E9%80%B2%E6%93%8A%E7%9A%84%E5%B7%A8%E4%BA%BA%E7%AC%AC%E4%BA%8C%E5%AD%A3-1024x657.jpg\\n\\n\\n我只能跟你講除了HD800, 沒有其他耳機 跟喇叭 能詮釋好進擊巨人的音場\\n(連它家的HE1都不見得能完美詮釋!)\\n\\n\\n===================================\\n\\n再來我們繼續講\\nZ1R 這耳機 @o@!\\n\\nhttp://hifireview.com.hk/wp-content/uploads/2017/08/sony-signature-series-TA-ZH1ES-MDR-Z1R-12.jpg\\n\\n它這耳罩我很不喜歡\\n當初一看就知道它音場是柱狀穿透\\n\\n果不其然\\n我到現場聽它與DMP-Z1組合的時候\\n\\n它音場聽起來就這樣子 (左右大概一個房間的寬度 前方能容納一兩個人距離的結像 ,然後\\n然後就被截斷了...)\\n\\n\\n\\n你聽起來 音場會有一種臉部被削平削掉的感覺\\n超級的不舒服!!!!\\n\\n你拿它去看進擊巨人 或玩FPS , 你自然會懂為什麼\\n臨場感奇差無比...\\n\\n\\n因為這個原因 這把耳機賣1000元賣我, 我可能都不要\\n(因為我已經有HD800s了 ,沒時間再去享受其他音色相似缺點很大的耳機)\\n\\n\\n7.\\n再來我們來看看Abyss!\\n\\n\\n\\n\\n\\n\\n我說過耳道因為結構 永遠不可能取代耳罩 , 因為\\n沒有的東西就是沒有!\\n\\nabyss 1266 我就算不知道它能力\\n\\n但你的振膜呈垂直射出 ,旁邊直接就是皮罩~\\n\\n但音孔範圍比耳朵大些\\n\\n所以最遠能在前方大約兩公尺的地方形成結像 , 成柱狀穿透\\n但整體很大 聽歌沒什麼問題\\n(但前後左右上下都有部分會被裁掉)\\n\\n\\n\\n\\nHD800是全半徑四公尺\\n前後左右成全圓形 , 可以聽見前方巨人呼嘯而過 , 頭頂高空也能聽見鳥飛過\\n\\n\\n那個震攝力 與完美感不是你能想像的...\\n\\n你的耳機聽歌還可以 ,\\n一看電影遊戲 就有一種美中不足感...雖然不會到Z1R那麼淒慘\\n\\n但音場的重要性只有喜歡它的人才會懂為什麼 @@!\\n\\n-----------------------------------\\n(而喇叭呢? 喇叭音場一直都是麻煩事)\\n\\n一般低價喇叭絕大部分 只從前方45度角來 ,\\n好一點有房間的可以弄到180度甚至更多一些些的 包覆感\\n{我當初買書架喇叭的時候有要求試聽過視聽室裡的百萬的喇叭}\\n\\n弄到360度的那種超頂級二聲道\\n我沒聽過!!\\n\\n4DX電影院也只能做到180度再多一些而已 , 後方結像非常的差\\n\\n(我常常在看電影院影片, 復仇者聯盟3.4 我都4DX三刷的 , 宇宙轟隆隆的很爽~ @o@)\\n\\n\\n所以\\n喇叭缺點也是一堆 ...哀,\\n\\n\\n你沒長時間見識過HD800的音場 跟失真度 ,你不懂它好在哪裡\\n\\n那是一個完美的古典演奏現場 !\\n\\n9.\\n接下來繼續說說Abyss其他問題點吧!\\n\\n我上去查閱了幾篇Abyss的資料\\n\\n發現一些有趣的地方\\n\\n這是你的規格!\\nFrequency Respones: 5 Hz to 28 kHz\\nImpedance: 46 ohms nominal (non-reactive)\\nSensitivity: 85 dB\\nDistortion: Less than 1%; Less than 0.2% through ears most sensitive range\\nWeight: 660 grams (without cable)\\n\\n\\n\\n一般來說 音量越大 這個頻率會縮減的!!\\nFrequency Respones: 5 Hz to 28 kHz\\n\\nHD800s在-3db下 直接從4Hz 縮到10Hz , 51000Hz縮到44000Hz\\n(我是聽-0db的)\\n\\n你那把abyss給我聽 有可能會縮減 ,\\n就算不必縮減\\n28KHZ 跟Z1R的120KHz 會少一種皮膚的微微震動感 ,這也是小小毒性的一種!\\n\\n很可惜\\n但至少HD800s還保留一些這種要素 @@ 你的可能沒有~\\n\\n---------------\\n\\nImpedance: 46 ohms nominal (non-reactive)\\n你的阻抗太低 , 會導致音色失真!!!\\n\\n\\nSensitivity: 85 dB\\n也是難推一族~\\n\\n\\n\\nDistortion: Less than 1%; Less than 0.2% through ears most sensitive range\\n重頭戲來了!!!!\\n\\n\\n當我從一篇文章看到的時候\\n恍然大悟!\\n\\n\\n\\n\\n\\n弄了半天!\\nAbyss就是拿到用比其他平板更輕穎 的膜片材質\\n做出了靜電質感的平板而已\\n\\n簡單來講\\nabyss他就是一個擬靜電耳機\\n這樣講我就懂了...@@\\n\\n它就是一個靜電耳機!\\n\\n\\n我一直覺得!\\n平板靜電的THD失真度 要比電圈來的低 才正常!\\n\\nTHD一直以來都是價格價值的分水嶺與重點\\n\\n低階耳機THD 太差 ,所以沒辦法賣到好價錢\\n\\nT1 2nd 的THD 只到0.05% , 就要四萬\\n\\n\\n不過~\\n不過!\\n幾經何時開始 價位價值這東西 ,從THD變成了振膜速度跟調音 導向??\\n鐵三角 SONY Z1R賣的比HD800還貴????\\n\\n好吧 我承認振膜速度No.1\\n但好歹THD也是第二\\n\\n\\n一把耳機價值 主要就看振膜速度 THD 跟音場\\n\\n我原本以為平板的THD會更低 ,\\n結果我看到Abyss 那個THD>1%~0.2%\\n這到底是??? Whf\\n\\n你的耳機失真度有這麼重喔??@@\\n\\n皮罩 跟染色 還有低阻抗\\n都會增加失真度\\n如果官方這個THD屬實 , 那你耳機染色也染過頭了....\\n\\n( 失真度跟透明度沒有太大關係...不用聯想!)\\n\\nTHD這東西很重要 很重要\\n一把耳機感染力 臨場感 夠不夠強 就是看THD\\n\\n失真度低的聲音 ,\\n\\n他會讓你感覺在聽真實樂器\\n跟真人\\n對你傾訴心情!\\n\\n如果感覺不出來 去拿條99元的耳機 聽聽看聲波機械感差別就知道嚴重性\\n\\n\\nHD800的THD >0.02%我都還覺得有點機械感\\n更別說高於0.02的聲音\\n\\n以前0.1的飛利浦A5pro機械感就很明顯了 完全沒HD800s所帶來的強大感染力\\n\\n低THD聲音劇毒無比...\\n\\nHD800的超低失真感染力 +配上音場那種震撼力臨場感 , 無與倫比!!...\\n\\n\\n如果你的Abyss失真這麼嚴重 那他肯定不會是我想要的耳機 @@,\\n他的音色也絕沒HD800好\\n\\n為什麼 ?\\n我待會下面 染色那部份我會在詳細解釋!\\n\\n=================================\\n=========\\n\\n再來是重量跟耳罩!!\\n\\n你的耳機重達660g ,\\n\\n現在的耳機 喇叭系統\\n已經不是簡單鑑賞音樂 單純的用途了\\n\\n一但接電腦\\n(現在一堆實況主 直接拿 HD800s在當電競耳機用~)\\n\\n一但接上電腦\\n\\n一天遊戲打下來就是10小時起跳\\n\\n這種耳機的重量只能拿來聽一兩小時的音樂\\n不可能給普羅大眾玩遊戲看影片使用~\\n\\n再來\\n耳罩部分:\\n\\n你的耳罩是小羊皮 (耐用度比人工皮革多兩三倍而已)\\n\\n很不幸的 我對皮革相當反感!!! ~\\n因為我以前耳機全部都皮革!\\n\\n皮革夏天容易發熱 , 容易更早破損\\n低音部分容易被皮革打散 ,\\n音量一大\\n聲音會略為混濁 ,(因為你沒共振吸收技術...)\\n\\n而且!!\\n一但皮革有明顯小小的破損 聲音就會開始走音 , 而且非常難聽!!\\n聲音密度會整個潰散掉\\n這是我決不再碰皮革的原因! 一點點破損就要馬上換新 非常麻煩 也非常花錢\\n\\n而且皮革屬於半開放式聲音 ,雖然你皮革上有打小孔\\n但他對聲音的密閉度還是相當高 會帶來失真!\\n\\n而且你耳機後方是泡棉\\n名義上是開放耳機 實際上算半開放式!\\n\\n反之\\nHD800/s是開放式 輕穎 非皮革 光這點就讓我開心無比\\n基本上有被低價耳機一路折磨過來 ,\\n在改用過HD800/s 後\\n只有讚不絕口而已....\\n\\n\\n(HD800/s只要有心去改變音色 ,其實他輸給靜電平板的 也就只僅有透明度這部分而已...)\\n\\n\\n==========================================\\n\\nSO\\n\\n其實你的那把耳機缺點不算少!\\n\\n只是\\n因為它有靜電的質感 其它缺點就整個無視了...\\n\\n我不知道耳機何時只變成振膜速度一個在打天下\\n\\n但現在玩家確實只重視振膜速度\\n如果我記得沒錯 振膜速度指的就是瞬態 ... 這個我還沒記清楚\\n\\n振膜速度確實可以帶來結像 音場 密度 訊息量 透明度的增加\\n但耳機各項素質中 很多只要達到合格 其實就ok了\\n\\n比方說最好的音場大小 是大概一個露天演奏聽的大小 , 最適合了~\\n你如果把音場搞到像宇宙 或跟機場那麼大\\n那根本不能聽!\\n\\n(HD800早期還沒推好 就像宇宙那種飄渺的聽感)\\n\\n低音也是\\n過重過輕都不行.....\\n\\n沒有素質全面屌打HD800這樣玩的拉~\\n\\n所以很多素質來說\\nHD800s改線改擴 其實都已經達標了...\\n\\n唯一不足的地方 也就那透明度 跟結像而已...\\n\\n\\n這把耳機 有什麼難聽的地方 我還真的沒啥感覺@@\\n\\n============\\n\\n你說你Abyss全面完勝HD800 ,\\n但\\n(在HD800s大幅改造下 ,Abyss要全面勝出 我覺得不可能...)\\n\\n=======================================\\n==============\\n\\n(我雖然不懂硬體素材 畢竟那要砸大錢砸青春時間下去玩的 ,\\n但調音 跟構造原理的理解 !我還算可以!)\\n\\n10.\\n染色音色部分 @o@\\n\\n> 我至今為止試聽過的所有染色的耳機 沒有一把\\n> 沒有任何一把!\\n> 沒有任何一把!音色(比我早期在音效卡調整的那個聲音) 還好聽\\n\\n\\n在說明之前 我們先來聽首歌!\\n@@\\n\\n\\n我花了點時間 去把這條歌找出來\\n這首歌 是數十年前一部超紅電影 羅賓漢俠盜王子的主題曲 , 非常滄桑\\n\\n\\n這首歌配這部電影 很可以! 很有超級大片的質感\\n\\n\\n\\n這首歌 如果用你的20萬喇叭 來放\\n可能會降低感染力跟毒性!\\n\\n而\\n這首歌\\n用我之前給你看的銀彩喇叭來放 可能增加毒性\\n(但感染力還是會下降)\\n\\n如果你能聽得出來這首歌的音色走向 ,\\n那理論上你不會覺得你喇叭 甚至耳機音色能 通吃雜食~ 到完美程度!\\n\\n也所以\\n音色沒有所謂完美的!!\\n\\n而\\n我的HD800s來放這首歌\\n毒性沒有銀彩喇叭強 ,\\n但失真低! 人聲感染力極強!!\\n\\n剛好介於你的喇叭 跟銀彩喇叭之間 , 較雜食些~... 能安全的適應\\n\\n-----------------\\n\\n為什麼我說我的調音 是最好的\\n而且白金7 HD800s 甚至Z1R 還有一大灘低階耳機 都是類似這種調法???\\n\\n\\n因為我當初在調音 花很長時間 以年來算的\\n\\n調EQ都是一格一格調 非常累人 , 邊測試邊調\\n有十根頻柱 ,每條柱有+-20db 共四十格要調 , (也就是400格)\\n\\n而且每根柱子會互相影響!!! 400x400\\n\\n基本上沒有調音經驗的人根本上調不出什麼好聲音!\\n\\n調音是一格一格慢慢調 慢慢試聽..\\n邊聽音樂邊調\\n而且一格 通常要兩三首一起測試\\n\\n聲音比之前好聽就在往上調 ,\\n難聽就到退停止\\n\\n\\n聲音只會往上調 不會往下調\\n\\n只會調的比之前好聽! 不會比之前的難聽\\n\\n調到一個階段 就來個綜合歌曲大測試\\n\\n(我調過的EQ好像有幾百個\\n他的設定值我都有保留 ...但已經不會再買音效卡了 @@)\\n\\n所以很多耳機的音色 我都試圖模擬過...並把他組進融合入原本的最佳調音裡\\n\\n簡單來講 我就是要一個全面性的調音\\n有音場 有透明 有毒性 三頻強 失真低 人聲有感情的調音\\n\\n\\n(所以我調出來的聲音\\n其實比目前這白金7更毒一些些 更濃一些些)(但透明度 跟失真度略高白金7一些些)\\n\\n而白金7比HD800s更暖 更近 更厚一些些\\n\\nZ1R則是 厚實乾燥不少\\n\\n但\\n整體上這些差異都不大!\\n\\n總之\\n高階廠商的調音 都落在那範圍沒錯!\\n\\n所以我很確定 我的調音是雜食 均衡 並理想的那種~\\n\\n能聽你那種輕快的喇叭 也能同時聽銀彩那種滄桑的喇叭\\n\\n\\n相當強悍的調音\\n\\n這種音色\\n在偏向哪邊都不行 !\\n一定會走音 失真 降低感染力 而且沒辦法雜食\\n\\n還會多出許多缺點\\n甚至降低透明度跟音場!\\n\\n你要慶幸的是 你是靜電級的平板 ,\\n不然你那種調音 在拉低透明度之後 不會高我的多少差距~.....\\n\\n所以我很明白跟你講 , 你的音色不管多毒 我都一定無法接受\\n是這原因 @@\\n\\n\\n你可能早已忘記THD無失真的感染力有多強大\\n嚴格來說THD才是最毒的音色....尤其面對古典樂器!\\n\\n古典樂器是不能染色的 , 因為所有都用最高等級的樂器發音\\n音色完美無比\\n不管怎麼染色 聲音都只會比原本音色更難聽!!!\\n\\n你的abyss只是讓樂器聲線很細緻飄逸而已 ,\\n\\n而還有另一種毒性\\n它則是無失真的樂器毒性 非常精準漂亮\\n\\n這兩個混和起來的聲音就是大奧HE-1\\n\\n\\n{(所以我知道大奧有多可怕!!!! @@)}\\n那才是真鑑賞級的聲準~~（注 他根本沒聽過大奧）\\n\\n\\n\\n11.\\n電圈耳機 沒啥技術可玩了\\n下一代電圈 只會在振膜重量上做文章\\n\\n\\n下一隻聲海 不是用鈹振膜 就是差不多輕穎的材質下去做\\n鈹振膜的重量聽說像羽毛\\n他能發揮出接近平板靜電的感覺 , 如果這個給聲海做\\n那它透明度結像 不會輸abyss太多!\\n\\n平板靜電的CP直 只會越來越低!\\n\\n同理\\n就跟低階耳機市場 拉低高階旗艦一樣 CP值越來越低\\n\\n========================================================\\n我覺得鈹振膜材質有到一定透明度就可以了 沒必要去拚贏靜電 ,\\n聲音不會差異多少\\n\\n耳機用來享受的 不是用來研究的\\n去鑽那+-2% 的差距實在沒什麼意義...\\n\\n=====================================\\n\\n我沒錢 不會去碰高階喇叭\\n太麻煩\\n我現在就在等聲海的下一代\\n基本上它就是一個能退坑的耳機!! @o@\\n\\n\\n====================\\n沒事了 結束了...\\n當作聊天... @o@\\n\\n你不用去相信 也不用去理解, 聽我講完就好\\n\\n一般耳機玩家 會去玩硬體\\n但很少遇過會理解去聲音運作原理的\\n\\n這樣永遠不知道聲音極限在哪裡 也找不到自己滿意器材\\n然後永遠在坑洞裡打轉\\n\\n我從一開始碰高階耳機 就是以退坑目的下去做研究的...\\n\\n\\n===============================\\n最好的聲音\\n最好的聲音\\n就是無時無刻都能聽見的那個 真實世界聲音...而已\\n比大奧還強\\n\\n有這個就能比對器材素質在哪邊 , 所以HD800s我知道他哪裡還有不足 ,距離有多遠...\\n\\n===============================\\n\\n我不是再推你買HD800別誤會\\n我只是因為你說了一句話 : abyss 全面贏過HD800\\n\\n我看完 傻眼\\n\\n所以才寫了這麼長的一篇文章@@ 講解些原理給你聽....\\n\\n你只要能懂我對音色的要求 ,你自然不會覺得你的耳機 有全面贏過HD800/s\\n\\n大概就是這樣 @o@\\n\\n\\n\\n文章很長 ，但是我真的看不懂 也不知道他說的算對還是錯 有沒有人能幫我替這一篇文章講解一下\\n\\n1.他說的都是正確的？.THD越低 代表聲音趨近真實世界？\\n\\n2.耳罩皮革形狀 會截斷耳機結像..？\\n\\n\\n3.將來HD800震膜材質升級 真的都那麼厲害？'"
      ]
     },
     "execution_count": 17,
     "metadata": {
      "tags": []
     },
     "output_type": "execute_result"
    }
   ],
   "source": [
    "soup.select_one('div[itemprop=\"articleBody\"]').text.strip()"
   ]
  },
  {
   "cell_type": "markdown",
   "metadata": {
    "colab_type": "text",
    "id": "X0HHyRU-2vfL"
   },
   "source": [
    "### 抓取評論"
   ]
  },
  {
   "cell_type": "code",
   "execution_count": 23,
   "metadata": {
    "colab": {},
    "colab_type": "code",
    "id": "BifMYZIBp6Ir"
   },
   "outputs": [],
   "source": [
    "for comment in soup.select('.l-articlePage'):\n",
    "  author = comment.select_one('.c-authorInfo__id a').text.strip()\n",
    "  dt = comment.select_one('.o-fNotes.o-fSubMini').text\n",
    "  article = comment.select_one('article').text.strip()\n",
    "  #print(author, dt, article)"
   ]
  },
  {
   "cell_type": "markdown",
   "metadata": {
    "colab_type": "text",
    "id": "wpIYo8Mo4K_a"
   },
   "source": []
  },
  {
   "cell_type": "markdown",
   "metadata": {
    "colab_type": "text",
    "id": "vdd6xmVM20M6"
   },
   "source": [
    "### 取得最後一頁"
   ]
  },
  {
   "cell_type": "code",
   "execution_count": 24,
   "metadata": {
    "colab": {},
    "colab_type": "code",
    "id": "toi25rO6tufR"
   },
   "outputs": [],
   "source": [
    "title = soup.select_one('h1.t2').text\n",
    "last_page = int(soup.select('.l-navigation .l-pagination__page a')[-1].text)"
   ]
  },
  {
   "cell_type": "markdown",
   "metadata": {
    "colab_type": "text",
    "id": "b_4Aq2k123xR"
   },
   "source": [
    "### 換頁抓取評論"
   ]
  },
  {
   "cell_type": "code",
   "execution_count": 25,
   "metadata": {
    "colab": {},
    "colab_type": "code",
    "id": "MA95YqrA2_9Q"
   },
   "outputs": [],
   "source": [
    "def getPageComments(pageurl, title ,page):\n",
    "  comments_ary = []\n",
    "  \n",
    "  # 抓取該頁資訊\n",
    "  detailurl = pageurl + f'&p={page}'\n",
    "  res = requests.get(detailurl, headers = headers)\n",
    "  soup = BeautifulSoup(res.text, 'lxml')\n",
    "\n",
    "  #取得該頁所有評論\n",
    "  for comment in soup.select('.l-articlePage'):\n",
    "    dic = {}\n",
    "    # 如果該篇文章存在\n",
    "    if comment.select_one('.c-authorInfo__id a'):\n",
    "      dic['title']   = title\n",
    "      dic['author']  = comment.select_one('.c-authorInfo__id a').text.strip()\n",
    "      dic['dt']      = comment.select_one('.o-fNotes.o-fSubMini').text\n",
    "      dic['comment'] = comment.select_one('article').text.strip()\n",
    "      # 新增評論\n",
    "      comments_ary.append(dic)\n",
    "  # 回傳評論\n",
    "  return comments_ary"
   ]
  },
  {
   "cell_type": "code",
   "execution_count": 26,
   "metadata": {
    "colab": {},
    "colab_type": "code",
    "id": "ZerINbVaxGgZ"
   },
   "outputs": [],
   "source": [
    "import time\n",
    "pageurl = 'https://www.mobile01.com/topicdetail.php?f=180&t=5855698'\n",
    "comments_all = []\n",
    "for i in range(1, last_page + 1):\n",
    "  comments_all = comments_all + getPageComments(pageurl, title, i)\n",
    "  time.sleep(1)"
   ]
  },
  {
   "cell_type": "code",
   "execution_count": 27,
   "metadata": {
    "colab": {
     "base_uri": "https://localhost:8080/",
     "height": 105
    },
    "colab_type": "code",
    "id": "Vm0B0wWUBfDJ",
    "outputId": "be8e5c85-3da6-489f-c125-938cd5e3a535"
   },
   "outputs": [
    {
     "data": {
      "text/plain": [
       "{'author': '一神武一',\n",
       " 'comment': '事情的起因其實很簡單 某燒友表示他的HD800S搭配索六萬是目前最棒的耳機 電圈沒對手 上打平板靜電....\\n\\n我跟他說我不喜歡HD800跟800s的聽感 相較之下 我喜歡ABYSS 1266 我認為各方面素質都比HD800好聽.... 他就寄信給我了 但是我到今天看了六次 還是不懂他在說啥咪 有沒有人看的懂 跟我說重點是啥咪？\\n\\n（注 他目前根本還沒有聽過1266 下文中許多聽感敘述都是看規格跟設計推論出來的聽感）\\n\\n內文\\n\\n1.\\n我雖然不懂硬體素材 , 畢竟那要砸錢砸時間下去玩的 ,\\n但調音 跟構造原理的理解 我! 還算可以!!\\n\\n在聊主題之前 我先說明一下\\n\\n@o@\\n大奧 HE-1 , Hifiman SUSVARA , ABYSS 1266 , stax sr-009s\\n\\n這幾把被捧上天的神旗艦 ,\\n一值都是我想要去試聽過的耳機...\\n\\n所以\\n我對這幾把耳機並沒有所謂排斥!, 這點要搞清楚!! @o@!\\n\\n(尤其聲海大奧HE1這把, 這把 我會特地出門為了它專程跑一趟試聽 , 其他隻則還好)\\n\\n\\n有趣的是 ,HE1 這把\\n失真度THD>0.002%\\n簡單來講 它就是還原真實世界聲音 跟透明度而已 ,其實也沒必要去聽\\n\\n你每天無時無刻聽到的聲音就是最頂尖的聲音了\\n大奧跟真實世界聲音差異不大...\\n\\n\\n----------------\\n我來解說一下我對透明度的理解...\\n\\n如果說真實世界透明度是10分滿分 ,\\n那HE1 大概落在9~9.5 ,\\nABYSS大約會在7~8分可能我猜\\n(為什麼?因為我下面有翻看到一篇文章 得出的結論~ )\\n\\n而我的HD800s 可能只有0.5分的透明度 ,非常的差!\\n\\n{但我當初剛run HD800s的前兩天 HD800s透明度有到3分 ,\\n如果前端有搞定 可能還能在加1分左右}\\n\\n\\n2.\\n我要講解ABYSS的音場問題\\n\\n我並不是!\\n並不是因為我了解ABYSS音場能力\\n它的音場 定位 結像 分離度 能力有多好 , 我不可能知道!! @o@\\n我不可能知道!! @o@\\n\\n\\n但我能從腔體設計 知道它音場哪邊有被(限制!)到...\\n我要講的僅僅只是(這個)而已~\\n\\n一個東西不可能做出 它架構本身做不到的事情\\n就好像 耳道耳機 永遠都沒有 耳罩的立體感 ,\\n耳罩也永遠不會有二聲道自然感跟推力\\n\\n你不可能一個皮罩平板打出全圓形音場 , 那很扯爛...@@\\n\\n\\n3.\\n我不知道你是何時 碰觸HD800 的\\n\\n但這把耳機 出生路途坎坷...\\n\\n它是世界上賣最多的旗艦耳機 ,也是最慘的耳機\\n\\n這把耳機 剛做出來的時候 搶奪了一堆重點專利!\\n以至於後面其他耳機 無法抄襲與模仿\\n\\n所以(電圈)耳機 ,是沒有人有辦法超越它的 , 這點我很清楚! @_@!!\\n\\n\\n不過因為它一開始出生 跳Tone跳太大了\\n以至於2000年代左右的擴\\n沒有一個能適應它 搞定它\\n\\n所以沒有任何擴大機能推好它\\n\\n直到2013年 日本出的luxman p750u 才上電視廣告標榜能推的好這個新時代的怪物\\n\\n也就是說 從2009年到2013年的前輩 們\\n幾乎前仆後繼 為搞定HD800 受盡寧虐折磨 , 去配置組裝HD800的套餐\\n\\n不論 歐美 還大陸 ,反正玩家很瘋狂 非常瘋狂\\n那些古早玩家文章我有看一些\\n整個好像很刺激@@\\n\\n但我不想去碰觸!\\n\\nHD800早年真的會搞死人\\n\\n在沒有擴能配得上它的時候 它聲音又如此敏感\\n能力素質可能還帶有些許透明度...\\n\\n你就知道要把這東西搞到能聽 會有多困難多慘烈\\n\\nHD800\\n早期是6.3mm的線 不是平衡!! ,\\n在配上低價前端 ,上平衡很重要 ,這你應該清楚 @o@\\n\\nHD800的專業線材\\n好像也是2012 還是2013才慢慢出現的...\\n\\n所以擴跟線材還有平衡 的普及化 , 最少也差不多是2015年後的事了\\n\\n也所以\\n我才說 你如果是2015年去摸HD800的話\\n那恭喜你 你可以再去聽一次HD800/s系列\\n\\n4.\\nHD800是很有名的參考級耳機\\n以至於後面很多的擴 都是以HD800這下去調整的 , (所以TA-ZH1ES能推它 不意外)\\n\\n它的一些專業線材還挺粗的\\n很多都是在堆人生厚度 聲音密度 低音量上做補齊 (還染色)\\n也所以\\n\\n它不會有你早期聽到HD800的一大灘缺點!!\\n\\n=======================\\n\\nHD800的腔體是圓形大凹陷的 , 振膜詭異 可以呈放射狀投射 ,\\n而且振膜中空 能加大振膜尺寸56mm\\n它膜片形狀很漂亮 失真度最低THD>0.02% ,\\n\\nhttp://media.tumblr.com/tumblr_l9ur5k3g4O1qc9vgx.jpg\\n\\n\\n電圈的構造太簡單\\n如果這幾個重點技術被聲海霸佔 , 基本上電圈世界也沒啥可玩的了....\\n不是其他廠做不出投射音場 ,而是 !根本沒得做!.....\\n\\nT1 2nd有特斯拉技術增加加倍電流\\nSONY Z1R有封閉式開放感 跟120Hz震動\\nFocal Utopia有鈹振膜\\n\\n除了那個鈹振膜 其他基本上沒三小路用 @@\\n\\n5.\\n2016年\\nHD800進化成了HD800s\\n\\n它改良了許多Bug 然後增加一個算強的技術 ,然後線材改成平衡線!\\n\\nHD800s主要改進成 :\\n好推!!,\\n人生增厚些 ,\\n低音增強些 ,\\n聲音暖些些\\n\\n但大體上差異不大~\\n\\n最重要的是\\n它改掉了6K峰值過度尖銳的聲感\\nHD800最嚴重的缺點就是 聲音非常尖銳!\\n\\n光是這個改進 就值得再聽一次HD800s了\\n-----------------------------------\\n\\nHD800s加入了一個算強的技術!\\n\\n\\n【HD 800 S 共振吸收器技術】\\n\\n通過創新吸收器技術改善 HD 800 S的聲音重現，該技術首次用於森海塞爾 IE 800 。這項突破性技術通過消除所謂的掩蔽效應來確保人耳能夠聽到高頻率聲音。對較弱聲音的掩蔽效是指，如果在低頻率範圍內同時出現更響亮的聲音，則人耳將無法感知某些特定頻率範圍內的聲音。然而，利用森海塞爾獲得專利的吸收器技術可吸收共振能量，因此頻率特性不會增加並且所有頻率範圍(即使是最細微的差別) 都可以通過音樂器材聽到。\\n\\n創新型及收器技術的使用使得 IE 800 已成為世界上音質最好的耳道式耳機，同時也為 HD 800 S提供了更高的聲音純度和精度。HD 800 S的升級基於經典HD 800 (56mm 單體)的傲人成績一一應用於動圈耳機迄今為止最大的單體。獨特的耳罩設計使得聲波以小角度進入人耳，進而實現自然、立體的聽覺體驗。\\n\\n===============================\\n\\n\\n這個共振吸收技術\\n在我聽起來 就是\\n\\n我音量開很大聲的時候 還能聽到更多些高音細節\\n\\n對我來說 相當有用!!\\n\\n至少聲音不會完全糊掉....@@\\n\\n===================================================\\n\\n基本上電圈的所有重點技術都落在 聲海手裡\\n\\n我想選擇都沒得選!!\\n\\n===============================================\\n\\nSO\\n從你以前開始聽到HD800\\n到現在 HD800s\\n總共增加了什麼功能?:\\n\\n(能推的擴)+(素質強化+調音耳機線)+(平衡)+(6K峰直削弱+一點暖聲)+(共振吸收技術)\\n+還有SONY (TA-ZH1ES本身的一些黑科技)\\n\\n\\n整個組合聽起來\\n就是一個標準能聽流行音樂的耳機 但失真不高!\\n\\n所以\\n我跟你當初聽到的聲音 很可能有明顯差別@o@!\\n\\n\\n------------------------------\\n一把弄好的HD800s 除了透明度太差, 我不覺得聲音會輸Abyss哪去...\\n\\n\\n6.\\n再來聊聊你耳機音場! @o@\\n\\n我先說\\n我對音場的重視 是非常非常的重視!\\n\\n我說過 聲音分成音色 跟 素質 ,\\n而素質又簡單能分成音場(定位 分離度 結像) 跟 三頻\\n\\n也就是三頻從音場裡 >跑出來的意思啦~\\n\\n聲音來源大體可以這樣簡單形容\\n\\n也就是說\\n音場整整占了素質50%的重要性!!!\\n\\n\\n音場對我有多種要???\\n\\n別說看電影 ,玩FPS遊戲....\\n\\n看\\n人類史上IMDB 拿下滿分的進擊巨人動畫 , 擠下所有美劇\\nhttps://www.google.com/search?q=imdb+%E9%80%B2%E6%93%8A%E5%B7%A8%E4%BA%BA&oq=IMDB&aqs=chrome.1.69i57j35i39j0l4.5851j0j7&sourceid=chrome&ie=UTF-8\\n\\n\\n進擊巨人 是一個相當相當吃音場的動畫巨作~!\\n\\n巨大廣闊浩瀚衝擊回音\\n\\nhttp://www.shadowzo.com/wp-content/uploads/2016/12/%E9%80%B2%E6%93%8A%E7%9A%84%E5%B7%A8%E4%BA%BA%E7%AC%AC%E4%BA%8C%E5%AD%A3-1024x657.jpg\\n\\n\\n我只能跟你講除了HD800, 沒有其他耳機 跟喇叭 能詮釋好進擊巨人的音場\\n(連它家的HE1都不見得能完美詮釋!)\\n\\n\\n===================================\\n\\n再來我們繼續講\\nZ1R 這耳機 @o@!\\n\\nhttp://hifireview.com.hk/wp-content/uploads/2017/08/sony-signature-series-TA-ZH1ES-MDR-Z1R-12.jpg\\n\\n它這耳罩我很不喜歡\\n當初一看就知道它音場是柱狀穿透\\n\\n果不其然\\n我到現場聽它與DMP-Z1組合的時候\\n\\n它音場聽起來就這樣子 (左右大概一個房間的寬度 前方能容納一兩個人距離的結像 ,然後\\n然後就被截斷了...)\\n\\n\\n\\n你聽起來 音場會有一種臉部被削平削掉的感覺\\n超級的不舒服!!!!\\n\\n你拿它去看進擊巨人 或玩FPS , 你自然會懂為什麼\\n臨場感奇差無比...\\n\\n\\n因為這個原因 這把耳機賣1000元賣我, 我可能都不要\\n(因為我已經有HD800s了 ,沒時間再去享受其他音色相似缺點很大的耳機)\\n\\n\\n7.\\n再來我們來看看Abyss!\\n\\n\\n\\n\\n\\n\\n我說過耳道因為結構 永遠不可能取代耳罩 , 因為\\n沒有的東西就是沒有!\\n\\nabyss 1266 我就算不知道它能力\\n\\n但你的振膜呈垂直射出 ,旁邊直接就是皮罩~\\n\\n但音孔範圍比耳朵大些\\n\\n所以最遠能在前方大約兩公尺的地方形成結像 , 成柱狀穿透\\n但整體很大 聽歌沒什麼問題\\n(但前後左右上下都有部分會被裁掉)\\n\\n\\n\\n\\nHD800是全半徑四公尺\\n前後左右成全圓形 , 可以聽見前方巨人呼嘯而過 , 頭頂高空也能聽見鳥飛過\\n\\n\\n那個震攝力 與完美感不是你能想像的...\\n\\n你的耳機聽歌還可以 ,\\n一看電影遊戲 就有一種美中不足感...雖然不會到Z1R那麼淒慘\\n\\n但音場的重要性只有喜歡它的人才會懂為什麼 @@!\\n\\n-----------------------------------\\n(而喇叭呢? 喇叭音場一直都是麻煩事)\\n\\n一般低價喇叭絕大部分 只從前方45度角來 ,\\n好一點有房間的可以弄到180度甚至更多一些些的 包覆感\\n{我當初買書架喇叭的時候有要求試聽過視聽室裡的百萬的喇叭}\\n\\n弄到360度的那種超頂級二聲道\\n我沒聽過!!\\n\\n4DX電影院也只能做到180度再多一些而已 , 後方結像非常的差\\n\\n(我常常在看電影院影片, 復仇者聯盟3.4 我都4DX三刷的 , 宇宙轟隆隆的很爽~ @o@)\\n\\n\\n所以\\n喇叭缺點也是一堆 ...哀,\\n\\n\\n你沒長時間見識過HD800的音場 跟失真度 ,你不懂它好在哪裡\\n\\n那是一個完美的古典演奏現場 !\\n\\n9.\\n接下來繼續說說Abyss其他問題點吧!\\n\\n我上去查閱了幾篇Abyss的資料\\n\\n發現一些有趣的地方\\n\\n這是你的規格!\\nFrequency Respones: 5 Hz to 28 kHz\\nImpedance: 46 ohms nominal (non-reactive)\\nSensitivity: 85 dB\\nDistortion: Less than 1%; Less than 0.2% through ears most sensitive range\\nWeight: 660 grams (without cable)\\n\\n\\n\\n一般來說 音量越大 這個頻率會縮減的!!\\nFrequency Respones: 5 Hz to 28 kHz\\n\\nHD800s在-3db下 直接從4Hz 縮到10Hz , 51000Hz縮到44000Hz\\n(我是聽-0db的)\\n\\n你那把abyss給我聽 有可能會縮減 ,\\n就算不必縮減\\n28KHZ 跟Z1R的120KHz 會少一種皮膚的微微震動感 ,這也是小小毒性的一種!\\n\\n很可惜\\n但至少HD800s還保留一些這種要素 @@ 你的可能沒有~\\n\\n---------------\\n\\nImpedance: 46 ohms nominal (non-reactive)\\n你的阻抗太低 , 會導致音色失真!!!\\n\\n\\nSensitivity: 85 dB\\n也是難推一族~\\n\\n\\n\\nDistortion: Less than 1%; Less than 0.2% through ears most sensitive range\\n重頭戲來了!!!!\\n\\n\\n當我從一篇文章看到的時候\\n恍然大悟!\\n\\n\\n\\n\\n\\n弄了半天!\\nAbyss就是拿到用比其他平板更輕穎 的膜片材質\\n做出了靜電質感的平板而已\\n\\n簡單來講\\nabyss他就是一個擬靜電耳機\\n這樣講我就懂了...@@\\n\\n它就是一個靜電耳機!\\n\\n\\n我一直覺得!\\n平板靜電的THD失真度 要比電圈來的低 才正常!\\n\\nTHD一直以來都是價格價值的分水嶺與重點\\n\\n低階耳機THD 太差 ,所以沒辦法賣到好價錢\\n\\nT1 2nd 的THD 只到0.05% , 就要四萬\\n\\n\\n不過~\\n不過!\\n幾經何時開始 價位價值這東西 ,從THD變成了振膜速度跟調音 導向??\\n鐵三角 SONY Z1R賣的比HD800還貴????\\n\\n好吧 我承認振膜速度No.1\\n但好歹THD也是第二\\n\\n\\n一把耳機價值 主要就看振膜速度 THD 跟音場\\n\\n我原本以為平板的THD會更低 ,\\n結果我看到Abyss 那個THD>1%~0.2%\\n這到底是??? Whf\\n\\n你的耳機失真度有這麼重喔??@@\\n\\n皮罩 跟染色 還有低阻抗\\n都會增加失真度\\n如果官方這個THD屬實 , 那你耳機染色也染過頭了....\\n\\n( 失真度跟透明度沒有太大關係...不用聯想!)\\n\\nTHD這東西很重要 很重要\\n一把耳機感染力 臨場感 夠不夠強 就是看THD\\n\\n失真度低的聲音 ,\\n\\n他會讓你感覺在聽真實樂器\\n跟真人\\n對你傾訴心情!\\n\\n如果感覺不出來 去拿條99元的耳機 聽聽看聲波機械感差別就知道嚴重性\\n\\n\\nHD800的THD >0.02%我都還覺得有點機械感\\n更別說高於0.02的聲音\\n\\n以前0.1的飛利浦A5pro機械感就很明顯了 完全沒HD800s所帶來的強大感染力\\n\\n低THD聲音劇毒無比...\\n\\nHD800的超低失真感染力 +配上音場那種震撼力臨場感 , 無與倫比!!...\\n\\n\\n如果你的Abyss失真這麼嚴重 那他肯定不會是我想要的耳機 @@,\\n他的音色也絕沒HD800好\\n\\n為什麼 ?\\n我待會下面 染色那部份我會在詳細解釋!\\n\\n=================================\\n=========\\n\\n再來是重量跟耳罩!!\\n\\n你的耳機重達660g ,\\n\\n現在的耳機 喇叭系統\\n已經不是簡單鑑賞音樂 單純的用途了\\n\\n一但接電腦\\n(現在一堆實況主 直接拿 HD800s在當電競耳機用~)\\n\\n一但接上電腦\\n\\n一天遊戲打下來就是10小時起跳\\n\\n這種耳機的重量只能拿來聽一兩小時的音樂\\n不可能給普羅大眾玩遊戲看影片使用~\\n\\n再來\\n耳罩部分:\\n\\n你的耳罩是小羊皮 (耐用度比人工皮革多兩三倍而已)\\n\\n很不幸的 我對皮革相當反感!!! ~\\n因為我以前耳機全部都皮革!\\n\\n皮革夏天容易發熱 , 容易更早破損\\n低音部分容易被皮革打散 ,\\n音量一大\\n聲音會略為混濁 ,(因為你沒共振吸收技術...)\\n\\n而且!!\\n一但皮革有明顯小小的破損 聲音就會開始走音 , 而且非常難聽!!\\n聲音密度會整個潰散掉\\n這是我決不再碰皮革的原因! 一點點破損就要馬上換新 非常麻煩 也非常花錢\\n\\n而且皮革屬於半開放式聲音 ,雖然你皮革上有打小孔\\n但他對聲音的密閉度還是相當高 會帶來失真!\\n\\n而且你耳機後方是泡棉\\n名義上是開放耳機 實際上算半開放式!\\n\\n反之\\nHD800/s是開放式 輕穎 非皮革 光這點就讓我開心無比\\n基本上有被低價耳機一路折磨過來 ,\\n在改用過HD800/s 後\\n只有讚不絕口而已....\\n\\n\\n(HD800/s只要有心去改變音色 ,其實他輸給靜電平板的 也就只僅有透明度這部分而已...)\\n\\n\\n==========================================\\n\\nSO\\n\\n其實你的那把耳機缺點不算少!\\n\\n只是\\n因為它有靜電的質感 其它缺點就整個無視了...\\n\\n我不知道耳機何時只變成振膜速度一個在打天下\\n\\n但現在玩家確實只重視振膜速度\\n如果我記得沒錯 振膜速度指的就是瞬態 ... 這個我還沒記清楚\\n\\n振膜速度確實可以帶來結像 音場 密度 訊息量 透明度的增加\\n但耳機各項素質中 很多只要達到合格 其實就ok了\\n\\n比方說最好的音場大小 是大概一個露天演奏聽的大小 , 最適合了~\\n你如果把音場搞到像宇宙 或跟機場那麼大\\n那根本不能聽!\\n\\n(HD800早期還沒推好 就像宇宙那種飄渺的聽感)\\n\\n低音也是\\n過重過輕都不行.....\\n\\n沒有素質全面屌打HD800這樣玩的拉~\\n\\n所以很多素質來說\\nHD800s改線改擴 其實都已經達標了...\\n\\n唯一不足的地方 也就那透明度 跟結像而已...\\n\\n\\n這把耳機 有什麼難聽的地方 我還真的沒啥感覺@@\\n\\n============\\n\\n你說你Abyss全面完勝HD800 ,\\n但\\n(在HD800s大幅改造下 ,Abyss要全面勝出 我覺得不可能...)\\n\\n=======================================\\n==============\\n\\n(我雖然不懂硬體素材 畢竟那要砸大錢砸青春時間下去玩的 ,\\n但調音 跟構造原理的理解 !我還算可以!)\\n\\n10.\\n染色音色部分 @o@\\n\\n> 我至今為止試聽過的所有染色的耳機 沒有一把\\n> 沒有任何一把!\\n> 沒有任何一把!音色(比我早期在音效卡調整的那個聲音) 還好聽\\n\\n\\n在說明之前 我們先來聽首歌!\\n@@\\n\\n\\n我花了點時間 去把這條歌找出來\\n這首歌 是數十年前一部超紅電影 羅賓漢俠盜王子的主題曲 , 非常滄桑\\n\\n\\n這首歌配這部電影 很可以! 很有超級大片的質感\\n\\n\\n\\n這首歌 如果用你的20萬喇叭 來放\\n可能會降低感染力跟毒性!\\n\\n而\\n這首歌\\n用我之前給你看的銀彩喇叭來放 可能增加毒性\\n(但感染力還是會下降)\\n\\n如果你能聽得出來這首歌的音色走向 ,\\n那理論上你不會覺得你喇叭 甚至耳機音色能 通吃雜食~ 到完美程度!\\n\\n也所以\\n音色沒有所謂完美的!!\\n\\n而\\n我的HD800s來放這首歌\\n毒性沒有銀彩喇叭強 ,\\n但失真低! 人聲感染力極強!!\\n\\n剛好介於你的喇叭 跟銀彩喇叭之間 , 較雜食些~... 能安全的適應\\n\\n-----------------\\n\\n為什麼我說我的調音 是最好的\\n而且白金7 HD800s 甚至Z1R 還有一大灘低階耳機 都是類似這種調法???\\n\\n\\n因為我當初在調音 花很長時間 以年來算的\\n\\n調EQ都是一格一格調 非常累人 , 邊測試邊調\\n有十根頻柱 ,每條柱有+-20db 共四十格要調 , (也就是400格)\\n\\n而且每根柱子會互相影響!!! 400x400\\n\\n基本上沒有調音經驗的人根本上調不出什麼好聲音!\\n\\n調音是一格一格慢慢調 慢慢試聽..\\n邊聽音樂邊調\\n而且一格 通常要兩三首一起測試\\n\\n聲音比之前好聽就在往上調 ,\\n難聽就到退停止\\n\\n\\n聲音只會往上調 不會往下調\\n\\n只會調的比之前好聽! 不會比之前的難聽\\n\\n調到一個階段 就來個綜合歌曲大測試\\n\\n(我調過的EQ好像有幾百個\\n他的設定值我都有保留 ...但已經不會再買音效卡了 @@)\\n\\n所以很多耳機的音色 我都試圖模擬過...並把他組進融合入原本的最佳調音裡\\n\\n簡單來講 我就是要一個全面性的調音\\n有音場 有透明 有毒性 三頻強 失真低 人聲有感情的調音\\n\\n\\n(所以我調出來的聲音\\n其實比目前這白金7更毒一些些 更濃一些些)(但透明度 跟失真度略高白金7一些些)\\n\\n而白金7比HD800s更暖 更近 更厚一些些\\n\\nZ1R則是 厚實乾燥不少\\n\\n但\\n整體上這些差異都不大!\\n\\n總之\\n高階廠商的調音 都落在那範圍沒錯!\\n\\n所以我很確定 我的調音是雜食 均衡 並理想的那種~\\n\\n能聽你那種輕快的喇叭 也能同時聽銀彩那種滄桑的喇叭\\n\\n\\n相當強悍的調音\\n\\n這種音色\\n在偏向哪邊都不行 !\\n一定會走音 失真 降低感染力 而且沒辦法雜食\\n\\n還會多出許多缺點\\n甚至降低透明度跟音場!\\n\\n你要慶幸的是 你是靜電級的平板 ,\\n不然你那種調音 在拉低透明度之後 不會高我的多少差距~.....\\n\\n所以我很明白跟你講 , 你的音色不管多毒 我都一定無法接受\\n是這原因 @@\\n\\n\\n你可能早已忘記THD無失真的感染力有多強大\\n嚴格來說THD才是最毒的音色....尤其面對古典樂器!\\n\\n古典樂器是不能染色的 , 因為所有都用最高等級的樂器發音\\n音色完美無比\\n不管怎麼染色 聲音都只會比原本音色更難聽!!!\\n\\n你的abyss只是讓樂器聲線很細緻飄逸而已 ,\\n\\n而還有另一種毒性\\n它則是無失真的樂器毒性 非常精準漂亮\\n\\n這兩個混和起來的聲音就是大奧HE-1\\n\\n\\n{(所以我知道大奧有多可怕!!!! @@)}\\n那才是真鑑賞級的聲準~~（注 他根本沒聽過大奧）\\n\\n\\n\\n11.\\n電圈耳機 沒啥技術可玩了\\n下一代電圈 只會在振膜重量上做文章\\n\\n\\n下一隻聲海 不是用鈹振膜 就是差不多輕穎的材質下去做\\n鈹振膜的重量聽說像羽毛\\n他能發揮出接近平板靜電的感覺 , 如果這個給聲海做\\n那它透明度結像 不會輸abyss太多!\\n\\n平板靜電的CP直 只會越來越低!\\n\\n同理\\n就跟低階耳機市場 拉低高階旗艦一樣 CP值越來越低\\n\\n========================================================\\n我覺得鈹振膜材質有到一定透明度就可以了 沒必要去拚贏靜電 ,\\n聲音不會差異多少\\n\\n耳機用來享受的 不是用來研究的\\n去鑽那+-2% 的差距實在沒什麼意義...\\n\\n=====================================\\n\\n我沒錢 不會去碰高階喇叭\\n太麻煩\\n我現在就在等聲海的下一代\\n基本上它就是一個能退坑的耳機!! @o@\\n\\n\\n====================\\n沒事了 結束了...\\n當作聊天... @o@\\n\\n你不用去相信 也不用去理解, 聽我講完就好\\n\\n一般耳機玩家 會去玩硬體\\n但很少遇過會理解去聲音運作原理的\\n\\n這樣永遠不知道聲音極限在哪裡 也找不到自己滿意器材\\n然後永遠在坑洞裡打轉\\n\\n我從一開始碰高階耳機 就是以退坑目的下去做研究的...\\n\\n\\n===============================\\n最好的聲音\\n最好的聲音\\n就是無時無刻都能聽見的那個 真實世界聲音...而已\\n比大奧還強\\n\\n有這個就能比對器材素質在哪邊 , 所以HD800s我知道他哪裡還有不足 ,距離有多遠...\\n\\n===============================\\n\\n我不是再推你買HD800別誤會\\n我只是因為你說了一句話 : abyss 全面贏過HD800\\n\\n我看完 傻眼\\n\\n所以才寫了這麼長的一篇文章@@ 講解些原理給你聽....\\n\\n你只要能懂我對音色的要求 ,你自然不會覺得你的耳機 有全面贏過HD800/s\\n\\n大概就是這樣 @o@\\n\\n\\n\\n文章很長 ，但是我真的看不懂 也不知道他說的算對還是錯 有沒有人能幫我替這一篇文章講解一下\\n\\n1.他說的都是正確的？.THD越低 代表聲音趨近真實世界？\\n\\n2.耳罩皮革形狀 會截斷耳機結像..？\\n\\n\\n3.將來HD800震膜材質升級 真的都那麼厲害？',\n",
       " 'dt': '2019-07-26 16:34',\n",
       " 'title': 'HD800很強我知道  但是有沒有大燒能幫我解釋一下這位燒友到低在跟我說啥咪....我真的不懂'}"
      ]
     },
     "execution_count": 27,
     "metadata": {
      "tags": []
     },
     "output_type": "execute_result"
    }
   ],
   "source": [
    "comments_all[0]"
   ]
  },
  {
   "cell_type": "markdown",
   "metadata": {
    "colab_type": "text",
    "id": "H2D2-FNv3JH_"
   },
   "source": [
    "## 根據頁面連結取得所有評論"
   ]
  },
  {
   "cell_type": "code",
   "execution_count": 28,
   "metadata": {
    "colab": {},
    "colab_type": "code",
    "id": "SBNjJm-gxKEx"
   },
   "outputs": [],
   "source": [
    "def getAllComments(pageurl):\n",
    "  comments_all = []\n",
    "\n",
    "  res = requests.get(pageurl, headers = headers)\n",
    "  soup = BeautifulSoup(res.text, 'lxml')\n",
    "\n",
    "  title = soup.select_one('h1.t2').text\n",
    "  last_page = 0\n",
    "  if soup.select('.l-navigation .l-pagination__page a'):\n",
    "    last_page = int(soup.select('.l-navigation .l-pagination__page a')[-1].text)\n",
    "\n",
    "  for i in range(1, last_page + 1):\n",
    "    comments_all = comments_all + getPageComments(pageurl, title, i)\n",
    "  return comments_all"
   ]
  },
  {
   "cell_type": "code",
   "execution_count": 29,
   "metadata": {
    "colab": {},
    "colab_type": "code",
    "id": "1Pczp7KMx-za"
   },
   "outputs": [],
   "source": [
    "a = getAllComments('https://www.mobile01.com/topicdetail.php?f=180&t=5434765')"
   ]
  },
  {
   "cell_type": "markdown",
   "metadata": {
    "colab_type": "text",
    "id": "YNkpMnZF3RPA"
   },
   "source": [
    "## 完整網路爬蟲"
   ]
  },
  {
   "cell_type": "code",
   "execution_count": 30,
   "metadata": {
    "colab": {},
    "colab_type": "code",
    "id": "kU9MfaK_zNkI"
   },
   "outputs": [],
   "source": [
    "import requests, time\n",
    "from bs4 import BeautifulSoup\n",
    "domain = 'https://www.mobile01.com/'\n",
    "\n",
    "headers = {\n",
    "   'user-agent': 'Mozilla/5.0 (Windows NT 10.0; Win64; x64) AppleWebKit/537.36 (KHTML, like Gecko) Chrome/83.0.4103.116 Safari/537.36' \n",
    "}\n",
    "res = requests.get('https://www.mobile01.com/topiclist.php?f=180', headers = headers)\n",
    "soup = BeautifulSoup(res.text , 'lxml')\n",
    "\n",
    "comments_total = []\n",
    "for tr in soup.select('div.l-listTable__tr')[0:3]:\n",
    "  if tr.select_one('.c-listTableTd__title a'):\n",
    "    link = domain + tr.select_one('.c-listTableTd__title a').get('href')\n",
    "    comments_total = comments_total + getAllComments(link)\n"
   ]
  },
  {
   "cell_type": "markdown",
   "metadata": {
    "colab_type": "text",
    "id": "KOtezkEg3bhW"
   },
   "source": [
    "## 匯出所有評論"
   ]
  },
  {
   "cell_type": "code",
   "execution_count": 31,
   "metadata": {
    "colab": {
     "base_uri": "https://localhost:8080/",
     "height": 289
    },
    "colab_type": "code",
    "id": "xd771KkPE6bZ",
    "outputId": "3bbfa971-5865-46c9-f79b-2fe8d71706f2"
   },
   "outputs": [
    {
     "data": {
      "text/html": [
       "<div>\n",
       "<style scoped>\n",
       "    .dataframe tbody tr th:only-of-type {\n",
       "        vertical-align: middle;\n",
       "    }\n",
       "\n",
       "    .dataframe tbody tr th {\n",
       "        vertical-align: top;\n",
       "    }\n",
       "\n",
       "    .dataframe thead th {\n",
       "        text-align: right;\n",
       "    }\n",
       "</style>\n",
       "<table border=\"1\" class=\"dataframe\">\n",
       "  <thead>\n",
       "    <tr style=\"text-align: right;\">\n",
       "      <th></th>\n",
       "      <th>title</th>\n",
       "      <th>author</th>\n",
       "      <th>dt</th>\n",
       "      <th>comment</th>\n",
       "    </tr>\n",
       "  </thead>\n",
       "  <tbody>\n",
       "    <tr>\n",
       "      <th>0</th>\n",
       "      <td>【試用】英國知名技術高音質《TONE Free 真無線藍牙耳機 FL7》快速充電同時自動殺菌！</td>\n",
       "      <td>Mobile01活動小組</td>\n",
       "      <td>2020-06-03 15:48</td>\n",
       "      <td>試用名單如下\\n爆竹花\\nlankunjen\\nwindwithme\\nkingdally\\...</td>\n",
       "    </tr>\n",
       "    <tr>\n",
       "      <th>1</th>\n",
       "      <td>【試用】英國知名技術高音質《TONE Free 真無線藍牙耳機 FL7》快速充電同時自動殺菌！</td>\n",
       "      <td>smallpo23</td>\n",
       "      <td>2020-06-03 16:01</td>\n",
       "      <td>有潔癖的我每次用無線耳機前都要用濕巾擦一下\\n充電時還能自動殺菌的功能真吸引我!</td>\n",
       "    </tr>\n",
       "    <tr>\n",
       "      <th>2</th>\n",
       "      <td>【試用】英國知名技術高音質《TONE Free 真無線藍牙耳機 FL7》快速充電同時自動殺菌！</td>\n",
       "      <td>andox0310</td>\n",
       "      <td>2020-06-03 16:09</td>\n",
       "      <td>你想要試用《TONE Free 真無線藍牙耳機 FL7》的原因？\\n有用電動牙刷殺菌盒，沒用...</td>\n",
       "    </tr>\n",
       "    <tr>\n",
       "      <th>3</th>\n",
       "      <td>【試用】英國知名技術高音質《TONE Free 真無線藍牙耳機 FL7》快速充電同時自動殺菌！</td>\n",
       "      <td>爆竹花</td>\n",
       "      <td>2020-06-03 16:12</td>\n",
       "      <td>你想要試用《TONE Free 真無線藍牙耳機 FL7》的原因\\n\\n用習慣AirPods的...</td>\n",
       "    </tr>\n",
       "    <tr>\n",
       "      <th>4</th>\n",
       "      <td>【試用】英國知名技術高音質《TONE Free 真無線藍牙耳機 FL7》快速充電同時自動殺菌！</td>\n",
       "      <td>Ericjan168</td>\n",
       "      <td>2020-06-03 16:28</td>\n",
       "      <td>你想要試用《TONE Free 真無線藍牙耳機 FL7》的原因？\\n\\n《TONE Free...</td>\n",
       "    </tr>\n",
       "  </tbody>\n",
       "</table>\n",
       "</div>"
      ],
      "text/plain": [
       "                                             title  ...                                            comment\n",
       "0  【試用】英國知名技術高音質《TONE Free 真無線藍牙耳機 FL7》快速充電同時自動殺菌！  ...  試用名單如下\\n爆竹花\\nlankunjen\\nwindwithme\\nkingdally\\...\n",
       "1  【試用】英國知名技術高音質《TONE Free 真無線藍牙耳機 FL7》快速充電同時自動殺菌！  ...           有潔癖的我每次用無線耳機前都要用濕巾擦一下\\n充電時還能自動殺菌的功能真吸引我!\n",
       "2  【試用】英國知名技術高音質《TONE Free 真無線藍牙耳機 FL7》快速充電同時自動殺菌！  ...  你想要試用《TONE Free 真無線藍牙耳機 FL7》的原因？\\n有用電動牙刷殺菌盒，沒用...\n",
       "3  【試用】英國知名技術高音質《TONE Free 真無線藍牙耳機 FL7》快速充電同時自動殺菌！  ...  你想要試用《TONE Free 真無線藍牙耳機 FL7》的原因\\n\\n用習慣AirPods的...\n",
       "4  【試用】英國知名技術高音質《TONE Free 真無線藍牙耳機 FL7》快速充電同時自動殺菌！  ...  你想要試用《TONE Free 真無線藍牙耳機 FL7》的原因？\\n\\n《TONE Free...\n",
       "\n",
       "[5 rows x 4 columns]"
      ]
     },
     "execution_count": 31,
     "metadata": {
      "tags": []
     },
     "output_type": "execute_result"
    }
   ],
   "source": [
    "import pandas\n",
    "comments_df = pandas.DataFrame(comments_total)\n",
    "comments_df.head()\n"
   ]
  },
  {
   "cell_type": "code",
   "execution_count": 32,
   "metadata": {
    "colab": {},
    "colab_type": "code",
    "id": "KdrnKNSOFpFv"
   },
   "outputs": [],
   "source": [
    "comments_df.to_excel('mobile01_comments.xlsx')"
   ]
  }
 ],
 "metadata": {
  "colab": {
   "collapsed_sections": [],
   "name": "L1.撰寫網路爬蟲搜集商品評論.ipynb",
   "provenance": [],
   "toc_visible": true
  },
  "kernelspec": {
   "display_name": "Python 3",
   "language": "python",
   "name": "python3"
  },
  "language_info": {
   "codemirror_mode": {
    "name": "ipython",
    "version": 3
   },
   "file_extension": ".py",
   "mimetype": "text/x-python",
   "name": "python",
   "nbconvert_exporter": "python",
   "pygments_lexer": "ipython3",
   "version": "3.7.3"
  }
 },
 "nbformat": 4,
 "nbformat_minor": 1
}
